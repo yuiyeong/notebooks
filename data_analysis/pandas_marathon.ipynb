{
 "cells": [
  {
   "cell_type": "markdown",
   "id": "3c48faa54f278581",
   "metadata": {},
   "source": "# Pandas.Series Overview"
  },
  {
   "cell_type": "code",
   "execution_count": 137,
   "id": "initial_id",
   "metadata": {
    "ExecuteTime": {
     "end_time": "2025-04-08T11:02:44.969753Z",
     "start_time": "2025-04-08T11:02:44.967189Z"
    },
    "collapsed": true
   },
   "outputs": [],
   "source": [
    "import numpy as np\n",
    "import pandas as pd"
   ]
  },
  {
   "cell_type": "code",
   "execution_count": 138,
   "id": "14528864a51cc231",
   "metadata": {
    "ExecuteTime": {
     "end_time": "2025-04-08T11:02:44.999403Z",
     "start_time": "2025-04-08T11:02:44.996601Z"
    }
   },
   "outputs": [
    {
     "data": {
      "text/plain": [
       "a    1\n",
       "b    2\n",
       "c    3\n",
       "dtype: int64"
      ]
     },
     "execution_count": 138,
     "metadata": {},
     "output_type": "execute_result"
    }
   ],
   "source": [
    "# dict 로 Series 만들기\n",
    "pd.Series({\"a\": 1, \"b\": 2, \"c\": 3})"
   ]
  },
  {
   "cell_type": "code",
   "execution_count": 139,
   "id": "cac4262750545ed6",
   "metadata": {
    "ExecuteTime": {
     "end_time": "2025-04-08T11:02:45.026169Z",
     "start_time": "2025-04-08T11:02:45.023850Z"
    }
   },
   "outputs": [
    {
     "data": {
      "text/plain": [
       "0    1\n",
       "1    2\n",
       "2    3\n",
       "dtype: int64"
      ]
     },
     "execution_count": 139,
     "metadata": {},
     "output_type": "execute_result"
    }
   ],
   "source": [
    "# list 로 Series 만들기\n",
    "pd.Series([1, 2, 3])"
   ]
  },
  {
   "cell_type": "code",
   "execution_count": 140,
   "id": "9f43faa6f5921ff9",
   "metadata": {
    "ExecuteTime": {
     "end_time": "2025-04-08T11:02:45.062995Z",
     "start_time": "2025-04-08T11:02:45.060866Z"
    }
   },
   "outputs": [
    {
     "name": "stdout",
     "output_type": "stream",
     "text": [
      "index: RangeIndex(start=0, stop=10, step=1)\n",
      "shape: (10,)\n",
      "name: Number\n",
      "dtypes: int64\n",
      "values: [ 0  1  4  9 16 25 36 49 64 81]\n"
     ]
    }
   ],
   "source": [
    "# 주요 속성들\n",
    "se = pd.Series(np.arange(10) ** 2, name=\"Number\")\n",
    "\n",
    "print(\"index:\", se.index)\n",
    "print(\"shape:\", se.shape)\n",
    "print(\"name:\", se.name)\n",
    "print(\"dtypes:\", se.dtypes)\n",
    "print(\"values:\", se.values)"
   ]
  },
  {
   "cell_type": "markdown",
   "id": "8e6a2bd8739ba4b0",
   "metadata": {},
   "source": "# Pandas.DataFrame Overview"
  },
  {
   "cell_type": "code",
   "execution_count": 141,
   "id": "848ea87d379064f8",
   "metadata": {
    "ExecuteTime": {
     "end_time": "2025-04-08T11:02:45.089036Z",
     "start_time": "2025-04-08T11:02:45.087055Z"
    }
   },
   "outputs": [],
   "source": [
    "import pandas as pd"
   ]
  },
  {
   "cell_type": "code",
   "execution_count": 142,
   "id": "4a7a162fa5ba2e86",
   "metadata": {
    "ExecuteTime": {
     "end_time": "2025-04-08T11:02:45.116138Z",
     "start_time": "2025-04-08T11:02:45.112915Z"
    }
   },
   "outputs": [
    {
     "data": {
      "text/html": [
       "<div>\n",
       "<style scoped>\n",
       "    .dataframe tbody tr th:only-of-type {\n",
       "        vertical-align: middle;\n",
       "    }\n",
       "\n",
       "    .dataframe tbody tr th {\n",
       "        vertical-align: top;\n",
       "    }\n",
       "\n",
       "    .dataframe thead th {\n",
       "        text-align: right;\n",
       "    }\n",
       "</style>\n",
       "<table border=\"1\" class=\"dataframe\">\n",
       "  <thead>\n",
       "    <tr style=\"text-align: right;\">\n",
       "      <th></th>\n",
       "      <th>이름</th>\n",
       "      <th>나이</th>\n",
       "      <th>성별</th>\n",
       "    </tr>\n",
       "  </thead>\n",
       "  <tbody>\n",
       "    <tr>\n",
       "      <th>0</th>\n",
       "      <td>홍길동</td>\n",
       "      <td>20</td>\n",
       "      <td>남</td>\n",
       "    </tr>\n",
       "    <tr>\n",
       "      <th>1</th>\n",
       "      <td>김철수</td>\n",
       "      <td>25</td>\n",
       "      <td>남</td>\n",
       "    </tr>\n",
       "    <tr>\n",
       "      <th>2</th>\n",
       "      <td>이영희</td>\n",
       "      <td>30</td>\n",
       "      <td>여</td>\n",
       "    </tr>\n",
       "  </tbody>\n",
       "</table>\n",
       "</div>"
      ],
      "text/plain": [
       "    이름  나이 성별\n",
       "0  홍길동  20  남\n",
       "1  김철수  25  남\n",
       "2  이영희  30  여"
      ]
     },
     "execution_count": 142,
     "metadata": {},
     "output_type": "execute_result"
    }
   ],
   "source": [
    "# dict 로 DataFrame 만들기\n",
    "pd.DataFrame(\n",
    "    {\n",
    "        \"이름\": [\"홍길동\", \"김철수\", \"이영희\"],\n",
    "        \"나이\": [20, 25, 30],\n",
    "        \"성별\": [\"남\", \"남\", \"여\"],\n",
    "    }\n",
    ")"
   ]
  },
  {
   "cell_type": "code",
   "execution_count": 143,
   "id": "ea8a794f9e151b5d",
   "metadata": {
    "ExecuteTime": {
     "end_time": "2025-04-08T11:02:45.143806Z",
     "start_time": "2025-04-08T11:02:45.140499Z"
    }
   },
   "outputs": [
    {
     "data": {
      "text/html": [
       "<div>\n",
       "<style scoped>\n",
       "    .dataframe tbody tr th:only-of-type {\n",
       "        vertical-align: middle;\n",
       "    }\n",
       "\n",
       "    .dataframe tbody tr th {\n",
       "        vertical-align: top;\n",
       "    }\n",
       "\n",
       "    .dataframe thead th {\n",
       "        text-align: right;\n",
       "    }\n",
       "</style>\n",
       "<table border=\"1\" class=\"dataframe\">\n",
       "  <thead>\n",
       "    <tr style=\"text-align: right;\">\n",
       "      <th></th>\n",
       "      <th>이름</th>\n",
       "      <th>나이</th>\n",
       "      <th>성별</th>\n",
       "    </tr>\n",
       "  </thead>\n",
       "  <tbody>\n",
       "    <tr>\n",
       "      <th>0</th>\n",
       "      <td>홍길동</td>\n",
       "      <td>김철수</td>\n",
       "      <td>이영희</td>\n",
       "    </tr>\n",
       "    <tr>\n",
       "      <th>1</th>\n",
       "      <td>20</td>\n",
       "      <td>25</td>\n",
       "      <td>30</td>\n",
       "    </tr>\n",
       "    <tr>\n",
       "      <th>2</th>\n",
       "      <td>남</td>\n",
       "      <td>남</td>\n",
       "      <td>여</td>\n",
       "    </tr>\n",
       "  </tbody>\n",
       "</table>\n",
       "</div>"
      ],
      "text/plain": [
       "    이름   나이   성별\n",
       "0  홍길동  김철수  이영희\n",
       "1   20   25   30\n",
       "2    남    남    여"
      ]
     },
     "execution_count": 143,
     "metadata": {},
     "output_type": "execute_result"
    }
   ],
   "source": [
    "# list 로 DataFrame 만들기\n",
    "pd.DataFrame(\n",
    "    [\n",
    "        [\"홍길동\", \"김철수\", \"이영희\"],\n",
    "        [20, 25, 30],\n",
    "        [\"남\", \"남\", \"여\"],\n",
    "    ],\n",
    "    columns=[\"이름\", \"나이\", \"성별\"],\n",
    ")  # columns 의 개수가 열인 리스트의 개수와 같아야함!"
   ]
  },
  {
   "cell_type": "code",
   "execution_count": 144,
   "id": "97d2494c913fcdaf",
   "metadata": {
    "ExecuteTime": {
     "end_time": "2025-04-08T11:02:45.177119Z",
     "start_time": "2025-04-08T11:02:45.173808Z"
    }
   },
   "outputs": [
    {
     "data": {
      "text/html": [
       "<div>\n",
       "<style scoped>\n",
       "    .dataframe tbody tr th:only-of-type {\n",
       "        vertical-align: middle;\n",
       "    }\n",
       "\n",
       "    .dataframe tbody tr th {\n",
       "        vertical-align: top;\n",
       "    }\n",
       "\n",
       "    .dataframe thead th {\n",
       "        text-align: right;\n",
       "    }\n",
       "</style>\n",
       "<table border=\"1\" class=\"dataframe\">\n",
       "  <thead>\n",
       "    <tr style=\"text-align: right;\">\n",
       "      <th></th>\n",
       "      <th>이름</th>\n",
       "      <th>나이</th>\n",
       "      <th>성별</th>\n",
       "    </tr>\n",
       "  </thead>\n",
       "  <tbody>\n",
       "    <tr>\n",
       "      <th>0</th>\n",
       "      <td>홍길동</td>\n",
       "      <td>20</td>\n",
       "      <td>남</td>\n",
       "    </tr>\n",
       "    <tr>\n",
       "      <th>1</th>\n",
       "      <td>김철수</td>\n",
       "      <td>25</td>\n",
       "      <td>남</td>\n",
       "    </tr>\n",
       "    <tr>\n",
       "      <th>2</th>\n",
       "      <td>이영희</td>\n",
       "      <td>30</td>\n",
       "      <td>여</td>\n",
       "    </tr>\n",
       "  </tbody>\n",
       "</table>\n",
       "</div>"
      ],
      "text/plain": [
       "    이름  나이 성별\n",
       "0  홍길동  20  남\n",
       "1  김철수  25  남\n",
       "2  이영희  30  여"
      ]
     },
     "execution_count": 144,
     "metadata": {},
     "output_type": "execute_result"
    }
   ],
   "source": [
    "# Series 로 만들기\n",
    "names = pd.Series([\"홍길동\", \"김철수\", \"이영희\"])\n",
    "ages = pd.Series([20, 25, 30])\n",
    "gender = pd.Series([\"남\", \"남\", \"여\"])\n",
    "pd.DataFrame({\"이름\": names, \"나이\": ages, \"성별\": gender})"
   ]
  },
  {
   "cell_type": "code",
   "execution_count": 145,
   "id": "79406ccf54df17f6",
   "metadata": {
    "ExecuteTime": {
     "end_time": "2025-04-08T11:02:45.216027Z",
     "start_time": "2025-04-08T11:02:45.213470Z"
    }
   },
   "outputs": [
    {
     "name": "stdout",
     "output_type": "stream",
     "text": [
      "shape: (3, 3)\n",
      "index: RangeIndex(start=0, stop=3, step=1)\n",
      "columns: Index(['이름', '나이', '성별'], dtype='object')\n",
      "dtypes:\n",
      "이름    object\n",
      "나이     int64\n",
      "성별    object\n",
      "dtype: object\n",
      "values:\n",
      "[['홍길동' 20 '남']\n",
      " ['김철수' 25 '남']\n",
      " ['이영희' 30 '여']]\n"
     ]
    }
   ],
   "source": [
    "# 자주 사용하는 속성 값\n",
    "df = pd.DataFrame(\n",
    "    {\n",
    "        \"이름\": [\"홍길동\", \"김철수\", \"이영희\"],\n",
    "        \"나이\": [20, 25, 30],\n",
    "        \"성별\": [\"남\", \"남\", \"여\"],\n",
    "    }\n",
    ")\n",
    "\n",
    "print(\"shape:\", df.shape)\n",
    "print(\"index:\", df.index)\n",
    "print(\"columns:\", df.columns)\n",
    "print(\"dtypes:\")\n",
    "print(df.dtypes)\n",
    "print(\"values:\")\n",
    "print(df.values)"
   ]
  },
  {
   "cell_type": "markdown",
   "id": "6eaff4fd141cf451",
   "metadata": {},
   "source": "# 다양한 방법으로 DataFrame 만들기"
  },
  {
   "cell_type": "code",
   "execution_count": 146,
   "id": "634e2aab9780dfac",
   "metadata": {
    "ExecuteTime": {
     "end_time": "2025-04-08T11:02:45.251639Z",
     "start_time": "2025-04-08T11:02:45.244859Z"
    }
   },
   "outputs": [
    {
     "data": {
      "text/html": [
       "<div>\n",
       "<style scoped>\n",
       "    .dataframe tbody tr th:only-of-type {\n",
       "        vertical-align: middle;\n",
       "    }\n",
       "\n",
       "    .dataframe tbody tr th {\n",
       "        vertical-align: top;\n",
       "    }\n",
       "\n",
       "    .dataframe thead th {\n",
       "        text-align: right;\n",
       "    }\n",
       "</style>\n",
       "<table border=\"1\" class=\"dataframe\">\n",
       "  <thead>\n",
       "    <tr style=\"text-align: right;\">\n",
       "      <th></th>\n",
       "      <th>위도</th>\n",
       "      <th>경도</th>\n",
       "      <th>거점ID</th>\n",
       "      <th>전기차 여부</th>\n",
       "      <th>주소</th>\n",
       "      <th>거점명</th>\n",
       "    </tr>\n",
       "  </thead>\n",
       "  <tbody>\n",
       "    <tr>\n",
       "      <th>0</th>\n",
       "      <td>37.60972</td>\n",
       "      <td>127.0306</td>\n",
       "      <td>493</td>\n",
       "      <td>GA</td>\n",
       "      <td>서울 강북구 미아동 42-56</td>\n",
       "      <td>하이마트 미아사거리점</td>\n",
       "    </tr>\n",
       "    <tr>\n",
       "      <th>1</th>\n",
       "      <td>37.53168</td>\n",
       "      <td>126.9697</td>\n",
       "      <td>2409</td>\n",
       "      <td>GA</td>\n",
       "      <td>서울 용산구 한강로2가 424</td>\n",
       "      <td>아모레퍼시픽 본사</td>\n",
       "    </tr>\n",
       "    <tr>\n",
       "      <th>2</th>\n",
       "      <td>37.57964</td>\n",
       "      <td>127.0155</td>\n",
       "      <td>2270</td>\n",
       "      <td>GA</td>\n",
       "      <td>서울 종로구 숭인동 7-12</td>\n",
       "      <td>창신역</td>\n",
       "    </tr>\n",
       "    <tr>\n",
       "      <th>3</th>\n",
       "      <td>37.55092</td>\n",
       "      <td>126.9440</td>\n",
       "      <td>629</td>\n",
       "      <td>GA</td>\n",
       "      <td>서울 마포구 대흥동 산 1-30</td>\n",
       "      <td>서강대학교</td>\n",
       "    </tr>\n",
       "    <tr>\n",
       "      <th>4</th>\n",
       "      <td>37.56968</td>\n",
       "      <td>126.9796</td>\n",
       "      <td>166</td>\n",
       "      <td>GA</td>\n",
       "      <td>서울 종로구 서린동 132</td>\n",
       "      <td>광화문역 5번출구</td>\n",
       "    </tr>\n",
       "    <tr>\n",
       "      <th>...</th>\n",
       "      <td>...</td>\n",
       "      <td>...</td>\n",
       "      <td>...</td>\n",
       "      <td>...</td>\n",
       "      <td>...</td>\n",
       "      <td>...</td>\n",
       "    </tr>\n",
       "    <tr>\n",
       "      <th>1865</th>\n",
       "      <td>37.49413</td>\n",
       "      <td>126.9237</td>\n",
       "      <td>535</td>\n",
       "      <td>GA</td>\n",
       "      <td>서울 동작구 신대방동 425</td>\n",
       "      <td>보라매병원</td>\n",
       "    </tr>\n",
       "    <tr>\n",
       "      <th>1866</th>\n",
       "      <td>37.49118</td>\n",
       "      <td>126.8831</td>\n",
       "      <td>124</td>\n",
       "      <td>GA</td>\n",
       "      <td>서울 구로구 구로동 704-12</td>\n",
       "      <td>고대구로병원 앞</td>\n",
       "    </tr>\n",
       "    <tr>\n",
       "      <th>1867</th>\n",
       "      <td>37.49327</td>\n",
       "      <td>126.9336</td>\n",
       "      <td>2017</td>\n",
       "      <td>EV</td>\n",
       "      <td>서울 동작구 상도동 301-115</td>\n",
       "      <td>당곡중학교 뒤</td>\n",
       "    </tr>\n",
       "    <tr>\n",
       "      <th>1868</th>\n",
       "      <td>37.55980</td>\n",
       "      <td>127.0337</td>\n",
       "      <td>993</td>\n",
       "      <td>GA</td>\n",
       "      <td>서울 성동구 행당동 293-11</td>\n",
       "      <td>왕십리역 10번출구</td>\n",
       "    </tr>\n",
       "    <tr>\n",
       "      <th>1869</th>\n",
       "      <td>37.48596</td>\n",
       "      <td>126.8861</td>\n",
       "      <td>245</td>\n",
       "      <td>GA</td>\n",
       "      <td>서울 구로구 구로동 806-68</td>\n",
       "      <td>남구로역</td>\n",
       "    </tr>\n",
       "  </tbody>\n",
       "</table>\n",
       "<p>1870 rows × 6 columns</p>\n",
       "</div>"
      ],
      "text/plain": [
       "            위도        경도  거점ID 전기차 여부                  주소          거점명\n",
       "0     37.60972  127.0306   493     GA    서울 강북구 미아동 42-56  하이마트 미아사거리점\n",
       "1     37.53168  126.9697  2409     GA    서울 용산구 한강로2가 424    아모레퍼시픽 본사\n",
       "2     37.57964  127.0155  2270     GA     서울 종로구 숭인동 7-12          창신역\n",
       "3     37.55092  126.9440   629     GA   서울 마포구 대흥동 산 1-30        서강대학교\n",
       "4     37.56968  126.9796   166     GA      서울 종로구 서린동 132    광화문역 5번출구\n",
       "...        ...       ...   ...    ...                 ...          ...\n",
       "1865  37.49413  126.9237   535     GA     서울 동작구 신대방동 425        보라매병원\n",
       "1866  37.49118  126.8831   124     GA   서울 구로구 구로동 704-12     고대구로병원 앞\n",
       "1867  37.49327  126.9336  2017     EV  서울 동작구 상도동 301-115      당곡중학교 뒤\n",
       "1868  37.55980  127.0337   993     GA   서울 성동구 행당동 293-11   왕십리역 10번출구\n",
       "1869  37.48596  126.8861   245     GA   서울 구로구 구로동 806-68         남구로역\n",
       "\n",
       "[1870 rows x 6 columns]"
      ]
     },
     "execution_count": 146,
     "metadata": {},
     "output_type": "execute_result"
    }
   ],
   "source": [
    "import pandas as pd\n",
    "\n",
    "\n",
    "# csv 파일 불러오기\n",
    "#     sep 의 default 값이 \",\" 이므로 생략 가능(tsv 인경우 sep 에 \"\\t\"를 넣어주면 됨)\n",
    "#     header 의 default 값이 0 이므로 생략 가능\n",
    "#     encoding 의 default 값이 \"utf-8\" 0 이므로 생략 가능\n",
    "df_csv = pd.read_csv(\"../data/서울시 나눔카 거점리스트 정보.csv\", sep=\",\", header=0, encoding=\"utf-8\")\n",
    "df_csv"
   ]
  },
  {
   "cell_type": "code",
   "execution_count": 147,
   "id": "efda86a2a88d38e2",
   "metadata": {
    "ExecuteTime": {
     "end_time": "2025-04-08T11:02:45.290141Z",
     "start_time": "2025-04-08T11:02:45.286089Z"
    }
   },
   "outputs": [
    {
     "data": {
      "text/html": [
       "<div>\n",
       "<style scoped>\n",
       "    .dataframe tbody tr th:only-of-type {\n",
       "        vertical-align: middle;\n",
       "    }\n",
       "\n",
       "    .dataframe tbody tr th {\n",
       "        vertical-align: top;\n",
       "    }\n",
       "\n",
       "    .dataframe thead th {\n",
       "        text-align: right;\n",
       "    }\n",
       "</style>\n",
       "<table border=\"1\" class=\"dataframe\">\n",
       "  <thead>\n",
       "    <tr style=\"text-align: right;\">\n",
       "      <th></th>\n",
       "      <th>거점ID</th>\n",
       "      <th>전기차 여부</th>\n",
       "      <th>주소</th>\n",
       "      <th>거점명</th>\n",
       "    </tr>\n",
       "  </thead>\n",
       "  <tbody>\n",
       "    <tr>\n",
       "      <th>0</th>\n",
       "      <td>493</td>\n",
       "      <td>GA</td>\n",
       "      <td>서울 강북구 미아동 42-56</td>\n",
       "      <td>하이마트 미아사거리점</td>\n",
       "    </tr>\n",
       "    <tr>\n",
       "      <th>1</th>\n",
       "      <td>2409</td>\n",
       "      <td>GA</td>\n",
       "      <td>서울 용산구 한강로2가 424</td>\n",
       "      <td>아모레퍼시픽 본사</td>\n",
       "    </tr>\n",
       "    <tr>\n",
       "      <th>2</th>\n",
       "      <td>2270</td>\n",
       "      <td>GA</td>\n",
       "      <td>서울 종로구 숭인동 7-12</td>\n",
       "      <td>창신역</td>\n",
       "    </tr>\n",
       "    <tr>\n",
       "      <th>3</th>\n",
       "      <td>629</td>\n",
       "      <td>GA</td>\n",
       "      <td>서울 마포구 대흥동 산 1-30</td>\n",
       "      <td>서강대학교</td>\n",
       "    </tr>\n",
       "    <tr>\n",
       "      <th>4</th>\n",
       "      <td>166</td>\n",
       "      <td>GA</td>\n",
       "      <td>서울 종로구 서린동 132</td>\n",
       "      <td>광화문역 5번출구</td>\n",
       "    </tr>\n",
       "    <tr>\n",
       "      <th>...</th>\n",
       "      <td>...</td>\n",
       "      <td>...</td>\n",
       "      <td>...</td>\n",
       "      <td>...</td>\n",
       "    </tr>\n",
       "    <tr>\n",
       "      <th>1865</th>\n",
       "      <td>535</td>\n",
       "      <td>GA</td>\n",
       "      <td>서울 동작구 신대방동 425</td>\n",
       "      <td>보라매병원</td>\n",
       "    </tr>\n",
       "    <tr>\n",
       "      <th>1866</th>\n",
       "      <td>124</td>\n",
       "      <td>GA</td>\n",
       "      <td>서울 구로구 구로동 704-12</td>\n",
       "      <td>고대구로병원 앞</td>\n",
       "    </tr>\n",
       "    <tr>\n",
       "      <th>1867</th>\n",
       "      <td>2017</td>\n",
       "      <td>EV</td>\n",
       "      <td>서울 동작구 상도동 301-115</td>\n",
       "      <td>당곡중학교 뒤</td>\n",
       "    </tr>\n",
       "    <tr>\n",
       "      <th>1868</th>\n",
       "      <td>993</td>\n",
       "      <td>GA</td>\n",
       "      <td>서울 성동구 행당동 293-11</td>\n",
       "      <td>왕십리역 10번출구</td>\n",
       "    </tr>\n",
       "    <tr>\n",
       "      <th>1869</th>\n",
       "      <td>245</td>\n",
       "      <td>GA</td>\n",
       "      <td>서울 구로구 구로동 806-68</td>\n",
       "      <td>남구로역</td>\n",
       "    </tr>\n",
       "  </tbody>\n",
       "</table>\n",
       "<p>1870 rows × 4 columns</p>\n",
       "</div>"
      ],
      "text/plain": [
       "      거점ID 전기차 여부                  주소          거점명\n",
       "0      493     GA    서울 강북구 미아동 42-56  하이마트 미아사거리점\n",
       "1     2409     GA    서울 용산구 한강로2가 424    아모레퍼시픽 본사\n",
       "2     2270     GA     서울 종로구 숭인동 7-12          창신역\n",
       "3      629     GA   서울 마포구 대흥동 산 1-30        서강대학교\n",
       "4      166     GA      서울 종로구 서린동 132    광화문역 5번출구\n",
       "...    ...    ...                 ...          ...\n",
       "1865   535     GA     서울 동작구 신대방동 425        보라매병원\n",
       "1866   124     GA   서울 구로구 구로동 704-12     고대구로병원 앞\n",
       "1867  2017     EV  서울 동작구 상도동 301-115      당곡중학교 뒤\n",
       "1868   993     GA   서울 성동구 행당동 293-11   왕십리역 10번출구\n",
       "1869   245     GA   서울 구로구 구로동 806-68         남구로역\n",
       "\n",
       "[1870 rows x 4 columns]"
      ]
     },
     "execution_count": 147,
     "metadata": {},
     "output_type": "execute_result"
    }
   ],
   "source": [
    "new_df_csv = df_csv[[\"거점ID\", \"전기차 여부\", \"주소\", \"거점명\"]]\n",
    "new_df_csv"
   ]
  },
  {
   "cell_type": "code",
   "execution_count": 148,
   "id": "2b0eaa49e23f683a",
   "metadata": {
    "ExecuteTime": {
     "end_time": "2025-04-08T11:02:45.325020Z",
     "start_time": "2025-04-08T11:02:45.320398Z"
    }
   },
   "outputs": [],
   "source": [
    "# csv 파일로 저장\n",
    "#    index 의 default 값은 True 로, 파일로 저장시 index 를 포함할 것인지 여부\n",
    "#    header 의 default 값은 True 이므로 생략 가능\n",
    "#    encoding 의 default 값이 \"utf-8\" 0 이므로 생략 가능\n",
    "new_df_csv.to_csv(\n",
    "    \"../data/updated_서울시_나눔카_거점리스트_정보.csv\",\n",
    "    index=False,\n",
    "    header=True,\n",
    "    encoding=\"utf-8\",\n",
    ")"
   ]
  },
  {
   "cell_type": "code",
   "execution_count": 149,
   "id": "dbd756cd0967c431",
   "metadata": {
    "ExecuteTime": {
     "end_time": "2025-04-08T11:02:45.598978Z",
     "start_time": "2025-04-08T11:02:45.356475Z"
    }
   },
   "outputs": [
    {
     "data": {
      "text/html": [
       "<div>\n",
       "<style scoped>\n",
       "    .dataframe tbody tr th:only-of-type {\n",
       "        vertical-align: middle;\n",
       "    }\n",
       "\n",
       "    .dataframe tbody tr th {\n",
       "        vertical-align: top;\n",
       "    }\n",
       "\n",
       "    .dataframe thead th {\n",
       "        text-align: right;\n",
       "    }\n",
       "</style>\n",
       "<table border=\"1\" class=\"dataframe\">\n",
       "  <thead>\n",
       "    <tr style=\"text-align: right;\">\n",
       "      <th></th>\n",
       "      <th>거점ID</th>\n",
       "      <th>전기차 여부</th>\n",
       "      <th>주소</th>\n",
       "      <th>거점명</th>\n",
       "    </tr>\n",
       "  </thead>\n",
       "  <tbody>\n",
       "    <tr>\n",
       "      <th>0</th>\n",
       "      <td>493</td>\n",
       "      <td>GA</td>\n",
       "      <td>서울 강북구 미아동 42-56</td>\n",
       "      <td>하이마트 미아사거리점</td>\n",
       "    </tr>\n",
       "    <tr>\n",
       "      <th>1</th>\n",
       "      <td>2409</td>\n",
       "      <td>GA</td>\n",
       "      <td>서울 용산구 한강로2가 424</td>\n",
       "      <td>아모레퍼시픽 본사</td>\n",
       "    </tr>\n",
       "    <tr>\n",
       "      <th>2</th>\n",
       "      <td>2270</td>\n",
       "      <td>GA</td>\n",
       "      <td>서울 종로구 숭인동 7-12</td>\n",
       "      <td>창신역</td>\n",
       "    </tr>\n",
       "    <tr>\n",
       "      <th>3</th>\n",
       "      <td>629</td>\n",
       "      <td>GA</td>\n",
       "      <td>서울 마포구 대흥동 산 1-30</td>\n",
       "      <td>서강대학교</td>\n",
       "    </tr>\n",
       "    <tr>\n",
       "      <th>4</th>\n",
       "      <td>166</td>\n",
       "      <td>GA</td>\n",
       "      <td>서울 종로구 서린동 132</td>\n",
       "      <td>광화문역 5번출구</td>\n",
       "    </tr>\n",
       "    <tr>\n",
       "      <th>...</th>\n",
       "      <td>...</td>\n",
       "      <td>...</td>\n",
       "      <td>...</td>\n",
       "      <td>...</td>\n",
       "    </tr>\n",
       "    <tr>\n",
       "      <th>1865</th>\n",
       "      <td>535</td>\n",
       "      <td>GA</td>\n",
       "      <td>서울 동작구 신대방동 425</td>\n",
       "      <td>보라매병원</td>\n",
       "    </tr>\n",
       "    <tr>\n",
       "      <th>1866</th>\n",
       "      <td>124</td>\n",
       "      <td>GA</td>\n",
       "      <td>서울 구로구 구로동 704-12</td>\n",
       "      <td>고대구로병원 앞</td>\n",
       "    </tr>\n",
       "    <tr>\n",
       "      <th>1867</th>\n",
       "      <td>2017</td>\n",
       "      <td>EV</td>\n",
       "      <td>서울 동작구 상도동 301-115</td>\n",
       "      <td>당곡중학교 뒤</td>\n",
       "    </tr>\n",
       "    <tr>\n",
       "      <th>1868</th>\n",
       "      <td>993</td>\n",
       "      <td>GA</td>\n",
       "      <td>서울 성동구 행당동 293-11</td>\n",
       "      <td>왕십리역 10번출구</td>\n",
       "    </tr>\n",
       "    <tr>\n",
       "      <th>1869</th>\n",
       "      <td>245</td>\n",
       "      <td>GA</td>\n",
       "      <td>서울 구로구 구로동 806-68</td>\n",
       "      <td>남구로역</td>\n",
       "    </tr>\n",
       "  </tbody>\n",
       "</table>\n",
       "<p>1870 rows × 4 columns</p>\n",
       "</div>"
      ],
      "text/plain": [
       "      거점ID 전기차 여부                  주소          거점명\n",
       "0      493     GA    서울 강북구 미아동 42-56  하이마트 미아사거리점\n",
       "1     2409     GA    서울 용산구 한강로2가 424    아모레퍼시픽 본사\n",
       "2     2270     GA     서울 종로구 숭인동 7-12          창신역\n",
       "3      629     GA   서울 마포구 대흥동 산 1-30        서강대학교\n",
       "4      166     GA      서울 종로구 서린동 132    광화문역 5번출구\n",
       "...    ...    ...                 ...          ...\n",
       "1865   535     GA     서울 동작구 신대방동 425        보라매병원\n",
       "1866   124     GA   서울 구로구 구로동 704-12     고대구로병원 앞\n",
       "1867  2017     EV  서울 동작구 상도동 301-115      당곡중학교 뒤\n",
       "1868   993     GA   서울 성동구 행당동 293-11   왕십리역 10번출구\n",
       "1869   245     GA   서울 구로구 구로동 806-68         남구로역\n",
       "\n",
       "[1870 rows x 4 columns]"
      ]
     },
     "execution_count": 149,
     "metadata": {},
     "output_type": "execute_result"
    }
   ],
   "source": [
    "# excel 파일 불러오기\n",
    "df_xlsx = pd.read_excel(\n",
    "    \"../data/서울시 나눔카 거점리스트 정보.xlsx\",\n",
    "    sheet_name=\"전체\",\n",
    "    header=0,\n",
    "    usecols=\"C:F\",\n",
    "    skiprows=1,\n",
    ")\n",
    "# sheet_name 에 None 을 넣으면 모든 sheet 를 concat 해서 DataFrame 으로 만듦\n",
    "df_xlsx"
   ]
  },
  {
   "cell_type": "code",
   "execution_count": 150,
   "id": "b7cf1d3df3d7f36f",
   "metadata": {
    "ExecuteTime": {
     "end_time": "2025-04-08T11:02:45.672374Z",
     "start_time": "2025-04-08T11:02:45.616424Z"
    }
   },
   "outputs": [],
   "source": [
    "df_xlsx.to_excel(\n",
    "    \"../data/updated_서울시_나눔카_거점리스트_정보.xlsx\",\n",
    "    sheet_name=\"위경도 제거\",\n",
    "    index=False,\n",
    "    startrow=0,\n",
    "    startcol=0,\n",
    ")"
   ]
  },
  {
   "cell_type": "code",
   "execution_count": 151,
   "id": "cbd156cf55bd50a",
   "metadata": {
    "ExecuteTime": {
     "end_time": "2025-04-08T11:02:45.700310Z",
     "start_time": "2025-04-08T11:02:45.686614Z"
    }
   },
   "outputs": [
    {
     "name": "stderr",
     "output_type": "stream",
     "text": [
      "/var/folders/5s/8vb6wlwj325c_g2wy_5dq3ch0000gn/T/ipykernel_64817/3018401716.py:8: FutureWarning: Passing literal json to 'read_json' is deprecated and will be removed in a future version. To read from a literal string, wrap it in a 'StringIO' object.\n",
      "  df_json = pd.read_json(json.dumps(data[\"DATA\"]))\n"
     ]
    },
    {
     "data": {
      "text/html": [
       "<div>\n",
       "<style scoped>\n",
       "    .dataframe tbody tr th:only-of-type {\n",
       "        vertical-align: middle;\n",
       "    }\n",
       "\n",
       "    .dataframe tbody tr th {\n",
       "        vertical-align: top;\n",
       "    }\n",
       "\n",
       "    .dataframe thead th {\n",
       "        text-align: right;\n",
       "    }\n",
       "</style>\n",
       "<table border=\"1\" class=\"dataframe\">\n",
       "  <thead>\n",
       "    <tr style=\"text-align: right;\">\n",
       "      <th></th>\n",
       "      <th>eltc_yn</th>\n",
       "      <th>str_pnt_id</th>\n",
       "      <th>lot</th>\n",
       "      <th>str_pnt_name</th>\n",
       "      <th>addr</th>\n",
       "      <th>lat</th>\n",
       "    </tr>\n",
       "  </thead>\n",
       "  <tbody>\n",
       "    <tr>\n",
       "      <th>0</th>\n",
       "      <td>GA</td>\n",
       "      <td>493</td>\n",
       "      <td>127.0306</td>\n",
       "      <td>하이마트 미아사거리점</td>\n",
       "      <td>서울 강북구 미아동 42-56</td>\n",
       "      <td>37.60972</td>\n",
       "    </tr>\n",
       "    <tr>\n",
       "      <th>1</th>\n",
       "      <td>GA</td>\n",
       "      <td>2409</td>\n",
       "      <td>126.9697</td>\n",
       "      <td>아모레퍼시픽 본사</td>\n",
       "      <td>서울 용산구 한강로2가 424</td>\n",
       "      <td>37.53168</td>\n",
       "    </tr>\n",
       "    <tr>\n",
       "      <th>2</th>\n",
       "      <td>GA</td>\n",
       "      <td>2270</td>\n",
       "      <td>127.0155</td>\n",
       "      <td>창신역</td>\n",
       "      <td>서울 종로구 숭인동 7-12</td>\n",
       "      <td>37.57964</td>\n",
       "    </tr>\n",
       "    <tr>\n",
       "      <th>3</th>\n",
       "      <td>GA</td>\n",
       "      <td>629</td>\n",
       "      <td>126.9440</td>\n",
       "      <td>서강대학교</td>\n",
       "      <td>서울 마포구 대흥동 산 1-30</td>\n",
       "      <td>37.55092</td>\n",
       "    </tr>\n",
       "    <tr>\n",
       "      <th>4</th>\n",
       "      <td>GA</td>\n",
       "      <td>166</td>\n",
       "      <td>126.9796</td>\n",
       "      <td>광화문역 5번출구</td>\n",
       "      <td>서울 종로구 서린동 132</td>\n",
       "      <td>37.56968</td>\n",
       "    </tr>\n",
       "    <tr>\n",
       "      <th>...</th>\n",
       "      <td>...</td>\n",
       "      <td>...</td>\n",
       "      <td>...</td>\n",
       "      <td>...</td>\n",
       "      <td>...</td>\n",
       "      <td>...</td>\n",
       "    </tr>\n",
       "    <tr>\n",
       "      <th>1865</th>\n",
       "      <td>GA</td>\n",
       "      <td>535</td>\n",
       "      <td>126.9237</td>\n",
       "      <td>보라매병원</td>\n",
       "      <td>서울 동작구 신대방동 425</td>\n",
       "      <td>37.49413</td>\n",
       "    </tr>\n",
       "    <tr>\n",
       "      <th>1866</th>\n",
       "      <td>GA</td>\n",
       "      <td>124</td>\n",
       "      <td>126.8831</td>\n",
       "      <td>고대구로병원 앞</td>\n",
       "      <td>서울 구로구 구로동 704-12</td>\n",
       "      <td>37.49118</td>\n",
       "    </tr>\n",
       "    <tr>\n",
       "      <th>1867</th>\n",
       "      <td>EV</td>\n",
       "      <td>2017</td>\n",
       "      <td>126.9336</td>\n",
       "      <td>당곡중학교 뒤</td>\n",
       "      <td>서울 동작구 상도동 301-115</td>\n",
       "      <td>37.49327</td>\n",
       "    </tr>\n",
       "    <tr>\n",
       "      <th>1868</th>\n",
       "      <td>GA</td>\n",
       "      <td>993</td>\n",
       "      <td>127.0337</td>\n",
       "      <td>왕십리역 10번출구</td>\n",
       "      <td>서울 성동구 행당동 293-11</td>\n",
       "      <td>37.55980</td>\n",
       "    </tr>\n",
       "    <tr>\n",
       "      <th>1869</th>\n",
       "      <td>GA</td>\n",
       "      <td>245</td>\n",
       "      <td>126.8861</td>\n",
       "      <td>남구로역</td>\n",
       "      <td>서울 구로구 구로동 806-68</td>\n",
       "      <td>37.48596</td>\n",
       "    </tr>\n",
       "  </tbody>\n",
       "</table>\n",
       "<p>1870 rows × 6 columns</p>\n",
       "</div>"
      ],
      "text/plain": [
       "     eltc_yn  str_pnt_id       lot str_pnt_name                addr       lat\n",
       "0         GA         493  127.0306  하이마트 미아사거리점    서울 강북구 미아동 42-56  37.60972\n",
       "1         GA        2409  126.9697    아모레퍼시픽 본사    서울 용산구 한강로2가 424  37.53168\n",
       "2         GA        2270  127.0155          창신역     서울 종로구 숭인동 7-12  37.57964\n",
       "3         GA         629  126.9440        서강대학교   서울 마포구 대흥동 산 1-30  37.55092\n",
       "4         GA         166  126.9796    광화문역 5번출구      서울 종로구 서린동 132  37.56968\n",
       "...      ...         ...       ...          ...                 ...       ...\n",
       "1865      GA         535  126.9237        보라매병원     서울 동작구 신대방동 425  37.49413\n",
       "1866      GA         124  126.8831     고대구로병원 앞   서울 구로구 구로동 704-12  37.49118\n",
       "1867      EV        2017  126.9336      당곡중학교 뒤  서울 동작구 상도동 301-115  37.49327\n",
       "1868      GA         993  127.0337   왕십리역 10번출구   서울 성동구 행당동 293-11  37.55980\n",
       "1869      GA         245  126.8861         남구로역   서울 구로구 구로동 806-68  37.48596\n",
       "\n",
       "[1870 rows x 6 columns]"
      ]
     },
     "execution_count": 151,
     "metadata": {},
     "output_type": "execute_result"
    }
   ],
   "source": [
    "# JSON 파일 불러오기\n",
    "import json\n",
    "\n",
    "\n",
    "# \"DATA\" 키에 들어있는 json list 를 DataFrame 을 만들 생각\n",
    "with open(\"../data/서울시 나눔카 거점리스트 정보.json\") as json_f:\n",
    "    data = json.load(json_f)\n",
    "\n",
    "df_json = pd.read_json(json.dumps(data[\"DATA\"]))\n",
    "df_json"
   ]
  },
  {
   "cell_type": "code",
   "execution_count": 152,
   "id": "a6c231978e0fc11d",
   "metadata": {
    "ExecuteTime": {
     "end_time": "2025-04-08T11:02:45.732877Z",
     "start_time": "2025-04-08T11:02:45.728342Z"
    }
   },
   "outputs": [
    {
     "data": {
      "text/html": [
       "<div>\n",
       "<style scoped>\n",
       "    .dataframe tbody tr th:only-of-type {\n",
       "        vertical-align: middle;\n",
       "    }\n",
       "\n",
       "    .dataframe tbody tr th {\n",
       "        vertical-align: top;\n",
       "    }\n",
       "\n",
       "    .dataframe thead th {\n",
       "        text-align: right;\n",
       "    }\n",
       "</style>\n",
       "<table border=\"1\" class=\"dataframe\">\n",
       "  <thead>\n",
       "    <tr style=\"text-align: right;\">\n",
       "      <th></th>\n",
       "      <th>eltc_yn</th>\n",
       "      <th>str_pnt_id</th>\n",
       "      <th>str_pnt_name</th>\n",
       "      <th>addr</th>\n",
       "    </tr>\n",
       "  </thead>\n",
       "  <tbody>\n",
       "    <tr>\n",
       "      <th>0</th>\n",
       "      <td>GA</td>\n",
       "      <td>493</td>\n",
       "      <td>하이마트 미아사거리점</td>\n",
       "      <td>서울 강북구 미아동 42-56</td>\n",
       "    </tr>\n",
       "    <tr>\n",
       "      <th>1</th>\n",
       "      <td>GA</td>\n",
       "      <td>2409</td>\n",
       "      <td>아모레퍼시픽 본사</td>\n",
       "      <td>서울 용산구 한강로2가 424</td>\n",
       "    </tr>\n",
       "    <tr>\n",
       "      <th>2</th>\n",
       "      <td>GA</td>\n",
       "      <td>2270</td>\n",
       "      <td>창신역</td>\n",
       "      <td>서울 종로구 숭인동 7-12</td>\n",
       "    </tr>\n",
       "    <tr>\n",
       "      <th>3</th>\n",
       "      <td>GA</td>\n",
       "      <td>629</td>\n",
       "      <td>서강대학교</td>\n",
       "      <td>서울 마포구 대흥동 산 1-30</td>\n",
       "    </tr>\n",
       "    <tr>\n",
       "      <th>4</th>\n",
       "      <td>GA</td>\n",
       "      <td>166</td>\n",
       "      <td>광화문역 5번출구</td>\n",
       "      <td>서울 종로구 서린동 132</td>\n",
       "    </tr>\n",
       "    <tr>\n",
       "      <th>...</th>\n",
       "      <td>...</td>\n",
       "      <td>...</td>\n",
       "      <td>...</td>\n",
       "      <td>...</td>\n",
       "    </tr>\n",
       "    <tr>\n",
       "      <th>1865</th>\n",
       "      <td>GA</td>\n",
       "      <td>535</td>\n",
       "      <td>보라매병원</td>\n",
       "      <td>서울 동작구 신대방동 425</td>\n",
       "    </tr>\n",
       "    <tr>\n",
       "      <th>1866</th>\n",
       "      <td>GA</td>\n",
       "      <td>124</td>\n",
       "      <td>고대구로병원 앞</td>\n",
       "      <td>서울 구로구 구로동 704-12</td>\n",
       "    </tr>\n",
       "    <tr>\n",
       "      <th>1867</th>\n",
       "      <td>EV</td>\n",
       "      <td>2017</td>\n",
       "      <td>당곡중학교 뒤</td>\n",
       "      <td>서울 동작구 상도동 301-115</td>\n",
       "    </tr>\n",
       "    <tr>\n",
       "      <th>1868</th>\n",
       "      <td>GA</td>\n",
       "      <td>993</td>\n",
       "      <td>왕십리역 10번출구</td>\n",
       "      <td>서울 성동구 행당동 293-11</td>\n",
       "    </tr>\n",
       "    <tr>\n",
       "      <th>1869</th>\n",
       "      <td>GA</td>\n",
       "      <td>245</td>\n",
       "      <td>남구로역</td>\n",
       "      <td>서울 구로구 구로동 806-68</td>\n",
       "    </tr>\n",
       "  </tbody>\n",
       "</table>\n",
       "<p>1870 rows × 4 columns</p>\n",
       "</div>"
      ],
      "text/plain": [
       "     eltc_yn  str_pnt_id str_pnt_name                addr\n",
       "0         GA         493  하이마트 미아사거리점    서울 강북구 미아동 42-56\n",
       "1         GA        2409    아모레퍼시픽 본사    서울 용산구 한강로2가 424\n",
       "2         GA        2270          창신역     서울 종로구 숭인동 7-12\n",
       "3         GA         629        서강대학교   서울 마포구 대흥동 산 1-30\n",
       "4         GA         166    광화문역 5번출구      서울 종로구 서린동 132\n",
       "...      ...         ...          ...                 ...\n",
       "1865      GA         535        보라매병원     서울 동작구 신대방동 425\n",
       "1866      GA         124     고대구로병원 앞   서울 구로구 구로동 704-12\n",
       "1867      EV        2017      당곡중학교 뒤  서울 동작구 상도동 301-115\n",
       "1868      GA         993   왕십리역 10번출구   서울 성동구 행당동 293-11\n",
       "1869      GA         245         남구로역   서울 구로구 구로동 806-68\n",
       "\n",
       "[1870 rows x 4 columns]"
      ]
     },
     "execution_count": 152,
     "metadata": {},
     "output_type": "execute_result"
    }
   ],
   "source": [
    "new_df_json = df_json[[\"eltc_yn\", \"str_pnt_id\", \"str_pnt_name\", \"addr\"]]\n",
    "new_df_json"
   ]
  },
  {
   "cell_type": "code",
   "execution_count": 153,
   "id": "cbdb601a70b54827",
   "metadata": {
    "ExecuteTime": {
     "end_time": "2025-04-08T11:02:45.769905Z",
     "start_time": "2025-04-08T11:02:45.766654Z"
    }
   },
   "outputs": [],
   "source": [
    "new_df_json.to_json(\"../data/updated_서울시_나눔카_거점리스트_정보.json\")"
   ]
  },
  {
   "cell_type": "code",
   "execution_count": 154,
   "id": "9519f9bc658fe033",
   "metadata": {
    "ExecuteTime": {
     "end_time": "2025-04-08T11:02:45.997666Z",
     "start_time": "2025-04-08T11:02:45.794009Z"
    }
   },
   "outputs": [
    {
     "name": "stdout",
     "output_type": "stream",
     "text": [
      "<class 'list'> 13\n"
     ]
    },
    {
     "name": "stderr",
     "output_type": "stream",
     "text": [
      "/Users/joyuiyeong/.pyenv/versions/sandbox312/lib/python3.12/site-packages/bs4/__init__.py:339: UserWarning: You provided Unicode markup but also provided a value for from_encoding. Your from_encoding will be ignored.\n",
      "  warnings.warn(\n"
     ]
    }
   ],
   "source": [
    "# HTML 읽어오기\n",
    "# table tag 에 있는 값들 모두를 DataFrame 으로 변환한다.\n",
    "# 특정 table 만 변환하고 싶으면 match 를 이용해서 가져오면 된다.\n",
    "df_html = pd.read_html(\"https://finance.naver.com/item/sise.naver?code=005930\", encoding=\"cp949\")\n",
    "print(type(df_html), len(df_html))"
   ]
  },
  {
   "cell_type": "code",
   "execution_count": 155,
   "id": "5d57e4f12c9a5ea9",
   "metadata": {
    "ExecuteTime": {
     "end_time": "2025-04-08T11:02:46.003564Z",
     "start_time": "2025-04-08T11:02:46.000880Z"
    }
   },
   "outputs": [
    {
     "data": {
      "text/html": [
       "<div>\n",
       "<style scoped>\n",
       "    .dataframe tbody tr th:only-of-type {\n",
       "        vertical-align: middle;\n",
       "    }\n",
       "\n",
       "    .dataframe tbody tr th {\n",
       "        vertical-align: top;\n",
       "    }\n",
       "\n",
       "    .dataframe thead th {\n",
       "        text-align: right;\n",
       "    }\n",
       "</style>\n",
       "<table border=\"1\" class=\"dataframe\">\n",
       "  <thead>\n",
       "    <tr style=\"text-align: right;\">\n",
       "      <th></th>\n",
       "      <th>0</th>\n",
       "      <th>1</th>\n",
       "      <th>2</th>\n",
       "    </tr>\n",
       "  </thead>\n",
       "  <tbody>\n",
       "    <tr>\n",
       "      <th>0</th>\n",
       "      <td>전일  53,200  53,200</td>\n",
       "      <td>고가  55,90055,900  (상한가  69,10069,100  )</td>\n",
       "      <td>거래량  5,295,909  5,295,909</td>\n",
       "    </tr>\n",
       "    <tr>\n",
       "      <th>1</th>\n",
       "      <td>시가  55,00055,000</td>\n",
       "      <td>저가  53,35053,350  (하한가  37,300  )</td>\n",
       "      <td>거래대금  287,797  287,797  백만</td>\n",
       "    </tr>\n",
       "  </tbody>\n",
       "</table>\n",
       "</div>"
      ],
      "text/plain": [
       "                    0                                        1  \\\n",
       "0  전일  53,200  53,200  고가  55,90055,900  (상한가  69,10069,100  )   \n",
       "1    시가  55,00055,000        저가  53,35053,350  (하한가  37,300  )   \n",
       "\n",
       "                            2  \n",
       "0   거래량  5,295,909  5,295,909  \n",
       "1  거래대금  287,797  287,797  백만  "
      ]
     },
     "execution_count": 155,
     "metadata": {},
     "output_type": "execute_result"
    }
   ],
   "source": [
    "df_html[1]"
   ]
  },
  {
   "cell_type": "markdown",
   "id": "66c4125e434f5574",
   "metadata": {},
   "source": "# DataFrame 의 데이터 살펴보기"
  },
  {
   "cell_type": "code",
   "execution_count": 156,
   "id": "d596b5fdf7126d3c",
   "metadata": {
    "ExecuteTime": {
     "end_time": "2025-04-08T11:02:46.036220Z",
     "start_time": "2025-04-08T11:02:46.034618Z"
    }
   },
   "outputs": [],
   "source": [
    "import pandas as pd"
   ]
  },
  {
   "cell_type": "code",
   "execution_count": 157,
   "id": "9ddde8c7d8b44f01",
   "metadata": {
    "ExecuteTime": {
     "end_time": "2025-04-08T11:02:46.060244Z",
     "start_time": "2025-04-08T11:02:46.058603Z"
    }
   },
   "outputs": [],
   "source": [
    "# 샘플 데이터 생성\n",
    "raw_data = {\n",
    "    \"이름\": [\"김철수\", \"이영희\", \"박민수\", \"정지영\", \"최현우\", \"한미나\", \"강준호\"],\n",
    "    \"나이\": [25, 30, 28, 32, 45, 23, 37],\n",
    "    \"성별\": [\"남\", \"여\", \"남\", \"여\", \"남\", \"여\", \"남\"],\n",
    "    \"급여\": [3500000, 4200000, 3800000, 5100000, 6500000, 3200000, 4800000],\n",
    "}"
   ]
  },
  {
   "cell_type": "code",
   "execution_count": 158,
   "id": "3e91fec96d3778a8",
   "metadata": {
    "ExecuteTime": {
     "end_time": "2025-04-08T11:02:46.083577Z",
     "start_time": "2025-04-08T11:02:46.080017Z"
    }
   },
   "outputs": [
    {
     "data": {
      "text/html": [
       "<div>\n",
       "<style scoped>\n",
       "    .dataframe tbody tr th:only-of-type {\n",
       "        vertical-align: middle;\n",
       "    }\n",
       "\n",
       "    .dataframe tbody tr th {\n",
       "        vertical-align: top;\n",
       "    }\n",
       "\n",
       "    .dataframe thead th {\n",
       "        text-align: right;\n",
       "    }\n",
       "</style>\n",
       "<table border=\"1\" class=\"dataframe\">\n",
       "  <thead>\n",
       "    <tr style=\"text-align: right;\">\n",
       "      <th></th>\n",
       "      <th>이름</th>\n",
       "      <th>나이</th>\n",
       "      <th>성별</th>\n",
       "      <th>급여</th>\n",
       "    </tr>\n",
       "  </thead>\n",
       "  <tbody>\n",
       "    <tr>\n",
       "      <th>0</th>\n",
       "      <td>김철수</td>\n",
       "      <td>25</td>\n",
       "      <td>남</td>\n",
       "      <td>3500000</td>\n",
       "    </tr>\n",
       "    <tr>\n",
       "      <th>1</th>\n",
       "      <td>이영희</td>\n",
       "      <td>30</td>\n",
       "      <td>여</td>\n",
       "      <td>4200000</td>\n",
       "    </tr>\n",
       "    <tr>\n",
       "      <th>2</th>\n",
       "      <td>박민수</td>\n",
       "      <td>28</td>\n",
       "      <td>남</td>\n",
       "      <td>3800000</td>\n",
       "    </tr>\n",
       "    <tr>\n",
       "      <th>3</th>\n",
       "      <td>정지영</td>\n",
       "      <td>32</td>\n",
       "      <td>여</td>\n",
       "      <td>5100000</td>\n",
       "    </tr>\n",
       "    <tr>\n",
       "      <th>4</th>\n",
       "      <td>최현우</td>\n",
       "      <td>45</td>\n",
       "      <td>남</td>\n",
       "      <td>6500000</td>\n",
       "    </tr>\n",
       "    <tr>\n",
       "      <th>5</th>\n",
       "      <td>한미나</td>\n",
       "      <td>23</td>\n",
       "      <td>여</td>\n",
       "      <td>3200000</td>\n",
       "    </tr>\n",
       "    <tr>\n",
       "      <th>6</th>\n",
       "      <td>강준호</td>\n",
       "      <td>37</td>\n",
       "      <td>남</td>\n",
       "      <td>4800000</td>\n",
       "    </tr>\n",
       "  </tbody>\n",
       "</table>\n",
       "</div>"
      ],
      "text/plain": [
       "    이름  나이 성별       급여\n",
       "0  김철수  25  남  3500000\n",
       "1  이영희  30  여  4200000\n",
       "2  박민수  28  남  3800000\n",
       "3  정지영  32  여  5100000\n",
       "4  최현우  45  남  6500000\n",
       "5  한미나  23  여  3200000\n",
       "6  강준호  37  남  4800000"
      ]
     },
     "execution_count": 158,
     "metadata": {},
     "output_type": "execute_result"
    }
   ],
   "source": [
    "df = pd.DataFrame(raw_data)\n",
    "df"
   ]
  },
  {
   "cell_type": "code",
   "execution_count": 159,
   "id": "67fd25b6f9788edb",
   "metadata": {
    "ExecuteTime": {
     "end_time": "2025-04-08T11:02:46.112965Z",
     "start_time": "2025-04-08T11:02:46.109819Z"
    }
   },
   "outputs": [
    {
     "data": {
      "text/html": [
       "<div>\n",
       "<style scoped>\n",
       "    .dataframe tbody tr th:only-of-type {\n",
       "        vertical-align: middle;\n",
       "    }\n",
       "\n",
       "    .dataframe tbody tr th {\n",
       "        vertical-align: top;\n",
       "    }\n",
       "\n",
       "    .dataframe thead th {\n",
       "        text-align: right;\n",
       "    }\n",
       "</style>\n",
       "<table border=\"1\" class=\"dataframe\">\n",
       "  <thead>\n",
       "    <tr style=\"text-align: right;\">\n",
       "      <th></th>\n",
       "      <th>이름</th>\n",
       "      <th>나이</th>\n",
       "      <th>성별</th>\n",
       "      <th>급여</th>\n",
       "    </tr>\n",
       "  </thead>\n",
       "  <tbody>\n",
       "    <tr>\n",
       "      <th>0</th>\n",
       "      <td>김철수</td>\n",
       "      <td>25</td>\n",
       "      <td>남</td>\n",
       "      <td>3500000</td>\n",
       "    </tr>\n",
       "    <tr>\n",
       "      <th>1</th>\n",
       "      <td>이영희</td>\n",
       "      <td>30</td>\n",
       "      <td>여</td>\n",
       "      <td>4200000</td>\n",
       "    </tr>\n",
       "    <tr>\n",
       "      <th>2</th>\n",
       "      <td>박민수</td>\n",
       "      <td>28</td>\n",
       "      <td>남</td>\n",
       "      <td>3800000</td>\n",
       "    </tr>\n",
       "    <tr>\n",
       "      <th>3</th>\n",
       "      <td>정지영</td>\n",
       "      <td>32</td>\n",
       "      <td>여</td>\n",
       "      <td>5100000</td>\n",
       "    </tr>\n",
       "    <tr>\n",
       "      <th>4</th>\n",
       "      <td>최현우</td>\n",
       "      <td>45</td>\n",
       "      <td>남</td>\n",
       "      <td>6500000</td>\n",
       "    </tr>\n",
       "    <tr>\n",
       "      <th>5</th>\n",
       "      <td>한미나</td>\n",
       "      <td>23</td>\n",
       "      <td>여</td>\n",
       "      <td>3200000</td>\n",
       "    </tr>\n",
       "  </tbody>\n",
       "</table>\n",
       "</div>"
      ],
      "text/plain": [
       "    이름  나이 성별       급여\n",
       "0  김철수  25  남  3500000\n",
       "1  이영희  30  여  4200000\n",
       "2  박민수  28  남  3800000\n",
       "3  정지영  32  여  5100000\n",
       "4  최현우  45  남  6500000\n",
       "5  한미나  23  여  3200000"
      ]
     },
     "execution_count": 159,
     "metadata": {},
     "output_type": "execute_result"
    }
   ],
   "source": [
    "df.head(6)"
   ]
  },
  {
   "cell_type": "code",
   "execution_count": 160,
   "id": "8ceb70353e3da8b5",
   "metadata": {
    "ExecuteTime": {
     "end_time": "2025-04-08T11:02:46.153932Z",
     "start_time": "2025-04-08T11:02:46.150873Z"
    }
   },
   "outputs": [
    {
     "data": {
      "text/html": [
       "<div>\n",
       "<style scoped>\n",
       "    .dataframe tbody tr th:only-of-type {\n",
       "        vertical-align: middle;\n",
       "    }\n",
       "\n",
       "    .dataframe tbody tr th {\n",
       "        vertical-align: top;\n",
       "    }\n",
       "\n",
       "    .dataframe thead th {\n",
       "        text-align: right;\n",
       "    }\n",
       "</style>\n",
       "<table border=\"1\" class=\"dataframe\">\n",
       "  <thead>\n",
       "    <tr style=\"text-align: right;\">\n",
       "      <th></th>\n",
       "      <th>이름</th>\n",
       "      <th>나이</th>\n",
       "      <th>성별</th>\n",
       "      <th>급여</th>\n",
       "    </tr>\n",
       "  </thead>\n",
       "  <tbody>\n",
       "    <tr>\n",
       "      <th>1</th>\n",
       "      <td>이영희</td>\n",
       "      <td>30</td>\n",
       "      <td>여</td>\n",
       "      <td>4200000</td>\n",
       "    </tr>\n",
       "    <tr>\n",
       "      <th>2</th>\n",
       "      <td>박민수</td>\n",
       "      <td>28</td>\n",
       "      <td>남</td>\n",
       "      <td>3800000</td>\n",
       "    </tr>\n",
       "    <tr>\n",
       "      <th>3</th>\n",
       "      <td>정지영</td>\n",
       "      <td>32</td>\n",
       "      <td>여</td>\n",
       "      <td>5100000</td>\n",
       "    </tr>\n",
       "    <tr>\n",
       "      <th>4</th>\n",
       "      <td>최현우</td>\n",
       "      <td>45</td>\n",
       "      <td>남</td>\n",
       "      <td>6500000</td>\n",
       "    </tr>\n",
       "    <tr>\n",
       "      <th>5</th>\n",
       "      <td>한미나</td>\n",
       "      <td>23</td>\n",
       "      <td>여</td>\n",
       "      <td>3200000</td>\n",
       "    </tr>\n",
       "    <tr>\n",
       "      <th>6</th>\n",
       "      <td>강준호</td>\n",
       "      <td>37</td>\n",
       "      <td>남</td>\n",
       "      <td>4800000</td>\n",
       "    </tr>\n",
       "  </tbody>\n",
       "</table>\n",
       "</div>"
      ],
      "text/plain": [
       "    이름  나이 성별       급여\n",
       "1  이영희  30  여  4200000\n",
       "2  박민수  28  남  3800000\n",
       "3  정지영  32  여  5100000\n",
       "4  최현우  45  남  6500000\n",
       "5  한미나  23  여  3200000\n",
       "6  강준호  37  남  4800000"
      ]
     },
     "execution_count": 160,
     "metadata": {},
     "output_type": "execute_result"
    }
   ],
   "source": [
    "df.tail(6)"
   ]
  },
  {
   "cell_type": "code",
   "execution_count": 161,
   "id": "551a0fc4a3f66e30",
   "metadata": {
    "ExecuteTime": {
     "end_time": "2025-04-08T11:02:46.217357Z",
     "start_time": "2025-04-08T11:02:46.214354Z"
    }
   },
   "outputs": [
    {
     "name": "stdout",
     "output_type": "stream",
     "text": [
      "<class 'pandas.core.frame.DataFrame'>\n",
      "RangeIndex: 7 entries, 0 to 6\n",
      "Data columns (total 4 columns):\n",
      " #   Column  Non-Null Count  Dtype \n",
      "---  ------  --------------  ----- \n",
      " 0   이름      7 non-null      object\n",
      " 1   나이      7 non-null      int64 \n",
      " 2   성별      7 non-null      object\n",
      " 3   급여      7 non-null      int64 \n",
      "dtypes: int64(2), object(2)\n",
      "memory usage: 356.0+ bytes\n"
     ]
    }
   ],
   "source": [
    "df.info()"
   ]
  },
  {
   "cell_type": "code",
   "execution_count": 162,
   "id": "c649a4f8a85d48f3",
   "metadata": {
    "ExecuteTime": {
     "end_time": "2025-04-08T11:02:46.254800Z",
     "start_time": "2025-04-08T11:02:46.249698Z"
    }
   },
   "outputs": [
    {
     "data": {
      "text/html": [
       "<div>\n",
       "<style scoped>\n",
       "    .dataframe tbody tr th:only-of-type {\n",
       "        vertical-align: middle;\n",
       "    }\n",
       "\n",
       "    .dataframe tbody tr th {\n",
       "        vertical-align: top;\n",
       "    }\n",
       "\n",
       "    .dataframe thead th {\n",
       "        text-align: right;\n",
       "    }\n",
       "</style>\n",
       "<table border=\"1\" class=\"dataframe\">\n",
       "  <thead>\n",
       "    <tr style=\"text-align: right;\">\n",
       "      <th></th>\n",
       "      <th>나이</th>\n",
       "      <th>급여</th>\n",
       "    </tr>\n",
       "  </thead>\n",
       "  <tbody>\n",
       "    <tr>\n",
       "      <th>count</th>\n",
       "      <td>7.000000</td>\n",
       "      <td>7.000000e+00</td>\n",
       "    </tr>\n",
       "    <tr>\n",
       "      <th>mean</th>\n",
       "      <td>31.428571</td>\n",
       "      <td>4.442857e+06</td>\n",
       "    </tr>\n",
       "    <tr>\n",
       "      <th>std</th>\n",
       "      <td>7.546680</td>\n",
       "      <td>1.132633e+06</td>\n",
       "    </tr>\n",
       "    <tr>\n",
       "      <th>min</th>\n",
       "      <td>23.000000</td>\n",
       "      <td>3.200000e+06</td>\n",
       "    </tr>\n",
       "    <tr>\n",
       "      <th>25%</th>\n",
       "      <td>26.500000</td>\n",
       "      <td>3.650000e+06</td>\n",
       "    </tr>\n",
       "    <tr>\n",
       "      <th>50%</th>\n",
       "      <td>30.000000</td>\n",
       "      <td>4.200000e+06</td>\n",
       "    </tr>\n",
       "    <tr>\n",
       "      <th>75%</th>\n",
       "      <td>34.500000</td>\n",
       "      <td>4.950000e+06</td>\n",
       "    </tr>\n",
       "    <tr>\n",
       "      <th>max</th>\n",
       "      <td>45.000000</td>\n",
       "      <td>6.500000e+06</td>\n",
       "    </tr>\n",
       "  </tbody>\n",
       "</table>\n",
       "</div>"
      ],
      "text/plain": [
       "              나이            급여\n",
       "count   7.000000  7.000000e+00\n",
       "mean   31.428571  4.442857e+06\n",
       "std     7.546680  1.132633e+06\n",
       "min    23.000000  3.200000e+06\n",
       "25%    26.500000  3.650000e+06\n",
       "50%    30.000000  4.200000e+06\n",
       "75%    34.500000  4.950000e+06\n",
       "max    45.000000  6.500000e+06"
      ]
     },
     "execution_count": 162,
     "metadata": {},
     "output_type": "execute_result"
    }
   ],
   "source": [
    "df.describe()"
   ]
  },
  {
   "cell_type": "markdown",
   "id": "178e48f578ce1702",
   "metadata": {},
   "source": "# DataFrame 의 Indexing 과 Slicing"
  },
  {
   "cell_type": "code",
   "execution_count": 163,
   "id": "570eb06358275f97",
   "metadata": {
    "ExecuteTime": {
     "end_time": "2025-04-08T11:02:46.291741Z",
     "start_time": "2025-04-08T11:02:46.290143Z"
    }
   },
   "outputs": [],
   "source": [
    "import pandas as pd"
   ]
  },
  {
   "cell_type": "code",
   "execution_count": 164,
   "id": "782d1276e87cfaa1",
   "metadata": {
    "ExecuteTime": {
     "end_time": "2025-04-08T11:02:46.316940Z",
     "start_time": "2025-04-08T11:02:46.313227Z"
    }
   },
   "outputs": [
    {
     "data": {
      "text/html": [
       "<div>\n",
       "<style scoped>\n",
       "    .dataframe tbody tr th:only-of-type {\n",
       "        vertical-align: middle;\n",
       "    }\n",
       "\n",
       "    .dataframe tbody tr th {\n",
       "        vertical-align: top;\n",
       "    }\n",
       "\n",
       "    .dataframe thead th {\n",
       "        text-align: right;\n",
       "    }\n",
       "</style>\n",
       "<table border=\"1\" class=\"dataframe\">\n",
       "  <thead>\n",
       "    <tr style=\"text-align: right;\">\n",
       "      <th></th>\n",
       "      <th>이름</th>\n",
       "      <th>나이</th>\n",
       "      <th>성별</th>\n",
       "    </tr>\n",
       "  </thead>\n",
       "  <tbody>\n",
       "    <tr>\n",
       "      <th>0</th>\n",
       "      <td>홍길동</td>\n",
       "      <td>20</td>\n",
       "      <td>남</td>\n",
       "    </tr>\n",
       "    <tr>\n",
       "      <th>1</th>\n",
       "      <td>김철수</td>\n",
       "      <td>25</td>\n",
       "      <td>남</td>\n",
       "    </tr>\n",
       "    <tr>\n",
       "      <th>2</th>\n",
       "      <td>이영희</td>\n",
       "      <td>30</td>\n",
       "      <td>여</td>\n",
       "    </tr>\n",
       "  </tbody>\n",
       "</table>\n",
       "</div>"
      ],
      "text/plain": [
       "    이름  나이 성별\n",
       "0  홍길동  20  남\n",
       "1  김철수  25  남\n",
       "2  이영희  30  여"
      ]
     },
     "execution_count": 164,
     "metadata": {},
     "output_type": "execute_result"
    }
   ],
   "source": [
    "df = pd.DataFrame(\n",
    "    {\n",
    "        \"이름\": [\"홍길동\", \"김철수\", \"이영희\"],\n",
    "        \"나이\": [20, 25, 30],\n",
    "        \"성별\": [\"남\", \"남\", \"여\"],\n",
    "    }\n",
    ")\n",
    "df"
   ]
  },
  {
   "cell_type": "code",
   "execution_count": 165,
   "id": "8f375ff700d2d3f0",
   "metadata": {
    "ExecuteTime": {
     "end_time": "2025-04-08T11:02:46.347892Z",
     "start_time": "2025-04-08T11:02:46.345316Z"
    }
   },
   "outputs": [
    {
     "name": "stdout",
     "output_type": "stream",
     "text": [
      "<class 'pandas.core.series.Series'>\n"
     ]
    },
    {
     "data": {
      "text/plain": [
       "0    20\n",
       "1    25\n",
       "2    30\n",
       "Name: 나이, dtype: int64"
      ]
     },
     "execution_count": 165,
     "metadata": {},
     "output_type": "execute_result"
    }
   ],
   "source": [
    "# 방법 1: 대괄호 사용\n",
    "print(type(df[\"나이\"]))\n",
    "df[\"나이\"]"
   ]
  },
  {
   "cell_type": "code",
   "execution_count": 166,
   "id": "1b593ce0eaf4a10e",
   "metadata": {
    "ExecuteTime": {
     "end_time": "2025-04-08T11:02:46.385202Z",
     "start_time": "2025-04-08T11:02:46.382782Z"
    }
   },
   "outputs": [
    {
     "name": "stdout",
     "output_type": "stream",
     "text": [
      "<class 'pandas.core.series.Series'>\n"
     ]
    },
    {
     "data": {
      "text/plain": [
       "0    20\n",
       "1    25\n",
       "2    30\n",
       "Name: 나이, dtype: int64"
      ]
     },
     "execution_count": 166,
     "metadata": {},
     "output_type": "execute_result"
    }
   ],
   "source": [
    "# 방법 2: 도트 표기법 사용\n",
    "print(type(df.나이))\n",
    "df.나이"
   ]
  },
  {
   "cell_type": "code",
   "execution_count": 167,
   "id": "c920769617125961",
   "metadata": {
    "ExecuteTime": {
     "end_time": "2025-04-08T11:02:46.431053Z",
     "start_time": "2025-04-08T11:02:46.427488Z"
    }
   },
   "outputs": [
    {
     "name": "stdout",
     "output_type": "stream",
     "text": [
      "<class 'pandas.core.frame.DataFrame'>\n"
     ]
    },
    {
     "data": {
      "text/html": [
       "<div>\n",
       "<style scoped>\n",
       "    .dataframe tbody tr th:only-of-type {\n",
       "        vertical-align: middle;\n",
       "    }\n",
       "\n",
       "    .dataframe tbody tr th {\n",
       "        vertical-align: top;\n",
       "    }\n",
       "\n",
       "    .dataframe thead th {\n",
       "        text-align: right;\n",
       "    }\n",
       "</style>\n",
       "<table border=\"1\" class=\"dataframe\">\n",
       "  <thead>\n",
       "    <tr style=\"text-align: right;\">\n",
       "      <th></th>\n",
       "      <th>이름</th>\n",
       "      <th>성별</th>\n",
       "    </tr>\n",
       "  </thead>\n",
       "  <tbody>\n",
       "    <tr>\n",
       "      <th>0</th>\n",
       "      <td>홍길동</td>\n",
       "      <td>남</td>\n",
       "    </tr>\n",
       "    <tr>\n",
       "      <th>1</th>\n",
       "      <td>김철수</td>\n",
       "      <td>남</td>\n",
       "    </tr>\n",
       "    <tr>\n",
       "      <th>2</th>\n",
       "      <td>이영희</td>\n",
       "      <td>여</td>\n",
       "    </tr>\n",
       "  </tbody>\n",
       "</table>\n",
       "</div>"
      ],
      "text/plain": [
       "    이름 성별\n",
       "0  홍길동  남\n",
       "1  김철수  남\n",
       "2  이영희  여"
      ]
     },
     "execution_count": 167,
     "metadata": {},
     "output_type": "execute_result"
    }
   ],
   "source": [
    "# 여러 열을 선택함으로써, DataFrame 으로 받음\n",
    "print(type(df[[\"이름\", \"성별\"]]))\n",
    "df[[\"이름\", \"성별\"]]"
   ]
  },
  {
   "cell_type": "code",
   "execution_count": 168,
   "id": "a60f5aa106c6c3f3",
   "metadata": {
    "ExecuteTime": {
     "end_time": "2025-04-08T11:02:46.591544Z",
     "start_time": "2025-04-08T11:02:46.588542Z"
    }
   },
   "outputs": [
    {
     "name": "stdout",
     "output_type": "stream",
     "text": [
      "<class 'pandas.core.frame.DataFrame'>\n"
     ]
    },
    {
     "data": {
      "text/html": [
       "<div>\n",
       "<style scoped>\n",
       "    .dataframe tbody tr th:only-of-type {\n",
       "        vertical-align: middle;\n",
       "    }\n",
       "\n",
       "    .dataframe tbody tr th {\n",
       "        vertical-align: top;\n",
       "    }\n",
       "\n",
       "    .dataframe thead th {\n",
       "        text-align: right;\n",
       "    }\n",
       "</style>\n",
       "<table border=\"1\" class=\"dataframe\">\n",
       "  <thead>\n",
       "    <tr style=\"text-align: right;\">\n",
       "      <th></th>\n",
       "      <th>나이</th>\n",
       "    </tr>\n",
       "  </thead>\n",
       "  <tbody>\n",
       "    <tr>\n",
       "      <th>0</th>\n",
       "      <td>20</td>\n",
       "    </tr>\n",
       "    <tr>\n",
       "      <th>1</th>\n",
       "      <td>25</td>\n",
       "    </tr>\n",
       "    <tr>\n",
       "      <th>2</th>\n",
       "      <td>30</td>\n",
       "    </tr>\n",
       "  </tbody>\n",
       "</table>\n",
       "</div>"
      ],
      "text/plain": [
       "   나이\n",
       "0  20\n",
       "1  25\n",
       "2  30"
      ]
     },
     "execution_count": 168,
     "metadata": {},
     "output_type": "execute_result"
    }
   ],
   "source": [
    "# 열 1개를 DataFrame 으로 받기\n",
    "print(type(df[[\"나이\"]]))\n",
    "df[[\"나이\"]]"
   ]
  },
  {
   "cell_type": "code",
   "execution_count": 169,
   "id": "c1be67ae1f650f77",
   "metadata": {
    "ExecuteTime": {
     "end_time": "2025-04-08T11:02:46.624559Z",
     "start_time": "2025-04-08T11:02:46.621479Z"
    }
   },
   "outputs": [
    {
     "data": {
      "text/html": [
       "<div>\n",
       "<style scoped>\n",
       "    .dataframe tbody tr th:only-of-type {\n",
       "        vertical-align: middle;\n",
       "    }\n",
       "\n",
       "    .dataframe tbody tr th {\n",
       "        vertical-align: top;\n",
       "    }\n",
       "\n",
       "    .dataframe thead th {\n",
       "        text-align: right;\n",
       "    }\n",
       "</style>\n",
       "<table border=\"1\" class=\"dataframe\">\n",
       "  <thead>\n",
       "    <tr style=\"text-align: right;\">\n",
       "      <th></th>\n",
       "      <th>이름</th>\n",
       "      <th>나이</th>\n",
       "      <th>성별</th>\n",
       "    </tr>\n",
       "  </thead>\n",
       "  <tbody>\n",
       "    <tr>\n",
       "      <th>0</th>\n",
       "      <td>홍길동</td>\n",
       "      <td>20</td>\n",
       "      <td>남</td>\n",
       "    </tr>\n",
       "  </tbody>\n",
       "</table>\n",
       "</div>"
      ],
      "text/plain": [
       "    이름  나이 성별\n",
       "0  홍길동  20  남"
      ]
     },
     "execution_count": 169,
     "metadata": {},
     "output_type": "execute_result"
    }
   ],
   "source": [
    "# 한 개 row 선택\n",
    "df[0:1]"
   ]
  },
  {
   "cell_type": "code",
   "execution_count": 170,
   "id": "286f5c48679873e3",
   "metadata": {
    "ExecuteTime": {
     "end_time": "2025-04-08T11:02:46.666198Z",
     "start_time": "2025-04-08T11:02:46.663545Z"
    }
   },
   "outputs": [
    {
     "data": {
      "text/html": [
       "<div>\n",
       "<style scoped>\n",
       "    .dataframe tbody tr th:only-of-type {\n",
       "        vertical-align: middle;\n",
       "    }\n",
       "\n",
       "    .dataframe tbody tr th {\n",
       "        vertical-align: top;\n",
       "    }\n",
       "\n",
       "    .dataframe thead th {\n",
       "        text-align: right;\n",
       "    }\n",
       "</style>\n",
       "<table border=\"1\" class=\"dataframe\">\n",
       "  <thead>\n",
       "    <tr style=\"text-align: right;\">\n",
       "      <th></th>\n",
       "      <th>이름</th>\n",
       "      <th>나이</th>\n",
       "      <th>성별</th>\n",
       "    </tr>\n",
       "  </thead>\n",
       "  <tbody>\n",
       "    <tr>\n",
       "      <th>1</th>\n",
       "      <td>김철수</td>\n",
       "      <td>25</td>\n",
       "      <td>남</td>\n",
       "    </tr>\n",
       "    <tr>\n",
       "      <th>2</th>\n",
       "      <td>이영희</td>\n",
       "      <td>30</td>\n",
       "      <td>여</td>\n",
       "    </tr>\n",
       "  </tbody>\n",
       "</table>\n",
       "</div>"
      ],
      "text/plain": [
       "    이름  나이 성별\n",
       "1  김철수  25  남\n",
       "2  이영희  30  여"
      ]
     },
     "execution_count": 170,
     "metadata": {},
     "output_type": "execute_result"
    }
   ],
   "source": [
    "# 여러 개 row 선택\n",
    "df[1:3]"
   ]
  },
  {
   "cell_type": "code",
   "execution_count": 171,
   "id": "f2a8bdfe2ca7ecd6",
   "metadata": {
    "ExecuteTime": {
     "end_time": "2025-04-08T11:02:46.710042Z",
     "start_time": "2025-04-08T11:02:46.706971Z"
    }
   },
   "outputs": [
    {
     "name": "stdout",
     "output_type": "stream",
     "text": [
      "<class 'pandas.core.series.Series'>\n",
      "<class 'pandas.core.frame.DataFrame'>\n"
     ]
    },
    {
     "data": {
      "text/html": [
       "<div>\n",
       "<style scoped>\n",
       "    .dataframe tbody tr th:only-of-type {\n",
       "        vertical-align: middle;\n",
       "    }\n",
       "\n",
       "    .dataframe tbody tr th {\n",
       "        vertical-align: top;\n",
       "    }\n",
       "\n",
       "    .dataframe thead th {\n",
       "        text-align: right;\n",
       "    }\n",
       "</style>\n",
       "<table border=\"1\" class=\"dataframe\">\n",
       "  <thead>\n",
       "    <tr style=\"text-align: right;\">\n",
       "      <th></th>\n",
       "      <th>이름</th>\n",
       "    </tr>\n",
       "  </thead>\n",
       "  <tbody>\n",
       "    <tr>\n",
       "      <th>0</th>\n",
       "      <td>홍길동</td>\n",
       "    </tr>\n",
       "    <tr>\n",
       "      <th>1</th>\n",
       "      <td>김철수</td>\n",
       "    </tr>\n",
       "    <tr>\n",
       "      <th>2</th>\n",
       "      <td>이영희</td>\n",
       "    </tr>\n",
       "  </tbody>\n",
       "</table>\n",
       "</div>"
      ],
      "text/plain": [
       "    이름\n",
       "0  홍길동\n",
       "1  김철수\n",
       "2  이영희"
      ]
     },
     "execution_count": 171,
     "metadata": {},
     "output_type": "execute_result"
    }
   ],
   "source": [
    "# loc\n",
    "print(type(df.loc[:, \"이름\"]))\n",
    "print(type(df.loc[:, [\"이름\"]]))\n",
    "df.loc[:, [\"이름\"]]"
   ]
  },
  {
   "cell_type": "code",
   "execution_count": 172,
   "id": "733fc6d3e091dacd",
   "metadata": {
    "ExecuteTime": {
     "end_time": "2025-04-08T11:02:46.758865Z",
     "start_time": "2025-04-08T11:02:46.756700Z"
    }
   },
   "outputs": [
    {
     "name": "stdout",
     "output_type": "stream",
     "text": [
      "<class 'str'>\n"
     ]
    },
    {
     "data": {
      "text/plain": [
       "'홍길동'"
      ]
     },
     "execution_count": 172,
     "metadata": {},
     "output_type": "execute_result"
    }
   ],
   "source": [
    "# iloc\n",
    "print(type(df.iloc[0, 0]))\n",
    "df.iloc[0, 0]"
   ]
  },
  {
   "cell_type": "code",
   "execution_count": 173,
   "id": "22ccb64dd7de1dd4",
   "metadata": {
    "ExecuteTime": {
     "end_time": "2025-04-08T11:02:46.802040Z",
     "start_time": "2025-04-08T11:02:46.799248Z"
    }
   },
   "outputs": [
    {
     "name": "stdout",
     "output_type": "stream",
     "text": [
      "<class 'pandas.core.series.Series'>\n"
     ]
    },
    {
     "data": {
      "text/plain": [
       "이름    홍길동\n",
       "나이     20\n",
       "성별      남\n",
       "Name: 0, dtype: object"
      ]
     },
     "execution_count": 173,
     "metadata": {},
     "output_type": "execute_result"
    }
   ],
   "source": [
    "print(type(df.iloc[0, :3]))\n",
    "df.iloc[0, :3]"
   ]
  },
  {
   "cell_type": "code",
   "execution_count": 174,
   "id": "5287d2dd6088caf7",
   "metadata": {
    "ExecuteTime": {
     "end_time": "2025-04-08T11:02:46.879564Z",
     "start_time": "2025-04-08T11:02:46.875956Z"
    }
   },
   "outputs": [
    {
     "name": "stdout",
     "output_type": "stream",
     "text": [
      "<class 'pandas.core.frame.DataFrame'>\n"
     ]
    },
    {
     "data": {
      "text/html": [
       "<div>\n",
       "<style scoped>\n",
       "    .dataframe tbody tr th:only-of-type {\n",
       "        vertical-align: middle;\n",
       "    }\n",
       "\n",
       "    .dataframe tbody tr th {\n",
       "        vertical-align: top;\n",
       "    }\n",
       "\n",
       "    .dataframe thead th {\n",
       "        text-align: right;\n",
       "    }\n",
       "</style>\n",
       "<table border=\"1\" class=\"dataframe\">\n",
       "  <thead>\n",
       "    <tr style=\"text-align: right;\">\n",
       "      <th></th>\n",
       "      <th>이름</th>\n",
       "      <th>나이</th>\n",
       "      <th>성별</th>\n",
       "    </tr>\n",
       "  </thead>\n",
       "  <tbody>\n",
       "    <tr>\n",
       "      <th>0</th>\n",
       "      <td>홍길동</td>\n",
       "      <td>20</td>\n",
       "      <td>남</td>\n",
       "    </tr>\n",
       "    <tr>\n",
       "      <th>1</th>\n",
       "      <td>김철수</td>\n",
       "      <td>25</td>\n",
       "      <td>남</td>\n",
       "    </tr>\n",
       "  </tbody>\n",
       "</table>\n",
       "</div>"
      ],
      "text/plain": [
       "    이름  나이 성별\n",
       "0  홍길동  20  남\n",
       "1  김철수  25  남"
      ]
     },
     "execution_count": 174,
     "metadata": {},
     "output_type": "execute_result"
    }
   ],
   "source": [
    "print(type(df.iloc[0:2, 0:3]))\n",
    "df.iloc[0:2, 0:3]"
   ]
  },
  {
   "cell_type": "code",
   "execution_count": 175,
   "id": "acc6af753b707d7a",
   "metadata": {
    "ExecuteTime": {
     "end_time": "2025-04-08T11:02:46.932282Z",
     "start_time": "2025-04-08T11:02:46.929412Z"
    }
   },
   "outputs": [
    {
     "data": {
      "text/html": [
       "<div>\n",
       "<style scoped>\n",
       "    .dataframe tbody tr th:only-of-type {\n",
       "        vertical-align: middle;\n",
       "    }\n",
       "\n",
       "    .dataframe tbody tr th {\n",
       "        vertical-align: top;\n",
       "    }\n",
       "\n",
       "    .dataframe thead th {\n",
       "        text-align: right;\n",
       "    }\n",
       "</style>\n",
       "<table border=\"1\" class=\"dataframe\">\n",
       "  <thead>\n",
       "    <tr style=\"text-align: right;\">\n",
       "      <th></th>\n",
       "      <th>이름</th>\n",
       "      <th>나이</th>\n",
       "      <th>성별</th>\n",
       "    </tr>\n",
       "  </thead>\n",
       "  <tbody>\n",
       "    <tr>\n",
       "      <th>0</th>\n",
       "      <td>홍길동</td>\n",
       "      <td>20</td>\n",
       "      <td>남</td>\n",
       "    </tr>\n",
       "    <tr>\n",
       "      <th>1</th>\n",
       "      <td>김철수</td>\n",
       "      <td>25</td>\n",
       "      <td>남</td>\n",
       "    </tr>\n",
       "    <tr>\n",
       "      <th>2</th>\n",
       "      <td>이영희</td>\n",
       "      <td>30</td>\n",
       "      <td>여</td>\n",
       "    </tr>\n",
       "  </tbody>\n",
       "</table>\n",
       "</div>"
      ],
      "text/plain": [
       "    이름  나이 성별\n",
       "0  홍길동  20  남\n",
       "1  김철수  25  남\n",
       "2  이영희  30  여"
      ]
     },
     "execution_count": 175,
     "metadata": {},
     "output_type": "execute_result"
    }
   ],
   "source": [
    "df.iloc[:, :3]"
   ]
  },
  {
   "cell_type": "markdown",
   "id": "39eafc441ae5458c",
   "metadata": {},
   "source": "# 조건에 맞는 데이터 추출"
  },
  {
   "cell_type": "code",
   "execution_count": 176,
   "id": "1b922acc9933c05a",
   "metadata": {
    "ExecuteTime": {
     "end_time": "2025-04-08T11:02:46.976506Z",
     "start_time": "2025-04-08T11:02:46.975085Z"
    }
   },
   "outputs": [],
   "source": [
    "import numpy as np\n",
    "import pandas as pd"
   ]
  },
  {
   "cell_type": "code",
   "execution_count": 177,
   "id": "3b6db869d4d50e6",
   "metadata": {
    "ExecuteTime": {
     "end_time": "2025-04-08T11:02:47.021486Z",
     "start_time": "2025-04-08T11:02:47.017540Z"
    }
   },
   "outputs": [
    {
     "data": {
      "text/html": [
       "<div>\n",
       "<style scoped>\n",
       "    .dataframe tbody tr th:only-of-type {\n",
       "        vertical-align: middle;\n",
       "    }\n",
       "\n",
       "    .dataframe tbody tr th {\n",
       "        vertical-align: top;\n",
       "    }\n",
       "\n",
       "    .dataframe thead th {\n",
       "        text-align: right;\n",
       "    }\n",
       "</style>\n",
       "<table border=\"1\" class=\"dataframe\">\n",
       "  <thead>\n",
       "    <tr style=\"text-align: right;\">\n",
       "      <th></th>\n",
       "      <th>이름</th>\n",
       "      <th>나이</th>\n",
       "      <th>성별</th>\n",
       "    </tr>\n",
       "  </thead>\n",
       "  <tbody>\n",
       "    <tr>\n",
       "      <th>0</th>\n",
       "      <td>김철수</td>\n",
       "      <td>37</td>\n",
       "      <td>남</td>\n",
       "    </tr>\n",
       "    <tr>\n",
       "      <th>1</th>\n",
       "      <td>홍길동</td>\n",
       "      <td>33</td>\n",
       "      <td>여</td>\n",
       "    </tr>\n",
       "    <tr>\n",
       "      <th>2</th>\n",
       "      <td>이영희</td>\n",
       "      <td>23</td>\n",
       "      <td>남</td>\n",
       "    </tr>\n",
       "    <tr>\n",
       "      <th>3</th>\n",
       "      <td>홍길동</td>\n",
       "      <td>36</td>\n",
       "      <td>남</td>\n",
       "    </tr>\n",
       "    <tr>\n",
       "      <th>4</th>\n",
       "      <td>김철수</td>\n",
       "      <td>27</td>\n",
       "      <td>여</td>\n",
       "    </tr>\n",
       "    <tr>\n",
       "      <th>5</th>\n",
       "      <td>김철수</td>\n",
       "      <td>20</td>\n",
       "      <td>여</td>\n",
       "    </tr>\n",
       "    <tr>\n",
       "      <th>6</th>\n",
       "      <td>김철수</td>\n",
       "      <td>22</td>\n",
       "      <td>여</td>\n",
       "    </tr>\n",
       "    <tr>\n",
       "      <th>7</th>\n",
       "      <td>김철수</td>\n",
       "      <td>21</td>\n",
       "      <td>남</td>\n",
       "    </tr>\n",
       "    <tr>\n",
       "      <th>8</th>\n",
       "      <td>이영희</td>\n",
       "      <td>29</td>\n",
       "      <td>여</td>\n",
       "    </tr>\n",
       "    <tr>\n",
       "      <th>9</th>\n",
       "      <td>홍길동</td>\n",
       "      <td>25</td>\n",
       "      <td>여</td>\n",
       "    </tr>\n",
       "    <tr>\n",
       "      <th>10</th>\n",
       "      <td>김철수</td>\n",
       "      <td>35</td>\n",
       "      <td>남</td>\n",
       "    </tr>\n",
       "    <tr>\n",
       "      <th>11</th>\n",
       "      <td>김철수</td>\n",
       "      <td>29</td>\n",
       "      <td>여</td>\n",
       "    </tr>\n",
       "    <tr>\n",
       "      <th>12</th>\n",
       "      <td>김철수</td>\n",
       "      <td>22</td>\n",
       "      <td>여</td>\n",
       "    </tr>\n",
       "    <tr>\n",
       "      <th>13</th>\n",
       "      <td>홍길동</td>\n",
       "      <td>31</td>\n",
       "      <td>여</td>\n",
       "    </tr>\n",
       "    <tr>\n",
       "      <th>14</th>\n",
       "      <td>김철수</td>\n",
       "      <td>27</td>\n",
       "      <td>여</td>\n",
       "    </tr>\n",
       "    <tr>\n",
       "      <th>15</th>\n",
       "      <td>홍길동</td>\n",
       "      <td>39</td>\n",
       "      <td>남</td>\n",
       "    </tr>\n",
       "    <tr>\n",
       "      <th>16</th>\n",
       "      <td>김철수</td>\n",
       "      <td>28</td>\n",
       "      <td>남</td>\n",
       "    </tr>\n",
       "    <tr>\n",
       "      <th>17</th>\n",
       "      <td>이영희</td>\n",
       "      <td>28</td>\n",
       "      <td>여</td>\n",
       "    </tr>\n",
       "    <tr>\n",
       "      <th>18</th>\n",
       "      <td>홍길동</td>\n",
       "      <td>20</td>\n",
       "      <td>남</td>\n",
       "    </tr>\n",
       "    <tr>\n",
       "      <th>19</th>\n",
       "      <td>이영희</td>\n",
       "      <td>28</td>\n",
       "      <td>남</td>\n",
       "    </tr>\n",
       "    <tr>\n",
       "      <th>20</th>\n",
       "      <td>이영희</td>\n",
       "      <td>26</td>\n",
       "      <td>여</td>\n",
       "    </tr>\n",
       "    <tr>\n",
       "      <th>21</th>\n",
       "      <td>김철수</td>\n",
       "      <td>35</td>\n",
       "      <td>여</td>\n",
       "    </tr>\n",
       "    <tr>\n",
       "      <th>22</th>\n",
       "      <td>홍길동</td>\n",
       "      <td>20</td>\n",
       "      <td>남</td>\n",
       "    </tr>\n",
       "    <tr>\n",
       "      <th>23</th>\n",
       "      <td>김철수</td>\n",
       "      <td>36</td>\n",
       "      <td>여</td>\n",
       "    </tr>\n",
       "    <tr>\n",
       "      <th>24</th>\n",
       "      <td>김철수</td>\n",
       "      <td>34</td>\n",
       "      <td>남</td>\n",
       "    </tr>\n",
       "    <tr>\n",
       "      <th>25</th>\n",
       "      <td>홍길동</td>\n",
       "      <td>32</td>\n",
       "      <td>여</td>\n",
       "    </tr>\n",
       "    <tr>\n",
       "      <th>26</th>\n",
       "      <td>홍길동</td>\n",
       "      <td>33</td>\n",
       "      <td>남</td>\n",
       "    </tr>\n",
       "    <tr>\n",
       "      <th>27</th>\n",
       "      <td>김철수</td>\n",
       "      <td>22</td>\n",
       "      <td>남</td>\n",
       "    </tr>\n",
       "    <tr>\n",
       "      <th>28</th>\n",
       "      <td>김철수</td>\n",
       "      <td>28</td>\n",
       "      <td>남</td>\n",
       "    </tr>\n",
       "    <tr>\n",
       "      <th>29</th>\n",
       "      <td>김철수</td>\n",
       "      <td>36</td>\n",
       "      <td>여</td>\n",
       "    </tr>\n",
       "  </tbody>\n",
       "</table>\n",
       "</div>"
      ],
      "text/plain": [
       "     이름  나이 성별\n",
       "0   김철수  37  남\n",
       "1   홍길동  33  여\n",
       "2   이영희  23  남\n",
       "3   홍길동  36  남\n",
       "4   김철수  27  여\n",
       "5   김철수  20  여\n",
       "6   김철수  22  여\n",
       "7   김철수  21  남\n",
       "8   이영희  29  여\n",
       "9   홍길동  25  여\n",
       "10  김철수  35  남\n",
       "11  김철수  29  여\n",
       "12  김철수  22  여\n",
       "13  홍길동  31  여\n",
       "14  김철수  27  여\n",
       "15  홍길동  39  남\n",
       "16  김철수  28  남\n",
       "17  이영희  28  여\n",
       "18  홍길동  20  남\n",
       "19  이영희  28  남\n",
       "20  이영희  26  여\n",
       "21  김철수  35  여\n",
       "22  홍길동  20  남\n",
       "23  김철수  36  여\n",
       "24  김철수  34  남\n",
       "25  홍길동  32  여\n",
       "26  홍길동  33  남\n",
       "27  김철수  22  남\n",
       "28  김철수  28  남\n",
       "29  김철수  36  여"
      ]
     },
     "execution_count": 177,
     "metadata": {},
     "output_type": "execute_result"
    }
   ],
   "source": [
    "df = pd.DataFrame(\n",
    "    {\n",
    "        \"이름\": np.random.choice([\"홍길동\", \"김철수\", \"이영희\"], 30),\n",
    "        \"나이\": np.random.randint(20, 40, 30),\n",
    "        \"성별\": np.random.choice([\"남\", \"남\", \"여\"], 30),\n",
    "    }\n",
    ")\n",
    "df"
   ]
  },
  {
   "cell_type": "code",
   "execution_count": 178,
   "id": "37a115ba126046c1",
   "metadata": {
    "ExecuteTime": {
     "end_time": "2025-04-08T11:02:47.048909Z",
     "start_time": "2025-04-08T11:02:47.046388Z"
    }
   },
   "outputs": [
    {
     "data": {
      "text/plain": [
       "22    20\n",
       "5     20\n",
       "18    20\n",
       "7     21\n",
       "12    22\n",
       "27    22\n",
       "6     22\n",
       "2     23\n",
       "9     25\n",
       "20    26\n",
       "14    27\n",
       "4     27\n",
       "28    28\n",
       "16    28\n",
       "17    28\n",
       "19    28\n",
       "11    29\n",
       "8     29\n",
       "13    31\n",
       "25    32\n",
       "26    33\n",
       "1     33\n",
       "24    34\n",
       "21    35\n",
       "10    35\n",
       "29    36\n",
       "3     36\n",
       "23    36\n",
       "0     37\n",
       "15    39\n",
       "Name: 나이, dtype: int64"
      ]
     },
     "execution_count": 178,
     "metadata": {},
     "output_type": "execute_result"
    }
   ],
   "source": [
    "# 정렬\n",
    "# pd.Series 는 sort_values 에 아무것도 안 넣어주어도 된다.\n",
    "# 하지만 pd.DataFrame 은 sort_values 에 기준이 되는 column 명을 넣어주어야한다.(by)\n",
    "df[\"나이\"].sort_values()"
   ]
  },
  {
   "cell_type": "code",
   "execution_count": 179,
   "id": "7c8bb06eff668454",
   "metadata": {
    "ExecuteTime": {
     "end_time": "2025-04-08T11:02:47.099095Z",
     "start_time": "2025-04-08T11:02:47.095580Z"
    }
   },
   "outputs": [
    {
     "data": {
      "text/html": [
       "<div>\n",
       "<style scoped>\n",
       "    .dataframe tbody tr th:only-of-type {\n",
       "        vertical-align: middle;\n",
       "    }\n",
       "\n",
       "    .dataframe tbody tr th {\n",
       "        vertical-align: top;\n",
       "    }\n",
       "\n",
       "    .dataframe thead th {\n",
       "        text-align: right;\n",
       "    }\n",
       "</style>\n",
       "<table border=\"1\" class=\"dataframe\">\n",
       "  <thead>\n",
       "    <tr style=\"text-align: right;\">\n",
       "      <th></th>\n",
       "      <th>이름</th>\n",
       "      <th>나이</th>\n",
       "      <th>성별</th>\n",
       "    </tr>\n",
       "  </thead>\n",
       "  <tbody>\n",
       "    <tr>\n",
       "      <th>22</th>\n",
       "      <td>홍길동</td>\n",
       "      <td>20</td>\n",
       "      <td>남</td>\n",
       "    </tr>\n",
       "    <tr>\n",
       "      <th>5</th>\n",
       "      <td>김철수</td>\n",
       "      <td>20</td>\n",
       "      <td>여</td>\n",
       "    </tr>\n",
       "    <tr>\n",
       "      <th>18</th>\n",
       "      <td>홍길동</td>\n",
       "      <td>20</td>\n",
       "      <td>남</td>\n",
       "    </tr>\n",
       "    <tr>\n",
       "      <th>7</th>\n",
       "      <td>김철수</td>\n",
       "      <td>21</td>\n",
       "      <td>남</td>\n",
       "    </tr>\n",
       "    <tr>\n",
       "      <th>12</th>\n",
       "      <td>김철수</td>\n",
       "      <td>22</td>\n",
       "      <td>여</td>\n",
       "    </tr>\n",
       "    <tr>\n",
       "      <th>27</th>\n",
       "      <td>김철수</td>\n",
       "      <td>22</td>\n",
       "      <td>남</td>\n",
       "    </tr>\n",
       "    <tr>\n",
       "      <th>6</th>\n",
       "      <td>김철수</td>\n",
       "      <td>22</td>\n",
       "      <td>여</td>\n",
       "    </tr>\n",
       "    <tr>\n",
       "      <th>2</th>\n",
       "      <td>이영희</td>\n",
       "      <td>23</td>\n",
       "      <td>남</td>\n",
       "    </tr>\n",
       "    <tr>\n",
       "      <th>9</th>\n",
       "      <td>홍길동</td>\n",
       "      <td>25</td>\n",
       "      <td>여</td>\n",
       "    </tr>\n",
       "    <tr>\n",
       "      <th>20</th>\n",
       "      <td>이영희</td>\n",
       "      <td>26</td>\n",
       "      <td>여</td>\n",
       "    </tr>\n",
       "    <tr>\n",
       "      <th>14</th>\n",
       "      <td>김철수</td>\n",
       "      <td>27</td>\n",
       "      <td>여</td>\n",
       "    </tr>\n",
       "    <tr>\n",
       "      <th>4</th>\n",
       "      <td>김철수</td>\n",
       "      <td>27</td>\n",
       "      <td>여</td>\n",
       "    </tr>\n",
       "    <tr>\n",
       "      <th>28</th>\n",
       "      <td>김철수</td>\n",
       "      <td>28</td>\n",
       "      <td>남</td>\n",
       "    </tr>\n",
       "    <tr>\n",
       "      <th>16</th>\n",
       "      <td>김철수</td>\n",
       "      <td>28</td>\n",
       "      <td>남</td>\n",
       "    </tr>\n",
       "    <tr>\n",
       "      <th>17</th>\n",
       "      <td>이영희</td>\n",
       "      <td>28</td>\n",
       "      <td>여</td>\n",
       "    </tr>\n",
       "    <tr>\n",
       "      <th>19</th>\n",
       "      <td>이영희</td>\n",
       "      <td>28</td>\n",
       "      <td>남</td>\n",
       "    </tr>\n",
       "    <tr>\n",
       "      <th>11</th>\n",
       "      <td>김철수</td>\n",
       "      <td>29</td>\n",
       "      <td>여</td>\n",
       "    </tr>\n",
       "    <tr>\n",
       "      <th>8</th>\n",
       "      <td>이영희</td>\n",
       "      <td>29</td>\n",
       "      <td>여</td>\n",
       "    </tr>\n",
       "    <tr>\n",
       "      <th>13</th>\n",
       "      <td>홍길동</td>\n",
       "      <td>31</td>\n",
       "      <td>여</td>\n",
       "    </tr>\n",
       "    <tr>\n",
       "      <th>25</th>\n",
       "      <td>홍길동</td>\n",
       "      <td>32</td>\n",
       "      <td>여</td>\n",
       "    </tr>\n",
       "    <tr>\n",
       "      <th>26</th>\n",
       "      <td>홍길동</td>\n",
       "      <td>33</td>\n",
       "      <td>남</td>\n",
       "    </tr>\n",
       "    <tr>\n",
       "      <th>1</th>\n",
       "      <td>홍길동</td>\n",
       "      <td>33</td>\n",
       "      <td>여</td>\n",
       "    </tr>\n",
       "    <tr>\n",
       "      <th>24</th>\n",
       "      <td>김철수</td>\n",
       "      <td>34</td>\n",
       "      <td>남</td>\n",
       "    </tr>\n",
       "    <tr>\n",
       "      <th>21</th>\n",
       "      <td>김철수</td>\n",
       "      <td>35</td>\n",
       "      <td>여</td>\n",
       "    </tr>\n",
       "    <tr>\n",
       "      <th>10</th>\n",
       "      <td>김철수</td>\n",
       "      <td>35</td>\n",
       "      <td>남</td>\n",
       "    </tr>\n",
       "    <tr>\n",
       "      <th>29</th>\n",
       "      <td>김철수</td>\n",
       "      <td>36</td>\n",
       "      <td>여</td>\n",
       "    </tr>\n",
       "    <tr>\n",
       "      <th>3</th>\n",
       "      <td>홍길동</td>\n",
       "      <td>36</td>\n",
       "      <td>남</td>\n",
       "    </tr>\n",
       "    <tr>\n",
       "      <th>23</th>\n",
       "      <td>김철수</td>\n",
       "      <td>36</td>\n",
       "      <td>여</td>\n",
       "    </tr>\n",
       "    <tr>\n",
       "      <th>0</th>\n",
       "      <td>김철수</td>\n",
       "      <td>37</td>\n",
       "      <td>남</td>\n",
       "    </tr>\n",
       "    <tr>\n",
       "      <th>15</th>\n",
       "      <td>홍길동</td>\n",
       "      <td>39</td>\n",
       "      <td>남</td>\n",
       "    </tr>\n",
       "  </tbody>\n",
       "</table>\n",
       "</div>"
      ],
      "text/plain": [
       "     이름  나이 성별\n",
       "22  홍길동  20  남\n",
       "5   김철수  20  여\n",
       "18  홍길동  20  남\n",
       "7   김철수  21  남\n",
       "12  김철수  22  여\n",
       "27  김철수  22  남\n",
       "6   김철수  22  여\n",
       "2   이영희  23  남\n",
       "9   홍길동  25  여\n",
       "20  이영희  26  여\n",
       "14  김철수  27  여\n",
       "4   김철수  27  여\n",
       "28  김철수  28  남\n",
       "16  김철수  28  남\n",
       "17  이영희  28  여\n",
       "19  이영희  28  남\n",
       "11  김철수  29  여\n",
       "8   이영희  29  여\n",
       "13  홍길동  31  여\n",
       "25  홍길동  32  여\n",
       "26  홍길동  33  남\n",
       "1   홍길동  33  여\n",
       "24  김철수  34  남\n",
       "21  김철수  35  여\n",
       "10  김철수  35  남\n",
       "29  김철수  36  여\n",
       "3   홍길동  36  남\n",
       "23  김철수  36  여\n",
       "0   김철수  37  남\n",
       "15  홍길동  39  남"
      ]
     },
     "execution_count": 179,
     "metadata": {},
     "output_type": "execute_result"
    }
   ],
   "source": [
    "df.sort_values(\"나이\")"
   ]
  },
  {
   "cell_type": "code",
   "execution_count": 180,
   "id": "875ea11e548378c2",
   "metadata": {
    "ExecuteTime": {
     "end_time": "2025-04-08T11:02:47.141487Z",
     "start_time": "2025-04-08T11:02:47.138164Z"
    }
   },
   "outputs": [
    {
     "data": {
      "text/html": [
       "<div>\n",
       "<style scoped>\n",
       "    .dataframe tbody tr th:only-of-type {\n",
       "        vertical-align: middle;\n",
       "    }\n",
       "\n",
       "    .dataframe tbody tr th {\n",
       "        vertical-align: top;\n",
       "    }\n",
       "\n",
       "    .dataframe thead th {\n",
       "        text-align: right;\n",
       "    }\n",
       "</style>\n",
       "<table border=\"1\" class=\"dataframe\">\n",
       "  <thead>\n",
       "    <tr style=\"text-align: right;\">\n",
       "      <th></th>\n",
       "      <th>이름</th>\n",
       "      <th>나이</th>\n",
       "      <th>성별</th>\n",
       "    </tr>\n",
       "  </thead>\n",
       "  <tbody>\n",
       "    <tr>\n",
       "      <th>15</th>\n",
       "      <td>홍길동</td>\n",
       "      <td>39</td>\n",
       "      <td>남</td>\n",
       "    </tr>\n",
       "    <tr>\n",
       "      <th>0</th>\n",
       "      <td>김철수</td>\n",
       "      <td>37</td>\n",
       "      <td>남</td>\n",
       "    </tr>\n",
       "    <tr>\n",
       "      <th>29</th>\n",
       "      <td>김철수</td>\n",
       "      <td>36</td>\n",
       "      <td>여</td>\n",
       "    </tr>\n",
       "    <tr>\n",
       "      <th>23</th>\n",
       "      <td>김철수</td>\n",
       "      <td>36</td>\n",
       "      <td>여</td>\n",
       "    </tr>\n",
       "    <tr>\n",
       "      <th>3</th>\n",
       "      <td>홍길동</td>\n",
       "      <td>36</td>\n",
       "      <td>남</td>\n",
       "    </tr>\n",
       "    <tr>\n",
       "      <th>10</th>\n",
       "      <td>김철수</td>\n",
       "      <td>35</td>\n",
       "      <td>남</td>\n",
       "    </tr>\n",
       "    <tr>\n",
       "      <th>21</th>\n",
       "      <td>김철수</td>\n",
       "      <td>35</td>\n",
       "      <td>여</td>\n",
       "    </tr>\n",
       "    <tr>\n",
       "      <th>24</th>\n",
       "      <td>김철수</td>\n",
       "      <td>34</td>\n",
       "      <td>남</td>\n",
       "    </tr>\n",
       "    <tr>\n",
       "      <th>26</th>\n",
       "      <td>홍길동</td>\n",
       "      <td>33</td>\n",
       "      <td>남</td>\n",
       "    </tr>\n",
       "    <tr>\n",
       "      <th>1</th>\n",
       "      <td>홍길동</td>\n",
       "      <td>33</td>\n",
       "      <td>여</td>\n",
       "    </tr>\n",
       "    <tr>\n",
       "      <th>25</th>\n",
       "      <td>홍길동</td>\n",
       "      <td>32</td>\n",
       "      <td>여</td>\n",
       "    </tr>\n",
       "    <tr>\n",
       "      <th>13</th>\n",
       "      <td>홍길동</td>\n",
       "      <td>31</td>\n",
       "      <td>여</td>\n",
       "    </tr>\n",
       "    <tr>\n",
       "      <th>8</th>\n",
       "      <td>이영희</td>\n",
       "      <td>29</td>\n",
       "      <td>여</td>\n",
       "    </tr>\n",
       "    <tr>\n",
       "      <th>11</th>\n",
       "      <td>김철수</td>\n",
       "      <td>29</td>\n",
       "      <td>여</td>\n",
       "    </tr>\n",
       "    <tr>\n",
       "      <th>17</th>\n",
       "      <td>이영희</td>\n",
       "      <td>28</td>\n",
       "      <td>여</td>\n",
       "    </tr>\n",
       "    <tr>\n",
       "      <th>28</th>\n",
       "      <td>김철수</td>\n",
       "      <td>28</td>\n",
       "      <td>남</td>\n",
       "    </tr>\n",
       "    <tr>\n",
       "      <th>19</th>\n",
       "      <td>이영희</td>\n",
       "      <td>28</td>\n",
       "      <td>남</td>\n",
       "    </tr>\n",
       "    <tr>\n",
       "      <th>16</th>\n",
       "      <td>김철수</td>\n",
       "      <td>28</td>\n",
       "      <td>남</td>\n",
       "    </tr>\n",
       "    <tr>\n",
       "      <th>14</th>\n",
       "      <td>김철수</td>\n",
       "      <td>27</td>\n",
       "      <td>여</td>\n",
       "    </tr>\n",
       "    <tr>\n",
       "      <th>4</th>\n",
       "      <td>김철수</td>\n",
       "      <td>27</td>\n",
       "      <td>여</td>\n",
       "    </tr>\n",
       "    <tr>\n",
       "      <th>20</th>\n",
       "      <td>이영희</td>\n",
       "      <td>26</td>\n",
       "      <td>여</td>\n",
       "    </tr>\n",
       "    <tr>\n",
       "      <th>9</th>\n",
       "      <td>홍길동</td>\n",
       "      <td>25</td>\n",
       "      <td>여</td>\n",
       "    </tr>\n",
       "    <tr>\n",
       "      <th>2</th>\n",
       "      <td>이영희</td>\n",
       "      <td>23</td>\n",
       "      <td>남</td>\n",
       "    </tr>\n",
       "    <tr>\n",
       "      <th>12</th>\n",
       "      <td>김철수</td>\n",
       "      <td>22</td>\n",
       "      <td>여</td>\n",
       "    </tr>\n",
       "    <tr>\n",
       "      <th>6</th>\n",
       "      <td>김철수</td>\n",
       "      <td>22</td>\n",
       "      <td>여</td>\n",
       "    </tr>\n",
       "    <tr>\n",
       "      <th>27</th>\n",
       "      <td>김철수</td>\n",
       "      <td>22</td>\n",
       "      <td>남</td>\n",
       "    </tr>\n",
       "    <tr>\n",
       "      <th>7</th>\n",
       "      <td>김철수</td>\n",
       "      <td>21</td>\n",
       "      <td>남</td>\n",
       "    </tr>\n",
       "    <tr>\n",
       "      <th>18</th>\n",
       "      <td>홍길동</td>\n",
       "      <td>20</td>\n",
       "      <td>남</td>\n",
       "    </tr>\n",
       "    <tr>\n",
       "      <th>22</th>\n",
       "      <td>홍길동</td>\n",
       "      <td>20</td>\n",
       "      <td>남</td>\n",
       "    </tr>\n",
       "    <tr>\n",
       "      <th>5</th>\n",
       "      <td>김철수</td>\n",
       "      <td>20</td>\n",
       "      <td>여</td>\n",
       "    </tr>\n",
       "  </tbody>\n",
       "</table>\n",
       "</div>"
      ],
      "text/plain": [
       "     이름  나이 성별\n",
       "15  홍길동  39  남\n",
       "0   김철수  37  남\n",
       "29  김철수  36  여\n",
       "23  김철수  36  여\n",
       "3   홍길동  36  남\n",
       "10  김철수  35  남\n",
       "21  김철수  35  여\n",
       "24  김철수  34  남\n",
       "26  홍길동  33  남\n",
       "1   홍길동  33  여\n",
       "25  홍길동  32  여\n",
       "13  홍길동  31  여\n",
       "8   이영희  29  여\n",
       "11  김철수  29  여\n",
       "17  이영희  28  여\n",
       "28  김철수  28  남\n",
       "19  이영희  28  남\n",
       "16  김철수  28  남\n",
       "14  김철수  27  여\n",
       "4   김철수  27  여\n",
       "20  이영희  26  여\n",
       "9   홍길동  25  여\n",
       "2   이영희  23  남\n",
       "12  김철수  22  여\n",
       "6   김철수  22  여\n",
       "27  김철수  22  남\n",
       "7   김철수  21  남\n",
       "18  홍길동  20  남\n",
       "22  홍길동  20  남\n",
       "5   김철수  20  여"
      ]
     },
     "execution_count": 180,
     "metadata": {},
     "output_type": "execute_result"
    }
   ],
   "source": [
    "df.sort_values(by=\"나이\", ascending=False)"
   ]
  },
  {
   "cell_type": "code",
   "execution_count": 181,
   "id": "1a9e834f88d23f8f",
   "metadata": {
    "ExecuteTime": {
     "end_time": "2025-04-08T11:02:47.183530Z",
     "start_time": "2025-04-08T11:02:47.180869Z"
    }
   },
   "outputs": [
    {
     "name": "stdout",
     "output_type": "stream",
     "text": [
      "<class 'pandas.core.series.Series'>\n"
     ]
    },
    {
     "data": {
      "text/plain": [
       "0      True\n",
       "1     False\n",
       "2      True\n",
       "3      True\n",
       "4     False\n",
       "5     False\n",
       "6     False\n",
       "7      True\n",
       "8     False\n",
       "9     False\n",
       "10     True\n",
       "11    False\n",
       "12    False\n",
       "13    False\n",
       "14    False\n",
       "15     True\n",
       "16     True\n",
       "17    False\n",
       "18     True\n",
       "19     True\n",
       "20    False\n",
       "21    False\n",
       "22     True\n",
       "23    False\n",
       "24     True\n",
       "25    False\n",
       "26     True\n",
       "27     True\n",
       "28     True\n",
       "29    False\n",
       "Name: 성별, dtype: bool"
      ]
     },
     "execution_count": 181,
     "metadata": {},
     "output_type": "execute_result"
    }
   ],
   "source": [
    "# Boolean Indexing\n",
    "print(type(df[\"성별\"] == \"남\"))\n",
    "df[\"성별\"] == \"남\""
   ]
  },
  {
   "cell_type": "code",
   "execution_count": 182,
   "id": "d8004ad2c9862f22",
   "metadata": {
    "ExecuteTime": {
     "end_time": "2025-04-08T11:02:47.228736Z",
     "start_time": "2025-04-08T11:02:47.225597Z"
    }
   },
   "outputs": [
    {
     "data": {
      "text/html": [
       "<div>\n",
       "<style scoped>\n",
       "    .dataframe tbody tr th:only-of-type {\n",
       "        vertical-align: middle;\n",
       "    }\n",
       "\n",
       "    .dataframe tbody tr th {\n",
       "        vertical-align: top;\n",
       "    }\n",
       "\n",
       "    .dataframe thead th {\n",
       "        text-align: right;\n",
       "    }\n",
       "</style>\n",
       "<table border=\"1\" class=\"dataframe\">\n",
       "  <thead>\n",
       "    <tr style=\"text-align: right;\">\n",
       "      <th></th>\n",
       "      <th>이름</th>\n",
       "      <th>나이</th>\n",
       "      <th>성별</th>\n",
       "    </tr>\n",
       "  </thead>\n",
       "  <tbody>\n",
       "    <tr>\n",
       "      <th>0</th>\n",
       "      <td>김철수</td>\n",
       "      <td>37</td>\n",
       "      <td>남</td>\n",
       "    </tr>\n",
       "    <tr>\n",
       "      <th>2</th>\n",
       "      <td>이영희</td>\n",
       "      <td>23</td>\n",
       "      <td>남</td>\n",
       "    </tr>\n",
       "    <tr>\n",
       "      <th>3</th>\n",
       "      <td>홍길동</td>\n",
       "      <td>36</td>\n",
       "      <td>남</td>\n",
       "    </tr>\n",
       "    <tr>\n",
       "      <th>7</th>\n",
       "      <td>김철수</td>\n",
       "      <td>21</td>\n",
       "      <td>남</td>\n",
       "    </tr>\n",
       "    <tr>\n",
       "      <th>10</th>\n",
       "      <td>김철수</td>\n",
       "      <td>35</td>\n",
       "      <td>남</td>\n",
       "    </tr>\n",
       "    <tr>\n",
       "      <th>15</th>\n",
       "      <td>홍길동</td>\n",
       "      <td>39</td>\n",
       "      <td>남</td>\n",
       "    </tr>\n",
       "    <tr>\n",
       "      <th>16</th>\n",
       "      <td>김철수</td>\n",
       "      <td>28</td>\n",
       "      <td>남</td>\n",
       "    </tr>\n",
       "    <tr>\n",
       "      <th>18</th>\n",
       "      <td>홍길동</td>\n",
       "      <td>20</td>\n",
       "      <td>남</td>\n",
       "    </tr>\n",
       "    <tr>\n",
       "      <th>19</th>\n",
       "      <td>이영희</td>\n",
       "      <td>28</td>\n",
       "      <td>남</td>\n",
       "    </tr>\n",
       "    <tr>\n",
       "      <th>22</th>\n",
       "      <td>홍길동</td>\n",
       "      <td>20</td>\n",
       "      <td>남</td>\n",
       "    </tr>\n",
       "    <tr>\n",
       "      <th>24</th>\n",
       "      <td>김철수</td>\n",
       "      <td>34</td>\n",
       "      <td>남</td>\n",
       "    </tr>\n",
       "    <tr>\n",
       "      <th>26</th>\n",
       "      <td>홍길동</td>\n",
       "      <td>33</td>\n",
       "      <td>남</td>\n",
       "    </tr>\n",
       "    <tr>\n",
       "      <th>27</th>\n",
       "      <td>김철수</td>\n",
       "      <td>22</td>\n",
       "      <td>남</td>\n",
       "    </tr>\n",
       "    <tr>\n",
       "      <th>28</th>\n",
       "      <td>김철수</td>\n",
       "      <td>28</td>\n",
       "      <td>남</td>\n",
       "    </tr>\n",
       "  </tbody>\n",
       "</table>\n",
       "</div>"
      ],
      "text/plain": [
       "     이름  나이 성별\n",
       "0   김철수  37  남\n",
       "2   이영희  23  남\n",
       "3   홍길동  36  남\n",
       "7   김철수  21  남\n",
       "10  김철수  35  남\n",
       "15  홍길동  39  남\n",
       "16  김철수  28  남\n",
       "18  홍길동  20  남\n",
       "19  이영희  28  남\n",
       "22  홍길동  20  남\n",
       "24  김철수  34  남\n",
       "26  홍길동  33  남\n",
       "27  김철수  22  남\n",
       "28  김철수  28  남"
      ]
     },
     "execution_count": 182,
     "metadata": {},
     "output_type": "execute_result"
    }
   ],
   "source": [
    "df[df[\"성별\"] == \"남\"]"
   ]
  },
  {
   "cell_type": "code",
   "execution_count": 183,
   "id": "f2a5bb0f87051eb5",
   "metadata": {
    "ExecuteTime": {
     "end_time": "2025-04-08T11:02:47.279515Z",
     "start_time": "2025-04-08T11:02:47.276553Z"
    }
   },
   "outputs": [
    {
     "data": {
      "text/plain": [
       "0     False\n",
       "1      True\n",
       "2     False\n",
       "3     False\n",
       "4      True\n",
       "5     False\n",
       "6     False\n",
       "7     False\n",
       "8      True\n",
       "9      True\n",
       "10    False\n",
       "11     True\n",
       "12    False\n",
       "13     True\n",
       "14     True\n",
       "15    False\n",
       "16     True\n",
       "17     True\n",
       "18    False\n",
       "19     True\n",
       "20     True\n",
       "21    False\n",
       "22    False\n",
       "23    False\n",
       "24     True\n",
       "25     True\n",
       "26     True\n",
       "27    False\n",
       "28     True\n",
       "29    False\n",
       "Name: 나이, dtype: bool"
      ]
     },
     "execution_count": 183,
     "metadata": {},
     "output_type": "execute_result"
    }
   ],
   "source": [
    "# isin()\n",
    "df[\"나이\"].isin(np.arange(25, 35))"
   ]
  },
  {
   "cell_type": "code",
   "execution_count": 184,
   "id": "7c08fc64c67513fc",
   "metadata": {
    "ExecuteTime": {
     "end_time": "2025-04-08T11:02:47.328745Z",
     "start_time": "2025-04-08T11:02:47.325435Z"
    }
   },
   "outputs": [
    {
     "data": {
      "text/html": [
       "<div>\n",
       "<style scoped>\n",
       "    .dataframe tbody tr th:only-of-type {\n",
       "        vertical-align: middle;\n",
       "    }\n",
       "\n",
       "    .dataframe tbody tr th {\n",
       "        vertical-align: top;\n",
       "    }\n",
       "\n",
       "    .dataframe thead th {\n",
       "        text-align: right;\n",
       "    }\n",
       "</style>\n",
       "<table border=\"1\" class=\"dataframe\">\n",
       "  <thead>\n",
       "    <tr style=\"text-align: right;\">\n",
       "      <th></th>\n",
       "      <th>이름</th>\n",
       "      <th>나이</th>\n",
       "      <th>성별</th>\n",
       "    </tr>\n",
       "  </thead>\n",
       "  <tbody>\n",
       "    <tr>\n",
       "      <th>1</th>\n",
       "      <td>홍길동</td>\n",
       "      <td>33</td>\n",
       "      <td>여</td>\n",
       "    </tr>\n",
       "    <tr>\n",
       "      <th>4</th>\n",
       "      <td>김철수</td>\n",
       "      <td>27</td>\n",
       "      <td>여</td>\n",
       "    </tr>\n",
       "    <tr>\n",
       "      <th>8</th>\n",
       "      <td>이영희</td>\n",
       "      <td>29</td>\n",
       "      <td>여</td>\n",
       "    </tr>\n",
       "    <tr>\n",
       "      <th>9</th>\n",
       "      <td>홍길동</td>\n",
       "      <td>25</td>\n",
       "      <td>여</td>\n",
       "    </tr>\n",
       "    <tr>\n",
       "      <th>11</th>\n",
       "      <td>김철수</td>\n",
       "      <td>29</td>\n",
       "      <td>여</td>\n",
       "    </tr>\n",
       "    <tr>\n",
       "      <th>13</th>\n",
       "      <td>홍길동</td>\n",
       "      <td>31</td>\n",
       "      <td>여</td>\n",
       "    </tr>\n",
       "    <tr>\n",
       "      <th>14</th>\n",
       "      <td>김철수</td>\n",
       "      <td>27</td>\n",
       "      <td>여</td>\n",
       "    </tr>\n",
       "    <tr>\n",
       "      <th>16</th>\n",
       "      <td>김철수</td>\n",
       "      <td>28</td>\n",
       "      <td>남</td>\n",
       "    </tr>\n",
       "    <tr>\n",
       "      <th>17</th>\n",
       "      <td>이영희</td>\n",
       "      <td>28</td>\n",
       "      <td>여</td>\n",
       "    </tr>\n",
       "    <tr>\n",
       "      <th>19</th>\n",
       "      <td>이영희</td>\n",
       "      <td>28</td>\n",
       "      <td>남</td>\n",
       "    </tr>\n",
       "    <tr>\n",
       "      <th>20</th>\n",
       "      <td>이영희</td>\n",
       "      <td>26</td>\n",
       "      <td>여</td>\n",
       "    </tr>\n",
       "    <tr>\n",
       "      <th>24</th>\n",
       "      <td>김철수</td>\n",
       "      <td>34</td>\n",
       "      <td>남</td>\n",
       "    </tr>\n",
       "    <tr>\n",
       "      <th>25</th>\n",
       "      <td>홍길동</td>\n",
       "      <td>32</td>\n",
       "      <td>여</td>\n",
       "    </tr>\n",
       "    <tr>\n",
       "      <th>26</th>\n",
       "      <td>홍길동</td>\n",
       "      <td>33</td>\n",
       "      <td>남</td>\n",
       "    </tr>\n",
       "    <tr>\n",
       "      <th>28</th>\n",
       "      <td>김철수</td>\n",
       "      <td>28</td>\n",
       "      <td>남</td>\n",
       "    </tr>\n",
       "  </tbody>\n",
       "</table>\n",
       "</div>"
      ],
      "text/plain": [
       "     이름  나이 성별\n",
       "1   홍길동  33  여\n",
       "4   김철수  27  여\n",
       "8   이영희  29  여\n",
       "9   홍길동  25  여\n",
       "11  김철수  29  여\n",
       "13  홍길동  31  여\n",
       "14  김철수  27  여\n",
       "16  김철수  28  남\n",
       "17  이영희  28  여\n",
       "19  이영희  28  남\n",
       "20  이영희  26  여\n",
       "24  김철수  34  남\n",
       "25  홍길동  32  여\n",
       "26  홍길동  33  남\n",
       "28  김철수  28  남"
      ]
     },
     "execution_count": 184,
     "metadata": {},
     "output_type": "execute_result"
    }
   ],
   "source": [
    "df[df[\"나이\"].isin(np.arange(25, 35))]"
   ]
  },
  {
   "cell_type": "markdown",
   "id": "36780707deff7d9c",
   "metadata": {},
   "source": "# 결측값"
  },
  {
   "cell_type": "code",
   "execution_count": 185,
   "id": "46dd8f1e00dcda85",
   "metadata": {
    "ExecuteTime": {
     "end_time": "2025-04-08T11:02:47.369783Z",
     "start_time": "2025-04-08T11:02:47.368098Z"
    }
   },
   "outputs": [],
   "source": [
    "import pandas as pd"
   ]
  },
  {
   "cell_type": "code",
   "execution_count": 186,
   "id": "78de1f0197cede35",
   "metadata": {
    "ExecuteTime": {
     "end_time": "2025-04-08T11:02:47.397017Z",
     "start_time": "2025-04-08T11:02:47.393037Z"
    }
   },
   "outputs": [
    {
     "data": {
      "text/html": [
       "<div>\n",
       "<style scoped>\n",
       "    .dataframe tbody tr th:only-of-type {\n",
       "        vertical-align: middle;\n",
       "    }\n",
       "\n",
       "    .dataframe tbody tr th {\n",
       "        vertical-align: top;\n",
       "    }\n",
       "\n",
       "    .dataframe thead th {\n",
       "        text-align: right;\n",
       "    }\n",
       "</style>\n",
       "<table border=\"1\" class=\"dataframe\">\n",
       "  <thead>\n",
       "    <tr style=\"text-align: right;\">\n",
       "      <th></th>\n",
       "      <th>이름</th>\n",
       "      <th>나이</th>\n",
       "      <th>성별</th>\n",
       "      <th>급여</th>\n",
       "    </tr>\n",
       "  </thead>\n",
       "  <tbody>\n",
       "    <tr>\n",
       "      <th>0</th>\n",
       "      <td>김철수</td>\n",
       "      <td>25.0</td>\n",
       "      <td>남</td>\n",
       "      <td>3500000.0</td>\n",
       "    </tr>\n",
       "    <tr>\n",
       "      <th>1</th>\n",
       "      <td>이영희</td>\n",
       "      <td>30.0</td>\n",
       "      <td>여</td>\n",
       "      <td>NaN</td>\n",
       "    </tr>\n",
       "    <tr>\n",
       "      <th>2</th>\n",
       "      <td>박민수</td>\n",
       "      <td>NaN</td>\n",
       "      <td>남</td>\n",
       "      <td>3800000.0</td>\n",
       "    </tr>\n",
       "    <tr>\n",
       "      <th>3</th>\n",
       "      <td>정지영</td>\n",
       "      <td>32.0</td>\n",
       "      <td>None</td>\n",
       "      <td>5100000.0</td>\n",
       "    </tr>\n",
       "    <tr>\n",
       "      <th>4</th>\n",
       "      <td>None</td>\n",
       "      <td>45.0</td>\n",
       "      <td>남</td>\n",
       "      <td>6500000.0</td>\n",
       "    </tr>\n",
       "  </tbody>\n",
       "</table>\n",
       "</div>"
      ],
      "text/plain": [
       "     이름    나이    성별         급여\n",
       "0   김철수  25.0     남  3500000.0\n",
       "1   이영희  30.0     여        NaN\n",
       "2   박민수   NaN     남  3800000.0\n",
       "3   정지영  32.0  None  5100000.0\n",
       "4  None  45.0     남  6500000.0"
      ]
     },
     "execution_count": 186,
     "metadata": {},
     "output_type": "execute_result"
    }
   ],
   "source": [
    "data_with_na = {\n",
    "    \"이름\": [\"김철수\", \"이영희\", \"박민수\", \"정지영\", None],\n",
    "    \"나이\": [25, 30, None, 32, 45],\n",
    "    \"성별\": [\"남\", \"여\", \"남\", None, \"남\"],\n",
    "    \"급여\": [3500000, None, 3800000, 5100000, 6500000],\n",
    "}\n",
    "df = pd.DataFrame(data_with_na)\n",
    "df"
   ]
  },
  {
   "cell_type": "code",
   "execution_count": 187,
   "id": "d11fb1fe24b3d80d",
   "metadata": {
    "ExecuteTime": {
     "end_time": "2025-04-08T11:02:47.435241Z",
     "start_time": "2025-04-08T11:02:47.432148Z"
    }
   },
   "outputs": [
    {
     "data": {
      "text/html": [
       "<div>\n",
       "<style scoped>\n",
       "    .dataframe tbody tr th:only-of-type {\n",
       "        vertical-align: middle;\n",
       "    }\n",
       "\n",
       "    .dataframe tbody tr th {\n",
       "        vertical-align: top;\n",
       "    }\n",
       "\n",
       "    .dataframe thead th {\n",
       "        text-align: right;\n",
       "    }\n",
       "</style>\n",
       "<table border=\"1\" class=\"dataframe\">\n",
       "  <thead>\n",
       "    <tr style=\"text-align: right;\">\n",
       "      <th></th>\n",
       "      <th>이름</th>\n",
       "      <th>나이</th>\n",
       "      <th>성별</th>\n",
       "      <th>급여</th>\n",
       "    </tr>\n",
       "  </thead>\n",
       "  <tbody>\n",
       "    <tr>\n",
       "      <th>0</th>\n",
       "      <td>False</td>\n",
       "      <td>False</td>\n",
       "      <td>False</td>\n",
       "      <td>False</td>\n",
       "    </tr>\n",
       "    <tr>\n",
       "      <th>1</th>\n",
       "      <td>False</td>\n",
       "      <td>False</td>\n",
       "      <td>False</td>\n",
       "      <td>True</td>\n",
       "    </tr>\n",
       "    <tr>\n",
       "      <th>2</th>\n",
       "      <td>False</td>\n",
       "      <td>True</td>\n",
       "      <td>False</td>\n",
       "      <td>False</td>\n",
       "    </tr>\n",
       "    <tr>\n",
       "      <th>3</th>\n",
       "      <td>False</td>\n",
       "      <td>False</td>\n",
       "      <td>True</td>\n",
       "      <td>False</td>\n",
       "    </tr>\n",
       "    <tr>\n",
       "      <th>4</th>\n",
       "      <td>True</td>\n",
       "      <td>False</td>\n",
       "      <td>False</td>\n",
       "      <td>False</td>\n",
       "    </tr>\n",
       "  </tbody>\n",
       "</table>\n",
       "</div>"
      ],
      "text/plain": [
       "      이름     나이     성별     급여\n",
       "0  False  False  False  False\n",
       "1  False  False  False   True\n",
       "2  False   True  False  False\n",
       "3  False  False   True  False\n",
       "4   True  False  False  False"
      ]
     },
     "execution_count": 187,
     "metadata": {},
     "output_type": "execute_result"
    }
   ],
   "source": [
    "df.isna()"
   ]
  },
  {
   "cell_type": "code",
   "execution_count": 188,
   "id": "6975ea74850e07ab",
   "metadata": {
    "ExecuteTime": {
     "end_time": "2025-04-08T11:02:47.472832Z",
     "start_time": "2025-04-08T11:02:47.470252Z"
    }
   },
   "outputs": [
    {
     "data": {
      "text/plain": [
       "이름    1\n",
       "나이    1\n",
       "성별    1\n",
       "급여    1\n",
       "dtype: int64"
      ]
     },
     "execution_count": 188,
     "metadata": {},
     "output_type": "execute_result"
    }
   ],
   "source": [
    "df.isna().sum()"
   ]
  },
  {
   "cell_type": "code",
   "execution_count": 189,
   "id": "66793ee801e14b4e",
   "metadata": {
    "ExecuteTime": {
     "end_time": "2025-04-08T11:02:47.532651Z",
     "start_time": "2025-04-08T11:02:47.529212Z"
    }
   },
   "outputs": [
    {
     "data": {
      "text/html": [
       "<div>\n",
       "<style scoped>\n",
       "    .dataframe tbody tr th:only-of-type {\n",
       "        vertical-align: middle;\n",
       "    }\n",
       "\n",
       "    .dataframe tbody tr th {\n",
       "        vertical-align: top;\n",
       "    }\n",
       "\n",
       "    .dataframe thead th {\n",
       "        text-align: right;\n",
       "    }\n",
       "</style>\n",
       "<table border=\"1\" class=\"dataframe\">\n",
       "  <thead>\n",
       "    <tr style=\"text-align: right;\">\n",
       "      <th></th>\n",
       "      <th>이름</th>\n",
       "      <th>나이</th>\n",
       "      <th>성별</th>\n",
       "      <th>급여</th>\n",
       "    </tr>\n",
       "  </thead>\n",
       "  <tbody>\n",
       "    <tr>\n",
       "      <th>0</th>\n",
       "      <td>True</td>\n",
       "      <td>True</td>\n",
       "      <td>True</td>\n",
       "      <td>True</td>\n",
       "    </tr>\n",
       "    <tr>\n",
       "      <th>1</th>\n",
       "      <td>True</td>\n",
       "      <td>True</td>\n",
       "      <td>True</td>\n",
       "      <td>False</td>\n",
       "    </tr>\n",
       "    <tr>\n",
       "      <th>2</th>\n",
       "      <td>True</td>\n",
       "      <td>False</td>\n",
       "      <td>True</td>\n",
       "      <td>True</td>\n",
       "    </tr>\n",
       "    <tr>\n",
       "      <th>3</th>\n",
       "      <td>True</td>\n",
       "      <td>True</td>\n",
       "      <td>False</td>\n",
       "      <td>True</td>\n",
       "    </tr>\n",
       "    <tr>\n",
       "      <th>4</th>\n",
       "      <td>False</td>\n",
       "      <td>True</td>\n",
       "      <td>True</td>\n",
       "      <td>True</td>\n",
       "    </tr>\n",
       "  </tbody>\n",
       "</table>\n",
       "</div>"
      ],
      "text/plain": [
       "      이름     나이     성별     급여\n",
       "0   True   True   True   True\n",
       "1   True   True   True  False\n",
       "2   True  False   True   True\n",
       "3   True   True  False   True\n",
       "4  False   True   True   True"
      ]
     },
     "execution_count": 189,
     "metadata": {},
     "output_type": "execute_result"
    }
   ],
   "source": [
    "df.notna()"
   ]
  },
  {
   "cell_type": "code",
   "execution_count": 190,
   "id": "f0c5b462b09aa9f5",
   "metadata": {
    "ExecuteTime": {
     "end_time": "2025-04-08T11:02:47.586385Z",
     "start_time": "2025-04-08T11:02:47.583808Z"
    }
   },
   "outputs": [
    {
     "data": {
      "text/plain": [
       "이름    4\n",
       "나이    4\n",
       "성별    4\n",
       "급여    4\n",
       "dtype: int64"
      ]
     },
     "execution_count": 190,
     "metadata": {},
     "output_type": "execute_result"
    }
   ],
   "source": [
    "df.notna().sum()"
   ]
  },
  {
   "cell_type": "code",
   "execution_count": 191,
   "id": "ca281b80c9364c1",
   "metadata": {
    "ExecuteTime": {
     "end_time": "2025-04-08T11:02:47.646910Z",
     "start_time": "2025-04-08T11:02:47.643071Z"
    }
   },
   "outputs": [
    {
     "data": {
      "text/html": [
       "<div>\n",
       "<style scoped>\n",
       "    .dataframe tbody tr th:only-of-type {\n",
       "        vertical-align: middle;\n",
       "    }\n",
       "\n",
       "    .dataframe tbody tr th {\n",
       "        vertical-align: top;\n",
       "    }\n",
       "\n",
       "    .dataframe thead th {\n",
       "        text-align: right;\n",
       "    }\n",
       "</style>\n",
       "<table border=\"1\" class=\"dataframe\">\n",
       "  <thead>\n",
       "    <tr style=\"text-align: right;\">\n",
       "      <th></th>\n",
       "      <th>이름</th>\n",
       "      <th>나이</th>\n",
       "      <th>성별</th>\n",
       "      <th>급여</th>\n",
       "    </tr>\n",
       "  </thead>\n",
       "  <tbody>\n",
       "    <tr>\n",
       "      <th>0</th>\n",
       "      <td>김철수</td>\n",
       "      <td>25.0</td>\n",
       "      <td>남</td>\n",
       "      <td>3500000.0</td>\n",
       "    </tr>\n",
       "    <tr>\n",
       "      <th>1</th>\n",
       "      <td>이영희</td>\n",
       "      <td>30.0</td>\n",
       "      <td>여</td>\n",
       "      <td>NaN</td>\n",
       "    </tr>\n",
       "    <tr>\n",
       "      <th>2</th>\n",
       "      <td>박민수</td>\n",
       "      <td>NaN</td>\n",
       "      <td>남</td>\n",
       "      <td>3800000.0</td>\n",
       "    </tr>\n",
       "    <tr>\n",
       "      <th>3</th>\n",
       "      <td>정지영</td>\n",
       "      <td>32.0</td>\n",
       "      <td>None</td>\n",
       "      <td>5100000.0</td>\n",
       "    </tr>\n",
       "    <tr>\n",
       "      <th>4</th>\n",
       "      <td>None</td>\n",
       "      <td>45.0</td>\n",
       "      <td>남</td>\n",
       "      <td>6500000.0</td>\n",
       "    </tr>\n",
       "  </tbody>\n",
       "</table>\n",
       "</div>"
      ],
      "text/plain": [
       "     이름    나이    성별         급여\n",
       "0   김철수  25.0     남  3500000.0\n",
       "1   이영희  30.0     여        NaN\n",
       "2   박민수   NaN     남  3800000.0\n",
       "3   정지영  32.0  None  5100000.0\n",
       "4  None  45.0     남  6500000.0"
      ]
     },
     "execution_count": 191,
     "metadata": {},
     "output_type": "execute_result"
    }
   ],
   "source": [
    "# 결측값 제거\n",
    "df.dropna(axis=0, how=\"all\")  # 행의 모든 열이 NaN 이면 제거"
   ]
  },
  {
   "cell_type": "code",
   "execution_count": 192,
   "id": "9b69be2f42a93e62",
   "metadata": {
    "ExecuteTime": {
     "end_time": "2025-04-08T11:02:47.690113Z",
     "start_time": "2025-04-08T11:02:47.686702Z"
    }
   },
   "outputs": [
    {
     "data": {
      "text/html": [
       "<div>\n",
       "<style scoped>\n",
       "    .dataframe tbody tr th:only-of-type {\n",
       "        vertical-align: middle;\n",
       "    }\n",
       "\n",
       "    .dataframe tbody tr th {\n",
       "        vertical-align: top;\n",
       "    }\n",
       "\n",
       "    .dataframe thead th {\n",
       "        text-align: right;\n",
       "    }\n",
       "</style>\n",
       "<table border=\"1\" class=\"dataframe\">\n",
       "  <thead>\n",
       "    <tr style=\"text-align: right;\">\n",
       "      <th></th>\n",
       "      <th>이름</th>\n",
       "      <th>나이</th>\n",
       "      <th>성별</th>\n",
       "      <th>급여</th>\n",
       "    </tr>\n",
       "  </thead>\n",
       "  <tbody>\n",
       "    <tr>\n",
       "      <th>0</th>\n",
       "      <td>김철수</td>\n",
       "      <td>25.0</td>\n",
       "      <td>남</td>\n",
       "      <td>3500000.0</td>\n",
       "    </tr>\n",
       "  </tbody>\n",
       "</table>\n",
       "</div>"
      ],
      "text/plain": [
       "    이름    나이 성별         급여\n",
       "0  김철수  25.0  남  3500000.0"
      ]
     },
     "execution_count": 192,
     "metadata": {},
     "output_type": "execute_result"
    }
   ],
   "source": [
    "df.dropna(axis=0, how=\"any\")  # 행에서 하나라도 존재하면 제거"
   ]
  },
  {
   "cell_type": "code",
   "execution_count": 193,
   "id": "4807f498bf6676dc",
   "metadata": {
    "ExecuteTime": {
     "end_time": "2025-04-08T11:02:47.733634Z",
     "start_time": "2025-04-08T11:02:47.729955Z"
    }
   },
   "outputs": [
    {
     "data": {
      "text/html": [
       "<div>\n",
       "<style scoped>\n",
       "    .dataframe tbody tr th:only-of-type {\n",
       "        vertical-align: middle;\n",
       "    }\n",
       "\n",
       "    .dataframe tbody tr th {\n",
       "        vertical-align: top;\n",
       "    }\n",
       "\n",
       "    .dataframe thead th {\n",
       "        text-align: right;\n",
       "    }\n",
       "</style>\n",
       "<table border=\"1\" class=\"dataframe\">\n",
       "  <thead>\n",
       "    <tr style=\"text-align: right;\">\n",
       "      <th></th>\n",
       "      <th>이름</th>\n",
       "      <th>나이</th>\n",
       "      <th>성별</th>\n",
       "      <th>급여</th>\n",
       "    </tr>\n",
       "  </thead>\n",
       "  <tbody>\n",
       "    <tr>\n",
       "      <th>0</th>\n",
       "      <td>김철수</td>\n",
       "      <td>25.0</td>\n",
       "      <td>남</td>\n",
       "      <td>3500000.0</td>\n",
       "    </tr>\n",
       "    <tr>\n",
       "      <th>3</th>\n",
       "      <td>정지영</td>\n",
       "      <td>32.0</td>\n",
       "      <td>None</td>\n",
       "      <td>5100000.0</td>\n",
       "    </tr>\n",
       "    <tr>\n",
       "      <th>4</th>\n",
       "      <td>None</td>\n",
       "      <td>45.0</td>\n",
       "      <td>남</td>\n",
       "      <td>6500000.0</td>\n",
       "    </tr>\n",
       "  </tbody>\n",
       "</table>\n",
       "</div>"
      ],
      "text/plain": [
       "     이름    나이    성별         급여\n",
       "0   김철수  25.0     남  3500000.0\n",
       "3   정지영  32.0  None  5100000.0\n",
       "4  None  45.0     남  6500000.0"
      ]
     },
     "execution_count": 193,
     "metadata": {},
     "output_type": "execute_result"
    }
   ],
   "source": [
    "# 나이 열과 급여 열에 대해서만, 확인하고 결측치 있는 행 제거\n",
    "df.dropna(how=\"any\", subset=[\"나이\", \"급여\"])"
   ]
  },
  {
   "cell_type": "code",
   "execution_count": 194,
   "id": "77b12d50139d01d5",
   "metadata": {
    "ExecuteTime": {
     "end_time": "2025-04-08T11:02:47.780233Z",
     "start_time": "2025-04-08T11:02:47.776589Z"
    }
   },
   "outputs": [
    {
     "data": {
      "text/html": [
       "<div>\n",
       "<style scoped>\n",
       "    .dataframe tbody tr th:only-of-type {\n",
       "        vertical-align: middle;\n",
       "    }\n",
       "\n",
       "    .dataframe tbody tr th {\n",
       "        vertical-align: top;\n",
       "    }\n",
       "\n",
       "    .dataframe thead th {\n",
       "        text-align: right;\n",
       "    }\n",
       "</style>\n",
       "<table border=\"1\" class=\"dataframe\">\n",
       "  <thead>\n",
       "    <tr style=\"text-align: right;\">\n",
       "      <th></th>\n",
       "      <th>이름</th>\n",
       "      <th>나이</th>\n",
       "      <th>성별</th>\n",
       "      <th>급여</th>\n",
       "    </tr>\n",
       "  </thead>\n",
       "  <tbody>\n",
       "    <tr>\n",
       "      <th>0</th>\n",
       "      <td>김철수</td>\n",
       "      <td>25.0</td>\n",
       "      <td>남</td>\n",
       "      <td>3500000.0</td>\n",
       "    </tr>\n",
       "    <tr>\n",
       "      <th>1</th>\n",
       "      <td>이영희</td>\n",
       "      <td>30.0</td>\n",
       "      <td>여</td>\n",
       "      <td>0.0</td>\n",
       "    </tr>\n",
       "    <tr>\n",
       "      <th>2</th>\n",
       "      <td>박민수</td>\n",
       "      <td>0.0</td>\n",
       "      <td>남</td>\n",
       "      <td>3800000.0</td>\n",
       "    </tr>\n",
       "    <tr>\n",
       "      <th>3</th>\n",
       "      <td>정지영</td>\n",
       "      <td>32.0</td>\n",
       "      <td>0</td>\n",
       "      <td>5100000.0</td>\n",
       "    </tr>\n",
       "    <tr>\n",
       "      <th>4</th>\n",
       "      <td>0</td>\n",
       "      <td>45.0</td>\n",
       "      <td>남</td>\n",
       "      <td>6500000.0</td>\n",
       "    </tr>\n",
       "  </tbody>\n",
       "</table>\n",
       "</div>"
      ],
      "text/plain": [
       "    이름    나이 성별         급여\n",
       "0  김철수  25.0  남  3500000.0\n",
       "1  이영희  30.0  여        0.0\n",
       "2  박민수   0.0  남  3800000.0\n",
       "3  정지영  32.0  0  5100000.0\n",
       "4    0  45.0  남  6500000.0"
      ]
     },
     "execution_count": 194,
     "metadata": {},
     "output_type": "execute_result"
    }
   ],
   "source": [
    "# 결측값 대치하기\n",
    "df.fillna(0)"
   ]
  },
  {
   "cell_type": "code",
   "execution_count": 195,
   "id": "65e2be997d4d0c00",
   "metadata": {
    "ExecuteTime": {
     "end_time": "2025-04-08T11:02:47.831405Z",
     "start_time": "2025-04-08T11:02:47.828609Z"
    }
   },
   "outputs": [
    {
     "data": {
      "text/plain": [
       "0    3500000.0\n",
       "1    4725000.0\n",
       "2    3800000.0\n",
       "3    5100000.0\n",
       "4    6500000.0\n",
       "Name: 급여, dtype: float64"
      ]
     },
     "execution_count": 195,
     "metadata": {},
     "output_type": "execute_result"
    }
   ],
   "source": [
    "df[\"급여\"].fillna(df[\"급여\"].mean())  # 급여의 평균값으로 결측값을 대치"
   ]
  },
  {
   "cell_type": "code",
   "execution_count": 196,
   "id": "d6436567d0b937f7",
   "metadata": {
    "ExecuteTime": {
     "end_time": "2025-04-08T11:02:47.878854Z",
     "start_time": "2025-04-08T11:02:47.875554Z"
    }
   },
   "outputs": [
    {
     "data": {
      "text/html": [
       "<div>\n",
       "<style scoped>\n",
       "    .dataframe tbody tr th:only-of-type {\n",
       "        vertical-align: middle;\n",
       "    }\n",
       "\n",
       "    .dataframe tbody tr th {\n",
       "        vertical-align: top;\n",
       "    }\n",
       "\n",
       "    .dataframe thead th {\n",
       "        text-align: right;\n",
       "    }\n",
       "</style>\n",
       "<table border=\"1\" class=\"dataframe\">\n",
       "  <thead>\n",
       "    <tr style=\"text-align: right;\">\n",
       "      <th></th>\n",
       "      <th>이름</th>\n",
       "      <th>나이</th>\n",
       "      <th>성별</th>\n",
       "      <th>급여</th>\n",
       "    </tr>\n",
       "  </thead>\n",
       "  <tbody>\n",
       "    <tr>\n",
       "      <th>0</th>\n",
       "      <td>김철수</td>\n",
       "      <td>25.0</td>\n",
       "      <td>남</td>\n",
       "      <td>3500000.0</td>\n",
       "    </tr>\n",
       "    <tr>\n",
       "      <th>1</th>\n",
       "      <td>이영희</td>\n",
       "      <td>30.0</td>\n",
       "      <td>여</td>\n",
       "      <td>3500000.0</td>\n",
       "    </tr>\n",
       "    <tr>\n",
       "      <th>2</th>\n",
       "      <td>박민수</td>\n",
       "      <td>30.0</td>\n",
       "      <td>남</td>\n",
       "      <td>3800000.0</td>\n",
       "    </tr>\n",
       "    <tr>\n",
       "      <th>3</th>\n",
       "      <td>정지영</td>\n",
       "      <td>32.0</td>\n",
       "      <td>남</td>\n",
       "      <td>5100000.0</td>\n",
       "    </tr>\n",
       "    <tr>\n",
       "      <th>4</th>\n",
       "      <td>정지영</td>\n",
       "      <td>45.0</td>\n",
       "      <td>남</td>\n",
       "      <td>6500000.0</td>\n",
       "    </tr>\n",
       "  </tbody>\n",
       "</table>\n",
       "</div>"
      ],
      "text/plain": [
       "    이름    나이 성별         급여\n",
       "0  김철수  25.0  남  3500000.0\n",
       "1  이영희  30.0  여  3500000.0\n",
       "2  박민수  30.0  남  3800000.0\n",
       "3  정지영  32.0  남  5100000.0\n",
       "4  정지영  45.0  남  6500000.0"
      ]
     },
     "execution_count": 196,
     "metadata": {},
     "output_type": "execute_result"
    }
   ],
   "source": [
    "df.ffill()  # 앞 행의 데이터를 복사 (front)"
   ]
  },
  {
   "cell_type": "code",
   "execution_count": 197,
   "id": "138e994eec377c5c",
   "metadata": {
    "ExecuteTime": {
     "end_time": "2025-04-08T11:02:47.926943Z",
     "start_time": "2025-04-08T11:02:47.923406Z"
    }
   },
   "outputs": [
    {
     "data": {
      "text/html": [
       "<div>\n",
       "<style scoped>\n",
       "    .dataframe tbody tr th:only-of-type {\n",
       "        vertical-align: middle;\n",
       "    }\n",
       "\n",
       "    .dataframe tbody tr th {\n",
       "        vertical-align: top;\n",
       "    }\n",
       "\n",
       "    .dataframe thead th {\n",
       "        text-align: right;\n",
       "    }\n",
       "</style>\n",
       "<table border=\"1\" class=\"dataframe\">\n",
       "  <thead>\n",
       "    <tr style=\"text-align: right;\">\n",
       "      <th></th>\n",
       "      <th>이름</th>\n",
       "      <th>나이</th>\n",
       "      <th>성별</th>\n",
       "      <th>급여</th>\n",
       "    </tr>\n",
       "  </thead>\n",
       "  <tbody>\n",
       "    <tr>\n",
       "      <th>0</th>\n",
       "      <td>김철수</td>\n",
       "      <td>25.0</td>\n",
       "      <td>남</td>\n",
       "      <td>3500000.0</td>\n",
       "    </tr>\n",
       "    <tr>\n",
       "      <th>1</th>\n",
       "      <td>이영희</td>\n",
       "      <td>30.0</td>\n",
       "      <td>여</td>\n",
       "      <td>3800000.0</td>\n",
       "    </tr>\n",
       "    <tr>\n",
       "      <th>2</th>\n",
       "      <td>박민수</td>\n",
       "      <td>32.0</td>\n",
       "      <td>남</td>\n",
       "      <td>3800000.0</td>\n",
       "    </tr>\n",
       "    <tr>\n",
       "      <th>3</th>\n",
       "      <td>정지영</td>\n",
       "      <td>32.0</td>\n",
       "      <td>남</td>\n",
       "      <td>5100000.0</td>\n",
       "    </tr>\n",
       "    <tr>\n",
       "      <th>4</th>\n",
       "      <td>None</td>\n",
       "      <td>45.0</td>\n",
       "      <td>남</td>\n",
       "      <td>6500000.0</td>\n",
       "    </tr>\n",
       "  </tbody>\n",
       "</table>\n",
       "</div>"
      ],
      "text/plain": [
       "     이름    나이 성별         급여\n",
       "0   김철수  25.0  남  3500000.0\n",
       "1   이영희  30.0  여  3800000.0\n",
       "2   박민수  32.0  남  3800000.0\n",
       "3   정지영  32.0  남  5100000.0\n",
       "4  None  45.0  남  6500000.0"
      ]
     },
     "execution_count": 197,
     "metadata": {},
     "output_type": "execute_result"
    }
   ],
   "source": [
    "df.bfill()  # 뒤 행의 데이터를 복사 (back)"
   ]
  },
  {
   "cell_type": "markdown",
   "id": "994ec8c3e151464d",
   "metadata": {},
   "source": "# 타입 변환"
  },
  {
   "cell_type": "code",
   "execution_count": 198,
   "id": "f29894048988d699",
   "metadata": {
    "ExecuteTime": {
     "end_time": "2025-04-08T11:02:47.970890Z",
     "start_time": "2025-04-08T11:02:47.969166Z"
    }
   },
   "outputs": [],
   "source": [
    "import pandas as pd"
   ]
  },
  {
   "cell_type": "code",
   "execution_count": 199,
   "id": "f60bdbfbecb7955f",
   "metadata": {
    "ExecuteTime": {
     "end_time": "2025-04-08T11:02:48.008156Z",
     "start_time": "2025-04-08T11:02:48.004623Z"
    }
   },
   "outputs": [
    {
     "data": {
      "text/html": [
       "<div>\n",
       "<style scoped>\n",
       "    .dataframe tbody tr th:only-of-type {\n",
       "        vertical-align: middle;\n",
       "    }\n",
       "\n",
       "    .dataframe tbody tr th {\n",
       "        vertical-align: top;\n",
       "    }\n",
       "\n",
       "    .dataframe thead th {\n",
       "        text-align: right;\n",
       "    }\n",
       "</style>\n",
       "<table border=\"1\" class=\"dataframe\">\n",
       "  <thead>\n",
       "    <tr style=\"text-align: right;\">\n",
       "      <th></th>\n",
       "      <th>이름</th>\n",
       "      <th>나이</th>\n",
       "      <th>성별</th>\n",
       "      <th>급여</th>\n",
       "    </tr>\n",
       "  </thead>\n",
       "  <tbody>\n",
       "    <tr>\n",
       "      <th>0</th>\n",
       "      <td>김철수</td>\n",
       "      <td>25</td>\n",
       "      <td>남</td>\n",
       "      <td>3500000</td>\n",
       "    </tr>\n",
       "    <tr>\n",
       "      <th>1</th>\n",
       "      <td>이영희</td>\n",
       "      <td>30</td>\n",
       "      <td>여</td>\n",
       "      <td>3800000</td>\n",
       "    </tr>\n",
       "    <tr>\n",
       "      <th>2</th>\n",
       "      <td>박민수</td>\n",
       "      <td>32</td>\n",
       "      <td>남</td>\n",
       "      <td>5100000</td>\n",
       "    </tr>\n",
       "    <tr>\n",
       "      <th>3</th>\n",
       "      <td>정지영</td>\n",
       "      <td>45</td>\n",
       "      <td>남</td>\n",
       "      <td>6500000</td>\n",
       "    </tr>\n",
       "  </tbody>\n",
       "</table>\n",
       "</div>"
      ],
      "text/plain": [
       "    이름  나이 성별       급여\n",
       "0  김철수  25  남  3500000\n",
       "1  이영희  30  여  3800000\n",
       "2  박민수  32  남  5100000\n",
       "3  정지영  45  남  6500000"
      ]
     },
     "execution_count": 199,
     "metadata": {},
     "output_type": "execute_result"
    }
   ],
   "source": [
    "df = pd.DataFrame(\n",
    "    {\n",
    "        \"이름\": [\"김철수\", \"이영희\", \"박민수\", \"정지영\"],\n",
    "        \"나이\": [25, 30, 32, 45],\n",
    "        \"성별\": [\"남\", \"여\", \"남\", \"남\"],\n",
    "        \"급여\": [3500000, 3800000, 5100000, 6500000],\n",
    "    }\n",
    ")\n",
    "df"
   ]
  },
  {
   "cell_type": "code",
   "execution_count": 200,
   "id": "65a4d9b359e64531",
   "metadata": {
    "ExecuteTime": {
     "end_time": "2025-04-08T11:02:48.045503Z",
     "start_time": "2025-04-08T11:02:48.043067Z"
    }
   },
   "outputs": [
    {
     "data": {
      "text/plain": [
       "이름    object\n",
       "나이     int64\n",
       "성별    object\n",
       "급여     int64\n",
       "dtype: object"
      ]
     },
     "execution_count": 200,
     "metadata": {},
     "output_type": "execute_result"
    }
   ],
   "source": [
    "# 전체 열의 타입 확인\n",
    "df.dtypes"
   ]
  },
  {
   "cell_type": "code",
   "execution_count": 201,
   "id": "df3c1290a801475f",
   "metadata": {
    "ExecuteTime": {
     "end_time": "2025-04-08T11:02:48.083596Z",
     "start_time": "2025-04-08T11:02:48.080944Z"
    }
   },
   "outputs": [
    {
     "data": {
      "text/html": [
       "<div>\n",
       "<style scoped>\n",
       "    .dataframe tbody tr th:only-of-type {\n",
       "        vertical-align: middle;\n",
       "    }\n",
       "\n",
       "    .dataframe tbody tr th {\n",
       "        vertical-align: top;\n",
       "    }\n",
       "\n",
       "    .dataframe thead th {\n",
       "        text-align: right;\n",
       "    }\n",
       "</style>\n",
       "<table border=\"1\" class=\"dataframe\">\n",
       "  <thead>\n",
       "    <tr style=\"text-align: right;\">\n",
       "      <th></th>\n",
       "      <th>나이</th>\n",
       "      <th>급여</th>\n",
       "    </tr>\n",
       "  </thead>\n",
       "  <tbody>\n",
       "    <tr>\n",
       "      <th>0</th>\n",
       "      <td>25</td>\n",
       "      <td>3500000</td>\n",
       "    </tr>\n",
       "    <tr>\n",
       "      <th>1</th>\n",
       "      <td>30</td>\n",
       "      <td>3800000</td>\n",
       "    </tr>\n",
       "    <tr>\n",
       "      <th>2</th>\n",
       "      <td>32</td>\n",
       "      <td>5100000</td>\n",
       "    </tr>\n",
       "    <tr>\n",
       "      <th>3</th>\n",
       "      <td>45</td>\n",
       "      <td>6500000</td>\n",
       "    </tr>\n",
       "  </tbody>\n",
       "</table>\n",
       "</div>"
      ],
      "text/plain": [
       "   나이       급여\n",
       "0  25  3500000\n",
       "1  30  3800000\n",
       "2  32  5100000\n",
       "3  45  6500000"
      ]
     },
     "execution_count": 201,
     "metadata": {},
     "output_type": "execute_result"
    }
   ],
   "source": [
    "# 특정 타입을 가진 열만 뽑기\n",
    "df.select_dtypes(include=\"int64\")"
   ]
  },
  {
   "cell_type": "code",
   "execution_count": 202,
   "id": "47ce4222acd4874",
   "metadata": {
    "ExecuteTime": {
     "end_time": "2025-04-08T11:02:48.154382Z",
     "start_time": "2025-04-08T11:02:48.150679Z"
    }
   },
   "outputs": [
    {
     "data": {
      "text/html": [
       "<div>\n",
       "<style scoped>\n",
       "    .dataframe tbody tr th:only-of-type {\n",
       "        vertical-align: middle;\n",
       "    }\n",
       "\n",
       "    .dataframe tbody tr th {\n",
       "        vertical-align: top;\n",
       "    }\n",
       "\n",
       "    .dataframe thead th {\n",
       "        text-align: right;\n",
       "    }\n",
       "</style>\n",
       "<table border=\"1\" class=\"dataframe\">\n",
       "  <thead>\n",
       "    <tr style=\"text-align: right;\">\n",
       "      <th></th>\n",
       "      <th>이름</th>\n",
       "      <th>나이</th>\n",
       "      <th>성별</th>\n",
       "      <th>급여</th>\n",
       "      <th>급여_실수형</th>\n",
       "    </tr>\n",
       "  </thead>\n",
       "  <tbody>\n",
       "    <tr>\n",
       "      <th>0</th>\n",
       "      <td>김철수</td>\n",
       "      <td>25</td>\n",
       "      <td>남</td>\n",
       "      <td>3500000</td>\n",
       "      <td>3500000.0</td>\n",
       "    </tr>\n",
       "    <tr>\n",
       "      <th>1</th>\n",
       "      <td>이영희</td>\n",
       "      <td>30</td>\n",
       "      <td>여</td>\n",
       "      <td>3800000</td>\n",
       "      <td>3800000.0</td>\n",
       "    </tr>\n",
       "    <tr>\n",
       "      <th>2</th>\n",
       "      <td>박민수</td>\n",
       "      <td>32</td>\n",
       "      <td>남</td>\n",
       "      <td>5100000</td>\n",
       "      <td>5100000.0</td>\n",
       "    </tr>\n",
       "    <tr>\n",
       "      <th>3</th>\n",
       "      <td>정지영</td>\n",
       "      <td>45</td>\n",
       "      <td>남</td>\n",
       "      <td>6500000</td>\n",
       "      <td>6500000.0</td>\n",
       "    </tr>\n",
       "  </tbody>\n",
       "</table>\n",
       "</div>"
      ],
      "text/plain": [
       "    이름  나이 성별       급여     급여_실수형\n",
       "0  김철수  25  남  3500000  3500000.0\n",
       "1  이영희  30  여  3800000  3800000.0\n",
       "2  박민수  32  남  5100000  5100000.0\n",
       "3  정지영  45  남  6500000  6500000.0"
      ]
     },
     "execution_count": 202,
     "metadata": {},
     "output_type": "execute_result"
    }
   ],
   "source": [
    "df[\"급여_실수형\"] = df[\"급여\"].astype(\"float64\")\n",
    "df"
   ]
  },
  {
   "cell_type": "markdown",
   "id": "a2506774834028aa",
   "metadata": {},
   "source": "# 통계관련 함수"
  },
  {
   "cell_type": "code",
   "execution_count": 203,
   "id": "9e6d4de9cbd46557",
   "metadata": {
    "ExecuteTime": {
     "end_time": "2025-04-08T11:02:48.204586Z",
     "start_time": "2025-04-08T11:02:48.203226Z"
    }
   },
   "outputs": [],
   "source": [
    "import pandas as pd"
   ]
  },
  {
   "cell_type": "code",
   "execution_count": 204,
   "id": "48a871e065b8e102",
   "metadata": {
    "ExecuteTime": {
     "end_time": "2025-04-08T11:02:48.245641Z",
     "start_time": "2025-04-08T11:02:48.242357Z"
    }
   },
   "outputs": [
    {
     "data": {
      "text/html": [
       "<div>\n",
       "<style scoped>\n",
       "    .dataframe tbody tr th:only-of-type {\n",
       "        vertical-align: middle;\n",
       "    }\n",
       "\n",
       "    .dataframe tbody tr th {\n",
       "        vertical-align: top;\n",
       "    }\n",
       "\n",
       "    .dataframe thead th {\n",
       "        text-align: right;\n",
       "    }\n",
       "</style>\n",
       "<table border=\"1\" class=\"dataframe\">\n",
       "  <thead>\n",
       "    <tr style=\"text-align: right;\">\n",
       "      <th></th>\n",
       "      <th>부서</th>\n",
       "      <th>성별</th>\n",
       "      <th>급여</th>\n",
       "      <th>보너스</th>\n",
       "    </tr>\n",
       "  </thead>\n",
       "  <tbody>\n",
       "    <tr>\n",
       "      <th>0</th>\n",
       "      <td>영업</td>\n",
       "      <td>남</td>\n",
       "      <td>350</td>\n",
       "      <td>50</td>\n",
       "    </tr>\n",
       "    <tr>\n",
       "      <th>1</th>\n",
       "      <td>개발</td>\n",
       "      <td>여</td>\n",
       "      <td>480</td>\n",
       "      <td>70</td>\n",
       "    </tr>\n",
       "    <tr>\n",
       "      <th>2</th>\n",
       "      <td>영업</td>\n",
       "      <td>여</td>\n",
       "      <td>320</td>\n",
       "      <td>40</td>\n",
       "    </tr>\n",
       "    <tr>\n",
       "      <th>3</th>\n",
       "      <td>마케팅</td>\n",
       "      <td>남</td>\n",
       "      <td>400</td>\n",
       "      <td>60</td>\n",
       "    </tr>\n",
       "    <tr>\n",
       "      <th>4</th>\n",
       "      <td>개발</td>\n",
       "      <td>남</td>\n",
       "      <td>520</td>\n",
       "      <td>80</td>\n",
       "    </tr>\n",
       "    <tr>\n",
       "      <th>5</th>\n",
       "      <td>영업</td>\n",
       "      <td>남</td>\n",
       "      <td>380</td>\n",
       "      <td>60</td>\n",
       "    </tr>\n",
       "    <tr>\n",
       "      <th>6</th>\n",
       "      <td>마케팅</td>\n",
       "      <td>여</td>\n",
       "      <td>450</td>\n",
       "      <td>70</td>\n",
       "    </tr>\n",
       "  </tbody>\n",
       "</table>\n",
       "</div>"
      ],
      "text/plain": [
       "    부서 성별   급여  보너스\n",
       "0   영업  남  350   50\n",
       "1   개발  여  480   70\n",
       "2   영업  여  320   40\n",
       "3  마케팅  남  400   60\n",
       "4   개발  남  520   80\n",
       "5   영업  남  380   60\n",
       "6  마케팅  여  450   70"
      ]
     },
     "execution_count": 204,
     "metadata": {},
     "output_type": "execute_result"
    }
   ],
   "source": [
    "df = pd.DataFrame(\n",
    "    {\n",
    "        \"부서\": [\"영업\", \"개발\", \"영업\", \"마케팅\", \"개발\", \"영업\", \"마케팅\"],\n",
    "        \"성별\": [\"남\", \"여\", \"여\", \"남\", \"남\", \"남\", \"여\"],\n",
    "        \"급여\": [350, 480, 320, 400, 520, 380, 450],\n",
    "        \"보너스\": [50, 70, 40, 60, 80, 60, 70],\n",
    "    }\n",
    ")\n",
    "df"
   ]
  },
  {
   "cell_type": "code",
   "execution_count": 205,
   "id": "beb3336d732e8c75",
   "metadata": {
    "ExecuteTime": {
     "end_time": "2025-04-08T11:02:48.284498Z",
     "start_time": "2025-04-08T11:02:48.282019Z"
    }
   },
   "outputs": [
    {
     "data": {
      "text/plain": [
       "급여     414.285714\n",
       "보너스     61.428571\n",
       "dtype: float64"
      ]
     },
     "execution_count": 205,
     "metadata": {},
     "output_type": "execute_result"
    }
   ],
   "source": [
    "# DataFrame 에서 숫자형 column 에 대해서만 통계함수를 사용하고 싶다면,\n",
    "# numeric_only parameter 를 사용하면 된다.\n",
    "df.mean(numeric_only=True)"
   ]
  },
  {
   "cell_type": "code",
   "execution_count": 206,
   "id": "f4713426161bbf32",
   "metadata": {
    "ExecuteTime": {
     "end_time": "2025-04-08T11:02:48.324467Z",
     "start_time": "2025-04-08T11:02:48.321912Z"
    }
   },
   "outputs": [
    {
     "data": {
      "text/plain": [
       "급여     400.0\n",
       "보너스     60.0\n",
       "dtype: float64"
      ]
     },
     "execution_count": 206,
     "metadata": {},
     "output_type": "execute_result"
    }
   ],
   "source": [
    "df.median(numeric_only=True)"
   ]
  },
  {
   "cell_type": "code",
   "execution_count": 207,
   "id": "c10c5d7b90374525",
   "metadata": {
    "ExecuteTime": {
     "end_time": "2025-04-08T11:02:48.374444Z",
     "start_time": "2025-04-08T11:02:48.372113Z"
    }
   },
   "outputs": [
    {
     "data": {
      "text/plain": [
       "급여     320\n",
       "보너스     40\n",
       "dtype: int64"
      ]
     },
     "execution_count": 207,
     "metadata": {},
     "output_type": "execute_result"
    }
   ],
   "source": [
    "df.min(numeric_only=True)"
   ]
  },
  {
   "cell_type": "code",
   "execution_count": 208,
   "id": "a4090ca2625a00f1",
   "metadata": {
    "ExecuteTime": {
     "end_time": "2025-04-08T11:02:48.420890Z",
     "start_time": "2025-04-08T11:02:48.418216Z"
    }
   },
   "outputs": [
    {
     "data": {
      "text/plain": [
       "급여     520\n",
       "보너스     80\n",
       "dtype: int64"
      ]
     },
     "execution_count": 208,
     "metadata": {},
     "output_type": "execute_result"
    }
   ],
   "source": [
    "df.max(numeric_only=True)"
   ]
  },
  {
   "cell_type": "code",
   "execution_count": 209,
   "id": "a2011d91ddea0299",
   "metadata": {
    "ExecuteTime": {
     "end_time": "2025-04-08T11:02:48.463761Z",
     "start_time": "2025-04-08T11:02:48.461265Z"
    }
   },
   "outputs": [
    {
     "data": {
      "text/plain": [
       "급여     72.078000\n",
       "보너스    13.451854\n",
       "dtype: float64"
      ]
     },
     "execution_count": 209,
     "metadata": {},
     "output_type": "execute_result"
    }
   ],
   "source": [
    "df.std(numeric_only=True)"
   ]
  },
  {
   "cell_type": "code",
   "execution_count": 210,
   "id": "7f59d42b9cd2b02a",
   "metadata": {
    "ExecuteTime": {
     "end_time": "2025-04-08T11:02:48.506484Z",
     "start_time": "2025-04-08T11:02:48.504088Z"
    }
   },
   "outputs": [
    {
     "data": {
      "text/plain": [
       "급여     5195.238095\n",
       "보너스     180.952381\n",
       "dtype: float64"
      ]
     },
     "execution_count": 210,
     "metadata": {},
     "output_type": "execute_result"
    }
   ],
   "source": [
    "df.var(numeric_only=True)"
   ]
  },
  {
   "cell_type": "code",
   "execution_count": 211,
   "id": "bd730eb686df32e",
   "metadata": {
    "ExecuteTime": {
     "end_time": "2025-04-08T11:02:48.555885Z",
     "start_time": "2025-04-08T11:02:48.553212Z"
    }
   },
   "outputs": [
    {
     "data": {
      "text/plain": [
       "급여     400.0\n",
       "보너스     60.0\n",
       "Name: 0.5, dtype: float64"
      ]
     },
     "execution_count": 211,
     "metadata": {},
     "output_type": "execute_result"
    }
   ],
   "source": [
    "df.quantile(numeric_only=True)"
   ]
  },
  {
   "cell_type": "code",
   "execution_count": 212,
   "id": "78320a282224bbe2",
   "metadata": {
    "ExecuteTime": {
     "end_time": "2025-04-08T11:02:48.702011Z",
     "start_time": "2025-04-08T11:02:48.699006Z"
    }
   },
   "outputs": [
    {
     "data": {
      "text/html": [
       "<div>\n",
       "<style scoped>\n",
       "    .dataframe tbody tr th:only-of-type {\n",
       "        vertical-align: middle;\n",
       "    }\n",
       "\n",
       "    .dataframe tbody tr th {\n",
       "        vertical-align: top;\n",
       "    }\n",
       "\n",
       "    .dataframe thead th {\n",
       "        text-align: right;\n",
       "    }\n",
       "</style>\n",
       "<table border=\"1\" class=\"dataframe\">\n",
       "  <thead>\n",
       "    <tr style=\"text-align: right;\">\n",
       "      <th></th>\n",
       "      <th>급여</th>\n",
       "      <th>보너스</th>\n",
       "    </tr>\n",
       "  </thead>\n",
       "  <tbody>\n",
       "    <tr>\n",
       "      <th>급여</th>\n",
       "      <td>1.000000</td>\n",
       "      <td>0.972436</td>\n",
       "    </tr>\n",
       "    <tr>\n",
       "      <th>보너스</th>\n",
       "      <td>0.972436</td>\n",
       "      <td>1.000000</td>\n",
       "    </tr>\n",
       "  </tbody>\n",
       "</table>\n",
       "</div>"
      ],
      "text/plain": [
       "           급여       보너스\n",
       "급여   1.000000  0.972436\n",
       "보너스  0.972436  1.000000"
      ]
     },
     "execution_count": 212,
     "metadata": {},
     "output_type": "execute_result"
    }
   ],
   "source": [
    "df.corr(numeric_only=True)"
   ]
  },
  {
   "cell_type": "markdown",
   "id": "f4e88635fbf5bdf5",
   "metadata": {},
   "source": "## 그룹별 통계"
  },
  {
   "cell_type": "code",
   "execution_count": 213,
   "id": "ba79cd82e26cd8e4",
   "metadata": {
    "ExecuteTime": {
     "end_time": "2025-04-08T11:02:48.743850Z",
     "start_time": "2025-04-08T11:02:48.741200Z"
    }
   },
   "outputs": [
    {
     "data": {
      "text/plain": [
       "부서\n",
       "개발     500.0\n",
       "마케팅    425.0\n",
       "영업     350.0\n",
       "Name: 급여, dtype: float64"
      ]
     },
     "execution_count": 213,
     "metadata": {},
     "output_type": "execute_result"
    }
   ],
   "source": [
    "df.groupby(\"부서\")[\"급여\"].mean()"
   ]
  },
  {
   "cell_type": "code",
   "execution_count": 214,
   "id": "d2f771c91275ebd",
   "metadata": {
    "ExecuteTime": {
     "end_time": "2025-04-08T11:02:48.790554Z",
     "start_time": "2025-04-08T11:02:48.788146Z"
    }
   },
   "outputs": [
    {
     "data": {
      "text/plain": [
       "부서\n",
       "개발     500.0\n",
       "마케팅    425.0\n",
       "영업     350.0\n",
       "Name: 급여, dtype: float64"
      ]
     },
     "execution_count": 214,
     "metadata": {},
     "output_type": "execute_result"
    }
   ],
   "source": [
    "df.groupby(\"부서\")[\"급여\"].median()"
   ]
  },
  {
   "cell_type": "code",
   "execution_count": 215,
   "id": "39a637d3f242873f",
   "metadata": {
    "ExecuteTime": {
     "end_time": "2025-04-08T11:02:48.834787Z",
     "start_time": "2025-04-08T11:02:48.832038Z"
    }
   },
   "outputs": [
    {
     "data": {
      "text/plain": [
       "부서\n",
       "개발     28.284271\n",
       "마케팅    35.355339\n",
       "영업     30.000000\n",
       "Name: 급여, dtype: float64"
      ]
     },
     "execution_count": 215,
     "metadata": {},
     "output_type": "execute_result"
    }
   ],
   "source": [
    "df.groupby(\"부서\")[\"급여\"].std()"
   ]
  },
  {
   "cell_type": "code",
   "execution_count": 216,
   "id": "14d3b537d8012b12",
   "metadata": {
    "ExecuteTime": {
     "end_time": "2025-04-08T11:02:48.882884Z",
     "start_time": "2025-04-08T11:02:48.880040Z"
    }
   },
   "outputs": [
    {
     "data": {
      "text/plain": [
       "부서\n",
       "개발      800.0\n",
       "마케팅    1250.0\n",
       "영업      900.0\n",
       "Name: 급여, dtype: float64"
      ]
     },
     "execution_count": 216,
     "metadata": {},
     "output_type": "execute_result"
    }
   ],
   "source": [
    "df.groupby(\"부서\")[\"급여\"].var()"
   ]
  },
  {
   "cell_type": "code",
   "execution_count": 217,
   "id": "484a3a19f16eb4bf",
   "metadata": {
    "ExecuteTime": {
     "end_time": "2025-04-08T11:02:48.941839Z",
     "start_time": "2025-04-08T11:02:48.935882Z"
    }
   },
   "outputs": [
    {
     "data": {
      "text/html": [
       "<div>\n",
       "<style scoped>\n",
       "    .dataframe tbody tr th:only-of-type {\n",
       "        vertical-align: middle;\n",
       "    }\n",
       "\n",
       "    .dataframe tbody tr th {\n",
       "        vertical-align: top;\n",
       "    }\n",
       "\n",
       "    .dataframe thead tr th {\n",
       "        text-align: left;\n",
       "    }\n",
       "\n",
       "    .dataframe thead tr:last-of-type th {\n",
       "        text-align: right;\n",
       "    }\n",
       "</style>\n",
       "<table border=\"1\" class=\"dataframe\">\n",
       "  <thead>\n",
       "    <tr>\n",
       "      <th></th>\n",
       "      <th></th>\n",
       "      <th colspan=\"3\" halign=\"left\">급여</th>\n",
       "      <th colspan=\"2\" halign=\"left\">보너스</th>\n",
       "    </tr>\n",
       "    <tr>\n",
       "      <th></th>\n",
       "      <th></th>\n",
       "      <th>mean</th>\n",
       "      <th>min</th>\n",
       "      <th>max</th>\n",
       "      <th>mean</th>\n",
       "      <th>median</th>\n",
       "    </tr>\n",
       "    <tr>\n",
       "      <th>부서</th>\n",
       "      <th>성별</th>\n",
       "      <th></th>\n",
       "      <th></th>\n",
       "      <th></th>\n",
       "      <th></th>\n",
       "      <th></th>\n",
       "    </tr>\n",
       "  </thead>\n",
       "  <tbody>\n",
       "    <tr>\n",
       "      <th rowspan=\"2\" valign=\"top\">개발</th>\n",
       "      <th>남</th>\n",
       "      <td>520.0</td>\n",
       "      <td>520</td>\n",
       "      <td>520</td>\n",
       "      <td>80.0</td>\n",
       "      <td>80.0</td>\n",
       "    </tr>\n",
       "    <tr>\n",
       "      <th>여</th>\n",
       "      <td>480.0</td>\n",
       "      <td>480</td>\n",
       "      <td>480</td>\n",
       "      <td>70.0</td>\n",
       "      <td>70.0</td>\n",
       "    </tr>\n",
       "    <tr>\n",
       "      <th rowspan=\"2\" valign=\"top\">마케팅</th>\n",
       "      <th>남</th>\n",
       "      <td>400.0</td>\n",
       "      <td>400</td>\n",
       "      <td>400</td>\n",
       "      <td>60.0</td>\n",
       "      <td>60.0</td>\n",
       "    </tr>\n",
       "    <tr>\n",
       "      <th>여</th>\n",
       "      <td>450.0</td>\n",
       "      <td>450</td>\n",
       "      <td>450</td>\n",
       "      <td>70.0</td>\n",
       "      <td>70.0</td>\n",
       "    </tr>\n",
       "    <tr>\n",
       "      <th rowspan=\"2\" valign=\"top\">영업</th>\n",
       "      <th>남</th>\n",
       "      <td>365.0</td>\n",
       "      <td>350</td>\n",
       "      <td>380</td>\n",
       "      <td>55.0</td>\n",
       "      <td>55.0</td>\n",
       "    </tr>\n",
       "    <tr>\n",
       "      <th>여</th>\n",
       "      <td>320.0</td>\n",
       "      <td>320</td>\n",
       "      <td>320</td>\n",
       "      <td>40.0</td>\n",
       "      <td>40.0</td>\n",
       "    </tr>\n",
       "  </tbody>\n",
       "</table>\n",
       "</div>"
      ],
      "text/plain": [
       "           급여             보너스       \n",
       "         mean  min  max  mean median\n",
       "부서  성별                              \n",
       "개발  남   520.0  520  520  80.0   80.0\n",
       "    여   480.0  480  480  70.0   70.0\n",
       "마케팅 남   400.0  400  400  60.0   60.0\n",
       "    여   450.0  450  450  70.0   70.0\n",
       "영업  남   365.0  350  380  55.0   55.0\n",
       "    여   320.0  320  320  40.0   40.0"
      ]
     },
     "execution_count": 217,
     "metadata": {},
     "output_type": "execute_result"
    }
   ],
   "source": [
    "df.groupby([\"부서\", \"성별\"]).agg({\"급여\": [\"mean\", \"min\", \"max\"], \"보너스\": [\"mean\", \"median\"]})"
   ]
  },
  {
   "cell_type": "code",
   "execution_count": 218,
   "id": "ee8a20acfa16eca5",
   "metadata": {
    "ExecuteTime": {
     "end_time": "2025-04-08T11:02:48.992608Z",
     "start_time": "2025-04-08T11:02:48.989123Z"
    }
   },
   "outputs": [
    {
     "data": {
      "text/html": [
       "<div>\n",
       "<style scoped>\n",
       "    .dataframe tbody tr th:only-of-type {\n",
       "        vertical-align: middle;\n",
       "    }\n",
       "\n",
       "    .dataframe tbody tr th {\n",
       "        vertical-align: top;\n",
       "    }\n",
       "\n",
       "    .dataframe thead th {\n",
       "        text-align: right;\n",
       "    }\n",
       "</style>\n",
       "<table border=\"1\" class=\"dataframe\">\n",
       "  <thead>\n",
       "    <tr style=\"text-align: right;\">\n",
       "      <th></th>\n",
       "      <th>부서</th>\n",
       "      <th>성별</th>\n",
       "      <th>급여</th>\n",
       "      <th>보너스</th>\n",
       "    </tr>\n",
       "  </thead>\n",
       "  <tbody>\n",
       "    <tr>\n",
       "      <th>1</th>\n",
       "      <td>개발</td>\n",
       "      <td>여</td>\n",
       "      <td>480</td>\n",
       "      <td>70</td>\n",
       "    </tr>\n",
       "    <tr>\n",
       "      <th>3</th>\n",
       "      <td>마케팅</td>\n",
       "      <td>남</td>\n",
       "      <td>400</td>\n",
       "      <td>60</td>\n",
       "    </tr>\n",
       "    <tr>\n",
       "      <th>4</th>\n",
       "      <td>개발</td>\n",
       "      <td>남</td>\n",
       "      <td>520</td>\n",
       "      <td>80</td>\n",
       "    </tr>\n",
       "    <tr>\n",
       "      <th>6</th>\n",
       "      <td>마케팅</td>\n",
       "      <td>여</td>\n",
       "      <td>450</td>\n",
       "      <td>70</td>\n",
       "    </tr>\n",
       "  </tbody>\n",
       "</table>\n",
       "</div>"
      ],
      "text/plain": [
       "    부서 성별   급여  보너스\n",
       "1   개발  여  480   70\n",
       "3  마케팅  남  400   60\n",
       "4   개발  남  520   80\n",
       "6  마케팅  여  450   70"
      ]
     },
     "execution_count": 218,
     "metadata": {},
     "output_type": "execute_result"
    }
   ],
   "source": [
    "# 그룹화 후 필터링 (급여 평균이 400 이상인 부서만)\n",
    "df.groupby(\"부서\").filter(lambda x: x[\"급여\"].mean() >= 400)"
   ]
  },
  {
   "cell_type": "markdown",
   "id": "f87a41620cf2b682",
   "metadata": {},
   "source": "## 값 개수 집계"
  },
  {
   "cell_type": "code",
   "execution_count": 219,
   "id": "df8fe6922bf9d1de",
   "metadata": {
    "ExecuteTime": {
     "end_time": "2025-04-08T11:02:49.046722Z",
     "start_time": "2025-04-08T11:02:49.043623Z"
    }
   },
   "outputs": [
    {
     "data": {
      "text/plain": [
       "부서   성별  급여   보너스\n",
       "개발   남   520  80     1\n",
       "     여   480  70     1\n",
       "마케팅  남   400  60     1\n",
       "     여   450  70     1\n",
       "영업   남   350  50     1\n",
       "         380  60     1\n",
       "     여   320  40     1\n",
       "Name: count, dtype: int64"
      ]
     },
     "execution_count": 219,
     "metadata": {},
     "output_type": "execute_result"
    }
   ],
   "source": [
    "df.value_counts()"
   ]
  },
  {
   "cell_type": "code",
   "execution_count": 220,
   "id": "4cbe808a532b95f6",
   "metadata": {
    "ExecuteTime": {
     "end_time": "2025-04-08T11:02:49.125585Z",
     "start_time": "2025-04-08T11:02:49.122550Z"
    }
   },
   "outputs": [
    {
     "data": {
      "text/plain": [
       "부서\n",
       "영업     3\n",
       "개발     2\n",
       "마케팅    2\n",
       "Name: count, dtype: int64"
      ]
     },
     "execution_count": 220,
     "metadata": {},
     "output_type": "execute_result"
    }
   ],
   "source": [
    "# 부서별 개수 즉, 부서별로 group_by 해서 count 한 것과 같음\n",
    "df.value_counts(\"부서\")"
   ]
  },
  {
   "cell_type": "code",
   "execution_count": 221,
   "id": "8af56bcb0062db8d",
   "metadata": {
    "ExecuteTime": {
     "end_time": "2025-04-08T11:02:49.179115Z",
     "start_time": "2025-04-08T11:02:49.176287Z"
    }
   },
   "outputs": [
    {
     "data": {
      "text/plain": [
       "부서\n",
       "영업     0.428571\n",
       "개발     0.285714\n",
       "마케팅    0.285714\n",
       "Name: proportion, dtype: float64"
      ]
     },
     "execution_count": 221,
     "metadata": {},
     "output_type": "execute_result"
    }
   ],
   "source": [
    "df.value_counts(\"부서\", normalize=True)  # 0 ~ 1 사이의 비율로 정규화 할 지"
   ]
  },
  {
   "cell_type": "code",
   "execution_count": 222,
   "id": "e9ce92405d127ef2",
   "metadata": {
    "ExecuteTime": {
     "end_time": "2025-04-08T11:02:49.265543Z",
     "start_time": "2025-04-08T11:02:49.262900Z"
    }
   },
   "outputs": [
    {
     "data": {
      "text/plain": [
       "성별\n",
       "남    4\n",
       "여    3\n",
       "Name: count, dtype: int64"
      ]
     },
     "execution_count": 222,
     "metadata": {},
     "output_type": "execute_result"
    }
   ],
   "source": [
    "# Series 에도 value_counts() 를 할 수 있음\n",
    "df[\"성별\"].value_counts()"
   ]
  },
  {
   "cell_type": "markdown",
   "id": "e3061153964514f8",
   "metadata": {},
   "source": "# agg 함수 활용하기"
  },
  {
   "cell_type": "code",
   "execution_count": 223,
   "id": "2c9cb3c3fff0552e",
   "metadata": {
    "ExecuteTime": {
     "end_time": "2025-04-08T11:02:49.317215Z",
     "start_time": "2025-04-08T11:02:49.315706Z"
    }
   },
   "outputs": [],
   "source": [
    "import pandas as pd"
   ]
  },
  {
   "cell_type": "code",
   "execution_count": 224,
   "id": "5ae0f2a8c5bf26b7",
   "metadata": {
    "ExecuteTime": {
     "end_time": "2025-04-08T11:02:49.353479Z",
     "start_time": "2025-04-08T11:02:49.350260Z"
    }
   },
   "outputs": [
    {
     "data": {
      "text/html": [
       "<div>\n",
       "<style scoped>\n",
       "    .dataframe tbody tr th:only-of-type {\n",
       "        vertical-align: middle;\n",
       "    }\n",
       "\n",
       "    .dataframe tbody tr th {\n",
       "        vertical-align: top;\n",
       "    }\n",
       "\n",
       "    .dataframe thead th {\n",
       "        text-align: right;\n",
       "    }\n",
       "</style>\n",
       "<table border=\"1\" class=\"dataframe\">\n",
       "  <thead>\n",
       "    <tr style=\"text-align: right;\">\n",
       "      <th></th>\n",
       "      <th>이름</th>\n",
       "      <th>나이</th>\n",
       "      <th>급여</th>\n",
       "      <th>근무일수</th>\n",
       "    </tr>\n",
       "  </thead>\n",
       "  <tbody>\n",
       "    <tr>\n",
       "      <th>0</th>\n",
       "      <td>김철수</td>\n",
       "      <td>25</td>\n",
       "      <td>2800000</td>\n",
       "      <td>22</td>\n",
       "    </tr>\n",
       "    <tr>\n",
       "      <th>1</th>\n",
       "      <td>이영희</td>\n",
       "      <td>30</td>\n",
       "      <td>3500000</td>\n",
       "      <td>20</td>\n",
       "    </tr>\n",
       "    <tr>\n",
       "      <th>2</th>\n",
       "      <td>박지훈</td>\n",
       "      <td>28</td>\n",
       "      <td>3200000</td>\n",
       "      <td>21</td>\n",
       "    </tr>\n",
       "    <tr>\n",
       "      <th>3</th>\n",
       "      <td>정미나</td>\n",
       "      <td>22</td>\n",
       "      <td>2500000</td>\n",
       "      <td>19</td>\n",
       "    </tr>\n",
       "    <tr>\n",
       "      <th>4</th>\n",
       "      <td>최재윤</td>\n",
       "      <td>35</td>\n",
       "      <td>4000000</td>\n",
       "      <td>23</td>\n",
       "    </tr>\n",
       "  </tbody>\n",
       "</table>\n",
       "</div>"
      ],
      "text/plain": [
       "    이름  나이       급여  근무일수\n",
       "0  김철수  25  2800000    22\n",
       "1  이영희  30  3500000    20\n",
       "2  박지훈  28  3200000    21\n",
       "3  정미나  22  2500000    19\n",
       "4  최재윤  35  4000000    23"
      ]
     },
     "execution_count": 224,
     "metadata": {},
     "output_type": "execute_result"
    }
   ],
   "source": [
    "df = pd.DataFrame(\n",
    "    {\n",
    "        \"이름\": [\"김철수\", \"이영희\", \"박지훈\", \"정미나\", \"최재윤\"],\n",
    "        \"나이\": [25, 30, 28, 22, 35],\n",
    "        \"급여\": [2800000, 3500000, 3200000, 2500000, 4000000],\n",
    "        \"근무일수\": [22, 20, 21, 19, 23],\n",
    "    }\n",
    ")\n",
    "df"
   ]
  },
  {
   "cell_type": "code",
   "execution_count": 225,
   "id": "ffe8dae99f9946e2",
   "metadata": {
    "ExecuteTime": {
     "end_time": "2025-04-08T11:02:49.384880Z",
     "start_time": "2025-04-08T11:02:49.382213Z"
    }
   },
   "outputs": [
    {
     "data": {
      "text/plain": [
       "mean      3.200000e+06\n",
       "median    3.200000e+06\n",
       "std       5.873670e+05\n",
       "var       3.450000e+11\n",
       "Name: 급여, dtype: float64"
      ]
     },
     "execution_count": 225,
     "metadata": {},
     "output_type": "execute_result"
    }
   ],
   "source": [
    "# 함수 이름 list 넘겨서 적용하기\n",
    "df[\"급여\"].agg([\"mean\", \"median\", \"std\", \"var\"])"
   ]
  },
  {
   "cell_type": "code",
   "execution_count": 226,
   "id": "c30b6e621c3c10cd",
   "metadata": {
    "ExecuteTime": {
     "end_time": "2025-04-08T11:02:49.443437Z",
     "start_time": "2025-04-08T11:02:49.439115Z"
    }
   },
   "outputs": [
    {
     "data": {
      "text/html": [
       "<div>\n",
       "<style scoped>\n",
       "    .dataframe tbody tr th:only-of-type {\n",
       "        vertical-align: middle;\n",
       "    }\n",
       "\n",
       "    .dataframe tbody tr th {\n",
       "        vertical-align: top;\n",
       "    }\n",
       "\n",
       "    .dataframe thead th {\n",
       "        text-align: right;\n",
       "    }\n",
       "</style>\n",
       "<table border=\"1\" class=\"dataframe\">\n",
       "  <thead>\n",
       "    <tr style=\"text-align: right;\">\n",
       "      <th></th>\n",
       "      <th>나이</th>\n",
       "      <th>급여</th>\n",
       "      <th>근무일수</th>\n",
       "    </tr>\n",
       "  </thead>\n",
       "  <tbody>\n",
       "    <tr>\n",
       "      <th>min</th>\n",
       "      <td>22.0</td>\n",
       "      <td>NaN</td>\n",
       "      <td>NaN</td>\n",
       "    </tr>\n",
       "    <tr>\n",
       "      <th>max</th>\n",
       "      <td>35.0</td>\n",
       "      <td>NaN</td>\n",
       "      <td>NaN</td>\n",
       "    </tr>\n",
       "    <tr>\n",
       "      <th>mean</th>\n",
       "      <td>28.0</td>\n",
       "      <td>3.200000e+06</td>\n",
       "      <td>21.0</td>\n",
       "    </tr>\n",
       "    <tr>\n",
       "      <th>std</th>\n",
       "      <td>NaN</td>\n",
       "      <td>5.873670e+05</td>\n",
       "      <td>NaN</td>\n",
       "    </tr>\n",
       "    <tr>\n",
       "      <th>sum</th>\n",
       "      <td>NaN</td>\n",
       "      <td>NaN</td>\n",
       "      <td>105.0</td>\n",
       "    </tr>\n",
       "  </tbody>\n",
       "</table>\n",
       "</div>"
      ],
      "text/plain": [
       "        나이            급여   근무일수\n",
       "min   22.0           NaN    NaN\n",
       "max   35.0           NaN    NaN\n",
       "mean  28.0  3.200000e+06   21.0\n",
       "std    NaN  5.873670e+05    NaN\n",
       "sum    NaN           NaN  105.0"
      ]
     },
     "execution_count": 226,
     "metadata": {},
     "output_type": "execute_result"
    }
   ],
   "source": [
    "# column 별로 적용할 함수를 dict 로 넘기기\n",
    "df.agg(\n",
    "    {\n",
    "        \"나이\": [\"min\", \"max\", \"mean\"],\n",
    "        \"급여\": [\"mean\", \"std\"],\n",
    "        \"근무일수\": [\"sum\", \"mean\"],\n",
    "    }\n",
    ")"
   ]
  },
  {
   "cell_type": "code",
   "execution_count": 227,
   "id": "42f41c1f924d8e38",
   "metadata": {
    "ExecuteTime": {
     "end_time": "2025-04-08T11:02:49.494524Z",
     "start_time": "2025-04-08T11:02:49.490495Z"
    }
   },
   "outputs": [
    {
     "data": {
      "text/html": [
       "<div>\n",
       "<style scoped>\n",
       "    .dataframe tbody tr th:only-of-type {\n",
       "        vertical-align: middle;\n",
       "    }\n",
       "\n",
       "    .dataframe tbody tr th {\n",
       "        vertical-align: top;\n",
       "    }\n",
       "\n",
       "    .dataframe thead th {\n",
       "        text-align: right;\n",
       "    }\n",
       "</style>\n",
       "<table border=\"1\" class=\"dataframe\">\n",
       "  <thead>\n",
       "    <tr style=\"text-align: right;\">\n",
       "      <th></th>\n",
       "      <th>나이</th>\n",
       "      <th>급여</th>\n",
       "    </tr>\n",
       "  </thead>\n",
       "  <tbody>\n",
       "    <tr>\n",
       "      <th>mean</th>\n",
       "      <td>28.0</td>\n",
       "      <td>3200000.0</td>\n",
       "    </tr>\n",
       "    <tr>\n",
       "      <th>range_diff</th>\n",
       "      <td>13.0</td>\n",
       "      <td>1500000.0</td>\n",
       "    </tr>\n",
       "  </tbody>\n",
       "</table>\n",
       "</div>"
      ],
      "text/plain": [
       "              나이         급여\n",
       "mean        28.0  3200000.0\n",
       "range_diff  13.0  1500000.0"
      ]
     },
     "execution_count": 227,
     "metadata": {},
     "output_type": "execute_result"
    }
   ],
   "source": [
    "# 사용자 정의 함수 적용하기\n",
    "def range_diff(x):\n",
    "    return x.max() - x.min()\n",
    "\n",
    "\n",
    "df.agg({\"나이\": [\"mean\", range_diff], \"급여\": [\"mean\", range_diff]})"
   ]
  },
  {
   "cell_type": "markdown",
   "id": "cc9a1d80860c8f91",
   "metadata": {},
   "source": "# Pandas 의 함수로 날짜 다루기"
  },
  {
   "cell_type": "code",
   "execution_count": 228,
   "id": "c460061f56609f6c",
   "metadata": {
    "ExecuteTime": {
     "end_time": "2025-04-08T11:02:49.531798Z",
     "start_time": "2025-04-08T11:02:49.530380Z"
    }
   },
   "outputs": [],
   "source": [
    "import pandas as pd"
   ]
  },
  {
   "cell_type": "code",
   "execution_count": 229,
   "id": "e086752bd1c5ab8a",
   "metadata": {
    "ExecuteTime": {
     "end_time": "2025-04-08T11:02:49.575370Z",
     "start_time": "2025-04-08T11:02:49.572156Z"
    }
   },
   "outputs": [
    {
     "data": {
      "text/html": [
       "<div>\n",
       "<style scoped>\n",
       "    .dataframe tbody tr th:only-of-type {\n",
       "        vertical-align: middle;\n",
       "    }\n",
       "\n",
       "    .dataframe tbody tr th {\n",
       "        vertical-align: top;\n",
       "    }\n",
       "\n",
       "    .dataframe thead th {\n",
       "        text-align: right;\n",
       "    }\n",
       "</style>\n",
       "<table border=\"1\" class=\"dataframe\">\n",
       "  <thead>\n",
       "    <tr style=\"text-align: right;\">\n",
       "      <th></th>\n",
       "      <th>날짜</th>\n",
       "    </tr>\n",
       "  </thead>\n",
       "  <tbody>\n",
       "    <tr>\n",
       "      <th>0</th>\n",
       "      <td>2025-01-15</td>\n",
       "    </tr>\n",
       "    <tr>\n",
       "      <th>1</th>\n",
       "      <td>2025-02-20</td>\n",
       "    </tr>\n",
       "    <tr>\n",
       "      <th>2</th>\n",
       "      <td>2025-03-25</td>\n",
       "    </tr>\n",
       "  </tbody>\n",
       "</table>\n",
       "</div>"
      ],
      "text/plain": [
       "           날짜\n",
       "0  2025-01-15\n",
       "1  2025-02-20\n",
       "2  2025-03-25"
      ]
     },
     "execution_count": 229,
     "metadata": {},
     "output_type": "execute_result"
    }
   ],
   "source": [
    "df = pd.DataFrame({\"날짜\": [\"2025-01-15\", \"2025-02-20\", \"2025-03-25\"]})\n",
    "df"
   ]
  },
  {
   "cell_type": "code",
   "execution_count": 230,
   "id": "2214ee79f7c1b949",
   "metadata": {
    "ExecuteTime": {
     "end_time": "2025-04-08T11:02:49.633845Z",
     "start_time": "2025-04-08T11:02:49.630357Z"
    }
   },
   "outputs": [
    {
     "data": {
      "text/html": [
       "<div>\n",
       "<style scoped>\n",
       "    .dataframe tbody tr th:only-of-type {\n",
       "        vertical-align: middle;\n",
       "    }\n",
       "\n",
       "    .dataframe tbody tr th {\n",
       "        vertical-align: top;\n",
       "    }\n",
       "\n",
       "    .dataframe thead th {\n",
       "        text-align: right;\n",
       "    }\n",
       "</style>\n",
       "<table border=\"1\" class=\"dataframe\">\n",
       "  <thead>\n",
       "    <tr style=\"text-align: right;\">\n",
       "      <th></th>\n",
       "      <th>날짜</th>\n",
       "      <th>날짜_datetime</th>\n",
       "    </tr>\n",
       "  </thead>\n",
       "  <tbody>\n",
       "    <tr>\n",
       "      <th>0</th>\n",
       "      <td>2025-01-15</td>\n",
       "      <td>2025-01-15</td>\n",
       "    </tr>\n",
       "    <tr>\n",
       "      <th>1</th>\n",
       "      <td>2025-02-20</td>\n",
       "      <td>2025-02-20</td>\n",
       "    </tr>\n",
       "    <tr>\n",
       "      <th>2</th>\n",
       "      <td>2025-03-25</td>\n",
       "      <td>2025-03-25</td>\n",
       "    </tr>\n",
       "  </tbody>\n",
       "</table>\n",
       "</div>"
      ],
      "text/plain": [
       "           날짜 날짜_datetime\n",
       "0  2025-01-15  2025-01-15\n",
       "1  2025-02-20  2025-02-20\n",
       "2  2025-03-25  2025-03-25"
      ]
     },
     "execution_count": 230,
     "metadata": {},
     "output_type": "execute_result"
    }
   ],
   "source": [
    "# pd.to_datetime 으로 str 로 된 날짜를 datetime.datetime 객체로 변환할 수 있다.\n",
    "# format 을 설정하여 날짜 형태를 알려줄 수 있다.\n",
    "df[\"날짜_datetime\"] = pd.to_datetime(df[\"날짜\"])\n",
    "df"
   ]
  },
  {
   "cell_type": "code",
   "execution_count": 231,
   "id": "338c530856d8730d",
   "metadata": {
    "ExecuteTime": {
     "end_time": "2025-04-08T11:02:49.685686Z",
     "start_time": "2025-04-08T11:02:49.682881Z"
    }
   },
   "outputs": [
    {
     "data": {
      "text/plain": [
       "0   2025-01-15\n",
       "1   2025-02-20\n",
       "2   2025-03-25\n",
       "Name: 0, dtype: datetime64[ns]"
      ]
     },
     "execution_count": 231,
     "metadata": {},
     "output_type": "execute_result"
    }
   ],
   "source": [
    "pd.to_datetime(pd.DataFrame([\"2025-01-15\", \"2025-02-20\", \"2025-03-25\"])[0], format=\"%Y-%m-%d\")"
   ]
  },
  {
   "cell_type": "code",
   "execution_count": 232,
   "id": "334fdd95daa7f307",
   "metadata": {
    "ExecuteTime": {
     "end_time": "2025-04-08T11:02:49.737222Z",
     "start_time": "2025-04-08T11:02:49.734391Z"
    }
   },
   "outputs": [
    {
     "data": {
      "text/plain": [
       "0   2025-01-15\n",
       "1   2025-02-20\n",
       "2   2025-03-25\n",
       "Name: 0, dtype: datetime64[ns]"
      ]
     },
     "execution_count": 232,
     "metadata": {},
     "output_type": "execute_result"
    }
   ],
   "source": [
    "pd.to_datetime(pd.DataFrame([\"2025.01.15.\", \"2025.02.20.\", \"2025.03.25.\"])[0], format=\"%Y.%m.%d.\")"
   ]
  },
  {
   "cell_type": "code",
   "execution_count": 233,
   "id": "e4c224c1e5695150",
   "metadata": {
    "ExecuteTime": {
     "end_time": "2025-04-08T11:02:49.795425Z",
     "start_time": "2025-04-08T11:02:49.791733Z"
    }
   },
   "outputs": [
    {
     "data": {
      "text/html": [
       "<div>\n",
       "<style scoped>\n",
       "    .dataframe tbody tr th:only-of-type {\n",
       "        vertical-align: middle;\n",
       "    }\n",
       "\n",
       "    .dataframe tbody tr th {\n",
       "        vertical-align: top;\n",
       "    }\n",
       "\n",
       "    .dataframe thead th {\n",
       "        text-align: right;\n",
       "    }\n",
       "</style>\n",
       "<table border=\"1\" class=\"dataframe\">\n",
       "  <thead>\n",
       "    <tr style=\"text-align: right;\">\n",
       "      <th></th>\n",
       "      <th>날짜</th>\n",
       "      <th>날짜_datetime</th>\n",
       "      <th>ym</th>\n",
       "    </tr>\n",
       "  </thead>\n",
       "  <tbody>\n",
       "    <tr>\n",
       "      <th>0</th>\n",
       "      <td>2025-01-15</td>\n",
       "      <td>2025-01-15</td>\n",
       "      <td>2025-01</td>\n",
       "    </tr>\n",
       "    <tr>\n",
       "      <th>1</th>\n",
       "      <td>2025-02-20</td>\n",
       "      <td>2025-02-20</td>\n",
       "      <td>2025-02</td>\n",
       "    </tr>\n",
       "    <tr>\n",
       "      <th>2</th>\n",
       "      <td>2025-03-25</td>\n",
       "      <td>2025-03-25</td>\n",
       "      <td>2025-03</td>\n",
       "    </tr>\n",
       "  </tbody>\n",
       "</table>\n",
       "</div>"
      ],
      "text/plain": [
       "           날짜 날짜_datetime       ym\n",
       "0  2025-01-15  2025-01-15  2025-01\n",
       "1  2025-02-20  2025-02-20  2025-02\n",
       "2  2025-03-25  2025-03-25  2025-03"
      ]
     },
     "execution_count": 233,
     "metadata": {},
     "output_type": "execute_result"
    }
   ],
   "source": [
    "df[\"ym\"] = df[\"날짜_datetime\"].dt.strftime(\"%Y-%m\")\n",
    "df"
   ]
  },
  {
   "cell_type": "code",
   "execution_count": 234,
   "id": "65d1eb9045681d44",
   "metadata": {
    "ExecuteTime": {
     "end_time": "2025-04-08T11:02:49.838765Z",
     "start_time": "2025-04-08T11:02:49.834660Z"
    }
   },
   "outputs": [
    {
     "data": {
      "text/html": [
       "<div>\n",
       "<style scoped>\n",
       "    .dataframe tbody tr th:only-of-type {\n",
       "        vertical-align: middle;\n",
       "    }\n",
       "\n",
       "    .dataframe tbody tr th {\n",
       "        vertical-align: top;\n",
       "    }\n",
       "\n",
       "    .dataframe thead th {\n",
       "        text-align: right;\n",
       "    }\n",
       "</style>\n",
       "<table border=\"1\" class=\"dataframe\">\n",
       "  <thead>\n",
       "    <tr style=\"text-align: right;\">\n",
       "      <th></th>\n",
       "      <th>날짜</th>\n",
       "      <th>날짜_datetime</th>\n",
       "      <th>ym</th>\n",
       "      <th>연</th>\n",
       "      <th>월</th>\n",
       "      <th>일</th>\n",
       "      <th>요일</th>\n",
       "    </tr>\n",
       "  </thead>\n",
       "  <tbody>\n",
       "    <tr>\n",
       "      <th>0</th>\n",
       "      <td>2025-01-15</td>\n",
       "      <td>2025-01-15</td>\n",
       "      <td>2025-01</td>\n",
       "      <td>2025</td>\n",
       "      <td>1</td>\n",
       "      <td>15</td>\n",
       "      <td>Wednesday</td>\n",
       "    </tr>\n",
       "    <tr>\n",
       "      <th>1</th>\n",
       "      <td>2025-02-20</td>\n",
       "      <td>2025-02-20</td>\n",
       "      <td>2025-02</td>\n",
       "      <td>2025</td>\n",
       "      <td>2</td>\n",
       "      <td>20</td>\n",
       "      <td>Thursday</td>\n",
       "    </tr>\n",
       "    <tr>\n",
       "      <th>2</th>\n",
       "      <td>2025-03-25</td>\n",
       "      <td>2025-03-25</td>\n",
       "      <td>2025-03</td>\n",
       "      <td>2025</td>\n",
       "      <td>3</td>\n",
       "      <td>25</td>\n",
       "      <td>Tuesday</td>\n",
       "    </tr>\n",
       "  </tbody>\n",
       "</table>\n",
       "</div>"
      ],
      "text/plain": [
       "           날짜 날짜_datetime       ym     연  월   일         요일\n",
       "0  2025-01-15  2025-01-15  2025-01  2025  1  15  Wednesday\n",
       "1  2025-02-20  2025-02-20  2025-02  2025  2  20   Thursday\n",
       "2  2025-03-25  2025-03-25  2025-03  2025  3  25    Tuesday"
      ]
     },
     "execution_count": 234,
     "metadata": {},
     "output_type": "execute_result"
    }
   ],
   "source": [
    "df[\"연\"] = df[\"날짜_datetime\"].dt.year\n",
    "df[\"월\"] = df[\"날짜_datetime\"].dt.month\n",
    "df[\"일\"] = df[\"날짜_datetime\"].dt.day\n",
    "df[\"요일\"] = df[\"날짜_datetime\"].dt.day_name()\n",
    "df"
   ]
  },
  {
   "cell_type": "code",
   "execution_count": 235,
   "id": "bbae49700415a302",
   "metadata": {
    "ExecuteTime": {
     "end_time": "2025-04-08T11:02:49.890086Z",
     "start_time": "2025-04-08T11:02:49.886411Z"
    }
   },
   "outputs": [
    {
     "data": {
      "text/html": [
       "<div>\n",
       "<style scoped>\n",
       "    .dataframe tbody tr th:only-of-type {\n",
       "        vertical-align: middle;\n",
       "    }\n",
       "\n",
       "    .dataframe tbody tr th {\n",
       "        vertical-align: top;\n",
       "    }\n",
       "\n",
       "    .dataframe thead th {\n",
       "        text-align: right;\n",
       "    }\n",
       "</style>\n",
       "<table border=\"1\" class=\"dataframe\">\n",
       "  <thead>\n",
       "    <tr style=\"text-align: right;\">\n",
       "      <th></th>\n",
       "      <th>날짜_datetime</th>\n",
       "      <th>7일_후</th>\n",
       "      <th>1년_전</th>\n",
       "    </tr>\n",
       "  </thead>\n",
       "  <tbody>\n",
       "    <tr>\n",
       "      <th>0</th>\n",
       "      <td>2025-01-15</td>\n",
       "      <td>2025-01-22</td>\n",
       "      <td>2024-01-15</td>\n",
       "    </tr>\n",
       "    <tr>\n",
       "      <th>1</th>\n",
       "      <td>2025-02-20</td>\n",
       "      <td>2025-02-27</td>\n",
       "      <td>2024-02-20</td>\n",
       "    </tr>\n",
       "    <tr>\n",
       "      <th>2</th>\n",
       "      <td>2025-03-25</td>\n",
       "      <td>2025-04-01</td>\n",
       "      <td>2024-03-25</td>\n",
       "    </tr>\n",
       "  </tbody>\n",
       "</table>\n",
       "</div>"
      ],
      "text/plain": [
       "  날짜_datetime       7일_후       1년_전\n",
       "0  2025-01-15 2025-01-22 2024-01-15\n",
       "1  2025-02-20 2025-02-27 2024-02-20\n",
       "2  2025-03-25 2025-04-01 2024-03-25"
      ]
     },
     "execution_count": 235,
     "metadata": {},
     "output_type": "execute_result"
    }
   ],
   "source": [
    "df[\"7일_후\"] = df[\"날짜_datetime\"] + pd.Timedelta(days=7)\n",
    "df[\"1년_전\"] = df[\"날짜_datetime\"] - pd.DateOffset(years=1)\n",
    "df[[\"날짜_datetime\", \"7일_후\", \"1년_전\"]]"
   ]
  },
  {
   "cell_type": "markdown",
   "id": "c6b0ec1a2ebe60d4",
   "metadata": {},
   "source": "# 문자열 다루기"
  },
  {
   "cell_type": "code",
   "execution_count": 236,
   "id": "ccecd3722d169f7b",
   "metadata": {
    "ExecuteTime": {
     "end_time": "2025-04-08T11:02:49.940764Z",
     "start_time": "2025-04-08T11:02:49.939154Z"
    }
   },
   "outputs": [],
   "source": [
    "import pandas as pd"
   ]
  },
  {
   "cell_type": "code",
   "execution_count": 237,
   "id": "82ac256f83edf953",
   "metadata": {
    "ExecuteTime": {
     "end_time": "2025-04-08T11:02:49.992166Z",
     "start_time": "2025-04-08T11:02:49.989182Z"
    }
   },
   "outputs": [
    {
     "data": {
      "text/html": [
       "<div>\n",
       "<style scoped>\n",
       "    .dataframe tbody tr th:only-of-type {\n",
       "        vertical-align: middle;\n",
       "    }\n",
       "\n",
       "    .dataframe tbody tr th {\n",
       "        vertical-align: top;\n",
       "    }\n",
       "\n",
       "    .dataframe thead th {\n",
       "        text-align: right;\n",
       "    }\n",
       "</style>\n",
       "<table border=\"1\" class=\"dataframe\">\n",
       "  <thead>\n",
       "    <tr style=\"text-align: right;\">\n",
       "      <th></th>\n",
       "      <th>text</th>\n",
       "    </tr>\n",
       "  </thead>\n",
       "  <tbody>\n",
       "    <tr>\n",
       "      <th>0</th>\n",
       "      <td>Python 3.9</td>\n",
       "    </tr>\n",
       "    <tr>\n",
       "      <th>1</th>\n",
       "      <td>Data Analysis</td>\n",
       "    </tr>\n",
       "    <tr>\n",
       "      <th>2</th>\n",
       "      <td>pandas library</td>\n",
       "    </tr>\n",
       "    <tr>\n",
       "      <th>3</th>\n",
       "      <td>PYTHON EXAMPLE</td>\n",
       "    </tr>\n",
       "  </tbody>\n",
       "</table>\n",
       "</div>"
      ],
      "text/plain": [
       "             text\n",
       "0      Python 3.9\n",
       "1   Data Analysis\n",
       "2  pandas library\n",
       "3  PYTHON EXAMPLE"
      ]
     },
     "execution_count": 237,
     "metadata": {},
     "output_type": "execute_result"
    }
   ],
   "source": [
    "df = pd.DataFrame({\"text\": [\"Python 3.9\", \"Data Analysis\", \"pandas library\", \"PYTHON EXAMPLE\"]})\n",
    "df"
   ]
  },
  {
   "cell_type": "code",
   "execution_count": 238,
   "id": "b75ef496caf7e001",
   "metadata": {
    "ExecuteTime": {
     "end_time": "2025-04-08T11:02:50.023515Z",
     "start_time": "2025-04-08T11:02:50.020998Z"
    }
   },
   "outputs": [
    {
     "data": {
      "text/plain": [
       "0     True\n",
       "1    False\n",
       "2    False\n",
       "3    False\n",
       "Name: text, dtype: bool"
      ]
     },
     "execution_count": 238,
     "metadata": {},
     "output_type": "execute_result"
    }
   ],
   "source": [
    "df[\"text\"].str.contains(\"Python\")"
   ]
  },
  {
   "cell_type": "code",
   "execution_count": 239,
   "id": "c7e9df53296cc609",
   "metadata": {
    "ExecuteTime": {
     "end_time": "2025-04-08T11:02:50.067173Z",
     "start_time": "2025-04-08T11:02:50.064571Z"
    }
   },
   "outputs": [
    {
     "data": {
      "text/plain": [
       "0    Python 3.12 3.9\n",
       "1      Data Analysis\n",
       "2     pandas library\n",
       "3     PYTHON EXAMPLE\n",
       "Name: text, dtype: object"
      ]
     },
     "execution_count": 239,
     "metadata": {},
     "output_type": "execute_result"
    }
   ],
   "source": [
    "df[\"text\"].str.replace(\"Python\", \"Python 3.12\")"
   ]
  },
  {
   "cell_type": "code",
   "execution_count": 240,
   "id": "8fd0a03153f5b1bd",
   "metadata": {
    "ExecuteTime": {
     "end_time": "2025-04-08T11:02:50.152936Z",
     "start_time": "2025-04-08T11:02:50.150130Z"
    }
   },
   "outputs": [
    {
     "data": {
      "text/html": [
       "<div>\n",
       "<style scoped>\n",
       "    .dataframe tbody tr th:only-of-type {\n",
       "        vertical-align: middle;\n",
       "    }\n",
       "\n",
       "    .dataframe tbody tr th {\n",
       "        vertical-align: top;\n",
       "    }\n",
       "\n",
       "    .dataframe thead th {\n",
       "        text-align: right;\n",
       "    }\n",
       "</style>\n",
       "<table border=\"1\" class=\"dataframe\">\n",
       "  <thead>\n",
       "    <tr style=\"text-align: right;\">\n",
       "      <th></th>\n",
       "      <th>0</th>\n",
       "      <th>1</th>\n",
       "    </tr>\n",
       "  </thead>\n",
       "  <tbody>\n",
       "    <tr>\n",
       "      <th>0</th>\n",
       "      <td>Python</td>\n",
       "      <td>3.9</td>\n",
       "    </tr>\n",
       "    <tr>\n",
       "      <th>1</th>\n",
       "      <td>Data</td>\n",
       "      <td>Analysis</td>\n",
       "    </tr>\n",
       "    <tr>\n",
       "      <th>2</th>\n",
       "      <td>pandas</td>\n",
       "      <td>library</td>\n",
       "    </tr>\n",
       "    <tr>\n",
       "      <th>3</th>\n",
       "      <td>PYTHON</td>\n",
       "      <td>EXAMPLE</td>\n",
       "    </tr>\n",
       "  </tbody>\n",
       "</table>\n",
       "</div>"
      ],
      "text/plain": [
       "        0         1\n",
       "0  Python       3.9\n",
       "1    Data  Analysis\n",
       "2  pandas   library\n",
       "3  PYTHON   EXAMPLE"
      ]
     },
     "execution_count": 240,
     "metadata": {},
     "output_type": "execute_result"
    }
   ],
   "source": [
    "# str.split 의 parameter 종류\n",
    "# - n: 최대 몇 번 분할할지\n",
    "# - expand: 별도의 열로 확장할지 말지, default 는 False\n",
    "# - regex: 첫 번째 str(pat) 이 정규식인지 아닌지, default 는 False\n",
    "df[\"text\"].str.split(\" \", expand=True)"
   ]
  },
  {
   "cell_type": "code",
   "execution_count": 241,
   "id": "1768b967ef751b69",
   "metadata": {
    "ExecuteTime": {
     "end_time": "2025-04-08T11:02:50.224580Z",
     "start_time": "2025-04-08T11:02:50.222299Z"
    }
   },
   "outputs": [
    {
     "data": {
      "text/plain": [
       "0        python 3.9\n",
       "1     data analysis\n",
       "2    pandas library\n",
       "3    python example\n",
       "Name: text, dtype: object"
      ]
     },
     "execution_count": 241,
     "metadata": {},
     "output_type": "execute_result"
    }
   ],
   "source": [
    "df[\"text\"].str.lower()"
   ]
  },
  {
   "cell_type": "code",
   "execution_count": 242,
   "id": "72b719681f256c7d",
   "metadata": {
    "ExecuteTime": {
     "end_time": "2025-04-08T11:02:50.296745Z",
     "start_time": "2025-04-08T11:02:50.294095Z"
    }
   },
   "outputs": [
    {
     "data": {
      "text/plain": [
       "0        PYTHON 3.9\n",
       "1     DATA ANALYSIS\n",
       "2    PANDAS LIBRARY\n",
       "3    PYTHON EXAMPLE\n",
       "Name: text, dtype: object"
      ]
     },
     "execution_count": 242,
     "metadata": {},
     "output_type": "execute_result"
    }
   ],
   "source": [
    "df[\"text\"].str.upper()"
   ]
  }
 ],
 "metadata": {
  "kernelspec": {
   "display_name": "Python 3",
   "language": "python",
   "name": "python3"
  },
  "language_info": {
   "codemirror_mode": {
    "name": "ipython",
    "version": 2
   },
   "file_extension": ".py",
   "mimetype": "text/x-python",
   "name": "python",
   "nbconvert_exporter": "python",
   "pygments_lexer": "ipython2",
   "version": "2.7.6"
  }
 },
 "nbformat": 4,
 "nbformat_minor": 5
}
