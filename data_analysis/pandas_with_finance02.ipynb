{
 "cells": [
  {
   "cell_type": "markdown",
   "id": "bd7737dd9b1982cd",
   "metadata": {},
   "source": "# Grouping"
  },
  {
   "cell_type": "markdown",
   "id": "ed4e762e00d1fcd1",
   "metadata": {},
   "source": "## 구간을 나눠서 그룹화 해보기"
  },
  {
   "cell_type": "code",
   "execution_count": 1,
   "id": "ef62a37ded6508a8",
   "metadata": {
    "ExecuteTime": {
     "end_time": "2025-04-16T09:18:50.424298Z",
     "start_time": "2025-04-16T09:18:50.187698Z"
    }
   },
   "outputs": [
    {
     "data": {
      "text/html": [
       "<div>\n",
       "<style scoped>\n",
       "    .dataframe tbody tr th:only-of-type {\n",
       "        vertical-align: middle;\n",
       "    }\n",
       "\n",
       "    .dataframe tbody tr th {\n",
       "        vertical-align: top;\n",
       "    }\n",
       "\n",
       "    .dataframe thead th {\n",
       "        text-align: right;\n",
       "    }\n",
       "</style>\n",
       "<table border=\"1\" class=\"dataframe\">\n",
       "  <thead>\n",
       "    <tr style=\"text-align: right;\">\n",
       "      <th></th>\n",
       "      <th>ticker</th>\n",
       "      <th>매출액(억원)</th>\n",
       "      <th>영업이익률(%)</th>\n",
       "      <th>순이익률(%)</th>\n",
       "      <th>당기순이익(억원)</th>\n",
       "      <th>ROE(%)</th>\n",
       "      <th>ROA(%)</th>\n",
       "      <th>ROIC(%)</th>\n",
       "      <th>EPS(원)</th>\n",
       "      <th>BPS(원)</th>\n",
       "      <th>SPS(원)</th>\n",
       "      <th>PER(배)</th>\n",
       "      <th>PBR(배)</th>\n",
       "      <th>PSR(배)</th>\n",
       "      <th>price</th>\n",
       "      <th>price2</th>\n",
       "    </tr>\n",
       "  </thead>\n",
       "  <tbody>\n",
       "    <tr>\n",
       "      <th>0</th>\n",
       "      <td>AK홀딩스</td>\n",
       "      <td>29218.3100</td>\n",
       "      <td>7.313</td>\n",
       "      <td>4.563</td>\n",
       "      <td>1333.2234</td>\n",
       "      <td>12.193</td>\n",
       "      <td>5.091</td>\n",
       "      <td>15.5147</td>\n",
       "      <td>5436.4126</td>\n",
       "      <td>48112.402</td>\n",
       "      <td>220556.1600</td>\n",
       "      <td>10.30091</td>\n",
       "      <td>1.16394</td>\n",
       "      <td>0.25390</td>\n",
       "      <td>56000.0</td>\n",
       "      <td>68500.0</td>\n",
       "    </tr>\n",
       "    <tr>\n",
       "      <th>1</th>\n",
       "      <td>BGF</td>\n",
       "      <td>860.7727</td>\n",
       "      <td>9.315</td>\n",
       "      <td>214.481</td>\n",
       "      <td>1846.1921</td>\n",
       "      <td>21.624</td>\n",
       "      <td>10.433</td>\n",
       "      <td>8.0153</td>\n",
       "      <td>3703.5774</td>\n",
       "      <td>18648.623</td>\n",
       "      <td>1737.2633</td>\n",
       "      <td>22.75690</td>\n",
       "      <td>4.51947</td>\n",
       "      <td>48.51420</td>\n",
       "      <td>42140.0</td>\n",
       "      <td>15250.0</td>\n",
       "    </tr>\n",
       "    <tr>\n",
       "      <th>2</th>\n",
       "      <td>BNK금융지주</td>\n",
       "      <td>49126.7600</td>\n",
       "      <td>14.499</td>\n",
       "      <td>10.546</td>\n",
       "      <td>5181.1440</td>\n",
       "      <td>7.919</td>\n",
       "      <td>0.564</td>\n",
       "      <td>NaN</td>\n",
       "      <td>1568.2368</td>\n",
       "      <td>20810.660</td>\n",
       "      <td>15358.9930</td>\n",
       "      <td>5.53488</td>\n",
       "      <td>0.41709</td>\n",
       "      <td>0.56514</td>\n",
       "      <td>8680.0</td>\n",
       "      <td>9420.0</td>\n",
       "    </tr>\n",
       "  </tbody>\n",
       "</table>\n",
       "</div>"
      ],
      "text/plain": [
       "    ticker     매출액(억원)  영업이익률(%)  순이익률(%)  당기순이익(억원)  ROE(%)  ROA(%)  ROIC(%)  \\\n",
       "0    AK홀딩스  29218.3100     7.313    4.563  1333.2234  12.193   5.091  15.5147   \n",
       "1      BGF    860.7727     9.315  214.481  1846.1921  21.624  10.433   8.0153   \n",
       "2  BNK금융지주  49126.7600    14.499   10.546  5181.1440   7.919   0.564      NaN   \n",
       "\n",
       "      EPS(원)     BPS(원)       SPS(원)    PER(배)   PBR(배)    PSR(배)    price  \\\n",
       "0  5436.4126  48112.402  220556.1600  10.30091  1.16394   0.25390  56000.0   \n",
       "1  3703.5774  18648.623    1737.2633  22.75690  4.51947  48.51420  42140.0   \n",
       "2  1568.2368  20810.660   15358.9930   5.53488  0.41709   0.56514   8680.0   \n",
       "\n",
       "    price2  \n",
       "0  68500.0  \n",
       "1  15250.0  \n",
       "2   9420.0  "
      ]
     },
     "execution_count": 1,
     "metadata": {},
     "output_type": "execute_result"
    }
   ],
   "source": [
    "import pandas as pd\n",
    "\n",
    "\n",
    "# 기업별 재무재표 데이터\n",
    "df = pd.read_csv(\"../data/naver_finance/2016_12.csv\")\n",
    "# \"price\" 는 해당 년 12월 마지막날의 종가\n",
    "# \"price2\" 는 다음 년도의 12월 마지막날의 종가\n",
    "df.head(3)"
   ]
  },
  {
   "cell_type": "code",
   "execution_count": 2,
   "id": "d78ae92e36e4edb0",
   "metadata": {
    "ExecuteTime": {
     "end_time": "2025-04-16T09:18:50.447938Z",
     "start_time": "2025-04-16T09:18:50.442036Z"
    }
   },
   "outputs": [
    {
     "data": {
      "text/html": [
       "<div>\n",
       "<style scoped>\n",
       "    .dataframe tbody tr th:only-of-type {\n",
       "        vertical-align: middle;\n",
       "    }\n",
       "\n",
       "    .dataframe tbody tr th {\n",
       "        vertical-align: top;\n",
       "    }\n",
       "\n",
       "    .dataframe thead th {\n",
       "        text-align: right;\n",
       "    }\n",
       "</style>\n",
       "<table border=\"1\" class=\"dataframe\">\n",
       "  <thead>\n",
       "    <tr style=\"text-align: right;\">\n",
       "      <th></th>\n",
       "      <th>ticker</th>\n",
       "      <th>매출액(억원)</th>\n",
       "      <th>영업이익률(%)</th>\n",
       "      <th>순이익률(%)</th>\n",
       "      <th>당기순이익(억원)</th>\n",
       "      <th>ROE(%)</th>\n",
       "      <th>ROA(%)</th>\n",
       "      <th>ROIC(%)</th>\n",
       "      <th>EPS(원)</th>\n",
       "      <th>BPS(원)</th>\n",
       "      <th>SPS(원)</th>\n",
       "      <th>PER(배)</th>\n",
       "      <th>PBR(배)</th>\n",
       "      <th>PSR(배)</th>\n",
       "      <th>price</th>\n",
       "      <th>price2</th>\n",
       "      <th>rfn</th>\n",
       "    </tr>\n",
       "  </thead>\n",
       "  <tbody>\n",
       "    <tr>\n",
       "      <th>0</th>\n",
       "      <td>AK홀딩스</td>\n",
       "      <td>29218.3100</td>\n",
       "      <td>7.313</td>\n",
       "      <td>4.563</td>\n",
       "      <td>1333.2234</td>\n",
       "      <td>12.193</td>\n",
       "      <td>5.091</td>\n",
       "      <td>15.5147</td>\n",
       "      <td>5436.4126</td>\n",
       "      <td>48112.402</td>\n",
       "      <td>220556.1600</td>\n",
       "      <td>10.30091</td>\n",
       "      <td>1.16394</td>\n",
       "      <td>0.25390</td>\n",
       "      <td>56000.0</td>\n",
       "      <td>68500.0</td>\n",
       "      <td>0.223214</td>\n",
       "    </tr>\n",
       "    <tr>\n",
       "      <th>1</th>\n",
       "      <td>BGF</td>\n",
       "      <td>860.7727</td>\n",
       "      <td>9.315</td>\n",
       "      <td>214.481</td>\n",
       "      <td>1846.1921</td>\n",
       "      <td>21.624</td>\n",
       "      <td>10.433</td>\n",
       "      <td>8.0153</td>\n",
       "      <td>3703.5774</td>\n",
       "      <td>18648.623</td>\n",
       "      <td>1737.2633</td>\n",
       "      <td>22.75690</td>\n",
       "      <td>4.51947</td>\n",
       "      <td>48.51420</td>\n",
       "      <td>42140.0</td>\n",
       "      <td>15250.0</td>\n",
       "      <td>-0.638111</td>\n",
       "    </tr>\n",
       "    <tr>\n",
       "      <th>2</th>\n",
       "      <td>BNK금융지주</td>\n",
       "      <td>49126.7600</td>\n",
       "      <td>14.499</td>\n",
       "      <td>10.546</td>\n",
       "      <td>5181.1440</td>\n",
       "      <td>7.919</td>\n",
       "      <td>0.564</td>\n",
       "      <td>NaN</td>\n",
       "      <td>1568.2368</td>\n",
       "      <td>20810.660</td>\n",
       "      <td>15358.9930</td>\n",
       "      <td>5.53488</td>\n",
       "      <td>0.41709</td>\n",
       "      <td>0.56514</td>\n",
       "      <td>8680.0</td>\n",
       "      <td>9420.0</td>\n",
       "      <td>0.085253</td>\n",
       "    </tr>\n",
       "  </tbody>\n",
       "</table>\n",
       "</div>"
      ],
      "text/plain": [
       "    ticker     매출액(억원)  영업이익률(%)  순이익률(%)  당기순이익(억원)  ROE(%)  ROA(%)  ROIC(%)  \\\n",
       "0    AK홀딩스  29218.3100     7.313    4.563  1333.2234  12.193   5.091  15.5147   \n",
       "1      BGF    860.7727     9.315  214.481  1846.1921  21.624  10.433   8.0153   \n",
       "2  BNK금융지주  49126.7600    14.499   10.546  5181.1440   7.919   0.564      NaN   \n",
       "\n",
       "      EPS(원)     BPS(원)       SPS(원)    PER(배)   PBR(배)    PSR(배)    price  \\\n",
       "0  5436.4126  48112.402  220556.1600  10.30091  1.16394   0.25390  56000.0   \n",
       "1  3703.5774  18648.623    1737.2633  22.75690  4.51947  48.51420  42140.0   \n",
       "2  1568.2368  20810.660   15358.9930   5.53488  0.41709   0.56514   8680.0   \n",
       "\n",
       "    price2       rfn  \n",
       "0  68500.0  0.223214  \n",
       "1  15250.0 -0.638111  \n",
       "2   9420.0  0.085253  "
      ]
     },
     "execution_count": 2,
     "metadata": {},
     "output_type": "execute_result"
    }
   ],
   "source": [
    "# 수익률 구하기(2016.12 ~ 2017.12)\n",
    "df[\"rfn\"] = df[\"price2\"] / df[\"price\"] - 1\n",
    "df.head(3)"
   ]
  },
  {
   "cell_type": "code",
   "execution_count": 3,
   "id": "e1ab0fa4c47bf588",
   "metadata": {
    "ExecuteTime": {
     "end_time": "2025-04-16T09:18:50.466268Z",
     "start_time": "2025-04-16T09:18:50.463224Z"
    }
   },
   "outputs": [
    {
     "data": {
      "text/plain": [
       "(np.int64(378), np.int64(148), np.int64(23), np.int64(120))"
      ]
     },
     "execution_count": 3,
     "metadata": {},
     "output_type": "execute_result"
    }
   ],
   "source": [
    "# PER 에 따라서 그룹을 나눠서 그룹 번호 넘어주기\n",
    "\n",
    "# PER 이 10을 넘는 행만 True 인 Series\n",
    "bound1 = df[\"PER(배)\"] >= 10\n",
    "\n",
    "# PER 이 5 이상 10 미만인 행만 True 인 Series\n",
    "bound2 = (df[\"PER(배)\"] >= 5) & (df[\"PER(배)\"] < 10)\n",
    "\n",
    "# PER 이 0 이상 5 미만인 True 인 Series\n",
    "bound3 = (df[\"PER(배)\"] >= 0) & (df[\"PER(배)\"] < 5)\n",
    "\n",
    "# PER 이 0 미만인 행만 True 인 Series\n",
    "bound4 = df[\"PER(배)\"] < 0\n",
    "\n",
    "bound1.sum(), bound2.sum(), bound3.sum(), bound4.sum()"
   ]
  },
  {
   "cell_type": "code",
   "execution_count": 4,
   "id": "c03e554e8b77acd2",
   "metadata": {
    "ExecuteTime": {
     "end_time": "2025-04-16T09:18:50.532732Z",
     "start_time": "2025-04-16T09:18:50.529815Z"
    }
   },
   "outputs": [],
   "source": [
    "# loc 를 사용해서 set operation 하기('=' 를 사용해서 해당 위치에 값을 넣음)\n",
    "# loc 을 사용해서, \"PER_Score\" 열에 값을 덮어씌운다.\n",
    "# 현재는 \"PER_Score\" 이 없으니까 새로운 열을 만들어지고 default 로 모두 NaN 이 들어감,\n",
    "# 그 뒤, set operation 진행!\n",
    "# 해당되는 행에만 값을 수정함\n",
    "df.loc[bound1, \"PER_Score\"] = 1\n",
    "df.loc[bound2, \"PER_Score\"] = 2\n",
    "df.loc[bound3, \"PER_Score\"] = 3\n",
    "df.loc[bound4, \"PER_Score\"] = -1"
   ]
  },
  {
   "cell_type": "code",
   "execution_count": 5,
   "id": "2e4c69f865fa7c37",
   "metadata": {
    "ExecuteTime": {
     "end_time": "2025-04-16T09:18:50.564676Z",
     "start_time": "2025-04-16T09:18:50.562117Z"
    }
   },
   "outputs": [
    {
     "data": {
      "text/plain": [
       "0    1.0\n",
       "1    1.0\n",
       "2    2.0\n",
       "Name: PER_Score, dtype: float64"
      ]
     },
     "execution_count": 5,
     "metadata": {},
     "output_type": "execute_result"
    }
   ],
   "source": [
    "df[\"PER_Score\"].head(3)"
   ]
  },
  {
   "cell_type": "code",
   "execution_count": 6,
   "id": "63327ccfe620a2a9",
   "metadata": {
    "ExecuteTime": {
     "end_time": "2025-04-16T09:18:50.595497Z",
     "start_time": "2025-04-16T09:18:50.593554Z"
    }
   },
   "outputs": [
    {
     "data": {
      "text/plain": [
       "4"
      ]
     },
     "execution_count": 6,
     "metadata": {},
     "output_type": "execute_result"
    }
   ],
   "source": [
    "df[\"PER_Score\"].nunique()"
   ]
  },
  {
   "cell_type": "code",
   "execution_count": 7,
   "id": "cd4ef82f016ccd23",
   "metadata": {
    "ExecuteTime": {
     "end_time": "2025-04-16T09:18:50.619948Z",
     "start_time": "2025-04-16T09:18:50.617497Z"
    }
   },
   "outputs": [
    {
     "data": {
      "text/plain": [
       "PER_Score\n",
       " 1.0    378\n",
       " 2.0    148\n",
       "-1.0    120\n",
       " 3.0     23\n",
       "Name: count, dtype: int64"
      ]
     },
     "execution_count": 7,
     "metadata": {},
     "output_type": "execute_result"
    }
   ],
   "source": [
    "# PER_Score 의 value_counts() 가 float 으로 나온다!\n",
    "# int 값으로 넣어줬는데, float? ==> NaN 인 값이 있다는 말!!\n",
    "df[\"PER_Score\"].value_counts()"
   ]
  },
  {
   "cell_type": "code",
   "execution_count": 8,
   "id": "66e82ef275408413",
   "metadata": {
    "ExecuteTime": {
     "end_time": "2025-04-16T09:18:50.645888Z",
     "start_time": "2025-04-16T09:18:50.643705Z"
    }
   },
   "outputs": [
    {
     "data": {
      "text/plain": [
       "np.int64(12)"
      ]
     },
     "execution_count": 8,
     "metadata": {},
     "output_type": "execute_result"
    }
   ],
   "source": [
    "df[\"PER_Score\"].isna().sum()"
   ]
  },
  {
   "cell_type": "code",
   "execution_count": 9,
   "id": "f38871be21dc8cf4",
   "metadata": {
    "ExecuteTime": {
     "end_time": "2025-04-16T09:18:50.677795Z",
     "start_time": "2025-04-16T09:18:50.674997Z"
    }
   },
   "outputs": [
    {
     "data": {
      "text/plain": [
       "np.int64(12)"
      ]
     },
     "execution_count": 9,
     "metadata": {},
     "output_type": "execute_result"
    }
   ],
   "source": [
    "# bound1 ~ bound4 가 하나도 안 겹치도록 했음에도,\n",
    "# PER_Score 에 NaN 이 있다.\n",
    "# => 연산을 한 피연산자 중에 NaN 이 있는 것!\n",
    "# => PER(배) 중 에 NaN 인 값이 있다.\n",
    "df[\"PER(배)\"].isna().sum()"
   ]
  },
  {
   "cell_type": "code",
   "execution_count": 10,
   "id": "59561dc1fee4df60",
   "metadata": {
    "ExecuteTime": {
     "end_time": "2025-04-16T09:18:50.695231Z",
     "start_time": "2025-04-16T09:18:50.690942Z"
    }
   },
   "outputs": [
    {
     "data": {
      "text/plain": [
       "PER_Score\n",
       " 1.0    378\n",
       " 2.0    148\n",
       "-1.0    120\n",
       " 3.0     23\n",
       " 0.0     12\n",
       "Name: count, dtype: int64"
      ]
     },
     "execution_count": 10,
     "metadata": {},
     "output_type": "execute_result"
    }
   ],
   "source": [
    "# PER_Score 중 NaN 값으로 0 으로 메꾸기\n",
    "df[df[\"PER_Score\"].isna()] = 0\n",
    "df[\"PER_Score\"].value_counts()"
   ]
  },
  {
   "cell_type": "code",
   "execution_count": 11,
   "id": "93f42cc7db98d921",
   "metadata": {
    "ExecuteTime": {
     "end_time": "2025-04-16T09:18:50.823326Z",
     "start_time": "2025-04-16T09:18:50.821053Z"
    }
   },
   "outputs": [],
   "source": [
    "# 위에서 했던 것을 1줄로 끝내기!\n",
    "# 연산을 하면서 False 는 0 이 되므로 NaN 이 자동으로 0 으도 된다!\n",
    "df.loc[:, \"PER_Score2\"] = (bound1 * 1) + (bound2 * 2) + (bound3 * 3) + (bound4 * -1)"
   ]
  },
  {
   "cell_type": "code",
   "execution_count": 12,
   "id": "26c20f5514af60e5",
   "metadata": {
    "ExecuteTime": {
     "end_time": "2025-04-16T09:18:50.845332Z",
     "start_time": "2025-04-16T09:18:50.842523Z"
    }
   },
   "outputs": [
    {
     "data": {
      "text/plain": [
       "PER_Score2\n",
       " 1    378\n",
       " 2    148\n",
       "-1    120\n",
       " 3     23\n",
       " 0     12\n",
       "Name: count, dtype: int64"
      ]
     },
     "execution_count": 12,
     "metadata": {},
     "output_type": "execute_result"
    }
   ],
   "source": [
    "df[\"PER_Score2\"].value_counts()"
   ]
  },
  {
   "cell_type": "code",
   "execution_count": 13,
   "id": "e14af4de008e0940",
   "metadata": {
    "ExecuteTime": {
     "end_time": "2025-04-16T09:18:50.885824Z",
     "start_time": "2025-04-16T09:18:50.883609Z"
    }
   },
   "outputs": [
    {
     "data": {
      "text/plain": [
       "False"
      ]
     },
     "execution_count": 13,
     "metadata": {},
     "output_type": "execute_result"
    }
   ],
   "source": [
    "# 둘 컬럼이 다른 이유는 dtype 이 다르기 때문에!\n",
    "# equals 는 dtype 도 같고 값도 같아야 True 를 반환\n",
    "df[\"PER_Score\"].equals(df[\"PER_Score2\"])"
   ]
  },
  {
   "cell_type": "markdown",
   "id": "7974e15a449d8e80",
   "metadata": {},
   "source": "## pd.cut 을 사용해서 구간을 나눠보기"
  },
  {
   "cell_type": "code",
   "execution_count": 14,
   "id": "c00c3f67bc921068",
   "metadata": {
    "ExecuteTime": {
     "end_time": "2025-04-16T09:18:50.911275Z",
     "start_time": "2025-04-16T09:18:50.904403Z"
    }
   },
   "outputs": [
    {
     "data": {
      "text/html": [
       "<div>\n",
       "<style scoped>\n",
       "    .dataframe tbody tr th:only-of-type {\n",
       "        vertical-align: middle;\n",
       "    }\n",
       "\n",
       "    .dataframe tbody tr th {\n",
       "        vertical-align: top;\n",
       "    }\n",
       "\n",
       "    .dataframe thead th {\n",
       "        text-align: right;\n",
       "    }\n",
       "</style>\n",
       "<table border=\"1\" class=\"dataframe\">\n",
       "  <thead>\n",
       "    <tr style=\"text-align: right;\">\n",
       "      <th></th>\n",
       "      <th>ticker</th>\n",
       "      <th>매출액(억원)</th>\n",
       "      <th>영업이익률(%)</th>\n",
       "      <th>순이익률(%)</th>\n",
       "      <th>당기순이익(억원)</th>\n",
       "      <th>ROE(%)</th>\n",
       "      <th>ROA(%)</th>\n",
       "      <th>ROIC(%)</th>\n",
       "      <th>EPS(원)</th>\n",
       "      <th>BPS(원)</th>\n",
       "      <th>SPS(원)</th>\n",
       "      <th>PER(배)</th>\n",
       "      <th>PBR(배)</th>\n",
       "      <th>PSR(배)</th>\n",
       "      <th>price</th>\n",
       "      <th>price2</th>\n",
       "    </tr>\n",
       "  </thead>\n",
       "  <tbody>\n",
       "    <tr>\n",
       "      <th>0</th>\n",
       "      <td>AK홀딩스</td>\n",
       "      <td>29218.3100</td>\n",
       "      <td>7.313</td>\n",
       "      <td>4.563</td>\n",
       "      <td>1333.2234</td>\n",
       "      <td>12.193</td>\n",
       "      <td>5.091</td>\n",
       "      <td>15.5147</td>\n",
       "      <td>5436.4126</td>\n",
       "      <td>48112.402</td>\n",
       "      <td>220556.1600</td>\n",
       "      <td>10.30091</td>\n",
       "      <td>1.16394</td>\n",
       "      <td>0.25390</td>\n",
       "      <td>56000.0</td>\n",
       "      <td>68500.0</td>\n",
       "    </tr>\n",
       "    <tr>\n",
       "      <th>1</th>\n",
       "      <td>BGF</td>\n",
       "      <td>860.7727</td>\n",
       "      <td>9.315</td>\n",
       "      <td>214.481</td>\n",
       "      <td>1846.1921</td>\n",
       "      <td>21.624</td>\n",
       "      <td>10.433</td>\n",
       "      <td>8.0153</td>\n",
       "      <td>3703.5774</td>\n",
       "      <td>18648.623</td>\n",
       "      <td>1737.2633</td>\n",
       "      <td>22.75690</td>\n",
       "      <td>4.51947</td>\n",
       "      <td>48.51420</td>\n",
       "      <td>42140.0</td>\n",
       "      <td>15250.0</td>\n",
       "    </tr>\n",
       "    <tr>\n",
       "      <th>2</th>\n",
       "      <td>BNK금융지주</td>\n",
       "      <td>49126.7600</td>\n",
       "      <td>14.499</td>\n",
       "      <td>10.546</td>\n",
       "      <td>5181.1440</td>\n",
       "      <td>7.919</td>\n",
       "      <td>0.564</td>\n",
       "      <td>NaN</td>\n",
       "      <td>1568.2368</td>\n",
       "      <td>20810.660</td>\n",
       "      <td>15358.9930</td>\n",
       "      <td>5.53488</td>\n",
       "      <td>0.41709</td>\n",
       "      <td>0.56514</td>\n",
       "      <td>8680.0</td>\n",
       "      <td>9420.0</td>\n",
       "    </tr>\n",
       "  </tbody>\n",
       "</table>\n",
       "</div>"
      ],
      "text/plain": [
       "    ticker     매출액(억원)  영업이익률(%)  순이익률(%)  당기순이익(억원)  ROE(%)  ROA(%)  ROIC(%)  \\\n",
       "0    AK홀딩스  29218.3100     7.313    4.563  1333.2234  12.193   5.091  15.5147   \n",
       "1      BGF    860.7727     9.315  214.481  1846.1921  21.624  10.433   8.0153   \n",
       "2  BNK금융지주  49126.7600    14.499   10.546  5181.1440   7.919   0.564      NaN   \n",
       "\n",
       "      EPS(원)     BPS(원)       SPS(원)    PER(배)   PBR(배)    PSR(배)    price  \\\n",
       "0  5436.4126  48112.402  220556.1600  10.30091  1.16394   0.25390  56000.0   \n",
       "1  3703.5774  18648.623    1737.2633  22.75690  4.51947  48.51420  42140.0   \n",
       "2  1568.2368  20810.660   15358.9930   5.53488  0.41709   0.56514   8680.0   \n",
       "\n",
       "    price2  \n",
       "0  68500.0  \n",
       "1  15250.0  \n",
       "2   9420.0  "
      ]
     },
     "execution_count": 14,
     "metadata": {},
     "output_type": "execute_result"
    }
   ],
   "source": [
    "import numpy as np\n",
    "import pandas as pd\n",
    "\n",
    "\n",
    "# 기업별 재무재표 데이터\n",
    "df = pd.read_csv(\"../data/naver_finance/2016_12.csv\")\n",
    "# \"price\" 는 해당 년 12월 마지막날의 종가\n",
    "# \"price2\" 는 다음 년도의 12월 마지막날의 종가\n",
    "df.head(3)"
   ]
  },
  {
   "cell_type": "code",
   "execution_count": 15,
   "id": "7f7d4aa6f11089b5",
   "metadata": {
    "ExecuteTime": {
     "end_time": "2025-04-16T09:18:50.939549Z",
     "start_time": "2025-04-16T09:18:50.935417Z"
    }
   },
   "outputs": [
    {
     "name": "stdout",
     "output_type": "stream",
     "text": [
      "<class 'pandas.core.series.Series'>\n"
     ]
    },
    {
     "data": {
      "text/plain": [
       "0    (10.0, inf]\n",
       "1    (10.0, inf]\n",
       "2    (5.0, 10.0]\n",
       "3    (10.0, inf]\n",
       "4    (10.0, inf]\n",
       "Name: PER(배), dtype: category\n",
       "Categories (4, interval[float64, right]): [(-inf, 0.0] < (0.0, 5.0] < (5.0, 10.0] < (10.0, inf]]"
      ]
     },
     "execution_count": 15,
     "metadata": {},
     "output_type": "execute_result"
    }
   ],
   "source": [
    "per_cuts = pd.cut(\n",
    "    df[\"PER(배)\"],\n",
    "    [-np.inf, 0, 5, 10, np.inf],\n",
    ")\n",
    "# dtype 이 catetory!\n",
    "print(type(per_cuts))\n",
    "per_cuts.head()"
   ]
  },
  {
   "cell_type": "code",
   "execution_count": 16,
   "id": "46fde0c069ec9461",
   "metadata": {
    "ExecuteTime": {
     "end_time": "2025-04-16T09:18:50.968473Z",
     "start_time": "2025-04-16T09:18:50.966515Z"
    }
   },
   "outputs": [
    {
     "data": {
      "text/plain": [
       "Interval(10.0, inf, closed='right')"
      ]
     },
     "execution_count": 16,
     "metadata": {},
     "output_type": "execute_result"
    }
   ],
   "source": [
    "per_cuts[0]  # pandas 의 Interval 을 값으로 갖고 있다."
   ]
  },
  {
   "cell_type": "code",
   "execution_count": 17,
   "id": "aabbe85d5241e590",
   "metadata": {
    "ExecuteTime": {
     "end_time": "2025-04-16T09:18:50.995705Z",
     "start_time": "2025-04-16T09:18:50.992485Z"
    }
   },
   "outputs": [
    {
     "data": {
      "text/plain": [
       "PER(배)\n",
       "(10.0, inf]    378\n",
       "(5.0, 10.0]    148\n",
       "(-inf, 0.0]    120\n",
       "(0.0, 5.0]      23\n",
       "Name: count, dtype: int64"
      ]
     },
     "execution_count": 17,
     "metadata": {},
     "output_type": "execute_result"
    }
   ],
   "source": [
    "per_cuts.value_counts()"
   ]
  },
  {
   "cell_type": "code",
   "execution_count": 18,
   "id": "a7a4e6870b6cf11d",
   "metadata": {
    "ExecuteTime": {
     "end_time": "2025-04-16T09:18:51.030494Z",
     "start_time": "2025-04-16T09:18:51.028322Z"
    }
   },
   "outputs": [
    {
     "data": {
      "text/plain": [
       "np.int64(12)"
      ]
     },
     "execution_count": 18,
     "metadata": {},
     "output_type": "execute_result"
    }
   ],
   "source": [
    "# cut 으로 그룹화를 할 때도,\n",
    "# NaN 은 크기 비교가 불가해서 그대로 NaN 이 된 것!\n",
    "per_cuts.isna().sum()"
   ]
  },
  {
   "cell_type": "code",
   "execution_count": 19,
   "id": "180bb39715c22aca",
   "metadata": {
    "ExecuteTime": {
     "end_time": "2025-04-16T09:18:51.052803Z",
     "start_time": "2025-04-16T09:18:51.049555Z"
    }
   },
   "outputs": [
    {
     "data": {
      "text/plain": [
       "0     보통주\n",
       "1    고평가주\n",
       "2     저평가\n",
       "3     보통주\n",
       "4    고평가주\n",
       "Name: PER(배), dtype: category\n",
       "Categories (3, object): ['저평가' < '보통주' < '고평가주']"
      ]
     },
     "execution_count": 19,
     "metadata": {},
     "output_type": "execute_result"
    }
   ],
   "source": [
    "bins = [-np.inf, 10, 20, np.inf]\n",
    "labels = [\"저평가\", \"보통주\", \"고평가주\"]\n",
    "per_cuts2 = pd.cut(df[\"PER(배)\"], bins, labels=labels)\n",
    "per_cuts2.head()"
   ]
  },
  {
   "cell_type": "code",
   "execution_count": 20,
   "id": "edb3ce9c22f1dd35",
   "metadata": {
    "ExecuteTime": {
     "end_time": "2025-04-16T09:18:51.072854Z",
     "start_time": "2025-04-16T09:18:51.065937Z"
    }
   },
   "outputs": [
    {
     "data": {
      "text/html": [
       "<div>\n",
       "<style scoped>\n",
       "    .dataframe tbody tr th:only-of-type {\n",
       "        vertical-align: middle;\n",
       "    }\n",
       "\n",
       "    .dataframe tbody tr th {\n",
       "        vertical-align: top;\n",
       "    }\n",
       "\n",
       "    .dataframe thead th {\n",
       "        text-align: right;\n",
       "    }\n",
       "</style>\n",
       "<table border=\"1\" class=\"dataframe\">\n",
       "  <thead>\n",
       "    <tr style=\"text-align: right;\">\n",
       "      <th></th>\n",
       "      <th>ticker</th>\n",
       "      <th>매출액(억원)</th>\n",
       "      <th>영업이익률(%)</th>\n",
       "      <th>순이익률(%)</th>\n",
       "      <th>당기순이익(억원)</th>\n",
       "      <th>ROE(%)</th>\n",
       "      <th>ROA(%)</th>\n",
       "      <th>ROIC(%)</th>\n",
       "      <th>EPS(원)</th>\n",
       "      <th>BPS(원)</th>\n",
       "      <th>SPS(원)</th>\n",
       "      <th>PER(배)</th>\n",
       "      <th>PBR(배)</th>\n",
       "      <th>PSR(배)</th>\n",
       "      <th>price</th>\n",
       "      <th>price2</th>\n",
       "      <th>PER_Score2</th>\n",
       "    </tr>\n",
       "  </thead>\n",
       "  <tbody>\n",
       "    <tr>\n",
       "      <th>0</th>\n",
       "      <td>AK홀딩스</td>\n",
       "      <td>29218.3100</td>\n",
       "      <td>7.313</td>\n",
       "      <td>4.563</td>\n",
       "      <td>1333.22340</td>\n",
       "      <td>12.193</td>\n",
       "      <td>5.091</td>\n",
       "      <td>15.5147</td>\n",
       "      <td>5436.4126</td>\n",
       "      <td>48112.402</td>\n",
       "      <td>220556.1600</td>\n",
       "      <td>10.30091</td>\n",
       "      <td>1.16394</td>\n",
       "      <td>0.25390</td>\n",
       "      <td>56000.0</td>\n",
       "      <td>68500.0</td>\n",
       "      <td>보통주</td>\n",
       "    </tr>\n",
       "    <tr>\n",
       "      <th>1</th>\n",
       "      <td>BGF</td>\n",
       "      <td>860.7727</td>\n",
       "      <td>9.315</td>\n",
       "      <td>214.481</td>\n",
       "      <td>1846.19210</td>\n",
       "      <td>21.624</td>\n",
       "      <td>10.433</td>\n",
       "      <td>8.0153</td>\n",
       "      <td>3703.5774</td>\n",
       "      <td>18648.623</td>\n",
       "      <td>1737.2633</td>\n",
       "      <td>22.75690</td>\n",
       "      <td>4.51947</td>\n",
       "      <td>48.51420</td>\n",
       "      <td>42140.0</td>\n",
       "      <td>15250.0</td>\n",
       "      <td>고평가주</td>\n",
       "    </tr>\n",
       "    <tr>\n",
       "      <th>2</th>\n",
       "      <td>BNK금융지주</td>\n",
       "      <td>49126.7600</td>\n",
       "      <td>14.499</td>\n",
       "      <td>10.546</td>\n",
       "      <td>5181.14400</td>\n",
       "      <td>7.919</td>\n",
       "      <td>0.564</td>\n",
       "      <td>NaN</td>\n",
       "      <td>1568.2368</td>\n",
       "      <td>20810.660</td>\n",
       "      <td>15358.9930</td>\n",
       "      <td>5.53488</td>\n",
       "      <td>0.41709</td>\n",
       "      <td>0.56514</td>\n",
       "      <td>8680.0</td>\n",
       "      <td>9420.0</td>\n",
       "      <td>저평가</td>\n",
       "    </tr>\n",
       "    <tr>\n",
       "      <th>3</th>\n",
       "      <td>BYC</td>\n",
       "      <td>2118.5762</td>\n",
       "      <td>7.625</td>\n",
       "      <td>8.281</td>\n",
       "      <td>175.43266</td>\n",
       "      <td>4.543</td>\n",
       "      <td>2.463</td>\n",
       "      <td>10.7475</td>\n",
       "      <td>20872.3120</td>\n",
       "      <td>471887.000</td>\n",
       "      <td>252211.4500</td>\n",
       "      <td>19.02041</td>\n",
       "      <td>0.84130</td>\n",
       "      <td>1.57408</td>\n",
       "      <td>397000.0</td>\n",
       "      <td>306000.0</td>\n",
       "      <td>보통주</td>\n",
       "    </tr>\n",
       "    <tr>\n",
       "      <th>4</th>\n",
       "      <td>CJ</td>\n",
       "      <td>239541.9700</td>\n",
       "      <td>5.230</td>\n",
       "      <td>2.379</td>\n",
       "      <td>5698.23400</td>\n",
       "      <td>6.080</td>\n",
       "      <td>2.253</td>\n",
       "      <td>5.1579</td>\n",
       "      <td>6257.1523</td>\n",
       "      <td>114276.080</td>\n",
       "      <td>672045.9000</td>\n",
       "      <td>28.18128</td>\n",
       "      <td>1.54306</td>\n",
       "      <td>0.26238</td>\n",
       "      <td>176334.0</td>\n",
       "      <td>171148.0</td>\n",
       "      <td>고평가주</td>\n",
       "    </tr>\n",
       "  </tbody>\n",
       "</table>\n",
       "</div>"
      ],
      "text/plain": [
       "    ticker      매출액(억원)  영업이익률(%)  순이익률(%)   당기순이익(억원)  ROE(%)  ROA(%)  \\\n",
       "0    AK홀딩스   29218.3100     7.313    4.563  1333.22340  12.193   5.091   \n",
       "1      BGF     860.7727     9.315  214.481  1846.19210  21.624  10.433   \n",
       "2  BNK금융지주   49126.7600    14.499   10.546  5181.14400   7.919   0.564   \n",
       "3      BYC    2118.5762     7.625    8.281   175.43266   4.543   2.463   \n",
       "4       CJ  239541.9700     5.230    2.379  5698.23400   6.080   2.253   \n",
       "\n",
       "   ROIC(%)      EPS(원)      BPS(원)       SPS(원)    PER(배)   PBR(배)    PSR(배)  \\\n",
       "0  15.5147   5436.4126   48112.402  220556.1600  10.30091  1.16394   0.25390   \n",
       "1   8.0153   3703.5774   18648.623    1737.2633  22.75690  4.51947  48.51420   \n",
       "2      NaN   1568.2368   20810.660   15358.9930   5.53488  0.41709   0.56514   \n",
       "3  10.7475  20872.3120  471887.000  252211.4500  19.02041  0.84130   1.57408   \n",
       "4   5.1579   6257.1523  114276.080  672045.9000  28.18128  1.54306   0.26238   \n",
       "\n",
       "      price    price2 PER_Score2  \n",
       "0   56000.0   68500.0        보통주  \n",
       "1   42140.0   15250.0       고평가주  \n",
       "2    8680.0    9420.0        저평가  \n",
       "3  397000.0  306000.0        보통주  \n",
       "4  176334.0  171148.0       고평가주  "
      ]
     },
     "execution_count": 20,
     "metadata": {},
     "output_type": "execute_result"
    }
   ],
   "source": [
    "df.loc[:, \"PER_Score2\"] = per_cuts2\n",
    "df.head()"
   ]
  },
  {
   "cell_type": "markdown",
   "id": "45a3f6afed011f5b",
   "metadata": {},
   "source": "## pd.qcut 을 사용해서 구간 나눠보기"
  },
  {
   "cell_type": "code",
   "execution_count": 21,
   "id": "5adac95d0d8dd289",
   "metadata": {
    "ExecuteTime": {
     "end_time": "2025-04-16T09:18:51.106102Z",
     "start_time": "2025-04-16T09:18:51.099032Z"
    }
   },
   "outputs": [
    {
     "data": {
      "text/html": [
       "<div>\n",
       "<style scoped>\n",
       "    .dataframe tbody tr th:only-of-type {\n",
       "        vertical-align: middle;\n",
       "    }\n",
       "\n",
       "    .dataframe tbody tr th {\n",
       "        vertical-align: top;\n",
       "    }\n",
       "\n",
       "    .dataframe thead th {\n",
       "        text-align: right;\n",
       "    }\n",
       "</style>\n",
       "<table border=\"1\" class=\"dataframe\">\n",
       "  <thead>\n",
       "    <tr style=\"text-align: right;\">\n",
       "      <th></th>\n",
       "      <th>ticker</th>\n",
       "      <th>매출액(억원)</th>\n",
       "      <th>영업이익률(%)</th>\n",
       "      <th>순이익률(%)</th>\n",
       "      <th>당기순이익(억원)</th>\n",
       "      <th>ROE(%)</th>\n",
       "      <th>ROA(%)</th>\n",
       "      <th>ROIC(%)</th>\n",
       "      <th>EPS(원)</th>\n",
       "      <th>BPS(원)</th>\n",
       "      <th>SPS(원)</th>\n",
       "      <th>PER(배)</th>\n",
       "      <th>PBR(배)</th>\n",
       "      <th>PSR(배)</th>\n",
       "      <th>price</th>\n",
       "      <th>price2</th>\n",
       "    </tr>\n",
       "  </thead>\n",
       "  <tbody>\n",
       "    <tr>\n",
       "      <th>0</th>\n",
       "      <td>AK홀딩스</td>\n",
       "      <td>29218.3100</td>\n",
       "      <td>7.313</td>\n",
       "      <td>4.563</td>\n",
       "      <td>1333.2234</td>\n",
       "      <td>12.193</td>\n",
       "      <td>5.091</td>\n",
       "      <td>15.5147</td>\n",
       "      <td>5436.4126</td>\n",
       "      <td>48112.402</td>\n",
       "      <td>220556.1600</td>\n",
       "      <td>10.30091</td>\n",
       "      <td>1.16394</td>\n",
       "      <td>0.25390</td>\n",
       "      <td>56000.0</td>\n",
       "      <td>68500.0</td>\n",
       "    </tr>\n",
       "    <tr>\n",
       "      <th>1</th>\n",
       "      <td>BGF</td>\n",
       "      <td>860.7727</td>\n",
       "      <td>9.315</td>\n",
       "      <td>214.481</td>\n",
       "      <td>1846.1921</td>\n",
       "      <td>21.624</td>\n",
       "      <td>10.433</td>\n",
       "      <td>8.0153</td>\n",
       "      <td>3703.5774</td>\n",
       "      <td>18648.623</td>\n",
       "      <td>1737.2633</td>\n",
       "      <td>22.75690</td>\n",
       "      <td>4.51947</td>\n",
       "      <td>48.51420</td>\n",
       "      <td>42140.0</td>\n",
       "      <td>15250.0</td>\n",
       "    </tr>\n",
       "    <tr>\n",
       "      <th>2</th>\n",
       "      <td>BNK금융지주</td>\n",
       "      <td>49126.7600</td>\n",
       "      <td>14.499</td>\n",
       "      <td>10.546</td>\n",
       "      <td>5181.1440</td>\n",
       "      <td>7.919</td>\n",
       "      <td>0.564</td>\n",
       "      <td>NaN</td>\n",
       "      <td>1568.2368</td>\n",
       "      <td>20810.660</td>\n",
       "      <td>15358.9930</td>\n",
       "      <td>5.53488</td>\n",
       "      <td>0.41709</td>\n",
       "      <td>0.56514</td>\n",
       "      <td>8680.0</td>\n",
       "      <td>9420.0</td>\n",
       "    </tr>\n",
       "  </tbody>\n",
       "</table>\n",
       "</div>"
      ],
      "text/plain": [
       "    ticker     매출액(억원)  영업이익률(%)  순이익률(%)  당기순이익(억원)  ROE(%)  ROA(%)  ROIC(%)  \\\n",
       "0    AK홀딩스  29218.3100     7.313    4.563  1333.2234  12.193   5.091  15.5147   \n",
       "1      BGF    860.7727     9.315  214.481  1846.1921  21.624  10.433   8.0153   \n",
       "2  BNK금융지주  49126.7600    14.499   10.546  5181.1440   7.919   0.564      NaN   \n",
       "\n",
       "      EPS(원)     BPS(원)       SPS(원)    PER(배)   PBR(배)    PSR(배)    price  \\\n",
       "0  5436.4126  48112.402  220556.1600  10.30091  1.16394   0.25390  56000.0   \n",
       "1  3703.5774  18648.623    1737.2633  22.75690  4.51947  48.51420  42140.0   \n",
       "2  1568.2368  20810.660   15358.9930   5.53488  0.41709   0.56514   8680.0   \n",
       "\n",
       "    price2  \n",
       "0  68500.0  \n",
       "1  15250.0  \n",
       "2   9420.0  "
      ]
     },
     "execution_count": 21,
     "metadata": {},
     "output_type": "execute_result"
    }
   ],
   "source": [
    "import pandas as pd\n",
    "\n",
    "\n",
    "# 기업별 재무재표 데이터\n",
    "df = pd.read_csv(\"../data/naver_finance/2016_12.csv\")\n",
    "# \"price\" 는 해당 년 12월 마지막날의 종가\n",
    "# \"price2\" 는 다음 년도의 12월 마지막날의 종가\n",
    "df.head(3)"
   ]
  },
  {
   "cell_type": "code",
   "execution_count": 22,
   "id": "3f66a257eec14790",
   "metadata": {
    "ExecuteTime": {
     "end_time": "2025-04-16T09:18:51.124182Z",
     "start_time": "2025-04-16T09:18:51.120459Z"
    }
   },
   "outputs": [
    {
     "data": {
      "text/plain": [
       "0          (7.666, 16.495]\n",
       "1       (16.495, 7056.129]\n",
       "2      (-27857.497, 7.666]\n",
       "3       (16.495, 7056.129]\n",
       "4       (16.495, 7056.129]\n",
       "              ...         \n",
       "676     (16.495, 7056.129]\n",
       "677    (-27857.497, 7.666]\n",
       "678     (16.495, 7056.129]\n",
       "679    (-27857.497, 7.666]\n",
       "680    (-27857.497, 7.666]\n",
       "Name: PER(배), Length: 681, dtype: category\n",
       "Categories (3, interval[float64, right]): [(-27857.497, 7.666] < (7.666, 16.495] < (16.495, 7056.129]]"
      ]
     },
     "execution_count": 22,
     "metadata": {},
     "output_type": "execute_result"
    }
   ],
   "source": [
    "# quantile cut!\n",
    "pd.qcut(df[\"PER(배)\"], 3)"
   ]
  },
  {
   "cell_type": "code",
   "execution_count": 23,
   "id": "4844b2c126f09262",
   "metadata": {
    "ExecuteTime": {
     "end_time": "2025-04-16T09:18:51.190094Z",
     "start_time": "2025-04-16T09:18:51.185858Z"
    }
   },
   "outputs": [
    {
     "data": {
      "text/plain": [
       "0      2\n",
       "1      3\n",
       "2      1\n",
       "3      3\n",
       "4      3\n",
       "      ..\n",
       "676    3\n",
       "677    1\n",
       "678    3\n",
       "679    1\n",
       "680    1\n",
       "Name: PER(배), Length: 681, dtype: category\n",
       "Categories (3, int64): [1 < 2 < 3]"
      ]
     },
     "execution_count": 23,
     "metadata": {},
     "output_type": "execute_result"
    }
   ],
   "source": [
    "pd.qcut(df[\"PER(배)\"], 3, labels=[1, 2, 3])"
   ]
  },
  {
   "cell_type": "code",
   "execution_count": 24,
   "id": "11e91a86717ca4c5",
   "metadata": {
    "ExecuteTime": {
     "end_time": "2025-04-16T09:18:51.231115Z",
     "start_time": "2025-04-16T09:18:51.222944Z"
    }
   },
   "outputs": [
    {
     "data": {
      "text/html": [
       "<div>\n",
       "<style scoped>\n",
       "    .dataframe tbody tr th:only-of-type {\n",
       "        vertical-align: middle;\n",
       "    }\n",
       "\n",
       "    .dataframe tbody tr th {\n",
       "        vertical-align: top;\n",
       "    }\n",
       "\n",
       "    .dataframe thead th {\n",
       "        text-align: right;\n",
       "    }\n",
       "</style>\n",
       "<table border=\"1\" class=\"dataframe\">\n",
       "  <thead>\n",
       "    <tr style=\"text-align: right;\">\n",
       "      <th></th>\n",
       "      <th>ticker</th>\n",
       "      <th>매출액(억원)</th>\n",
       "      <th>영업이익률(%)</th>\n",
       "      <th>순이익률(%)</th>\n",
       "      <th>당기순이익(억원)</th>\n",
       "      <th>ROE(%)</th>\n",
       "      <th>ROA(%)</th>\n",
       "      <th>ROIC(%)</th>\n",
       "      <th>EPS(원)</th>\n",
       "      <th>BPS(원)</th>\n",
       "      <th>SPS(원)</th>\n",
       "      <th>PER(배)</th>\n",
       "      <th>PBR(배)</th>\n",
       "      <th>PSR(배)</th>\n",
       "      <th>price</th>\n",
       "      <th>price2</th>\n",
       "      <th>PER_Score2</th>\n",
       "    </tr>\n",
       "  </thead>\n",
       "  <tbody>\n",
       "    <tr>\n",
       "      <th>0</th>\n",
       "      <td>AK홀딩스</td>\n",
       "      <td>29218.3100</td>\n",
       "      <td>7.313</td>\n",
       "      <td>4.563</td>\n",
       "      <td>1333.22340</td>\n",
       "      <td>12.193</td>\n",
       "      <td>5.091</td>\n",
       "      <td>15.5147</td>\n",
       "      <td>5436.4126</td>\n",
       "      <td>48112.402</td>\n",
       "      <td>220556.1600</td>\n",
       "      <td>10.30091</td>\n",
       "      <td>1.16394</td>\n",
       "      <td>0.25390</td>\n",
       "      <td>56000.0</td>\n",
       "      <td>68500.0</td>\n",
       "      <td>5</td>\n",
       "    </tr>\n",
       "    <tr>\n",
       "      <th>1</th>\n",
       "      <td>BGF</td>\n",
       "      <td>860.7727</td>\n",
       "      <td>9.315</td>\n",
       "      <td>214.481</td>\n",
       "      <td>1846.19210</td>\n",
       "      <td>21.624</td>\n",
       "      <td>10.433</td>\n",
       "      <td>8.0153</td>\n",
       "      <td>3703.5774</td>\n",
       "      <td>18648.623</td>\n",
       "      <td>1737.2633</td>\n",
       "      <td>22.75690</td>\n",
       "      <td>4.51947</td>\n",
       "      <td>48.51420</td>\n",
       "      <td>42140.0</td>\n",
       "      <td>15250.0</td>\n",
       "      <td>8</td>\n",
       "    </tr>\n",
       "    <tr>\n",
       "      <th>2</th>\n",
       "      <td>BNK금융지주</td>\n",
       "      <td>49126.7600</td>\n",
       "      <td>14.499</td>\n",
       "      <td>10.546</td>\n",
       "      <td>5181.14400</td>\n",
       "      <td>7.919</td>\n",
       "      <td>0.564</td>\n",
       "      <td>NaN</td>\n",
       "      <td>1568.2368</td>\n",
       "      <td>20810.660</td>\n",
       "      <td>15358.9930</td>\n",
       "      <td>5.53488</td>\n",
       "      <td>0.41709</td>\n",
       "      <td>0.56514</td>\n",
       "      <td>8680.0</td>\n",
       "      <td>9420.0</td>\n",
       "      <td>3</td>\n",
       "    </tr>\n",
       "    <tr>\n",
       "      <th>3</th>\n",
       "      <td>BYC</td>\n",
       "      <td>2118.5762</td>\n",
       "      <td>7.625</td>\n",
       "      <td>8.281</td>\n",
       "      <td>175.43266</td>\n",
       "      <td>4.543</td>\n",
       "      <td>2.463</td>\n",
       "      <td>10.7475</td>\n",
       "      <td>20872.3120</td>\n",
       "      <td>471887.000</td>\n",
       "      <td>252211.4500</td>\n",
       "      <td>19.02041</td>\n",
       "      <td>0.84130</td>\n",
       "      <td>1.57408</td>\n",
       "      <td>397000.0</td>\n",
       "      <td>306000.0</td>\n",
       "      <td>8</td>\n",
       "    </tr>\n",
       "    <tr>\n",
       "      <th>4</th>\n",
       "      <td>CJ</td>\n",
       "      <td>239541.9700</td>\n",
       "      <td>5.230</td>\n",
       "      <td>2.379</td>\n",
       "      <td>5698.23400</td>\n",
       "      <td>6.080</td>\n",
       "      <td>2.253</td>\n",
       "      <td>5.1579</td>\n",
       "      <td>6257.1523</td>\n",
       "      <td>114276.080</td>\n",
       "      <td>672045.9000</td>\n",
       "      <td>28.18128</td>\n",
       "      <td>1.54306</td>\n",
       "      <td>0.26238</td>\n",
       "      <td>176334.0</td>\n",
       "      <td>171148.0</td>\n",
       "      <td>9</td>\n",
       "    </tr>\n",
       "  </tbody>\n",
       "</table>\n",
       "</div>"
      ],
      "text/plain": [
       "    ticker      매출액(억원)  영업이익률(%)  순이익률(%)   당기순이익(억원)  ROE(%)  ROA(%)  \\\n",
       "0    AK홀딩스   29218.3100     7.313    4.563  1333.22340  12.193   5.091   \n",
       "1      BGF     860.7727     9.315  214.481  1846.19210  21.624  10.433   \n",
       "2  BNK금융지주   49126.7600    14.499   10.546  5181.14400   7.919   0.564   \n",
       "3      BYC    2118.5762     7.625    8.281   175.43266   4.543   2.463   \n",
       "4       CJ  239541.9700     5.230    2.379  5698.23400   6.080   2.253   \n",
       "\n",
       "   ROIC(%)      EPS(원)      BPS(원)       SPS(원)    PER(배)   PBR(배)    PSR(배)  \\\n",
       "0  15.5147   5436.4126   48112.402  220556.1600  10.30091  1.16394   0.25390   \n",
       "1   8.0153   3703.5774   18648.623    1737.2633  22.75690  4.51947  48.51420   \n",
       "2      NaN   1568.2368   20810.660   15358.9930   5.53488  0.41709   0.56514   \n",
       "3  10.7475  20872.3120  471887.000  252211.4500  19.02041  0.84130   1.57408   \n",
       "4   5.1579   6257.1523  114276.080  672045.9000  28.18128  1.54306   0.26238   \n",
       "\n",
       "      price    price2 PER_Score2  \n",
       "0   56000.0   68500.0          5  \n",
       "1   42140.0   15250.0          8  \n",
       "2    8680.0    9420.0          3  \n",
       "3  397000.0  306000.0          8  \n",
       "4  176334.0  171148.0          9  "
      ]
     },
     "execution_count": 24,
     "metadata": {},
     "output_type": "execute_result"
    }
   ],
   "source": [
    "df.loc[:, \"PER_Score2\"] = pd.qcut(df[\"PER(배)\"], 10, labels=range(1, 11))\n",
    "df.head()"
   ]
  },
  {
   "cell_type": "code",
   "execution_count": 25,
   "id": "7b4c0fac887eb2f2",
   "metadata": {
    "ExecuteTime": {
     "end_time": "2025-04-16T09:18:51.276073Z",
     "start_time": "2025-04-16T09:18:51.273052Z"
    }
   },
   "outputs": [
    {
     "data": {
      "text/plain": [
       "PER_Score2\n",
       "1     67\n",
       "2     67\n",
       "3     67\n",
       "4     67\n",
       "5     67\n",
       "7     67\n",
       "8     67\n",
       "9     67\n",
       "10    67\n",
       "6     66\n",
       "Name: count, dtype: int64"
      ]
     },
     "execution_count": 25,
     "metadata": {},
     "output_type": "execute_result"
    }
   ],
   "source": [
    "# 거의 비슷한 갯수로 구간이 나눠져 있다.\n",
    "df[\"PER_Score2\"].value_counts()"
   ]
  },
  {
   "cell_type": "code",
   "execution_count": 26,
   "id": "7bbf5bf293f8206",
   "metadata": {
    "ExecuteTime": {
     "end_time": "2025-04-16T09:18:51.305657Z",
     "start_time": "2025-04-16T09:18:51.303458Z"
    }
   },
   "outputs": [
    {
     "data": {
      "text/plain": [
       "CategoricalDtype(categories=range(1, 11), ordered=True, categories_dtype=int64)"
      ]
     },
     "execution_count": 26,
     "metadata": {},
     "output_type": "execute_result"
    }
   ],
   "source": [
    "df[\"PER_Score2\"].dtype"
   ]
  },
  {
   "cell_type": "code",
   "execution_count": 27,
   "id": "dd03b4c2d8d754cd",
   "metadata": {
    "ExecuteTime": {
     "end_time": "2025-04-16T09:18:51.348182Z",
     "start_time": "2025-04-16T09:18:51.345114Z"
    }
   },
   "outputs": [
    {
     "data": {
      "text/plain": [
       "False"
      ]
     },
     "execution_count": 27,
     "metadata": {},
     "output_type": "execute_result"
    }
   ],
   "source": [
    "# qcut 으로 PER_Score2 를 만들었기 때문에,\n",
    "# NaN 도 pd.CategoricalDtype 으로 채워야한다.\n",
    "df.dropna(subset=[\"PER_Score2\"], inplace=True)\n",
    "df[\"PER_Score2\"].hasnans"
   ]
  },
  {
   "cell_type": "markdown",
   "id": "465ee9e507ce05",
   "metadata": {},
   "source": "## groupby & aggregation"
  },
  {
   "cell_type": "code",
   "execution_count": 28,
   "id": "69ce1bbfa0e1bdf3",
   "metadata": {
    "ExecuteTime": {
     "end_time": "2025-04-16T09:18:51.376257Z",
     "start_time": "2025-04-16T09:18:51.369365Z"
    }
   },
   "outputs": [
    {
     "data": {
      "text/html": [
       "<div>\n",
       "<style scoped>\n",
       "    .dataframe tbody tr th:only-of-type {\n",
       "        vertical-align: middle;\n",
       "    }\n",
       "\n",
       "    .dataframe tbody tr th {\n",
       "        vertical-align: top;\n",
       "    }\n",
       "\n",
       "    .dataframe thead th {\n",
       "        text-align: right;\n",
       "    }\n",
       "</style>\n",
       "<table border=\"1\" class=\"dataframe\">\n",
       "  <thead>\n",
       "    <tr style=\"text-align: right;\">\n",
       "      <th></th>\n",
       "      <th>ticker</th>\n",
       "      <th>매출액(억원)</th>\n",
       "      <th>영업이익률(%)</th>\n",
       "      <th>순이익률(%)</th>\n",
       "      <th>당기순이익(억원)</th>\n",
       "      <th>ROE(%)</th>\n",
       "      <th>ROA(%)</th>\n",
       "      <th>ROIC(%)</th>\n",
       "      <th>EPS(원)</th>\n",
       "      <th>BPS(원)</th>\n",
       "      <th>SPS(원)</th>\n",
       "      <th>PER(배)</th>\n",
       "      <th>PBR(배)</th>\n",
       "      <th>PSR(배)</th>\n",
       "      <th>price</th>\n",
       "      <th>price2</th>\n",
       "    </tr>\n",
       "  </thead>\n",
       "  <tbody>\n",
       "    <tr>\n",
       "      <th>0</th>\n",
       "      <td>AK홀딩스</td>\n",
       "      <td>29218.3100</td>\n",
       "      <td>7.313</td>\n",
       "      <td>4.563</td>\n",
       "      <td>1333.2234</td>\n",
       "      <td>12.193</td>\n",
       "      <td>5.091</td>\n",
       "      <td>15.5147</td>\n",
       "      <td>5436.4126</td>\n",
       "      <td>48112.402</td>\n",
       "      <td>220556.1600</td>\n",
       "      <td>10.30091</td>\n",
       "      <td>1.16394</td>\n",
       "      <td>0.25390</td>\n",
       "      <td>56000.0</td>\n",
       "      <td>68500.0</td>\n",
       "    </tr>\n",
       "    <tr>\n",
       "      <th>1</th>\n",
       "      <td>BGF</td>\n",
       "      <td>860.7727</td>\n",
       "      <td>9.315</td>\n",
       "      <td>214.481</td>\n",
       "      <td>1846.1921</td>\n",
       "      <td>21.624</td>\n",
       "      <td>10.433</td>\n",
       "      <td>8.0153</td>\n",
       "      <td>3703.5774</td>\n",
       "      <td>18648.623</td>\n",
       "      <td>1737.2633</td>\n",
       "      <td>22.75690</td>\n",
       "      <td>4.51947</td>\n",
       "      <td>48.51420</td>\n",
       "      <td>42140.0</td>\n",
       "      <td>15250.0</td>\n",
       "    </tr>\n",
       "    <tr>\n",
       "      <th>2</th>\n",
       "      <td>BNK금융지주</td>\n",
       "      <td>49126.7600</td>\n",
       "      <td>14.499</td>\n",
       "      <td>10.546</td>\n",
       "      <td>5181.1440</td>\n",
       "      <td>7.919</td>\n",
       "      <td>0.564</td>\n",
       "      <td>NaN</td>\n",
       "      <td>1568.2368</td>\n",
       "      <td>20810.660</td>\n",
       "      <td>15358.9930</td>\n",
       "      <td>5.53488</td>\n",
       "      <td>0.41709</td>\n",
       "      <td>0.56514</td>\n",
       "      <td>8680.0</td>\n",
       "      <td>9420.0</td>\n",
       "    </tr>\n",
       "  </tbody>\n",
       "</table>\n",
       "</div>"
      ],
      "text/plain": [
       "    ticker     매출액(억원)  영업이익률(%)  순이익률(%)  당기순이익(억원)  ROE(%)  ROA(%)  ROIC(%)  \\\n",
       "0    AK홀딩스  29218.3100     7.313    4.563  1333.2234  12.193   5.091  15.5147   \n",
       "1      BGF    860.7727     9.315  214.481  1846.1921  21.624  10.433   8.0153   \n",
       "2  BNK금융지주  49126.7600    14.499   10.546  5181.1440   7.919   0.564      NaN   \n",
       "\n",
       "      EPS(원)     BPS(원)       SPS(원)    PER(배)   PBR(배)    PSR(배)    price  \\\n",
       "0  5436.4126  48112.402  220556.1600  10.30091  1.16394   0.25390  56000.0   \n",
       "1  3703.5774  18648.623    1737.2633  22.75690  4.51947  48.51420  42140.0   \n",
       "2  1568.2368  20810.660   15358.9930   5.53488  0.41709   0.56514   8680.0   \n",
       "\n",
       "    price2  \n",
       "0  68500.0  \n",
       "1  15250.0  \n",
       "2   9420.0  "
      ]
     },
     "execution_count": 28,
     "metadata": {},
     "output_type": "execute_result"
    }
   ],
   "source": [
    "import pandas as pd\n",
    "\n",
    "\n",
    "df = pd.read_csv(\"../data/naver_finance/2016_12.csv\")\n",
    "df.head(3)"
   ]
  },
  {
   "cell_type": "code",
   "execution_count": 29,
   "id": "c9beb1b491484189",
   "metadata": {
    "ExecuteTime": {
     "end_time": "2025-04-16T09:18:51.431916Z",
     "start_time": "2025-04-16T09:18:51.429567Z"
    }
   },
   "outputs": [],
   "source": [
    "# 여기서는 편의를 위해 결측치를 그냥 버림\n",
    "# 원본은 유지한채 조작할 것을 새로 만들기!\n",
    "g_df = df.dropna().copy()"
   ]
  },
  {
   "cell_type": "code",
   "execution_count": 30,
   "id": "600dee6ffd44978e",
   "metadata": {
    "ExecuteTime": {
     "end_time": "2025-04-16T09:18:51.471448Z",
     "start_time": "2025-04-16T09:18:51.462836Z"
    }
   },
   "outputs": [
    {
     "data": {
      "text/html": [
       "<div>\n",
       "<style scoped>\n",
       "    .dataframe tbody tr th:only-of-type {\n",
       "        vertical-align: middle;\n",
       "    }\n",
       "\n",
       "    .dataframe tbody tr th {\n",
       "        vertical-align: top;\n",
       "    }\n",
       "\n",
       "    .dataframe thead th {\n",
       "        text-align: right;\n",
       "    }\n",
       "</style>\n",
       "<table border=\"1\" class=\"dataframe\">\n",
       "  <thead>\n",
       "    <tr style=\"text-align: right;\">\n",
       "      <th></th>\n",
       "      <th>매출액(억원)</th>\n",
       "      <th>영업이익률(%)</th>\n",
       "      <th>순이익률(%)</th>\n",
       "      <th>당기순이익(억원)</th>\n",
       "      <th>ROE(%)</th>\n",
       "      <th>ROA(%)</th>\n",
       "      <th>ROIC(%)</th>\n",
       "      <th>EPS(원)</th>\n",
       "      <th>BPS(원)</th>\n",
       "      <th>SPS(원)</th>\n",
       "      <th>PER(배)</th>\n",
       "      <th>PBR(배)</th>\n",
       "      <th>PSR(배)</th>\n",
       "      <th>price</th>\n",
       "      <th>price2</th>\n",
       "      <th>rtn</th>\n",
       "      <th>PER_Score</th>\n",
       "      <th>PBR_Score</th>\n",
       "    </tr>\n",
       "    <tr>\n",
       "      <th>ticker</th>\n",
       "      <th></th>\n",
       "      <th></th>\n",
       "      <th></th>\n",
       "      <th></th>\n",
       "      <th></th>\n",
       "      <th></th>\n",
       "      <th></th>\n",
       "      <th></th>\n",
       "      <th></th>\n",
       "      <th></th>\n",
       "      <th></th>\n",
       "      <th></th>\n",
       "      <th></th>\n",
       "      <th></th>\n",
       "      <th></th>\n",
       "      <th></th>\n",
       "      <th></th>\n",
       "      <th></th>\n",
       "    </tr>\n",
       "  </thead>\n",
       "  <tbody>\n",
       "    <tr>\n",
       "      <th>AK홀딩스</th>\n",
       "      <td>29218.3100</td>\n",
       "      <td>7.313</td>\n",
       "      <td>4.563</td>\n",
       "      <td>1333.22340</td>\n",
       "      <td>12.193</td>\n",
       "      <td>5.091</td>\n",
       "      <td>15.5147</td>\n",
       "      <td>5436.4126</td>\n",
       "      <td>48112.402</td>\n",
       "      <td>220556.1600</td>\n",
       "      <td>10.30091</td>\n",
       "      <td>1.16394</td>\n",
       "      <td>0.25390</td>\n",
       "      <td>56000.0</td>\n",
       "      <td>68500.0</td>\n",
       "      <td>0.223214</td>\n",
       "      <td>5</td>\n",
       "      <td>7</td>\n",
       "    </tr>\n",
       "    <tr>\n",
       "      <th>BGF</th>\n",
       "      <td>860.7727</td>\n",
       "      <td>9.315</td>\n",
       "      <td>214.481</td>\n",
       "      <td>1846.19210</td>\n",
       "      <td>21.624</td>\n",
       "      <td>10.433</td>\n",
       "      <td>8.0153</td>\n",
       "      <td>3703.5774</td>\n",
       "      <td>18648.623</td>\n",
       "      <td>1737.2633</td>\n",
       "      <td>22.75690</td>\n",
       "      <td>4.51947</td>\n",
       "      <td>48.51420</td>\n",
       "      <td>42140.0</td>\n",
       "      <td>15250.0</td>\n",
       "      <td>-0.638111</td>\n",
       "      <td>8</td>\n",
       "      <td>10</td>\n",
       "    </tr>\n",
       "    <tr>\n",
       "      <th>BYC</th>\n",
       "      <td>2118.5762</td>\n",
       "      <td>7.625</td>\n",
       "      <td>8.281</td>\n",
       "      <td>175.43266</td>\n",
       "      <td>4.543</td>\n",
       "      <td>2.463</td>\n",
       "      <td>10.7475</td>\n",
       "      <td>20872.3120</td>\n",
       "      <td>471887.000</td>\n",
       "      <td>252211.4500</td>\n",
       "      <td>19.02041</td>\n",
       "      <td>0.84130</td>\n",
       "      <td>1.57408</td>\n",
       "      <td>397000.0</td>\n",
       "      <td>306000.0</td>\n",
       "      <td>-0.229219</td>\n",
       "      <td>8</td>\n",
       "      <td>5</td>\n",
       "    </tr>\n",
       "    <tr>\n",
       "      <th>CJ</th>\n",
       "      <td>239541.9700</td>\n",
       "      <td>5.230</td>\n",
       "      <td>2.379</td>\n",
       "      <td>5698.23400</td>\n",
       "      <td>6.080</td>\n",
       "      <td>2.253</td>\n",
       "      <td>5.1579</td>\n",
       "      <td>6257.1523</td>\n",
       "      <td>114276.080</td>\n",
       "      <td>672045.9000</td>\n",
       "      <td>28.18128</td>\n",
       "      <td>1.54306</td>\n",
       "      <td>0.26238</td>\n",
       "      <td>176334.0</td>\n",
       "      <td>171148.0</td>\n",
       "      <td>-0.029410</td>\n",
       "      <td>9</td>\n",
       "      <td>8</td>\n",
       "    </tr>\n",
       "    <tr>\n",
       "      <th>CJ CGV</th>\n",
       "      <td>14322.4540</td>\n",
       "      <td>4.911</td>\n",
       "      <td>0.393</td>\n",
       "      <td>56.21660</td>\n",
       "      <td>3.105</td>\n",
       "      <td>0.284</td>\n",
       "      <td>2.9189</td>\n",
       "      <td>583.0513</td>\n",
       "      <td>17654.154</td>\n",
       "      <td>67682.2600</td>\n",
       "      <td>120.74409</td>\n",
       "      <td>3.98773</td>\n",
       "      <td>1.04015</td>\n",
       "      <td>70400.0</td>\n",
       "      <td>74200.0</td>\n",
       "      <td>0.053977</td>\n",
       "      <td>10</td>\n",
       "      <td>10</td>\n",
       "    </tr>\n",
       "  </tbody>\n",
       "</table>\n",
       "</div>"
      ],
      "text/plain": [
       "            매출액(억원)  영업이익률(%)  순이익률(%)   당기순이익(억원)  ROE(%)  ROA(%)  ROIC(%)  \\\n",
       "ticker                                                                        \n",
       "AK홀딩스    29218.3100     7.313    4.563  1333.22340  12.193   5.091  15.5147   \n",
       "BGF        860.7727     9.315  214.481  1846.19210  21.624  10.433   8.0153   \n",
       "BYC       2118.5762     7.625    8.281   175.43266   4.543   2.463  10.7475   \n",
       "CJ      239541.9700     5.230    2.379  5698.23400   6.080   2.253   5.1579   \n",
       "CJ CGV   14322.4540     4.911    0.393    56.21660   3.105   0.284   2.9189   \n",
       "\n",
       "            EPS(원)      BPS(원)       SPS(원)     PER(배)   PBR(배)    PSR(배)  \\\n",
       "ticker                                                                      \n",
       "AK홀딩스    5436.4126   48112.402  220556.1600   10.30091  1.16394   0.25390   \n",
       "BGF      3703.5774   18648.623    1737.2633   22.75690  4.51947  48.51420   \n",
       "BYC     20872.3120  471887.000  252211.4500   19.02041  0.84130   1.57408   \n",
       "CJ       6257.1523  114276.080  672045.9000   28.18128  1.54306   0.26238   \n",
       "CJ CGV    583.0513   17654.154   67682.2600  120.74409  3.98773   1.04015   \n",
       "\n",
       "           price    price2       rtn PER_Score PBR_Score  \n",
       "ticker                                                    \n",
       "AK홀딩스    56000.0   68500.0  0.223214         5         7  \n",
       "BGF      42140.0   15250.0 -0.638111         8        10  \n",
       "BYC     397000.0  306000.0 -0.229219         8         5  \n",
       "CJ      176334.0  171148.0 -0.029410         9         8  \n",
       "CJ CGV   70400.0   74200.0  0.053977        10        10  "
      ]
     },
     "execution_count": 30,
     "metadata": {},
     "output_type": "execute_result"
    }
   ],
   "source": [
    "g_df[\"rtn\"] = g_df[\"price2\"] / g_df[\"price\"] - 1\n",
    "g_df.loc[:, \"PER_Score\"] = pd.qcut(g_df[\"PER(배)\"], 10, labels=range(1, 11))\n",
    "g_df.loc[:, \"PBR_Score\"] = pd.qcut(g_df[\"PBR(배)\"], 10, labels=range(1, 11))\n",
    "# 종목명은 인덱스로 지정!\n",
    "g_df.set_index(\"ticker\", inplace=True)\n",
    "g_df.head()"
   ]
  },
  {
   "cell_type": "code",
   "execution_count": 31,
   "id": "bec3817c795fd9b1",
   "metadata": {
    "ExecuteTime": {
     "end_time": "2025-04-16T09:18:51.505134Z",
     "start_time": "2025-04-16T09:18:51.502543Z"
    }
   },
   "outputs": [
    {
     "data": {
      "text/plain": [
       "float64     16\n",
       "category     2\n",
       "Name: count, dtype: int64"
      ]
     },
     "execution_count": 31,
     "metadata": {},
     "output_type": "execute_result"
    }
   ],
   "source": [
    "g_df.dtypes.value_counts()"
   ]
  },
  {
   "cell_type": "code",
   "execution_count": 32,
   "id": "e0c96e36fe7bb23f",
   "metadata": {
    "ExecuteTime": {
     "end_time": "2025-04-16T09:18:51.530880Z",
     "start_time": "2025-04-16T09:18:51.528044Z"
    }
   },
   "outputs": [
    {
     "data": {
      "text/plain": [
       "<pandas.core.groupby.generic.DataFrameGroupBy object at 0x114814ce0>"
      ]
     },
     "execution_count": 32,
     "metadata": {},
     "output_type": "execute_result"
    }
   ],
   "source": [
    "# groupby() 는 실제로 grouping 까지는 하지 않고,\n",
    "# grouping 이 가능한지 validation 만 진행(즉, preparation 정도)\n",
    "# groupby() 를 한 뒤, (1)\n",
    "# 특정 column 을 기준으로, (2)\n",
    "# aggregation function 을 호출(3)해줘야\n",
    "# 연산으로서 의미가 있는 것!\n",
    "\n",
    "# `observed=False` (현재 기본값):\n",
    "#     - 모든 카테고리 수준을 결과에 포함, 실제 데이터에 존재하지 않는 카테고리도 포함\n",
    "# `observed=True` (향후 기본값):\n",
    "#     - 데이터에서 관찰된 카테고리만 결과에 포함\n",
    "\n",
    "g_df_obj = g_df.groupby([\"PBR_Score\", \"PER_Score\"], observed=True)\n",
    "g_df_obj"
   ]
  },
  {
   "cell_type": "code",
   "execution_count": 33,
   "id": "a9f6a3bf6e534d11",
   "metadata": {
    "ExecuteTime": {
     "end_time": "2025-04-16T09:18:51.572168Z",
     "start_time": "2025-04-16T09:18:51.569249Z"
    }
   },
   "outputs": [
    {
     "data": {
      "text/plain": [
       "96"
      ]
     },
     "execution_count": 33,
     "metadata": {},
     "output_type": "execute_result"
    }
   ],
   "source": [
    "g_df_obj.ngroups"
   ]
  },
  {
   "cell_type": "code",
   "execution_count": 34,
   "id": "e240c8caaf6788b5",
   "metadata": {
    "ExecuteTime": {
     "end_time": "2025-04-16T09:18:51.599483Z",
     "start_time": "2025-04-16T09:18:51.597180Z"
    }
   },
   "outputs": [
    {
     "data": {
      "text/plain": [
       "10"
      ]
     },
     "execution_count": 34,
     "metadata": {},
     "output_type": "execute_result"
    }
   ],
   "source": [
    "g_df[\"PBR_Score\"].nunique()"
   ]
  },
  {
   "cell_type": "code",
   "execution_count": 35,
   "id": "e1e40004fb8a9c43",
   "metadata": {
    "ExecuteTime": {
     "end_time": "2025-04-16T09:18:51.644414Z",
     "start_time": "2025-04-16T09:18:51.642084Z"
    }
   },
   "outputs": [
    {
     "data": {
      "text/plain": [
       "10"
      ]
     },
     "execution_count": 35,
     "metadata": {},
     "output_type": "execute_result"
    }
   ],
   "source": [
    "g_df[\"PER_Score\"].nunique()"
   ]
  },
  {
   "cell_type": "code",
   "execution_count": 36,
   "id": "f51a12e57f02cf06",
   "metadata": {
    "ExecuteTime": {
     "end_time": "2025-04-16T09:18:51.666047Z",
     "start_time": "2025-04-16T09:18:51.659314Z"
    }
   },
   "outputs": [
    {
     "data": {
      "text/plain": [
       "False"
      ]
     },
     "execution_count": 36,
     "metadata": {},
     "output_type": "execute_result"
    }
   ],
   "source": [
    "# 왜 ngroups와\n",
    "# (g_df['PBR_score'].nunique() x g_df['PER_score'].nunique()) 가\n",
    "# 차이가 날까?\n",
    "# 특정 PBR_Score category 에 속하는 것 중 PER_Score 에 속하지 않을 수 있어서!\n",
    "# 예를 들어, 다음과 같은 상황이 있을 수 있다\n",
    "# - `PBR_Score=1, PER_Score=1`인 회사가 있음\n",
    "# - `PBR_Score=1, PER_Score=2`인 회사가 있음\n",
    "# - 하지만 `PBR_Score=1, PER_Score=3`인 회사는 데이터셋에 존재하지 않음\n",
    "\n",
    "g_df_obj.ngroups == (g_df[\"PBR_Score\"].nunique() * g_df[\"PER_Score\"].nunique())"
   ]
  },
  {
   "cell_type": "code",
   "execution_count": 37,
   "id": "cf0413e9de6cb135",
   "metadata": {
    "ExecuteTime": {
     "end_time": "2025-04-16T09:18:51.678950Z",
     "start_time": "2025-04-16T09:18:51.675367Z"
    }
   },
   "outputs": [
    {
     "name": "stdout",
     "output_type": "stream",
     "text": [
      "<class 'pandas.core.series.Series'>\n"
     ]
    },
    {
     "data": {
      "text/plain": [
       "PBR_Score  PER_Score\n",
       "1          1             5\n",
       "           2            11\n",
       "           3            11\n",
       "           4            11\n",
       "           5             7\n",
       "                        ..\n",
       "10         6             1\n",
       "           7             2\n",
       "           8            15\n",
       "           9            11\n",
       "           10           14\n",
       "Length: 96, dtype: int64"
      ]
     },
     "execution_count": 37,
     "metadata": {},
     "output_type": "execute_result"
    }
   ],
   "source": [
    "# 전체 그룹 확인\n",
    "# g_df_obj.size() 는 Multi-level index를 가진 Series\n",
    "print(type(g_df_obj.size()))\n",
    "g_df_obj.size()"
   ]
  },
  {
   "cell_type": "code",
   "execution_count": 38,
   "id": "9cf6a8a2f021e54b",
   "metadata": {
    "ExecuteTime": {
     "end_time": "2025-04-16T09:18:51.707472Z",
     "start_time": "2025-04-16T09:18:51.704996Z"
    }
   },
   "outputs": [
    {
     "name": "stdout",
     "output_type": "stream",
     "text": [
      "<class 'pandas.io.formats.printing.PrettyDict'>\n"
     ]
    },
    {
     "data": {
      "text/plain": [
       "dict_keys([(1, 1), (1, 2), (1, 3), (1, 4), (1, 5), (1, 6), (1, 7), (1, 9), (1, 10), (2, 1), (2, 2), (2, 3), (2, 4), (2, 5), (2, 6), (2, 7), (2, 8), (2, 9), (2, 10), (3, 2), (3, 3), (3, 4), (3, 5), (3, 6), (3, 7), (3, 8), (3, 9), (3, 10), (4, 1), (4, 2), (4, 3), (4, 4), (4, 5), (4, 6), (4, 7), (4, 8), (4, 9), (4, 10), (5, 1), (5, 2), (5, 3), (5, 4), (5, 5), (5, 6), (5, 7), (5, 8), (5, 9), (5, 10), (6, 1), (6, 2), (6, 3), (6, 4), (6, 5), (6, 6), (6, 7), (6, 8), (6, 9), (6, 10), (7, 1), (7, 2), (7, 3), (7, 4), (7, 5), (7, 6), (7, 7), (7, 8), (7, 9), (7, 10), (8, 1), (8, 2), (8, 3), (8, 4), (8, 5), (8, 6), (8, 7), (8, 8), (8, 9), (8, 10), (9, 1), (9, 2), (9, 4), (9, 5), (9, 6), (9, 7), (9, 8), (9, 9), (9, 10), (10, 1), (10, 2), (10, 4), (10, 5), (10, 6), (10, 7), (10, 8), (10, 9), (10, 10)])"
      ]
     },
     "execution_count": 38,
     "metadata": {},
     "output_type": "execute_result"
    }
   ],
   "source": [
    "print(type(g_df_obj.groups))\n",
    "g_df_obj.groups.keys()"
   ]
  },
  {
   "cell_type": "code",
   "execution_count": 39,
   "id": "8b28ecaffce066c7",
   "metadata": {
    "ExecuteTime": {
     "end_time": "2025-04-16T09:18:51.732711Z",
     "start_time": "2025-04-16T09:18:51.728723Z"
    }
   },
   "outputs": [
    {
     "name": "stdout",
     "output_type": "stream",
     "text": [
      "(np.int64(1), np.int64(1))\n",
      "           매출액(억원)  영업이익률(%)  순이익률(%)   당기순이익(억원)  ROE(%)  ROA(%)  ROIC(%)  \\\n",
      "ticker                                                                       \n",
      "E1      39959.0080     0.277   -0.949 -379.396850  -2.350  -1.076  -1.6326   \n",
      "S&T중공업   4680.0776    -0.309   -5.221 -244.357940  -3.671  -2.697  -0.7910   \n",
      "디아이동일    8224.1450     2.100    0.132   10.885012  -0.753   0.111   0.0509   \n",
      "\n",
      "           EPS(원)      BPS(원)     SPS(원)    PER(배)   PBR(배)   PSR(배)    price  \\\n",
      "ticker                                                                          \n",
      "E1     -3869.0110  191789.690  582492.80 -16.20569  0.32692  0.10764  62700.0   \n",
      "S&T중공업  -734.8515   21043.785   14074.28 -12.36877  0.43192  0.64579   9089.0   \n",
      "디아이동일  -1523.4067  270773.030  333554.28 -37.36512  0.21022  0.17065  56922.0   \n",
      "\n",
      "         price2       rtn PER_Score PBR_Score  \n",
      "ticker                                         \n",
      "E1      56900.0 -0.092504         1         1  \n",
      "S&T중공업   7310.0 -0.195731         1         1  \n",
      "디아이동일   51884.0 -0.088507         1         1  \n"
     ]
    }
   ],
   "source": [
    "# iterating 할 수 있음!!\n",
    "for name, group in g_df_obj:\n",
    "    print(name)  # index\n",
    "    print(group.head(3))  # 그 그룹에 속하는 data\n",
    "    break"
   ]
  },
  {
   "cell_type": "code",
   "execution_count": 40,
   "id": "23b5e6bdda41547b",
   "metadata": {
    "ExecuteTime": {
     "end_time": "2025-04-16T09:18:51.759155Z",
     "start_time": "2025-04-16T09:18:51.747392Z"
    }
   },
   "outputs": [
    {
     "data": {
      "text/html": [
       "<div>\n",
       "<style scoped>\n",
       "    .dataframe tbody tr th:only-of-type {\n",
       "        vertical-align: middle;\n",
       "    }\n",
       "\n",
       "    .dataframe tbody tr th {\n",
       "        vertical-align: top;\n",
       "    }\n",
       "\n",
       "    .dataframe thead th {\n",
       "        text-align: right;\n",
       "    }\n",
       "</style>\n",
       "<table border=\"1\" class=\"dataframe\">\n",
       "  <thead>\n",
       "    <tr style=\"text-align: right;\">\n",
       "      <th></th>\n",
       "      <th>매출액(억원)</th>\n",
       "      <th>영업이익률(%)</th>\n",
       "      <th>순이익률(%)</th>\n",
       "      <th>당기순이익(억원)</th>\n",
       "      <th>ROE(%)</th>\n",
       "      <th>ROA(%)</th>\n",
       "      <th>ROIC(%)</th>\n",
       "      <th>EPS(원)</th>\n",
       "      <th>BPS(원)</th>\n",
       "      <th>SPS(원)</th>\n",
       "      <th>PER(배)</th>\n",
       "      <th>PBR(배)</th>\n",
       "      <th>PSR(배)</th>\n",
       "      <th>price</th>\n",
       "      <th>price2</th>\n",
       "      <th>rtn</th>\n",
       "      <th>PER_Score</th>\n",
       "      <th>PBR_Score</th>\n",
       "    </tr>\n",
       "    <tr>\n",
       "      <th>ticker</th>\n",
       "      <th></th>\n",
       "      <th></th>\n",
       "      <th></th>\n",
       "      <th></th>\n",
       "      <th></th>\n",
       "      <th></th>\n",
       "      <th></th>\n",
       "      <th></th>\n",
       "      <th></th>\n",
       "      <th></th>\n",
       "      <th></th>\n",
       "      <th></th>\n",
       "      <th></th>\n",
       "      <th></th>\n",
       "      <th></th>\n",
       "      <th></th>\n",
       "      <th></th>\n",
       "      <th></th>\n",
       "    </tr>\n",
       "  </thead>\n",
       "  <tbody>\n",
       "    <tr>\n",
       "      <th>AK홀딩스</th>\n",
       "      <td>29218.3100</td>\n",
       "      <td>7.313</td>\n",
       "      <td>4.563</td>\n",
       "      <td>1333.22340</td>\n",
       "      <td>12.193</td>\n",
       "      <td>5.091</td>\n",
       "      <td>15.5147</td>\n",
       "      <td>5436.41260</td>\n",
       "      <td>48112.4020</td>\n",
       "      <td>220556.1600</td>\n",
       "      <td>10.30091</td>\n",
       "      <td>1.16394</td>\n",
       "      <td>0.25390</td>\n",
       "      <td>56000.0</td>\n",
       "      <td>68500.0</td>\n",
       "      <td>0.223214</td>\n",
       "      <td>5</td>\n",
       "      <td>7</td>\n",
       "    </tr>\n",
       "    <tr>\n",
       "      <th>BGF</th>\n",
       "      <td>860.7727</td>\n",
       "      <td>9.315</td>\n",
       "      <td>214.481</td>\n",
       "      <td>1846.19210</td>\n",
       "      <td>21.624</td>\n",
       "      <td>10.433</td>\n",
       "      <td>8.0153</td>\n",
       "      <td>3703.57740</td>\n",
       "      <td>18648.6230</td>\n",
       "      <td>1737.2633</td>\n",
       "      <td>22.75690</td>\n",
       "      <td>4.51947</td>\n",
       "      <td>48.51420</td>\n",
       "      <td>42140.0</td>\n",
       "      <td>15250.0</td>\n",
       "      <td>-0.638111</td>\n",
       "      <td>8</td>\n",
       "      <td>10</td>\n",
       "    </tr>\n",
       "    <tr>\n",
       "      <th>BYC</th>\n",
       "      <td>2118.5762</td>\n",
       "      <td>7.625</td>\n",
       "      <td>8.281</td>\n",
       "      <td>175.43266</td>\n",
       "      <td>4.543</td>\n",
       "      <td>2.463</td>\n",
       "      <td>10.7475</td>\n",
       "      <td>20872.31200</td>\n",
       "      <td>471887.0000</td>\n",
       "      <td>252211.4500</td>\n",
       "      <td>19.02041</td>\n",
       "      <td>0.84130</td>\n",
       "      <td>1.57408</td>\n",
       "      <td>397000.0</td>\n",
       "      <td>306000.0</td>\n",
       "      <td>-0.229219</td>\n",
       "      <td>8</td>\n",
       "      <td>5</td>\n",
       "    </tr>\n",
       "    <tr>\n",
       "      <th>CJ</th>\n",
       "      <td>239541.9700</td>\n",
       "      <td>5.230</td>\n",
       "      <td>2.379</td>\n",
       "      <td>5698.23400</td>\n",
       "      <td>6.080</td>\n",
       "      <td>2.253</td>\n",
       "      <td>5.1579</td>\n",
       "      <td>6257.15230</td>\n",
       "      <td>114276.0800</td>\n",
       "      <td>672045.9000</td>\n",
       "      <td>28.18128</td>\n",
       "      <td>1.54306</td>\n",
       "      <td>0.26238</td>\n",
       "      <td>176334.0</td>\n",
       "      <td>171148.0</td>\n",
       "      <td>-0.029410</td>\n",
       "      <td>9</td>\n",
       "      <td>8</td>\n",
       "    </tr>\n",
       "    <tr>\n",
       "      <th>CJ CGV</th>\n",
       "      <td>14322.4540</td>\n",
       "      <td>4.911</td>\n",
       "      <td>0.393</td>\n",
       "      <td>56.21660</td>\n",
       "      <td>3.105</td>\n",
       "      <td>0.284</td>\n",
       "      <td>2.9189</td>\n",
       "      <td>583.05130</td>\n",
       "      <td>17654.1540</td>\n",
       "      <td>67682.2600</td>\n",
       "      <td>120.74409</td>\n",
       "      <td>3.98773</td>\n",
       "      <td>1.04015</td>\n",
       "      <td>70400.0</td>\n",
       "      <td>74200.0</td>\n",
       "      <td>0.053977</td>\n",
       "      <td>10</td>\n",
       "      <td>10</td>\n",
       "    </tr>\n",
       "    <tr>\n",
       "      <th>CJ대한통운</th>\n",
       "      <td>60819.4570</td>\n",
       "      <td>3.756</td>\n",
       "      <td>1.122</td>\n",
       "      <td>682.10130</td>\n",
       "      <td>2.390</td>\n",
       "      <td>1.361</td>\n",
       "      <td>4.9474</td>\n",
       "      <td>2445.65770</td>\n",
       "      <td>133105.0800</td>\n",
       "      <td>266607.6600</td>\n",
       "      <td>73.19095</td>\n",
       "      <td>1.34480</td>\n",
       "      <td>0.67140</td>\n",
       "      <td>179000.0</td>\n",
       "      <td>140000.0</td>\n",
       "      <td>-0.217877</td>\n",
       "      <td>10</td>\n",
       "      <td>8</td>\n",
       "    </tr>\n",
       "    <tr>\n",
       "      <th>CJ씨푸드</th>\n",
       "      <td>1737.3776</td>\n",
       "      <td>3.372</td>\n",
       "      <td>3.093</td>\n",
       "      <td>53.72999</td>\n",
       "      <td>10.205</td>\n",
       "      <td>5.037</td>\n",
       "      <td>6.9419</td>\n",
       "      <td>148.70976</td>\n",
       "      <td>1530.1201</td>\n",
       "      <td>4808.5810</td>\n",
       "      <td>23.33404</td>\n",
       "      <td>2.26780</td>\n",
       "      <td>0.72163</td>\n",
       "      <td>3470.0</td>\n",
       "      <td>2875.0</td>\n",
       "      <td>-0.171470</td>\n",
       "      <td>8</td>\n",
       "      <td>9</td>\n",
       "    </tr>\n",
       "    <tr>\n",
       "      <th>CS홀딩스</th>\n",
       "      <td>1231.4496</td>\n",
       "      <td>16.105</td>\n",
       "      <td>13.918</td>\n",
       "      <td>171.38786</td>\n",
       "      <td>4.409</td>\n",
       "      <td>5.921</td>\n",
       "      <td>12.7189</td>\n",
       "      <td>7994.88600</td>\n",
       "      <td>186451.8400</td>\n",
       "      <td>106666.8500</td>\n",
       "      <td>10.09395</td>\n",
       "      <td>0.43282</td>\n",
       "      <td>0.75656</td>\n",
       "      <td>80700.0</td>\n",
       "      <td>80200.0</td>\n",
       "      <td>-0.006196</td>\n",
       "      <td>5</td>\n",
       "      <td>1</td>\n",
       "    </tr>\n",
       "    <tr>\n",
       "      <th>DB</th>\n",
       "      <td>2048.0996</td>\n",
       "      <td>5.324</td>\n",
       "      <td>-10.113</td>\n",
       "      <td>-207.12779</td>\n",
       "      <td>-13.052</td>\n",
       "      <td>-8.434</td>\n",
       "      <td>66.5738</td>\n",
       "      <td>-113.72754</td>\n",
       "      <td>881.1775</td>\n",
       "      <td>1124.5490</td>\n",
       "      <td>-6.45402</td>\n",
       "      <td>0.83298</td>\n",
       "      <td>0.65271</td>\n",
       "      <td>734.0</td>\n",
       "      <td>658.0</td>\n",
       "      <td>-0.103542</td>\n",
       "      <td>2</td>\n",
       "      <td>5</td>\n",
       "    </tr>\n",
       "    <tr>\n",
       "      <th>DB하이텍</th>\n",
       "      <td>7731.4020</td>\n",
       "      <td>22.302</td>\n",
       "      <td>11.427</td>\n",
       "      <td>883.44020</td>\n",
       "      <td>29.647</td>\n",
       "      <td>8.962</td>\n",
       "      <td>24.5396</td>\n",
       "      <td>1984.76070</td>\n",
       "      <td>7900.0090</td>\n",
       "      <td>17369.5780</td>\n",
       "      <td>8.01104</td>\n",
       "      <td>2.01266</td>\n",
       "      <td>0.91539</td>\n",
       "      <td>15900.0</td>\n",
       "      <td>12000.0</td>\n",
       "      <td>-0.245283</td>\n",
       "      <td>4</td>\n",
       "      <td>9</td>\n",
       "    </tr>\n",
       "    <tr>\n",
       "      <th>DRB동일</th>\n",
       "      <td>5512.5250</td>\n",
       "      <td>12.239</td>\n",
       "      <td>8.873</td>\n",
       "      <td>489.13644</td>\n",
       "      <td>12.550</td>\n",
       "      <td>7.299</td>\n",
       "      <td>10.9297</td>\n",
       "      <td>1975.50950</td>\n",
       "      <td>17210.0080</td>\n",
       "      <td>27659.4320</td>\n",
       "      <td>5.95924</td>\n",
       "      <td>0.68405</td>\n",
       "      <td>0.42563</td>\n",
       "      <td>11772.0</td>\n",
       "      <td>7682.0</td>\n",
       "      <td>-0.347435</td>\n",
       "      <td>3</td>\n",
       "      <td>3</td>\n",
       "    </tr>\n",
       "    <tr>\n",
       "      <th>DSR</th>\n",
       "      <td>2010.6006</td>\n",
       "      <td>6.643</td>\n",
       "      <td>5.343</td>\n",
       "      <td>107.43310</td>\n",
       "      <td>8.503</td>\n",
       "      <td>5.760</td>\n",
       "      <td>8.0832</td>\n",
       "      <td>671.63740</td>\n",
       "      <td>8252.3850</td>\n",
       "      <td>12566.2540</td>\n",
       "      <td>13.84676</td>\n",
       "      <td>1.12695</td>\n",
       "      <td>0.74008</td>\n",
       "      <td>9300.0</td>\n",
       "      <td>5170.0</td>\n",
       "      <td>-0.444086</td>\n",
       "      <td>6</td>\n",
       "      <td>7</td>\n",
       "    </tr>\n",
       "    <tr>\n",
       "      <th>DSR제강</th>\n",
       "      <td>1725.3590</td>\n",
       "      <td>4.442</td>\n",
       "      <td>5.036</td>\n",
       "      <td>86.88443</td>\n",
       "      <td>7.107</td>\n",
       "      <td>4.640</td>\n",
       "      <td>5.6885</td>\n",
       "      <td>603.36414</td>\n",
       "      <td>8780.0540</td>\n",
       "      <td>11981.6590</td>\n",
       "      <td>14.61804</td>\n",
       "      <td>1.00455</td>\n",
       "      <td>0.73613</td>\n",
       "      <td>8820.0</td>\n",
       "      <td>5240.0</td>\n",
       "      <td>-0.405896</td>\n",
       "      <td>6</td>\n",
       "      <td>6</td>\n",
       "    </tr>\n",
       "    <tr>\n",
       "      <th>E1</th>\n",
       "      <td>39959.0080</td>\n",
       "      <td>0.277</td>\n",
       "      <td>-0.949</td>\n",
       "      <td>-379.39685</td>\n",
       "      <td>-2.350</td>\n",
       "      <td>-1.076</td>\n",
       "      <td>-1.6326</td>\n",
       "      <td>-3869.01100</td>\n",
       "      <td>191789.6900</td>\n",
       "      <td>582492.8000</td>\n",
       "      <td>-16.20569</td>\n",
       "      <td>0.32692</td>\n",
       "      <td>0.10764</td>\n",
       "      <td>62700.0</td>\n",
       "      <td>56900.0</td>\n",
       "      <td>-0.092504</td>\n",
       "      <td>1</td>\n",
       "      <td>1</td>\n",
       "    </tr>\n",
       "    <tr>\n",
       "      <th>GS</th>\n",
       "      <td>134624.2700</td>\n",
       "      <td>13.031</td>\n",
       "      <td>6.858</td>\n",
       "      <td>9233.11000</td>\n",
       "      <td>12.129</td>\n",
       "      <td>4.691</td>\n",
       "      <td>9.8753</td>\n",
       "      <td>8507.93300</td>\n",
       "      <td>73559.0500</td>\n",
       "      <td>142158.3600</td>\n",
       "      <td>6.35877</td>\n",
       "      <td>0.73546</td>\n",
       "      <td>0.38056</td>\n",
       "      <td>54100.0</td>\n",
       "      <td>62200.0</td>\n",
       "      <td>0.149723</td>\n",
       "      <td>3</td>\n",
       "      <td>4</td>\n",
       "    </tr>\n",
       "    <tr>\n",
       "      <th>GS건설</th>\n",
       "      <td>110355.9600</td>\n",
       "      <td>1.296</td>\n",
       "      <td>-0.185</td>\n",
       "      <td>-204.31464</td>\n",
       "      <td>-0.786</td>\n",
       "      <td>-0.155</td>\n",
       "      <td>-5.1590</td>\n",
       "      <td>-363.11768</td>\n",
       "      <td>47135.6760</td>\n",
       "      <td>155430.9400</td>\n",
       "      <td>-72.97909</td>\n",
       "      <td>0.56221</td>\n",
       "      <td>0.17049</td>\n",
       "      <td>26500.0</td>\n",
       "      <td>28300.0</td>\n",
       "      <td>0.067925</td>\n",
       "      <td>1</td>\n",
       "      <td>2</td>\n",
       "    </tr>\n",
       "    <tr>\n",
       "      <th>HDC현대EP</th>\n",
       "      <td>8611.5900</td>\n",
       "      <td>7.997</td>\n",
       "      <td>5.938</td>\n",
       "      <td>511.37732</td>\n",
       "      <td>21.143</td>\n",
       "      <td>8.989</td>\n",
       "      <td>13.6950</td>\n",
       "      <td>1603.06360</td>\n",
       "      <td>8387.6280</td>\n",
       "      <td>26995.5800</td>\n",
       "      <td>5.83882</td>\n",
       "      <td>1.11593</td>\n",
       "      <td>0.34672</td>\n",
       "      <td>9360.0</td>\n",
       "      <td>6800.0</td>\n",
       "      <td>-0.273504</td>\n",
       "      <td>3</td>\n",
       "      <td>6</td>\n",
       "    </tr>\n",
       "    <tr>\n",
       "      <th>KG케미칼</th>\n",
       "      <td>8084.7334</td>\n",
       "      <td>8.987</td>\n",
       "      <td>3.506</td>\n",
       "      <td>283.47116</td>\n",
       "      <td>6.324</td>\n",
       "      <td>2.356</td>\n",
       "      <td>7.8279</td>\n",
       "      <td>1117.22890</td>\n",
       "      <td>18865.1200</td>\n",
       "      <td>70329.6250</td>\n",
       "      <td>13.20231</td>\n",
       "      <td>0.78187</td>\n",
       "      <td>0.20973</td>\n",
       "      <td>14750.0</td>\n",
       "      <td>24500.0</td>\n",
       "      <td>0.661017</td>\n",
       "      <td>6</td>\n",
       "      <td>4</td>\n",
       "    </tr>\n",
       "    <tr>\n",
       "      <th>KPX케미칼</th>\n",
       "      <td>6473.6190</td>\n",
       "      <td>6.841</td>\n",
       "      <td>5.261</td>\n",
       "      <td>340.59690</td>\n",
       "      <td>8.005</td>\n",
       "      <td>6.553</td>\n",
       "      <td>11.6820</td>\n",
       "      <td>6781.69140</td>\n",
       "      <td>87107.8300</td>\n",
       "      <td>133752.4700</td>\n",
       "      <td>8.75888</td>\n",
       "      <td>0.68191</td>\n",
       "      <td>0.44410</td>\n",
       "      <td>59400.0</td>\n",
       "      <td>69900.0</td>\n",
       "      <td>0.176768</td>\n",
       "      <td>4</td>\n",
       "      <td>3</td>\n",
       "    </tr>\n",
       "    <tr>\n",
       "      <th>KPX홀딩스</th>\n",
       "      <td>6965.2260</td>\n",
       "      <td>7.502</td>\n",
       "      <td>7.670</td>\n",
       "      <td>534.25480</td>\n",
       "      <td>5.212</td>\n",
       "      <td>4.487</td>\n",
       "      <td>7.6599</td>\n",
       "      <td>7000.43000</td>\n",
       "      <td>141449.0500</td>\n",
       "      <td>164871.2300</td>\n",
       "      <td>9.39942</td>\n",
       "      <td>0.46519</td>\n",
       "      <td>0.39910</td>\n",
       "      <td>65800.0</td>\n",
       "      <td>65500.0</td>\n",
       "      <td>-0.004559</td>\n",
       "      <td>5</td>\n",
       "      <td>2</td>\n",
       "    </tr>\n",
       "  </tbody>\n",
       "</table>\n",
       "</div>"
      ],
      "text/plain": [
       "             매출액(억원)  영업이익률(%)  순이익률(%)   당기순이익(억원)  ROE(%)  ROA(%)  ROIC(%)  \\\n",
       "ticker                                                                         \n",
       "AK홀딩스     29218.3100     7.313    4.563  1333.22340  12.193   5.091  15.5147   \n",
       "BGF         860.7727     9.315  214.481  1846.19210  21.624  10.433   8.0153   \n",
       "BYC        2118.5762     7.625    8.281   175.43266   4.543   2.463  10.7475   \n",
       "CJ       239541.9700     5.230    2.379  5698.23400   6.080   2.253   5.1579   \n",
       "CJ CGV    14322.4540     4.911    0.393    56.21660   3.105   0.284   2.9189   \n",
       "CJ대한통운    60819.4570     3.756    1.122   682.10130   2.390   1.361   4.9474   \n",
       "CJ씨푸드      1737.3776     3.372    3.093    53.72999  10.205   5.037   6.9419   \n",
       "CS홀딩스      1231.4496    16.105   13.918   171.38786   4.409   5.921  12.7189   \n",
       "DB         2048.0996     5.324  -10.113  -207.12779 -13.052  -8.434  66.5738   \n",
       "DB하이텍      7731.4020    22.302   11.427   883.44020  29.647   8.962  24.5396   \n",
       "DRB동일      5512.5250    12.239    8.873   489.13644  12.550   7.299  10.9297   \n",
       "DSR        2010.6006     6.643    5.343   107.43310   8.503   5.760   8.0832   \n",
       "DSR제강      1725.3590     4.442    5.036    86.88443   7.107   4.640   5.6885   \n",
       "E1        39959.0080     0.277   -0.949  -379.39685  -2.350  -1.076  -1.6326   \n",
       "GS       134624.2700    13.031    6.858  9233.11000  12.129   4.691   9.8753   \n",
       "GS건설     110355.9600     1.296   -0.185  -204.31464  -0.786  -0.155  -5.1590   \n",
       "HDC현대EP    8611.5900     7.997    5.938   511.37732  21.143   8.989  13.6950   \n",
       "KG케미칼      8084.7334     8.987    3.506   283.47116   6.324   2.356   7.8279   \n",
       "KPX케미칼     6473.6190     6.841    5.261   340.59690   8.005   6.553  11.6820   \n",
       "KPX홀딩스     6965.2260     7.502    7.670   534.25480   5.212   4.487   7.6599   \n",
       "\n",
       "              EPS(원)       BPS(원)       SPS(원)     PER(배)   PBR(배)    PSR(배)  \\\n",
       "ticker                                                                         \n",
       "AK홀딩스     5436.41260   48112.4020  220556.1600   10.30091  1.16394   0.25390   \n",
       "BGF       3703.57740   18648.6230    1737.2633   22.75690  4.51947  48.51420   \n",
       "BYC      20872.31200  471887.0000  252211.4500   19.02041  0.84130   1.57408   \n",
       "CJ        6257.15230  114276.0800  672045.9000   28.18128  1.54306   0.26238   \n",
       "CJ CGV     583.05130   17654.1540   67682.2600  120.74409  3.98773   1.04015   \n",
       "CJ대한통운    2445.65770  133105.0800  266607.6600   73.19095  1.34480   0.67140   \n",
       "CJ씨푸드      148.70976    1530.1201    4808.5810   23.33404  2.26780   0.72163   \n",
       "CS홀딩스     7994.88600  186451.8400  106666.8500   10.09395  0.43282   0.75656   \n",
       "DB        -113.72754     881.1775    1124.5490   -6.45402  0.83298   0.65271   \n",
       "DB하이텍     1984.76070    7900.0090   17369.5780    8.01104  2.01266   0.91539   \n",
       "DRB동일     1975.50950   17210.0080   27659.4320    5.95924  0.68405   0.42563   \n",
       "DSR        671.63740    8252.3850   12566.2540   13.84676  1.12695   0.74008   \n",
       "DSR제강      603.36414    8780.0540   11981.6590   14.61804  1.00455   0.73613   \n",
       "E1       -3869.01100  191789.6900  582492.8000  -16.20569  0.32692   0.10764   \n",
       "GS        8507.93300   73559.0500  142158.3600    6.35877  0.73546   0.38056   \n",
       "GS건설      -363.11768   47135.6760  155430.9400  -72.97909  0.56221   0.17049   \n",
       "HDC현대EP   1603.06360    8387.6280   26995.5800    5.83882  1.11593   0.34672   \n",
       "KG케미칼     1117.22890   18865.1200   70329.6250   13.20231  0.78187   0.20973   \n",
       "KPX케미칼    6781.69140   87107.8300  133752.4700    8.75888  0.68191   0.44410   \n",
       "KPX홀딩스    7000.43000  141449.0500  164871.2300    9.39942  0.46519   0.39910   \n",
       "\n",
       "            price    price2       rtn PER_Score PBR_Score  \n",
       "ticker                                                     \n",
       "AK홀딩스     56000.0   68500.0  0.223214         5         7  \n",
       "BGF       42140.0   15250.0 -0.638111         8        10  \n",
       "BYC      397000.0  306000.0 -0.229219         8         5  \n",
       "CJ       176334.0  171148.0 -0.029410         9         8  \n",
       "CJ CGV    70400.0   74200.0  0.053977        10        10  \n",
       "CJ대한통운   179000.0  140000.0 -0.217877        10         8  \n",
       "CJ씨푸드      3470.0    2875.0 -0.171470         8         9  \n",
       "CS홀딩스     80700.0   80200.0 -0.006196         5         1  \n",
       "DB          734.0     658.0 -0.103542         2         5  \n",
       "DB하이텍     15900.0   12000.0 -0.245283         4         9  \n",
       "DRB동일     11772.0    7682.0 -0.347435         3         3  \n",
       "DSR        9300.0    5170.0 -0.444086         6         7  \n",
       "DSR제강      8820.0    5240.0 -0.405896         6         6  \n",
       "E1        62700.0   56900.0 -0.092504         1         1  \n",
       "GS        54100.0   62200.0  0.149723         3         4  \n",
       "GS건설      26500.0   28300.0  0.067925         1         2  \n",
       "HDC현대EP    9360.0    6800.0 -0.273504         3         6  \n",
       "KG케미칼     14750.0   24500.0  0.661017         6         4  \n",
       "KPX케미칼    59400.0   69900.0  0.176768         4         3  \n",
       "KPX홀딩스    65800.0   65500.0 -0.004559         5         2  "
      ]
     },
     "execution_count": 40,
     "metadata": {},
     "output_type": "execute_result"
    }
   ],
   "source": [
    "# 참고 :groupby()에 대해 head()를 적용하면, 기존이 head()가 작동하는 방식\n",
    "# 즉, 최상위 2개를 가지고 오는게 아니라\n",
    "# 각 그룹별 최상위 2개를 무작위로 섞어서 하나로 합친 DataFrame을 리턴함\n",
    "g_df.groupby(\"PBR_Score\", observed=True).head(2)"
   ]
  },
  {
   "cell_type": "markdown",
   "id": "b7e86d1f8f183384",
   "metadata": {},
   "source": [
    "## aggregation\n",
    "\n",
    "- min\n",
    "- max\n",
    "- mean\n",
    "- median\n",
    "- sum\n",
    "- var\n",
    "- size\n",
    "- nunique\n",
    "- idxmax"
   ]
  },
  {
   "cell_type": "code",
   "execution_count": 41,
   "id": "299b3bffae16330a",
   "metadata": {
    "ExecuteTime": {
     "end_time": "2025-04-16T09:18:51.789226Z",
     "start_time": "2025-04-16T09:18:51.785284Z"
    }
   },
   "outputs": [],
   "source": [
    "import numpy as np\n",
    "import pandas as pd\n",
    "\n",
    "\n",
    "df = pd.read_csv(\"../data/naver_finance/2016_12.csv\")\n",
    "\n",
    "# 여기서는 편의를 위해 결측치를 그냥 버림\n",
    "# 원본은 유지한채 조작할 것을 새로 만들기!\n",
    "g_df = df.dropna().copy()"
   ]
  },
  {
   "cell_type": "code",
   "execution_count": 42,
   "id": "f2ccd54f97f41538",
   "metadata": {
    "ExecuteTime": {
     "end_time": "2025-04-16T09:18:51.814933Z",
     "start_time": "2025-04-16T09:18:51.806454Z"
    }
   },
   "outputs": [
    {
     "data": {
      "text/html": [
       "<div>\n",
       "<style scoped>\n",
       "    .dataframe tbody tr th:only-of-type {\n",
       "        vertical-align: middle;\n",
       "    }\n",
       "\n",
       "    .dataframe tbody tr th {\n",
       "        vertical-align: top;\n",
       "    }\n",
       "\n",
       "    .dataframe thead th {\n",
       "        text-align: right;\n",
       "    }\n",
       "</style>\n",
       "<table border=\"1\" class=\"dataframe\">\n",
       "  <thead>\n",
       "    <tr style=\"text-align: right;\">\n",
       "      <th></th>\n",
       "      <th>매출액(억원)</th>\n",
       "      <th>영업이익률(%)</th>\n",
       "      <th>순이익률(%)</th>\n",
       "      <th>당기순이익(억원)</th>\n",
       "      <th>ROE(%)</th>\n",
       "      <th>ROA(%)</th>\n",
       "      <th>ROIC(%)</th>\n",
       "      <th>EPS(원)</th>\n",
       "      <th>BPS(원)</th>\n",
       "      <th>SPS(원)</th>\n",
       "      <th>PER(배)</th>\n",
       "      <th>PBR(배)</th>\n",
       "      <th>PSR(배)</th>\n",
       "      <th>price</th>\n",
       "      <th>price2</th>\n",
       "      <th>rtn</th>\n",
       "      <th>PER_Score</th>\n",
       "      <th>PBR_Score</th>\n",
       "    </tr>\n",
       "    <tr>\n",
       "      <th>ticker</th>\n",
       "      <th></th>\n",
       "      <th></th>\n",
       "      <th></th>\n",
       "      <th></th>\n",
       "      <th></th>\n",
       "      <th></th>\n",
       "      <th></th>\n",
       "      <th></th>\n",
       "      <th></th>\n",
       "      <th></th>\n",
       "      <th></th>\n",
       "      <th></th>\n",
       "      <th></th>\n",
       "      <th></th>\n",
       "      <th></th>\n",
       "      <th></th>\n",
       "      <th></th>\n",
       "      <th></th>\n",
       "    </tr>\n",
       "  </thead>\n",
       "  <tbody>\n",
       "    <tr>\n",
       "      <th>AK홀딩스</th>\n",
       "      <td>29218.3100</td>\n",
       "      <td>7.313</td>\n",
       "      <td>4.563</td>\n",
       "      <td>1333.22340</td>\n",
       "      <td>12.193</td>\n",
       "      <td>5.091</td>\n",
       "      <td>15.5147</td>\n",
       "      <td>5436.4126</td>\n",
       "      <td>48112.402</td>\n",
       "      <td>220556.1600</td>\n",
       "      <td>10.30091</td>\n",
       "      <td>1.16394</td>\n",
       "      <td>0.25390</td>\n",
       "      <td>56000.0</td>\n",
       "      <td>68500.0</td>\n",
       "      <td>0.223214</td>\n",
       "      <td>5</td>\n",
       "      <td>7</td>\n",
       "    </tr>\n",
       "    <tr>\n",
       "      <th>BGF</th>\n",
       "      <td>860.7727</td>\n",
       "      <td>9.315</td>\n",
       "      <td>214.481</td>\n",
       "      <td>1846.19210</td>\n",
       "      <td>21.624</td>\n",
       "      <td>10.433</td>\n",
       "      <td>8.0153</td>\n",
       "      <td>3703.5774</td>\n",
       "      <td>18648.623</td>\n",
       "      <td>1737.2633</td>\n",
       "      <td>22.75690</td>\n",
       "      <td>4.51947</td>\n",
       "      <td>48.51420</td>\n",
       "      <td>42140.0</td>\n",
       "      <td>15250.0</td>\n",
       "      <td>-0.638111</td>\n",
       "      <td>8</td>\n",
       "      <td>10</td>\n",
       "    </tr>\n",
       "    <tr>\n",
       "      <th>BYC</th>\n",
       "      <td>2118.5762</td>\n",
       "      <td>7.625</td>\n",
       "      <td>8.281</td>\n",
       "      <td>175.43266</td>\n",
       "      <td>4.543</td>\n",
       "      <td>2.463</td>\n",
       "      <td>10.7475</td>\n",
       "      <td>20872.3120</td>\n",
       "      <td>471887.000</td>\n",
       "      <td>252211.4500</td>\n",
       "      <td>19.02041</td>\n",
       "      <td>0.84130</td>\n",
       "      <td>1.57408</td>\n",
       "      <td>397000.0</td>\n",
       "      <td>306000.0</td>\n",
       "      <td>-0.229219</td>\n",
       "      <td>8</td>\n",
       "      <td>5</td>\n",
       "    </tr>\n",
       "  </tbody>\n",
       "</table>\n",
       "</div>"
      ],
      "text/plain": [
       "           매출액(억원)  영업이익률(%)  순이익률(%)   당기순이익(억원)  ROE(%)  ROA(%)  ROIC(%)  \\\n",
       "ticker                                                                       \n",
       "AK홀딩스   29218.3100     7.313    4.563  1333.22340  12.193   5.091  15.5147   \n",
       "BGF       860.7727     9.315  214.481  1846.19210  21.624  10.433   8.0153   \n",
       "BYC      2118.5762     7.625    8.281   175.43266   4.543   2.463  10.7475   \n",
       "\n",
       "            EPS(원)      BPS(원)       SPS(원)    PER(배)   PBR(배)    PSR(배)  \\\n",
       "ticker                                                                     \n",
       "AK홀딩스    5436.4126   48112.402  220556.1600  10.30091  1.16394   0.25390   \n",
       "BGF      3703.5774   18648.623    1737.2633  22.75690  4.51947  48.51420   \n",
       "BYC     20872.3120  471887.000  252211.4500  19.02041  0.84130   1.57408   \n",
       "\n",
       "           price    price2       rtn PER_Score PBR_Score  \n",
       "ticker                                                    \n",
       "AK홀딩스    56000.0   68500.0  0.223214         5         7  \n",
       "BGF      42140.0   15250.0 -0.638111         8        10  \n",
       "BYC     397000.0  306000.0 -0.229219         8         5  "
      ]
     },
     "execution_count": 42,
     "metadata": {},
     "output_type": "execute_result"
    }
   ],
   "source": [
    "g_df[\"rtn\"] = g_df[\"price2\"] / g_df[\"price\"] - 1\n",
    "g_df.loc[:, \"PER_Score\"] = pd.qcut(g_df[\"PER(배)\"], 10, labels=range(1, 11))\n",
    "g_df.loc[:, \"PBR_Score\"] = pd.qcut(g_df[\"PBR(배)\"], 10, labels=range(1, 11))\n",
    "\n",
    "# 종목명은 인덱스로 지정!\n",
    "g_df.set_index(\"ticker\", inplace=True)\n",
    "g_df.head(3)"
   ]
  },
  {
   "cell_type": "code",
   "execution_count": 43,
   "id": "614df69aeef4fa8b",
   "metadata": {
    "ExecuteTime": {
     "end_time": "2025-04-16T09:18:51.850706Z",
     "start_time": "2025-04-16T09:18:51.848700Z"
    }
   },
   "outputs": [],
   "source": [
    "g_df_obj = g_df.groupby([\"PBR_Score\", \"PER_Score\"], observed=True)"
   ]
  },
  {
   "cell_type": "code",
   "execution_count": 44,
   "id": "ed6023f03f6551e8",
   "metadata": {
    "ExecuteTime": {
     "end_time": "2025-04-16T09:18:51.874205Z",
     "start_time": "2025-04-16T09:18:51.869881Z"
    }
   },
   "outputs": [
    {
     "data": {
      "text/html": [
       "<div>\n",
       "<style scoped>\n",
       "    .dataframe tbody tr th:only-of-type {\n",
       "        vertical-align: middle;\n",
       "    }\n",
       "\n",
       "    .dataframe tbody tr th {\n",
       "        vertical-align: top;\n",
       "    }\n",
       "\n",
       "    .dataframe thead th {\n",
       "        text-align: right;\n",
       "    }\n",
       "</style>\n",
       "<table border=\"1\" class=\"dataframe\">\n",
       "  <thead>\n",
       "    <tr style=\"text-align: right;\">\n",
       "      <th></th>\n",
       "      <th>rtn</th>\n",
       "    </tr>\n",
       "    <tr>\n",
       "      <th>PBR_Score</th>\n",
       "      <th></th>\n",
       "    </tr>\n",
       "  </thead>\n",
       "  <tbody>\n",
       "    <tr>\n",
       "      <th>1</th>\n",
       "      <td>-0.001363</td>\n",
       "    </tr>\n",
       "    <tr>\n",
       "      <th>2</th>\n",
       "      <td>0.020453</td>\n",
       "    </tr>\n",
       "    <tr>\n",
       "      <th>3</th>\n",
       "      <td>-0.020788</td>\n",
       "    </tr>\n",
       "    <tr>\n",
       "      <th>4</th>\n",
       "      <td>0.160985</td>\n",
       "    </tr>\n",
       "    <tr>\n",
       "      <th>5</th>\n",
       "      <td>-0.011614</td>\n",
       "    </tr>\n",
       "    <tr>\n",
       "      <th>6</th>\n",
       "      <td>-0.043329</td>\n",
       "    </tr>\n",
       "    <tr>\n",
       "      <th>7</th>\n",
       "      <td>0.150012</td>\n",
       "    </tr>\n",
       "    <tr>\n",
       "      <th>8</th>\n",
       "      <td>0.057876</td>\n",
       "    </tr>\n",
       "    <tr>\n",
       "      <th>9</th>\n",
       "      <td>0.139403</td>\n",
       "    </tr>\n",
       "    <tr>\n",
       "      <th>10</th>\n",
       "      <td>0.053526</td>\n",
       "    </tr>\n",
       "  </tbody>\n",
       "</table>\n",
       "</div>"
      ],
      "text/plain": [
       "                rtn\n",
       "PBR_Score          \n",
       "1         -0.001363\n",
       "2          0.020453\n",
       "3         -0.020788\n",
       "4          0.160985\n",
       "5         -0.011614\n",
       "6         -0.043329\n",
       "7          0.150012\n",
       "8          0.057876\n",
       "9          0.139403\n",
       "10         0.053526"
      ]
     },
     "execution_count": 44,
     "metadata": {},
     "output_type": "execute_result"
    }
   ],
   "source": [
    "# agg 를 쓸 때는,\n",
    "# 기준으로 할 열 이름과, 적용할 함수(aggregation 함수만!)를 지정하면된다!\n",
    "# dict, list 등등 다 할 수 있음, 아래와 같이\n",
    "# g_df.groupby(\"PBR_Score\", observed=True).agg({\n",
    "#     \"rtn\": [\"mean\", \"std\"],\n",
    "#     \"PER(배)\": [\"min\"]\n",
    "# })\n",
    "pbr_rtn_df = g_df.groupby(\"PBR_Score\", observed=True).agg({\"rtn\": \"mean\"})\n",
    "pbr_rtn_df"
   ]
  },
  {
   "cell_type": "code",
   "execution_count": 45,
   "id": "519ff2aedd95b8a",
   "metadata": {
    "ExecuteTime": {
     "end_time": "2025-04-16T09:18:51.916711Z",
     "start_time": "2025-04-16T09:18:51.912491Z"
    }
   },
   "outputs": [
    {
     "data": {
      "text/html": [
       "<div>\n",
       "<style scoped>\n",
       "    .dataframe tbody tr th:only-of-type {\n",
       "        vertical-align: middle;\n",
       "    }\n",
       "\n",
       "    .dataframe tbody tr th {\n",
       "        vertical-align: top;\n",
       "    }\n",
       "\n",
       "    .dataframe thead th {\n",
       "        text-align: right;\n",
       "    }\n",
       "</style>\n",
       "<table border=\"1\" class=\"dataframe\">\n",
       "  <thead>\n",
       "    <tr style=\"text-align: right;\">\n",
       "      <th></th>\n",
       "      <th>rtn</th>\n",
       "    </tr>\n",
       "    <tr>\n",
       "      <th>PER_Score</th>\n",
       "      <th></th>\n",
       "    </tr>\n",
       "  </thead>\n",
       "  <tbody>\n",
       "    <tr>\n",
       "      <th>1</th>\n",
       "      <td>-0.061915</td>\n",
       "    </tr>\n",
       "    <tr>\n",
       "      <th>2</th>\n",
       "      <td>-0.083212</td>\n",
       "    </tr>\n",
       "    <tr>\n",
       "      <th>3</th>\n",
       "      <td>-0.037584</td>\n",
       "    </tr>\n",
       "    <tr>\n",
       "      <th>4</th>\n",
       "      <td>0.056213</td>\n",
       "    </tr>\n",
       "    <tr>\n",
       "      <th>5</th>\n",
       "      <td>0.000077</td>\n",
       "    </tr>\n",
       "    <tr>\n",
       "      <th>6</th>\n",
       "      <td>0.095373</td>\n",
       "    </tr>\n",
       "    <tr>\n",
       "      <th>7</th>\n",
       "      <td>0.150638</td>\n",
       "    </tr>\n",
       "    <tr>\n",
       "      <th>8</th>\n",
       "      <td>0.144230</td>\n",
       "    </tr>\n",
       "    <tr>\n",
       "      <th>9</th>\n",
       "      <td>0.047995</td>\n",
       "    </tr>\n",
       "    <tr>\n",
       "      <th>10</th>\n",
       "      <td>0.195620</td>\n",
       "    </tr>\n",
       "  </tbody>\n",
       "</table>\n",
       "</div>"
      ],
      "text/plain": [
       "                rtn\n",
       "PER_Score          \n",
       "1         -0.061915\n",
       "2         -0.083212\n",
       "3         -0.037584\n",
       "4          0.056213\n",
       "5          0.000077\n",
       "6          0.095373\n",
       "7          0.150638\n",
       "8          0.144230\n",
       "9          0.047995\n",
       "10         0.195620"
      ]
     },
     "execution_count": 45,
     "metadata": {},
     "output_type": "execute_result"
    }
   ],
   "source": [
    "# 다음과 같이도 할 수 있음\n",
    "# g_df.groupby(\"PER_Score\", observed=True)[\"rtn\"].agg(\"mean\")\n",
    "# g_df.groupby(\"PER_Score\", observed=True)[\"rtn\"].agg(np.mean)\n",
    "# g_df.groupby(\"PER_Score\", observed=True)[\"rtn\"].mean()\n",
    "per_rtn_df = g_df.groupby(\"PER_Score\", observed=True).agg({\"rtn\": \"mean\"})\n",
    "per_rtn_df"
   ]
  },
  {
   "cell_type": "code",
   "execution_count": 46,
   "id": "ba673197890cd57",
   "metadata": {
    "ExecuteTime": {
     "end_time": "2025-04-16T09:18:51.950992Z",
     "start_time": "2025-04-16T09:18:51.943776Z"
    }
   },
   "outputs": [
    {
     "data": {
      "text/html": [
       "<div>\n",
       "<style scoped>\n",
       "    .dataframe tbody tr th:only-of-type {\n",
       "        vertical-align: middle;\n",
       "    }\n",
       "\n",
       "    .dataframe tbody tr th {\n",
       "        vertical-align: top;\n",
       "    }\n",
       "\n",
       "    .dataframe thead tr th {\n",
       "        text-align: left;\n",
       "    }\n",
       "\n",
       "    .dataframe thead tr:last-of-type th {\n",
       "        text-align: right;\n",
       "    }\n",
       "</style>\n",
       "<table border=\"1\" class=\"dataframe\">\n",
       "  <thead>\n",
       "    <tr>\n",
       "      <th></th>\n",
       "      <th></th>\n",
       "      <th colspan=\"2\" halign=\"left\">rtn</th>\n",
       "      <th colspan=\"4\" halign=\"left\">ROE(%)</th>\n",
       "    </tr>\n",
       "    <tr>\n",
       "      <th></th>\n",
       "      <th></th>\n",
       "      <th>mean</th>\n",
       "      <th>std</th>\n",
       "      <th>mean</th>\n",
       "      <th>size</th>\n",
       "      <th>nunique</th>\n",
       "      <th>idxmax</th>\n",
       "    </tr>\n",
       "    <tr>\n",
       "      <th>PBR_Score</th>\n",
       "      <th>PER_Score</th>\n",
       "      <th></th>\n",
       "      <th></th>\n",
       "      <th></th>\n",
       "      <th></th>\n",
       "      <th></th>\n",
       "      <th></th>\n",
       "    </tr>\n",
       "  </thead>\n",
       "  <tbody>\n",
       "    <tr>\n",
       "      <th rowspan=\"5\" valign=\"top\">1</th>\n",
       "      <th>1</th>\n",
       "      <td>-0.099839</td>\n",
       "      <td>0.071890</td>\n",
       "      <td>-1.401800</td>\n",
       "      <td>5</td>\n",
       "      <td>5</td>\n",
       "      <td>한국수출포장공업</td>\n",
       "    </tr>\n",
       "    <tr>\n",
       "      <th>2</th>\n",
       "      <td>-0.093158</td>\n",
       "      <td>0.266421</td>\n",
       "      <td>154.966727</td>\n",
       "      <td>11</td>\n",
       "      <td>11</td>\n",
       "      <td>삼부토건</td>\n",
       "    </tr>\n",
       "    <tr>\n",
       "      <th>3</th>\n",
       "      <td>0.117311</td>\n",
       "      <td>0.359099</td>\n",
       "      <td>6.952455</td>\n",
       "      <td>11</td>\n",
       "      <td>11</td>\n",
       "      <td>한국전력공사</td>\n",
       "    </tr>\n",
       "    <tr>\n",
       "      <th>4</th>\n",
       "      <td>0.105904</td>\n",
       "      <td>0.294823</td>\n",
       "      <td>5.104182</td>\n",
       "      <td>11</td>\n",
       "      <td>11</td>\n",
       "      <td>한국공항</td>\n",
       "    </tr>\n",
       "    <tr>\n",
       "      <th>5</th>\n",
       "      <td>-0.039217</td>\n",
       "      <td>0.119516</td>\n",
       "      <td>3.941429</td>\n",
       "      <td>7</td>\n",
       "      <td>7</td>\n",
       "      <td>성창기업지주</td>\n",
       "    </tr>\n",
       "  </tbody>\n",
       "</table>\n",
       "</div>"
      ],
      "text/plain": [
       "                          rtn                ROE(%)                       \n",
       "                         mean       std        mean size nunique    idxmax\n",
       "PBR_Score PER_Score                                                       \n",
       "1         1         -0.099839  0.071890   -1.401800    5       5  한국수출포장공업\n",
       "          2         -0.093158  0.266421  154.966727   11      11      삼부토건\n",
       "          3          0.117311  0.359099    6.952455   11      11    한국전력공사\n",
       "          4          0.105904  0.294823    5.104182   11      11      한국공항\n",
       "          5         -0.039217  0.119516    3.941429    7       7    성창기업지주"
      ]
     },
     "execution_count": 46,
     "metadata": {},
     "output_type": "execute_result"
    }
   ],
   "source": [
    "ex_df = g_df.groupby([\"PBR_Score\", \"PER_Score\"], observed=True).agg(\n",
    "    {\"rtn\": [\"mean\", \"std\"], \"ROE(%)\": [\"mean\", \"size\", \"nunique\", \"idxmax\"]}\n",
    ")\n",
    "ex_df.head()"
   ]
  },
  {
   "cell_type": "markdown",
   "id": "a02fc1f5120ec6b2",
   "metadata": {},
   "source": "주의! NaN 은 groupby 시 자동으로 filter out 되기 때문에, 미리 전처리 해 두는 것이 좋음!"
  },
  {
   "cell_type": "code",
   "execution_count": 47,
   "id": "ec9bf9cd552fcc1c",
   "metadata": {
    "ExecuteTime": {
     "end_time": "2025-04-16T09:18:52.021216Z",
     "start_time": "2025-04-16T09:18:52.018185Z"
    }
   },
   "outputs": [
    {
     "data": {
      "text/html": [
       "<div>\n",
       "<style scoped>\n",
       "    .dataframe tbody tr th:only-of-type {\n",
       "        vertical-align: middle;\n",
       "    }\n",
       "\n",
       "    .dataframe tbody tr th {\n",
       "        vertical-align: top;\n",
       "    }\n",
       "\n",
       "    .dataframe thead th {\n",
       "        text-align: right;\n",
       "    }\n",
       "</style>\n",
       "<table border=\"1\" class=\"dataframe\">\n",
       "  <thead>\n",
       "    <tr style=\"text-align: right;\">\n",
       "      <th></th>\n",
       "      <th>a</th>\n",
       "      <th>b</th>\n",
       "    </tr>\n",
       "  </thead>\n",
       "  <tbody>\n",
       "    <tr>\n",
       "      <th>0</th>\n",
       "      <td>소형주</td>\n",
       "      <td>NaN</td>\n",
       "    </tr>\n",
       "    <tr>\n",
       "      <th>1</th>\n",
       "      <td>NaN</td>\n",
       "      <td>2.0</td>\n",
       "    </tr>\n",
       "    <tr>\n",
       "      <th>2</th>\n",
       "      <td>대형주</td>\n",
       "      <td>3.0</td>\n",
       "    </tr>\n",
       "    <tr>\n",
       "      <th>3</th>\n",
       "      <td>대형주</td>\n",
       "      <td>NaN</td>\n",
       "    </tr>\n",
       "  </tbody>\n",
       "</table>\n",
       "</div>"
      ],
      "text/plain": [
       "     a    b\n",
       "0  소형주  NaN\n",
       "1  NaN  2.0\n",
       "2  대형주  3.0\n",
       "3  대형주  NaN"
      ]
     },
     "execution_count": 47,
     "metadata": {},
     "output_type": "execute_result"
    }
   ],
   "source": [
    "df = pd.DataFrame(\n",
    "    {\n",
    "        \"a\": [\"소형주\", np.nan, \"대형주\", \"대형주\"],\n",
    "        \"b\": [np.nan, 2, 3, np.nan],\n",
    "    }\n",
    ")\n",
    "df"
   ]
  },
  {
   "cell_type": "code",
   "execution_count": 48,
   "id": "c6001804c0d1b6d4",
   "metadata": {
    "ExecuteTime": {
     "end_time": "2025-04-16T09:18:52.054810Z",
     "start_time": "2025-04-16T09:18:52.051933Z"
    }
   },
   "outputs": [
    {
     "data": {
      "text/plain": [
       "a\n",
       "대형주    3.0\n",
       "소형주    NaN\n",
       "Name: b, dtype: float64"
      ]
     },
     "execution_count": 48,
     "metadata": {},
     "output_type": "execute_result"
    }
   ],
   "source": [
    "df.groupby([\"a\"])[\"b\"].mean()"
   ]
  },
  {
   "cell_type": "code",
   "execution_count": 49,
   "id": "2ecc20d2031d8e65",
   "metadata": {
    "ExecuteTime": {
     "end_time": "2025-04-16T09:18:52.140087Z",
     "start_time": "2025-04-16T09:18:52.135440Z"
    }
   },
   "outputs": [
    {
     "data": {
      "text/html": [
       "<div>\n",
       "<style scoped>\n",
       "    .dataframe tbody tr th:only-of-type {\n",
       "        vertical-align: middle;\n",
       "    }\n",
       "\n",
       "    .dataframe tbody tr th {\n",
       "        vertical-align: top;\n",
       "    }\n",
       "\n",
       "    .dataframe thead tr th {\n",
       "        text-align: left;\n",
       "    }\n",
       "\n",
       "    .dataframe thead tr:last-of-type th {\n",
       "        text-align: right;\n",
       "    }\n",
       "</style>\n",
       "<table border=\"1\" class=\"dataframe\">\n",
       "  <thead>\n",
       "    <tr>\n",
       "      <th></th>\n",
       "      <th colspan=\"2\" halign=\"left\">rtn</th>\n",
       "    </tr>\n",
       "    <tr>\n",
       "      <th></th>\n",
       "      <th>mean</th>\n",
       "      <th>std</th>\n",
       "    </tr>\n",
       "    <tr>\n",
       "      <th>PER_Score</th>\n",
       "      <th></th>\n",
       "      <th></th>\n",
       "    </tr>\n",
       "  </thead>\n",
       "  <tbody>\n",
       "    <tr>\n",
       "      <th>1</th>\n",
       "      <td>-0.061915</td>\n",
       "      <td>0.327539</td>\n",
       "    </tr>\n",
       "    <tr>\n",
       "      <th>2</th>\n",
       "      <td>-0.083212</td>\n",
       "      <td>0.780563</td>\n",
       "    </tr>\n",
       "  </tbody>\n",
       "</table>\n",
       "</div>"
      ],
      "text/plain": [
       "                rtn          \n",
       "               mean       std\n",
       "PER_Score                    \n",
       "1         -0.061915  0.327539\n",
       "2         -0.083212  0.780563"
      ]
     },
     "execution_count": 49,
     "metadata": {},
     "output_type": "execute_result"
    }
   ],
   "source": [
    "# as_index 는 groupby 의 기준이 된 열을 index 로 할 것인지 아닌지를 결정하는 인자\n",
    "# default 는 True => index 로 만듬!\n",
    "# 기준이 2개 이상이면, Multi-index 를 만드는 것\n",
    "g_df.groupby([\"PER_Score\"], observed=True).agg({\"rtn\": [\"mean\", \"std\"]}).head(2)"
   ]
  },
  {
   "cell_type": "code",
   "execution_count": 50,
   "id": "437d66fb9c517620",
   "metadata": {
    "ExecuteTime": {
     "end_time": "2025-04-16T09:18:52.173739Z",
     "start_time": "2025-04-16T09:18:52.169231Z"
    }
   },
   "outputs": [
    {
     "data": {
      "text/html": [
       "<div>\n",
       "<style scoped>\n",
       "    .dataframe tbody tr th:only-of-type {\n",
       "        vertical-align: middle;\n",
       "    }\n",
       "\n",
       "    .dataframe tbody tr th {\n",
       "        vertical-align: top;\n",
       "    }\n",
       "\n",
       "    .dataframe thead tr th {\n",
       "        text-align: left;\n",
       "    }\n",
       "</style>\n",
       "<table border=\"1\" class=\"dataframe\">\n",
       "  <thead>\n",
       "    <tr>\n",
       "      <th></th>\n",
       "      <th>PER_Score</th>\n",
       "      <th colspan=\"2\" halign=\"left\">rtn</th>\n",
       "    </tr>\n",
       "    <tr>\n",
       "      <th></th>\n",
       "      <th></th>\n",
       "      <th>mean</th>\n",
       "      <th>std</th>\n",
       "    </tr>\n",
       "  </thead>\n",
       "  <tbody>\n",
       "    <tr>\n",
       "      <th>0</th>\n",
       "      <td>1</td>\n",
       "      <td>-0.061915</td>\n",
       "      <td>0.327539</td>\n",
       "    </tr>\n",
       "    <tr>\n",
       "      <th>1</th>\n",
       "      <td>2</td>\n",
       "      <td>-0.083212</td>\n",
       "      <td>0.780563</td>\n",
       "    </tr>\n",
       "  </tbody>\n",
       "</table>\n",
       "</div>"
      ],
      "text/plain": [
       "  PER_Score       rtn          \n",
       "                 mean       std\n",
       "0         1 -0.061915  0.327539\n",
       "1         2 -0.083212  0.780563"
      ]
     },
     "execution_count": 50,
     "metadata": {},
     "output_type": "execute_result"
    }
   ],
   "source": [
    "# 기준 열을 index 로 만들기 싫으면, as_index 를 False 로!\n",
    "g_df.groupby([\"PER_Score\"], observed=True, as_index=False).agg({\"rtn\": [\"mean\", \"std\"]}).head(2)"
   ]
  },
  {
   "cell_type": "markdown",
   "id": "a5b1f48ccf9e702e",
   "metadata": {},
   "source": "Multi-index 는 조작하기 힘드니까 level 을 줄이자!"
  },
  {
   "cell_type": "code",
   "execution_count": 51,
   "id": "aa7f0db293ef6371",
   "metadata": {
    "ExecuteTime": {
     "end_time": "2025-04-16T09:18:52.243222Z",
     "start_time": "2025-04-16T09:18:52.238632Z"
    }
   },
   "outputs": [
    {
     "data": {
      "text/html": [
       "<div>\n",
       "<style scoped>\n",
       "    .dataframe tbody tr th:only-of-type {\n",
       "        vertical-align: middle;\n",
       "    }\n",
       "\n",
       "    .dataframe tbody tr th {\n",
       "        vertical-align: top;\n",
       "    }\n",
       "\n",
       "    .dataframe thead tr th {\n",
       "        text-align: left;\n",
       "    }\n",
       "\n",
       "    .dataframe thead tr:last-of-type th {\n",
       "        text-align: right;\n",
       "    }\n",
       "</style>\n",
       "<table border=\"1\" class=\"dataframe\">\n",
       "  <thead>\n",
       "    <tr>\n",
       "      <th></th>\n",
       "      <th></th>\n",
       "      <th colspan=\"2\" halign=\"left\">rtn</th>\n",
       "      <th colspan=\"4\" halign=\"left\">ROE(%)</th>\n",
       "    </tr>\n",
       "    <tr>\n",
       "      <th></th>\n",
       "      <th></th>\n",
       "      <th>mean</th>\n",
       "      <th>std</th>\n",
       "      <th>mean</th>\n",
       "      <th>size</th>\n",
       "      <th>nunique</th>\n",
       "      <th>idxmax</th>\n",
       "    </tr>\n",
       "    <tr>\n",
       "      <th>PBR_Score</th>\n",
       "      <th>PER_Score</th>\n",
       "      <th></th>\n",
       "      <th></th>\n",
       "      <th></th>\n",
       "      <th></th>\n",
       "      <th></th>\n",
       "      <th></th>\n",
       "    </tr>\n",
       "  </thead>\n",
       "  <tbody>\n",
       "    <tr>\n",
       "      <th rowspan=\"5\" valign=\"top\">1</th>\n",
       "      <th>1</th>\n",
       "      <td>-0.099839</td>\n",
       "      <td>0.071890</td>\n",
       "      <td>-1.401800</td>\n",
       "      <td>5</td>\n",
       "      <td>5</td>\n",
       "      <td>한국수출포장공업</td>\n",
       "    </tr>\n",
       "    <tr>\n",
       "      <th>2</th>\n",
       "      <td>-0.093158</td>\n",
       "      <td>0.266421</td>\n",
       "      <td>154.966727</td>\n",
       "      <td>11</td>\n",
       "      <td>11</td>\n",
       "      <td>삼부토건</td>\n",
       "    </tr>\n",
       "    <tr>\n",
       "      <th>3</th>\n",
       "      <td>0.117311</td>\n",
       "      <td>0.359099</td>\n",
       "      <td>6.952455</td>\n",
       "      <td>11</td>\n",
       "      <td>11</td>\n",
       "      <td>한국전력공사</td>\n",
       "    </tr>\n",
       "    <tr>\n",
       "      <th>4</th>\n",
       "      <td>0.105904</td>\n",
       "      <td>0.294823</td>\n",
       "      <td>5.104182</td>\n",
       "      <td>11</td>\n",
       "      <td>11</td>\n",
       "      <td>한국공항</td>\n",
       "    </tr>\n",
       "    <tr>\n",
       "      <th>5</th>\n",
       "      <td>-0.039217</td>\n",
       "      <td>0.119516</td>\n",
       "      <td>3.941429</td>\n",
       "      <td>7</td>\n",
       "      <td>7</td>\n",
       "      <td>성창기업지주</td>\n",
       "    </tr>\n",
       "  </tbody>\n",
       "</table>\n",
       "</div>"
      ],
      "text/plain": [
       "                          rtn                ROE(%)                       \n",
       "                         mean       std        mean size nunique    idxmax\n",
       "PBR_Score PER_Score                                                       \n",
       "1         1         -0.099839  0.071890   -1.401800    5       5  한국수출포장공업\n",
       "          2         -0.093158  0.266421  154.966727   11      11      삼부토건\n",
       "          3          0.117311  0.359099    6.952455   11      11    한국전력공사\n",
       "          4          0.105904  0.294823    5.104182   11      11      한국공항\n",
       "          5         -0.039217  0.119516    3.941429    7       7    성창기업지주"
      ]
     },
     "execution_count": 51,
     "metadata": {},
     "output_type": "execute_result"
    }
   ],
   "source": [
    "ex_df.head()  # 너무 복잡하니까 한 줄로 만들겠다!"
   ]
  },
  {
   "cell_type": "code",
   "execution_count": 52,
   "id": "e54cfa6178ee1361",
   "metadata": {
    "ExecuteTime": {
     "end_time": "2025-04-16T09:18:52.287030Z",
     "start_time": "2025-04-16T09:18:52.284754Z"
    }
   },
   "outputs": [
    {
     "data": {
      "text/plain": [
       "(Index(['rtn', 'rtn', 'ROE(%)', 'ROE(%)', 'ROE(%)', 'ROE(%)'], dtype='object'),\n",
       " Index(['mean', 'std', 'mean', 'size', 'nunique', 'idxmax'], dtype='object'))"
      ]
     },
     "execution_count": 52,
     "metadata": {},
     "output_type": "execute_result"
    }
   ],
   "source": [
    "level0 = ex_df.columns.get_level_values(0)\n",
    "level1 = ex_df.columns.get_level_values(1)\n",
    "level0, level1"
   ]
  },
  {
   "cell_type": "code",
   "execution_count": 53,
   "id": "4ca36e9bc1db04c3",
   "metadata": {
    "ExecuteTime": {
     "end_time": "2025-04-16T09:18:52.370968Z",
     "start_time": "2025-04-16T09:18:52.368547Z"
    }
   },
   "outputs": [
    {
     "data": {
      "text/plain": [
       "Index(['rtn_mean', 'rtn_std', 'ROE(%)_mean', 'ROE(%)_size', 'ROE(%)_nunique',\n",
       "       'ROE(%)_idxmax'],\n",
       "      dtype='object')"
      ]
     },
     "execution_count": 53,
     "metadata": {},
     "output_type": "execute_result"
    }
   ],
   "source": [
    "level0 + \"_\" + level1"
   ]
  },
  {
   "cell_type": "code",
   "execution_count": 54,
   "id": "de4f8cf398495109",
   "metadata": {
    "ExecuteTime": {
     "end_time": "2025-04-16T09:18:52.411809Z",
     "start_time": "2025-04-16T09:18:52.407436Z"
    }
   },
   "outputs": [
    {
     "data": {
      "text/html": [
       "<div>\n",
       "<style scoped>\n",
       "    .dataframe tbody tr th:only-of-type {\n",
       "        vertical-align: middle;\n",
       "    }\n",
       "\n",
       "    .dataframe tbody tr th {\n",
       "        vertical-align: top;\n",
       "    }\n",
       "\n",
       "    .dataframe thead th {\n",
       "        text-align: right;\n",
       "    }\n",
       "</style>\n",
       "<table border=\"1\" class=\"dataframe\">\n",
       "  <thead>\n",
       "    <tr style=\"text-align: right;\">\n",
       "      <th></th>\n",
       "      <th></th>\n",
       "      <th>rtn_mean</th>\n",
       "      <th>rtn_std</th>\n",
       "      <th>ROE(%)_mean</th>\n",
       "      <th>ROE(%)_size</th>\n",
       "      <th>ROE(%)_nunique</th>\n",
       "      <th>ROE(%)_idxmax</th>\n",
       "    </tr>\n",
       "    <tr>\n",
       "      <th>PBR_Score</th>\n",
       "      <th>PER_Score</th>\n",
       "      <th></th>\n",
       "      <th></th>\n",
       "      <th></th>\n",
       "      <th></th>\n",
       "      <th></th>\n",
       "      <th></th>\n",
       "    </tr>\n",
       "  </thead>\n",
       "  <tbody>\n",
       "    <tr>\n",
       "      <th rowspan=\"5\" valign=\"top\">1</th>\n",
       "      <th>1</th>\n",
       "      <td>-0.099839</td>\n",
       "      <td>0.071890</td>\n",
       "      <td>-1.401800</td>\n",
       "      <td>5</td>\n",
       "      <td>5</td>\n",
       "      <td>한국수출포장공업</td>\n",
       "    </tr>\n",
       "    <tr>\n",
       "      <th>2</th>\n",
       "      <td>-0.093158</td>\n",
       "      <td>0.266421</td>\n",
       "      <td>154.966727</td>\n",
       "      <td>11</td>\n",
       "      <td>11</td>\n",
       "      <td>삼부토건</td>\n",
       "    </tr>\n",
       "    <tr>\n",
       "      <th>3</th>\n",
       "      <td>0.117311</td>\n",
       "      <td>0.359099</td>\n",
       "      <td>6.952455</td>\n",
       "      <td>11</td>\n",
       "      <td>11</td>\n",
       "      <td>한국전력공사</td>\n",
       "    </tr>\n",
       "    <tr>\n",
       "      <th>4</th>\n",
       "      <td>0.105904</td>\n",
       "      <td>0.294823</td>\n",
       "      <td>5.104182</td>\n",
       "      <td>11</td>\n",
       "      <td>11</td>\n",
       "      <td>한국공항</td>\n",
       "    </tr>\n",
       "    <tr>\n",
       "      <th>5</th>\n",
       "      <td>-0.039217</td>\n",
       "      <td>0.119516</td>\n",
       "      <td>3.941429</td>\n",
       "      <td>7</td>\n",
       "      <td>7</td>\n",
       "      <td>성창기업지주</td>\n",
       "    </tr>\n",
       "  </tbody>\n",
       "</table>\n",
       "</div>"
      ],
      "text/plain": [
       "                     rtn_mean   rtn_std  ROE(%)_mean  ROE(%)_size  \\\n",
       "PBR_Score PER_Score                                                 \n",
       "1         1         -0.099839  0.071890    -1.401800            5   \n",
       "          2         -0.093158  0.266421   154.966727           11   \n",
       "          3          0.117311  0.359099     6.952455           11   \n",
       "          4          0.105904  0.294823     5.104182           11   \n",
       "          5         -0.039217  0.119516     3.941429            7   \n",
       "\n",
       "                     ROE(%)_nunique ROE(%)_idxmax  \n",
       "PBR_Score PER_Score                                \n",
       "1         1                       5      한국수출포장공업  \n",
       "          2                      11          삼부토건  \n",
       "          3                      11        한국전력공사  \n",
       "          4                      11          한국공항  \n",
       "          5                       7        성창기업지주  "
      ]
     },
     "execution_count": 54,
     "metadata": {},
     "output_type": "execute_result"
    }
   ],
   "source": [
    "# Multi-index 인 column 을 한 줄로!\n",
    "ex_df.columns = level0 + \"_\" + level1\n",
    "ex_df.head()"
   ]
  },
  {
   "cell_type": "code",
   "execution_count": 55,
   "id": "bd1449ff6cb73303",
   "metadata": {
    "ExecuteTime": {
     "end_time": "2025-04-16T09:18:52.482478Z",
     "start_time": "2025-04-16T09:18:52.478150Z"
    }
   },
   "outputs": [
    {
     "data": {
      "text/html": [
       "<div>\n",
       "<style scoped>\n",
       "    .dataframe tbody tr th:only-of-type {\n",
       "        vertical-align: middle;\n",
       "    }\n",
       "\n",
       "    .dataframe tbody tr th {\n",
       "        vertical-align: top;\n",
       "    }\n",
       "\n",
       "    .dataframe thead th {\n",
       "        text-align: right;\n",
       "    }\n",
       "</style>\n",
       "<table border=\"1\" class=\"dataframe\">\n",
       "  <thead>\n",
       "    <tr style=\"text-align: right;\">\n",
       "      <th></th>\n",
       "      <th>PBR_Score</th>\n",
       "      <th>PER_Score</th>\n",
       "      <th>rtn_mean</th>\n",
       "      <th>rtn_std</th>\n",
       "      <th>ROE(%)_mean</th>\n",
       "      <th>ROE(%)_size</th>\n",
       "      <th>ROE(%)_nunique</th>\n",
       "      <th>ROE(%)_idxmax</th>\n",
       "    </tr>\n",
       "  </thead>\n",
       "  <tbody>\n",
       "    <tr>\n",
       "      <th>0</th>\n",
       "      <td>1</td>\n",
       "      <td>1</td>\n",
       "      <td>-0.099839</td>\n",
       "      <td>0.071890</td>\n",
       "      <td>-1.401800</td>\n",
       "      <td>5</td>\n",
       "      <td>5</td>\n",
       "      <td>한국수출포장공업</td>\n",
       "    </tr>\n",
       "    <tr>\n",
       "      <th>1</th>\n",
       "      <td>1</td>\n",
       "      <td>2</td>\n",
       "      <td>-0.093158</td>\n",
       "      <td>0.266421</td>\n",
       "      <td>154.966727</td>\n",
       "      <td>11</td>\n",
       "      <td>11</td>\n",
       "      <td>삼부토건</td>\n",
       "    </tr>\n",
       "    <tr>\n",
       "      <th>2</th>\n",
       "      <td>1</td>\n",
       "      <td>3</td>\n",
       "      <td>0.117311</td>\n",
       "      <td>0.359099</td>\n",
       "      <td>6.952455</td>\n",
       "      <td>11</td>\n",
       "      <td>11</td>\n",
       "      <td>한국전력공사</td>\n",
       "    </tr>\n",
       "    <tr>\n",
       "      <th>3</th>\n",
       "      <td>1</td>\n",
       "      <td>4</td>\n",
       "      <td>0.105904</td>\n",
       "      <td>0.294823</td>\n",
       "      <td>5.104182</td>\n",
       "      <td>11</td>\n",
       "      <td>11</td>\n",
       "      <td>한국공항</td>\n",
       "    </tr>\n",
       "    <tr>\n",
       "      <th>4</th>\n",
       "      <td>1</td>\n",
       "      <td>5</td>\n",
       "      <td>-0.039217</td>\n",
       "      <td>0.119516</td>\n",
       "      <td>3.941429</td>\n",
       "      <td>7</td>\n",
       "      <td>7</td>\n",
       "      <td>성창기업지주</td>\n",
       "    </tr>\n",
       "  </tbody>\n",
       "</table>\n",
       "</div>"
      ],
      "text/plain": [
       "  PBR_Score PER_Score  rtn_mean   rtn_std  ROE(%)_mean  ROE(%)_size  \\\n",
       "0         1         1 -0.099839  0.071890    -1.401800            5   \n",
       "1         1         2 -0.093158  0.266421   154.966727           11   \n",
       "2         1         3  0.117311  0.359099     6.952455           11   \n",
       "3         1         4  0.105904  0.294823     5.104182           11   \n",
       "4         1         5 -0.039217  0.119516     3.941429            7   \n",
       "\n",
       "   ROE(%)_nunique ROE(%)_idxmax  \n",
       "0               5      한국수출포장공업  \n",
       "1              11          삼부토건  \n",
       "2              11        한국전력공사  \n",
       "3              11          한국공항  \n",
       "4               7        성창기업지주  "
      ]
     },
     "execution_count": 55,
     "metadata": {},
     "output_type": "execute_result"
    }
   ],
   "source": [
    "# Multi-index 인 index 도 태초의 모습으로\n",
    "# 이렇게 간단하게 되어있어야, 다른 연산하기가 좋음.\n",
    "ex_df.reset_index(inplace=True)\n",
    "ex_df.head()"
   ]
  },
  {
   "cell_type": "markdown",
   "id": "546177fe128679a0",
   "metadata": {},
   "source": "### Example"
  },
  {
   "cell_type": "code",
   "execution_count": 56,
   "id": "7920415c4613f8a6",
   "metadata": {
    "ExecuteTime": {
     "end_time": "2025-04-16T09:18:52.612874Z",
     "start_time": "2025-04-16T09:18:52.507109Z"
    }
   },
   "outputs": [
    {
     "data": {
      "text/html": [
       "<div>\n",
       "<style scoped>\n",
       "    .dataframe tbody tr th:only-of-type {\n",
       "        vertical-align: middle;\n",
       "    }\n",
       "\n",
       "    .dataframe tbody tr th {\n",
       "        vertical-align: top;\n",
       "    }\n",
       "\n",
       "    .dataframe thead th {\n",
       "        text-align: right;\n",
       "    }\n",
       "</style>\n",
       "<table border=\"1\" class=\"dataframe\">\n",
       "  <thead>\n",
       "    <tr style=\"text-align: right;\">\n",
       "      <th></th>\n",
       "      <th>date</th>\n",
       "      <th>종목명</th>\n",
       "      <th>PBR(IFRS-연결)</th>\n",
       "      <th>베타 (M,5Yr)</th>\n",
       "      <th>수익률(%)</th>\n",
       "      <th>시가총액 (보통)(평균)(원)</th>\n",
       "    </tr>\n",
       "  </thead>\n",
       "  <tbody>\n",
       "    <tr>\n",
       "      <th>0</th>\n",
       "      <td>2000-07-31</td>\n",
       "      <td>BYC</td>\n",
       "      <td>0.21</td>\n",
       "      <td>0.47940</td>\n",
       "      <td>-0.58</td>\n",
       "      <td>2.778600e+10</td>\n",
       "    </tr>\n",
       "    <tr>\n",
       "      <th>1</th>\n",
       "      <td>2000-07-31</td>\n",
       "      <td>CJ</td>\n",
       "      <td>0.51</td>\n",
       "      <td>1.16611</td>\n",
       "      <td>-9.00</td>\n",
       "      <td>1.160889e+12</td>\n",
       "    </tr>\n",
       "    <tr>\n",
       "      <th>2</th>\n",
       "      <td>2000-07-31</td>\n",
       "      <td>CJ ENM</td>\n",
       "      <td>6.56</td>\n",
       "      <td>NaN</td>\n",
       "      <td>17.40</td>\n",
       "      <td>4.004670e+11</td>\n",
       "    </tr>\n",
       "    <tr>\n",
       "      <th>3</th>\n",
       "      <td>2000-07-31</td>\n",
       "      <td>CJ대한통운</td>\n",
       "      <td>0.17</td>\n",
       "      <td>1.31374</td>\n",
       "      <td>-7.96</td>\n",
       "      <td>1.949620e+11</td>\n",
       "    </tr>\n",
       "    <tr>\n",
       "      <th>4</th>\n",
       "      <td>2000-07-31</td>\n",
       "      <td>CJ씨푸드</td>\n",
       "      <td>NaN</td>\n",
       "      <td>0.22678</td>\n",
       "      <td>32.00</td>\n",
       "      <td>1.987000e+09</td>\n",
       "    </tr>\n",
       "  </tbody>\n",
       "</table>\n",
       "</div>"
      ],
      "text/plain": [
       "         date     종목명  PBR(IFRS-연결)  베타 (M,5Yr)  수익률(%)  시가총액 (보통)(평균)(원)\n",
       "0  2000-07-31     BYC          0.21     0.47940   -0.58      2.778600e+10\n",
       "1  2000-07-31      CJ          0.51     1.16611   -9.00      1.160889e+12\n",
       "2  2000-07-31  CJ ENM          6.56         NaN   17.40      4.004670e+11\n",
       "3  2000-07-31  CJ대한통운          0.17     1.31374   -7.96      1.949620e+11\n",
       "4  2000-07-31   CJ씨푸드           NaN     0.22678   32.00      1.987000e+09"
      ]
     },
     "execution_count": 56,
     "metadata": {},
     "output_type": "execute_result"
    }
   ],
   "source": [
    "import pandas as pd\n",
    "\n",
    "\n",
    "# 매우 큰 데이터로,\n",
    "# 2000년 7월 ~ 2018년 6월까지\n",
    "# 월말 별로 종목명, PBR, 베타, 수익률, 시가총액 을 모아둔 데이터\n",
    "df = pd.read_csv(\"../data/Small_and_Big.csv\", index_col=[0])\n",
    "df.head()"
   ]
  },
  {
   "cell_type": "code",
   "execution_count": 57,
   "id": "92a0645859c70968",
   "metadata": {
    "ExecuteTime": {
     "end_time": "2025-04-16T09:18:52.664780Z",
     "start_time": "2025-04-16T09:18:52.653533Z"
    }
   },
   "outputs": [
    {
     "name": "stdout",
     "output_type": "stream",
     "text": [
      "<class 'pandas.core.frame.DataFrame'>\n",
      "Index: 235929 entries, 0 to 235928\n",
      "Data columns (total 6 columns):\n",
      " #   Column            Non-Null Count   Dtype  \n",
      "---  ------            --------------   -----  \n",
      " 0   date              235929 non-null  object \n",
      " 1   종목명               235929 non-null  object \n",
      " 2   PBR(IFRS-연결)      233991 non-null  float64\n",
      " 3   베타 (M,5Yr)        214201 non-null  float64\n",
      " 4   수익률(%)            235929 non-null  float64\n",
      " 5   시가총액 (보통)(평균)(원)  235929 non-null  float64\n",
      "dtypes: float64(4), object(2)\n",
      "memory usage: 12.6+ MB\n"
     ]
    }
   ],
   "source": [
    "df.info()"
   ]
  },
  {
   "cell_type": "markdown",
   "id": "37a52a2a8bae1c86",
   "metadata": {},
   "source": "월별로 시가총액의 median 을 구해서, median 보다 크면 Big 작으면 Small 로"
  },
  {
   "cell_type": "code",
   "execution_count": 58,
   "id": "9ba33c1b4db3f584",
   "metadata": {
    "ExecuteTime": {
     "end_time": "2025-04-16T09:18:52.769290Z",
     "start_time": "2025-04-16T09:18:52.755919Z"
    }
   },
   "outputs": [
    {
     "data": {
      "text/html": [
       "<div>\n",
       "<style scoped>\n",
       "    .dataframe tbody tr th:only-of-type {\n",
       "        vertical-align: middle;\n",
       "    }\n",
       "\n",
       "    .dataframe tbody tr th {\n",
       "        vertical-align: top;\n",
       "    }\n",
       "\n",
       "    .dataframe thead th {\n",
       "        text-align: right;\n",
       "    }\n",
       "</style>\n",
       "<table border=\"1\" class=\"dataframe\">\n",
       "  <thead>\n",
       "    <tr style=\"text-align: right;\">\n",
       "      <th></th>\n",
       "      <th>시가총액 (보통)(평균)(원)</th>\n",
       "    </tr>\n",
       "    <tr>\n",
       "      <th>date</th>\n",
       "      <th></th>\n",
       "    </tr>\n",
       "  </thead>\n",
       "  <tbody>\n",
       "    <tr>\n",
       "      <th>2000-07-31</th>\n",
       "      <td>3.494700e+10</td>\n",
       "    </tr>\n",
       "    <tr>\n",
       "      <th>2000-08-31</th>\n",
       "      <td>3.368400e+10</td>\n",
       "    </tr>\n",
       "    <tr>\n",
       "      <th>2000-09-30</th>\n",
       "      <td>3.368400e+10</td>\n",
       "    </tr>\n",
       "    <tr>\n",
       "      <th>2000-10-31</th>\n",
       "      <td>3.052300e+10</td>\n",
       "    </tr>\n",
       "    <tr>\n",
       "      <th>2000-11-30</th>\n",
       "      <td>3.079800e+10</td>\n",
       "    </tr>\n",
       "  </tbody>\n",
       "</table>\n",
       "</div>"
      ],
      "text/plain": [
       "            시가총액 (보통)(평균)(원)\n",
       "date                        \n",
       "2000-07-31      3.494700e+10\n",
       "2000-08-31      3.368400e+10\n",
       "2000-09-30      3.368400e+10\n",
       "2000-10-31      3.052300e+10\n",
       "2000-11-30      3.079800e+10"
      ]
     },
     "execution_count": 58,
     "metadata": {},
     "output_type": "execute_result"
    }
   ],
   "source": [
    "median_df = df.groupby([\"date\"]).agg({\"시가총액 (보통)(평균)(원)\": \"median\"})\n",
    "median_df.head()"
   ]
  },
  {
   "cell_type": "code",
   "execution_count": 59,
   "id": "1573781fe466c971",
   "metadata": {
    "ExecuteTime": {
     "end_time": "2025-04-16T09:18:52.806128Z",
     "start_time": "2025-04-16T09:18:52.803291Z"
    }
   },
   "outputs": [
    {
     "data": {
      "text/html": [
       "<div>\n",
       "<style scoped>\n",
       "    .dataframe tbody tr th:only-of-type {\n",
       "        vertical-align: middle;\n",
       "    }\n",
       "\n",
       "    .dataframe tbody tr th {\n",
       "        vertical-align: top;\n",
       "    }\n",
       "\n",
       "    .dataframe thead th {\n",
       "        text-align: right;\n",
       "    }\n",
       "</style>\n",
       "<table border=\"1\" class=\"dataframe\">\n",
       "  <thead>\n",
       "    <tr style=\"text-align: right;\">\n",
       "      <th></th>\n",
       "      <th>시가총액_median</th>\n",
       "    </tr>\n",
       "    <tr>\n",
       "      <th>date</th>\n",
       "      <th></th>\n",
       "    </tr>\n",
       "  </thead>\n",
       "  <tbody>\n",
       "    <tr>\n",
       "      <th>2000-07-31</th>\n",
       "      <td>3.494700e+10</td>\n",
       "    </tr>\n",
       "    <tr>\n",
       "      <th>2000-08-31</th>\n",
       "      <td>3.368400e+10</td>\n",
       "    </tr>\n",
       "    <tr>\n",
       "      <th>2000-09-30</th>\n",
       "      <td>3.368400e+10</td>\n",
       "    </tr>\n",
       "    <tr>\n",
       "      <th>2000-10-31</th>\n",
       "      <td>3.052300e+10</td>\n",
       "    </tr>\n",
       "    <tr>\n",
       "      <th>2000-11-30</th>\n",
       "      <td>3.079800e+10</td>\n",
       "    </tr>\n",
       "  </tbody>\n",
       "</table>\n",
       "</div>"
      ],
      "text/plain": [
       "             시가총액_median\n",
       "date                    \n",
       "2000-07-31  3.494700e+10\n",
       "2000-08-31  3.368400e+10\n",
       "2000-09-30  3.368400e+10\n",
       "2000-10-31  3.052300e+10\n",
       "2000-11-30  3.079800e+10"
      ]
     },
     "execution_count": 59,
     "metadata": {},
     "output_type": "execute_result"
    }
   ],
   "source": [
    "median_df.columns = [\"시가총액_median\"]\n",
    "median_df.head()"
   ]
  },
  {
   "cell_type": "code",
   "execution_count": 60,
   "id": "fe3f55b7d2aeb149",
   "metadata": {
    "ExecuteTime": {
     "end_time": "2025-04-16T09:18:52.837256Z",
     "start_time": "2025-04-16T09:18:52.831209Z"
    }
   },
   "outputs": [
    {
     "data": {
      "text/html": [
       "<div>\n",
       "<style scoped>\n",
       "    .dataframe tbody tr th:only-of-type {\n",
       "        vertical-align: middle;\n",
       "    }\n",
       "\n",
       "    .dataframe tbody tr th {\n",
       "        vertical-align: top;\n",
       "    }\n",
       "\n",
       "    .dataframe thead th {\n",
       "        text-align: right;\n",
       "    }\n",
       "</style>\n",
       "<table border=\"1\" class=\"dataframe\">\n",
       "  <thead>\n",
       "    <tr style=\"text-align: right;\">\n",
       "      <th></th>\n",
       "      <th>종목명</th>\n",
       "      <th>PBR(IFRS-연결)</th>\n",
       "      <th>베타 (M,5Yr)</th>\n",
       "      <th>수익률(%)</th>\n",
       "      <th>시가총액 (보통)(평균)(원)</th>\n",
       "    </tr>\n",
       "    <tr>\n",
       "      <th>date</th>\n",
       "      <th></th>\n",
       "      <th></th>\n",
       "      <th></th>\n",
       "      <th></th>\n",
       "      <th></th>\n",
       "    </tr>\n",
       "  </thead>\n",
       "  <tbody>\n",
       "    <tr>\n",
       "      <th>2000-07-31</th>\n",
       "      <td>BYC</td>\n",
       "      <td>0.21</td>\n",
       "      <td>0.47940</td>\n",
       "      <td>-0.58</td>\n",
       "      <td>2.778600e+10</td>\n",
       "    </tr>\n",
       "    <tr>\n",
       "      <th>2000-07-31</th>\n",
       "      <td>CJ</td>\n",
       "      <td>0.51</td>\n",
       "      <td>1.16611</td>\n",
       "      <td>-9.00</td>\n",
       "      <td>1.160889e+12</td>\n",
       "    </tr>\n",
       "    <tr>\n",
       "      <th>2000-07-31</th>\n",
       "      <td>CJ ENM</td>\n",
       "      <td>6.56</td>\n",
       "      <td>NaN</td>\n",
       "      <td>17.40</td>\n",
       "      <td>4.004670e+11</td>\n",
       "    </tr>\n",
       "    <tr>\n",
       "      <th>2000-07-31</th>\n",
       "      <td>CJ대한통운</td>\n",
       "      <td>0.17</td>\n",
       "      <td>1.31374</td>\n",
       "      <td>-7.96</td>\n",
       "      <td>1.949620e+11</td>\n",
       "    </tr>\n",
       "    <tr>\n",
       "      <th>2000-07-31</th>\n",
       "      <td>CJ씨푸드</td>\n",
       "      <td>NaN</td>\n",
       "      <td>0.22678</td>\n",
       "      <td>32.00</td>\n",
       "      <td>1.987000e+09</td>\n",
       "    </tr>\n",
       "  </tbody>\n",
       "</table>\n",
       "</div>"
      ],
      "text/plain": [
       "               종목명  PBR(IFRS-연결)  베타 (M,5Yr)  수익률(%)  시가총액 (보통)(평균)(원)\n",
       "date                                                                  \n",
       "2000-07-31     BYC          0.21     0.47940   -0.58      2.778600e+10\n",
       "2000-07-31      CJ          0.51     1.16611   -9.00      1.160889e+12\n",
       "2000-07-31  CJ ENM          6.56         NaN   17.40      4.004670e+11\n",
       "2000-07-31  CJ대한통운          0.17     1.31374   -7.96      1.949620e+11\n",
       "2000-07-31   CJ씨푸드           NaN     0.22678   32.00      1.987000e+09"
      ]
     },
     "execution_count": 60,
     "metadata": {},
     "output_type": "execute_result"
    }
   ],
   "source": [
    "g_df = df.copy()\n",
    "g_df.set_index(\"date\", inplace=True)\n",
    "g_df.head()"
   ]
  },
  {
   "cell_type": "code",
   "execution_count": 61,
   "id": "f36fde36715942f2",
   "metadata": {
    "ExecuteTime": {
     "end_time": "2025-04-16T09:18:52.913541Z",
     "start_time": "2025-04-16T09:18:52.904491Z"
    }
   },
   "outputs": [
    {
     "data": {
      "text/html": [
       "<div>\n",
       "<style scoped>\n",
       "    .dataframe tbody tr th:only-of-type {\n",
       "        vertical-align: middle;\n",
       "    }\n",
       "\n",
       "    .dataframe tbody tr th {\n",
       "        vertical-align: top;\n",
       "    }\n",
       "\n",
       "    .dataframe thead th {\n",
       "        text-align: right;\n",
       "    }\n",
       "</style>\n",
       "<table border=\"1\" class=\"dataframe\">\n",
       "  <thead>\n",
       "    <tr style=\"text-align: right;\">\n",
       "      <th></th>\n",
       "      <th>종목명</th>\n",
       "      <th>PBR(IFRS-연결)</th>\n",
       "      <th>베타 (M,5Yr)</th>\n",
       "      <th>수익률(%)</th>\n",
       "      <th>시가총액 (보통)(평균)(원)</th>\n",
       "      <th>시가총액_median</th>\n",
       "    </tr>\n",
       "    <tr>\n",
       "      <th>date</th>\n",
       "      <th></th>\n",
       "      <th></th>\n",
       "      <th></th>\n",
       "      <th></th>\n",
       "      <th></th>\n",
       "      <th></th>\n",
       "    </tr>\n",
       "  </thead>\n",
       "  <tbody>\n",
       "    <tr>\n",
       "      <th>2000-07-31</th>\n",
       "      <td>BYC</td>\n",
       "      <td>0.21</td>\n",
       "      <td>0.47940</td>\n",
       "      <td>-0.58</td>\n",
       "      <td>2.778600e+10</td>\n",
       "      <td>3.494700e+10</td>\n",
       "    </tr>\n",
       "    <tr>\n",
       "      <th>2000-07-31</th>\n",
       "      <td>CJ</td>\n",
       "      <td>0.51</td>\n",
       "      <td>1.16611</td>\n",
       "      <td>-9.00</td>\n",
       "      <td>1.160889e+12</td>\n",
       "      <td>3.494700e+10</td>\n",
       "    </tr>\n",
       "    <tr>\n",
       "      <th>2000-07-31</th>\n",
       "      <td>CJ ENM</td>\n",
       "      <td>6.56</td>\n",
       "      <td>NaN</td>\n",
       "      <td>17.40</td>\n",
       "      <td>4.004670e+11</td>\n",
       "      <td>3.494700e+10</td>\n",
       "    </tr>\n",
       "    <tr>\n",
       "      <th>2000-07-31</th>\n",
       "      <td>CJ대한통운</td>\n",
       "      <td>0.17</td>\n",
       "      <td>1.31374</td>\n",
       "      <td>-7.96</td>\n",
       "      <td>1.949620e+11</td>\n",
       "      <td>3.494700e+10</td>\n",
       "    </tr>\n",
       "    <tr>\n",
       "      <th>2000-07-31</th>\n",
       "      <td>CJ씨푸드</td>\n",
       "      <td>NaN</td>\n",
       "      <td>0.22678</td>\n",
       "      <td>32.00</td>\n",
       "      <td>1.987000e+09</td>\n",
       "      <td>3.494700e+10</td>\n",
       "    </tr>\n",
       "    <tr>\n",
       "      <th>...</th>\n",
       "      <td>...</td>\n",
       "      <td>...</td>\n",
       "      <td>...</td>\n",
       "      <td>...</td>\n",
       "      <td>...</td>\n",
       "      <td>...</td>\n",
       "    </tr>\n",
       "    <tr>\n",
       "      <th>2018-06-30</th>\n",
       "      <td>흥국에프엔비</td>\n",
       "      <td>0.95</td>\n",
       "      <td>1.36392</td>\n",
       "      <td>-1.69</td>\n",
       "      <td>6.492600e+10</td>\n",
       "      <td>1.646500e+11</td>\n",
       "    </tr>\n",
       "    <tr>\n",
       "      <th>2018-06-30</th>\n",
       "      <td>흥국화재</td>\n",
       "      <td>0.65</td>\n",
       "      <td>0.72064</td>\n",
       "      <td>8.89</td>\n",
       "      <td>3.831750e+11</td>\n",
       "      <td>1.646500e+11</td>\n",
       "    </tr>\n",
       "    <tr>\n",
       "      <th>2018-06-30</th>\n",
       "      <td>흥아해운</td>\n",
       "      <td>0.92</td>\n",
       "      <td>1.24047</td>\n",
       "      <td>-5.75</td>\n",
       "      <td>1.344730e+11</td>\n",
       "      <td>1.646500e+11</td>\n",
       "    </tr>\n",
       "    <tr>\n",
       "      <th>2018-06-30</th>\n",
       "      <td>희림</td>\n",
       "      <td>1.39</td>\n",
       "      <td>0.21584</td>\n",
       "      <td>2.23</td>\n",
       "      <td>8.625000e+10</td>\n",
       "      <td>1.646500e+11</td>\n",
       "    </tr>\n",
       "    <tr>\n",
       "      <th>2018-06-30</th>\n",
       "      <td>힘스</td>\n",
       "      <td>1.42</td>\n",
       "      <td>NaN</td>\n",
       "      <td>-15.82</td>\n",
       "      <td>8.274800e+10</td>\n",
       "      <td>1.646500e+11</td>\n",
       "    </tr>\n",
       "  </tbody>\n",
       "</table>\n",
       "<p>235929 rows × 6 columns</p>\n",
       "</div>"
      ],
      "text/plain": [
       "               종목명  PBR(IFRS-연결)  베타 (M,5Yr)  수익률(%)  시가총액 (보통)(평균)(원)  \\\n",
       "date                                                                     \n",
       "2000-07-31     BYC          0.21     0.47940   -0.58      2.778600e+10   \n",
       "2000-07-31      CJ          0.51     1.16611   -9.00      1.160889e+12   \n",
       "2000-07-31  CJ ENM          6.56         NaN   17.40      4.004670e+11   \n",
       "2000-07-31  CJ대한통운          0.17     1.31374   -7.96      1.949620e+11   \n",
       "2000-07-31   CJ씨푸드           NaN     0.22678   32.00      1.987000e+09   \n",
       "...            ...           ...         ...     ...               ...   \n",
       "2018-06-30  흥국에프엔비          0.95     1.36392   -1.69      6.492600e+10   \n",
       "2018-06-30    흥국화재          0.65     0.72064    8.89      3.831750e+11   \n",
       "2018-06-30    흥아해운          0.92     1.24047   -5.75      1.344730e+11   \n",
       "2018-06-30      희림          1.39     0.21584    2.23      8.625000e+10   \n",
       "2018-06-30      힘스          1.42         NaN  -15.82      8.274800e+10   \n",
       "\n",
       "             시가총액_median  \n",
       "date                      \n",
       "2000-07-31  3.494700e+10  \n",
       "2000-07-31  3.494700e+10  \n",
       "2000-07-31  3.494700e+10  \n",
       "2000-07-31  3.494700e+10  \n",
       "2000-07-31  3.494700e+10  \n",
       "...                  ...  \n",
       "2018-06-30  1.646500e+11  \n",
       "2018-06-30  1.646500e+11  \n",
       "2018-06-30  1.646500e+11  \n",
       "2018-06-30  1.646500e+11  \n",
       "2018-06-30  1.646500e+11  \n",
       "\n",
       "[235929 rows x 6 columns]"
      ]
     },
     "execution_count": 61,
     "metadata": {},
     "output_type": "execute_result"
    }
   ],
   "source": [
    "g_df[\"시가총액_median\"] = median_df\n",
    "g_df"
   ]
  },
  {
   "cell_type": "code",
   "execution_count": 62,
   "id": "3cdebe4fc3946bf9",
   "metadata": {
    "ExecuteTime": {
     "end_time": "2025-04-16T09:18:52.946663Z",
     "start_time": "2025-04-16T09:18:52.943980Z"
    }
   },
   "outputs": [
    {
     "data": {
      "text/plain": [
       "date\n",
       "2000-07-31     True\n",
       "2000-07-31    False\n",
       "2000-07-31    False\n",
       "2000-07-31    False\n",
       "2000-07-31     True\n",
       "dtype: bool"
      ]
     },
     "execution_count": 62,
     "metadata": {},
     "output_type": "execute_result"
    }
   ],
   "source": [
    "big_index = g_df[\"시가총액 (보통)(평균)(원)\"] <= g_df[\"시가총액_median\"]\n",
    "big_index.head()"
   ]
  },
  {
   "cell_type": "code",
   "execution_count": 63,
   "id": "b1c08098d57f1b22",
   "metadata": {
    "ExecuteTime": {
     "end_time": "2025-04-16T09:18:53.012049Z",
     "start_time": "2025-04-16T09:18:53.009423Z"
    }
   },
   "outputs": [
    {
     "data": {
      "text/plain": [
       "date\n",
       "2000-07-31    False\n",
       "2000-07-31     True\n",
       "2000-07-31     True\n",
       "2000-07-31     True\n",
       "2000-07-31    False\n",
       "dtype: bool"
      ]
     },
     "execution_count": 63,
     "metadata": {},
     "output_type": "execute_result"
    }
   ],
   "source": [
    "small_index = g_df[\"시가총액_median\"] < g_df[\"시가총액 (보통)(평균)(원)\"]\n",
    "small_index.head()"
   ]
  },
  {
   "cell_type": "code",
   "execution_count": 64,
   "id": "d79f7940f95177c7",
   "metadata": {
    "ExecuteTime": {
     "end_time": "2025-04-16T09:22:39.542623Z",
     "start_time": "2025-04-16T09:22:39.533273Z"
    }
   },
   "outputs": [
    {
     "data": {
      "text/html": [
       "<div>\n",
       "<style scoped>\n",
       "    .dataframe tbody tr th:only-of-type {\n",
       "        vertical-align: middle;\n",
       "    }\n",
       "\n",
       "    .dataframe tbody tr th {\n",
       "        vertical-align: top;\n",
       "    }\n",
       "\n",
       "    .dataframe thead th {\n",
       "        text-align: right;\n",
       "    }\n",
       "</style>\n",
       "<table border=\"1\" class=\"dataframe\">\n",
       "  <thead>\n",
       "    <tr style=\"text-align: right;\">\n",
       "      <th></th>\n",
       "      <th>종목명</th>\n",
       "      <th>PBR(IFRS-연결)</th>\n",
       "      <th>베타 (M,5Yr)</th>\n",
       "      <th>수익률(%)</th>\n",
       "      <th>시가총액 (보통)(평균)(원)</th>\n",
       "      <th>시가총액_median</th>\n",
       "      <th>Big_or_Small</th>\n",
       "    </tr>\n",
       "    <tr>\n",
       "      <th>date</th>\n",
       "      <th></th>\n",
       "      <th></th>\n",
       "      <th></th>\n",
       "      <th></th>\n",
       "      <th></th>\n",
       "      <th></th>\n",
       "      <th></th>\n",
       "    </tr>\n",
       "  </thead>\n",
       "  <tbody>\n",
       "    <tr>\n",
       "      <th>2000-07-31</th>\n",
       "      <td>BYC</td>\n",
       "      <td>0.21</td>\n",
       "      <td>0.47940</td>\n",
       "      <td>-0.58</td>\n",
       "      <td>2.778600e+10</td>\n",
       "      <td>3.494700e+10</td>\n",
       "      <td>1</td>\n",
       "    </tr>\n",
       "    <tr>\n",
       "      <th>2000-07-31</th>\n",
       "      <td>CJ</td>\n",
       "      <td>0.51</td>\n",
       "      <td>1.16611</td>\n",
       "      <td>-9.00</td>\n",
       "      <td>1.160889e+12</td>\n",
       "      <td>3.494700e+10</td>\n",
       "      <td>-1</td>\n",
       "    </tr>\n",
       "    <tr>\n",
       "      <th>2000-07-31</th>\n",
       "      <td>CJ ENM</td>\n",
       "      <td>6.56</td>\n",
       "      <td>NaN</td>\n",
       "      <td>17.40</td>\n",
       "      <td>4.004670e+11</td>\n",
       "      <td>3.494700e+10</td>\n",
       "      <td>-1</td>\n",
       "    </tr>\n",
       "    <tr>\n",
       "      <th>2000-07-31</th>\n",
       "      <td>CJ대한통운</td>\n",
       "      <td>0.17</td>\n",
       "      <td>1.31374</td>\n",
       "      <td>-7.96</td>\n",
       "      <td>1.949620e+11</td>\n",
       "      <td>3.494700e+10</td>\n",
       "      <td>-1</td>\n",
       "    </tr>\n",
       "    <tr>\n",
       "      <th>2000-07-31</th>\n",
       "      <td>CJ씨푸드</td>\n",
       "      <td>NaN</td>\n",
       "      <td>0.22678</td>\n",
       "      <td>32.00</td>\n",
       "      <td>1.987000e+09</td>\n",
       "      <td>3.494700e+10</td>\n",
       "      <td>1</td>\n",
       "    </tr>\n",
       "  </tbody>\n",
       "</table>\n",
       "</div>"
      ],
      "text/plain": [
       "               종목명  PBR(IFRS-연결)  베타 (M,5Yr)  수익률(%)  시가총액 (보통)(평균)(원)  \\\n",
       "date                                                                     \n",
       "2000-07-31     BYC          0.21     0.47940   -0.58      2.778600e+10   \n",
       "2000-07-31      CJ          0.51     1.16611   -9.00      1.160889e+12   \n",
       "2000-07-31  CJ ENM          6.56         NaN   17.40      4.004670e+11   \n",
       "2000-07-31  CJ대한통운          0.17     1.31374   -7.96      1.949620e+11   \n",
       "2000-07-31   CJ씨푸드           NaN     0.22678   32.00      1.987000e+09   \n",
       "\n",
       "             시가총액_median  Big_or_Small  \n",
       "date                                    \n",
       "2000-07-31  3.494700e+10             1  \n",
       "2000-07-31  3.494700e+10            -1  \n",
       "2000-07-31  3.494700e+10            -1  \n",
       "2000-07-31  3.494700e+10            -1  \n",
       "2000-07-31  3.494700e+10             1  "
      ]
     },
     "execution_count": 64,
     "metadata": {},
     "output_type": "execute_result"
    }
   ],
   "source": [
    "g_df.loc[:, \"Big_or_Small\"] = (big_index * 1) + (small_index * -1)\n",
    "g_df.head()"
   ]
  },
  {
   "cell_type": "code",
   "execution_count": 68,
   "id": "9d65ee2ea53d2508",
   "metadata": {
    "ExecuteTime": {
     "end_time": "2025-04-16T09:24:26.255565Z",
     "start_time": "2025-04-16T09:24:26.251111Z"
    }
   },
   "outputs": [
    {
     "data": {
      "text/plain": [
       "Big_or_Small\n",
       " 1    118020\n",
       "-1    117909\n",
       "Name: count, dtype: int64"
      ]
     },
     "execution_count": 68,
     "metadata": {},
     "output_type": "execute_result"
    }
   ],
   "source": [
    "g_df[\"Big_or_Small\"].value_counts()"
   ]
  }
 ],
 "metadata": {
  "kernelspec": {
   "display_name": "Python 3",
   "language": "python",
   "name": "python3"
  },
  "language_info": {
   "codemirror_mode": {
    "name": "ipython",
    "version": 2
   },
   "file_extension": ".py",
   "mimetype": "text/x-python",
   "name": "python",
   "nbconvert_exporter": "python",
   "pygments_lexer": "ipython2",
   "version": "2.7.6"
  }
 },
 "nbformat": 4,
 "nbformat_minor": 5
}
