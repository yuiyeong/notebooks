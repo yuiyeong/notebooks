{
 "cells": [
  {
   "cell_type": "markdown",
   "id": "fa77042df0d915cd",
   "metadata": {},
   "source": [
    "# 노트북 파일을 내가 원하는 형태로 분해해보기\n",
    "- 전체를 markdown 으로 만들어보기\n",
    "- markdown Cell 만 뽑아보기\n",
    "- source Cell 만 뽑아보기"
   ]
  },
  {
   "cell_type": "code",
   "execution_count": 1,
   "id": "f6922c8bece42fbf",
   "metadata": {
    "ExecuteTime": {
     "end_time": "2025-04-04T06:25:23.404102Z",
     "start_time": "2025-04-04T06:25:23.297685Z"
    }
   },
   "outputs": [],
   "source": [
    "import base64\n",
    "import json\n",
    "import os\n",
    "import re\n",
    "from pathlib import Path\n",
    "from urllib.parse import urlparse\n",
    "\n",
    "import requests\n",
    "from dotenv import load_dotenv\n",
    "from markdownify import markdownify\n",
    "\n",
    "\n",
    "load_dotenv()\n",
    "\n",
    "NOTEBOOK_FILE_PATH = os.getenv(\"NOTEBOOK_FILE_PATH\")\n",
    "OUT_DIR = os.getenv(\"OUT_DIR\")\n",
    "\n",
    "notebook_path = Path(NOTEBOOK_FILE_PATH)\n",
    "\n",
    "out_dir = Path(OUT_DIR)\n",
    "out_dir.mkdir(exist_ok=True, parents=True)\n",
    "\n",
    "img_dir = Path(\"images\")\n",
    "\n",
    "img_out_dir = out_dir / img_dir\n",
    "img_out_dir.mkdir(exist_ok=True, parents=True)"
   ]
  },
  {
   "cell_type": "code",
   "execution_count": 2,
   "id": "fe9fb8d66404087c",
   "metadata": {
    "ExecuteTime": {
     "end_time": "2025-04-04T06:25:23.408821Z",
     "start_time": "2025-04-04T06:25:23.407051Z"
    }
   },
   "outputs": [],
   "source": [
    "def load_notebook(file_path: Path) -> dict:\n",
    "    if not file_path.is_file() or file_path.suffix != \".ipynb\":\n",
    "        raise FileNotFoundError(\"노트북 파일을 열 수 없습니다.\")\n",
    "\n",
    "    with open(file_path, \"r\") as notebook_file:\n",
    "        return json.load(notebook_file)"
   ]
  },
  {
   "cell_type": "code",
   "execution_count": 3,
   "id": "818c1e2615e33df1",
   "metadata": {
    "ExecuteTime": {
     "end_time": "2025-04-04T06:25:23.472357Z",
     "start_time": "2025-04-04T06:25:23.469143Z"
    }
   },
   "outputs": [],
   "source": [
    "class MarkdownImageLocalizer:\n",
    "    \"\"\"\n",
    "    URL 이나 base64 로 된 이미지 markdown 구문을\n",
    "    local 에서 보여질 수 있도록 처리하는 객체\n",
    "    \"\"\"\n",
    "\n",
    "    PATTERN_URL_IMAGE = r\"!\\[(.*?)\\]\\((https?://[^)]+)\\)\"\n",
    "    PATTERN_BASE64_IMAGE = r\"!\\[(.*?)\\]\\(data:image\\/(\\w+);base64,(.*?)\\)\"\n",
    "\n",
    "    @staticmethod\n",
    "    def _replace_image_url_image(match) -> str:\n",
    "        \"\"\"\n",
    "        md str 에서 이미지 URL 을 로컬 파일 경로 markdown 구문으로 교체\n",
    "        만약 이미지를 다운로드할 수 없으면, 원래의 외부 URL 을 유지한 채 반환\n",
    "        \"\"\"\n",
    "        alt_text = match.group(1)\n",
    "        image_url = match.group(2)\n",
    "        image_path = Path(urlparse(image_url).path)\n",
    "\n",
    "        if not image_path.suffix:\n",
    "            image_path = image_path.with_suffix(\".jpg\")\n",
    "        local_image_path = img_out_dir / image_path.name\n",
    "\n",
    "        res = requests.get(image_url, stream=True)\n",
    "        if res.status_code != 200:  # 이미지 다운로드 못 받으면, 그대로 사용하도록\n",
    "            return match.group(0)\n",
    "\n",
    "        with open(local_image_path, \"wb\") as img_file:\n",
    "            for chunk in res.iter_content(chunk_size=4096):\n",
    "                img_file.write(chunk)\n",
    "\n",
    "        return f\"![{alt_text}](/{img_dir / local_image_path.name})\"\n",
    "\n",
    "    @staticmethod\n",
    "    def _replace_base64_image(match) -> str:\n",
    "        \"\"\"\n",
    "        md str 에서 base64로 인코딩된 이미지를 로컬에 저장한 후,\n",
    "        그 path 로 이미지를 렌더링하기 위한 markdown 호환 문자열을 반환\n",
    "        \"\"\"\n",
    "\n",
    "        alt_text = match.group(1)\n",
    "        img_ext = match.group(2)\n",
    "        base64_data = match.group(3)\n",
    "\n",
    "        local_image_path = img_out_dir / f\"{alt_text}.{img_ext}\"\n",
    "\n",
    "        # base64 데이터를 디코딩하여 파일로 저장\n",
    "        with open(local_image_path, \"wb\") as img_file:\n",
    "            img_file.write(base64.b64decode(base64_data))\n",
    "\n",
    "        return f\"![{alt_text}]({img_dir / local_image_path.name})\"\n",
    "\n",
    "    def process_md_contents(self, md_contents: list[str]) -> list[str]:\n",
    "        \"\"\"이미지가 local 에서 보여질 수 있도록 처리한 md 형태로 작성된 list 를 반환\"\"\"\n",
    "        processed_mds = []\n",
    "        for content in md_contents:\n",
    "            line = re.sub(\n",
    "                self.PATTERN_BASE64_IMAGE, self._replace_base64_image, content\n",
    "            )\n",
    "            line = re.sub(self.PATTERN_URL_IMAGE, self._replace_image_url_image, line)\n",
    "            processed_mds.append(line)\n",
    "        processed_mds.append(\"\\n\")\n",
    "        return processed_mds"
   ]
  },
  {
   "cell_type": "code",
   "execution_count": 4,
   "id": "d3e78a4916c5654",
   "metadata": {
    "ExecuteTime": {
     "end_time": "2025-04-04T06:25:23.480626Z",
     "start_time": "2025-04-04T06:25:23.478781Z"
    }
   },
   "outputs": [],
   "source": [
    "def convert_html_to_table(html_contents: list[str]) -> list[str]:\n",
    "    result = markdownify(\"\\n\".join(html_contents))\n",
    "    return [result, \"\\n\\n\"]"
   ]
  },
  {
   "cell_type": "code",
   "execution_count": 5,
   "id": "38f44dbb8b82154b",
   "metadata": {
    "ExecuteTime": {
     "end_time": "2025-04-04T06:25:23.490953Z",
     "start_time": "2025-04-04T06:25:23.488979Z"
    }
   },
   "outputs": [],
   "source": [
    "def parse_outputs_of_cell(outputs: list[dict]) -> list:\n",
    "    mds = []\n",
    "\n",
    "    if not outputs:\n",
    "        return mds\n",
    "\n",
    "    mds.append(\"실행결과\\n\\n\")\n",
    "    for output in outputs:\n",
    "        output_type = output[\"output_type\"]\n",
    "        if output_type == \"execute_result\":\n",
    "            mds += convert_html_to_table(output[\"data\"][\"text/html\"])\n",
    "        elif output_type == \"stream\" and output[\"name\"] == \"stdout\":\n",
    "            mds.append(\"```\\n\")\n",
    "            mds += output[\"text\"]\n",
    "            mds.append(\"```\\n\")\n",
    "    return mds"
   ]
  },
  {
   "cell_type": "code",
   "execution_count": 6,
   "id": "878457f086d8e22a",
   "metadata": {
    "ExecuteTime": {
     "end_time": "2025-04-04T06:25:23.494671Z",
     "start_time": "2025-04-04T06:25:23.492724Z"
    }
   },
   "outputs": [],
   "source": [
    "def parse_only_md(notebook_dict: dict) -> list[list[str]]:\n",
    "    total = []\n",
    "    md_localizer = MarkdownImageLocalizer()\n",
    "    for cell in notebook_dict[\"cells\"]:\n",
    "        cell_type = cell[\"cell_type\"]\n",
    "        if cell_type != \"markdown\":\n",
    "            continue\n",
    "\n",
    "        source = cell[\"source\"]\n",
    "        localized_mds = md_localizer.process_md_contents(source)\n",
    "        total.append(localized_mds)\n",
    "    return total"
   ]
  },
  {
   "cell_type": "code",
   "execution_count": 7,
   "id": "bb0dfd7945051fc2",
   "metadata": {
    "ExecuteTime": {
     "end_time": "2025-04-04T06:25:23.500398Z",
     "start_time": "2025-04-04T06:25:23.498570Z"
    }
   },
   "outputs": [],
   "source": [
    "def parse_only_code(notebook_dict: dict) -> list[list[str]]:\n",
    "    total = []\n",
    "    for cell in notebook_dict[\"cells\"]:\n",
    "        cell_type = cell[\"cell_type\"]\n",
    "        if cell_type != \"code\":\n",
    "            continue\n",
    "\n",
    "        source = cell[\"source\"]\n",
    "        total.append([\"```python\\n\"] + source + [\"\\n```\\n\"])\n",
    "        outputs_as_md = parse_outputs_of_cell(cell[\"outputs\"])\n",
    "        if outputs_as_md:\n",
    "            total.append(outputs_as_md)\n",
    "    return total"
   ]
  },
  {
   "cell_type": "code",
   "execution_count": 8,
   "id": "bf6fa2994dde81b0",
   "metadata": {
    "ExecuteTime": {
     "end_time": "2025-04-04T06:25:23.505922Z",
     "start_time": "2025-04-04T06:25:23.503893Z"
    }
   },
   "outputs": [],
   "source": [
    "def parse_notebook_all(notebook_dict: dict) -> list[list[str]]:\n",
    "    total = []\n",
    "    md_localizer = MarkdownImageLocalizer()\n",
    "    for cell in notebook_dict[\"cells\"]:\n",
    "        cell_type = cell[\"cell_type\"]\n",
    "        source = cell[\"source\"]\n",
    "        if cell_type == \"markdown\":\n",
    "            localized_mds = md_localizer.process_md_contents(source)\n",
    "            total.append(localized_mds)\n",
    "        elif cell_type == \"code\":\n",
    "            total.append([\"실행코드\\n\\n```python\\n\"] + source + [\"\\n```\\n\"])\n",
    "            outputs_as_md = parse_outputs_of_cell(cell[\"outputs\"])\n",
    "            if outputs_as_md:\n",
    "                total.append(outputs_as_md)\n",
    "    return total"
   ]
  },
  {
   "cell_type": "code",
   "execution_count": 9,
   "id": "initial_id",
   "metadata": {
    "ExecuteTime": {
     "end_time": "2025-04-04T06:25:23.511323Z",
     "start_time": "2025-04-04T06:25:23.509500Z"
    },
    "collapsed": true
   },
   "outputs": [],
   "source": [
    "def save_as_md(output_path: Path, mds_list: list[list[str]]):\n",
    "    with open(output_path, \"w\") as f:\n",
    "        for mds in mds_list:\n",
    "            f.writelines(mds)"
   ]
  },
  {
   "cell_type": "code",
   "execution_count": 10,
   "id": "f3096866b28e90",
   "metadata": {
    "ExecuteTime": {
     "end_time": "2025-04-04T06:25:23.519383Z",
     "start_time": "2025-04-04T06:25:23.514848Z"
    }
   },
   "outputs": [],
   "source": [
    "notebook = load_notebook(notebook_path)"
   ]
  },
  {
   "cell_type": "code",
   "execution_count": 11,
   "id": "cf16275a2dc65f0f",
   "metadata": {
    "ExecuteTime": {
     "end_time": "2025-04-04T06:25:23.563693Z",
     "start_time": "2025-04-04T06:25:23.523052Z"
    }
   },
   "outputs": [],
   "source": [
    "save_as_md(out_dir / \"all.md\", parse_notebook_all(notebook))"
   ]
  },
  {
   "cell_type": "code",
   "execution_count": 12,
   "id": "61b3fe7dd855a9a1",
   "metadata": {
    "ExecuteTime": {
     "end_time": "2025-04-04T06:25:23.581784Z",
     "start_time": "2025-04-04T06:25:23.567755Z"
    }
   },
   "outputs": [],
   "source": [
    "save_as_md(out_dir / \"mds.md\", parse_only_md(notebook))"
   ]
  },
  {
   "cell_type": "code",
   "execution_count": 13,
   "id": "5d01f69fd28158a2",
   "metadata": {
    "ExecuteTime": {
     "end_time": "2025-04-04T06:25:23.615540Z",
     "start_time": "2025-04-04T06:25:23.586028Z"
    }
   },
   "outputs": [],
   "source": [
    "save_as_md(out_dir / \"cods.md\", parse_only_code(notebook))"
   ]
  }
 ],
 "metadata": {
  "kernelspec": {
   "display_name": "Python 3",
   "language": "python",
   "name": "python3"
  },
  "language_info": {
   "codemirror_mode": {
    "name": "ipython",
    "version": 2
   },
   "file_extension": ".py",
   "mimetype": "text/x-python",
   "name": "python",
   "nbconvert_exporter": "python",
   "pygments_lexer": "ipython2",
   "version": "2.7.6"
  }
 },
 "nbformat": 4,
 "nbformat_minor": 5
}
