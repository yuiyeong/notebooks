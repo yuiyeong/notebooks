{
 "cells": [
  {
   "cell_type": "markdown",
   "id": "4c5865c1bd7e321c",
   "metadata": {},
   "source": [
    "# Notion 에 작성된 블로그 database 를 jekyll post 형태의 markdown 으로 변환해보기\n",
    "- [Notion API 문서](https://developers.notion.com/reference/intro)\n",
    "\n",
    "## 블로그 database\n",
    "\n",
    "![notion_post_database](../images/notion_post_database.png)\n",
    "\n",
    "### database properties\n",
    "- jekyll 의 front matter 에서 사용되는 속성 중 내가 주로 사용할 속성을 뽑았다.\n",
    "- title: title\n",
    "- mermaid: checkbox\n",
    "- simple_name: rich_text\n",
    "- is_published: checkbox\n",
    "- math: checkbox\n",
    "- tags: multi_select\n",
    "- is_done: checkbox\n",
    "- comments: checkbox\n",
    "- category: select\n",
    "- subcategory: select\n",
    "- toc: checkbox"
   ]
  },
  {
   "cell_type": "code",
   "execution_count": 1,
   "id": "f7b179e11f5c0a56",
   "metadata": {
    "ExecuteTime": {
     "end_time": "2025-04-07T08:53:11.034667Z",
     "start_time": "2025-04-07T08:53:10.948614Z"
    }
   },
   "outputs": [],
   "source": [
    "import os\n",
    "import re\n",
    "from datetime import datetime\n",
    "from pathlib import Path\n",
    "from urllib.parse import urlparse\n",
    "\n",
    "import notion_client\n",
    "import pytz\n",
    "import requests\n",
    "from dateutil import parser\n",
    "from dotenv import load_dotenv\n",
    "from notion2md.exporter.block import StringExporter\n",
    "\n",
    "\n",
    "load_dotenv()\n",
    "\n",
    "NOTION_API_KEY = os.getenv(\"NOTION_API_KEY\")  # notion 에서 발급받은 api key\n",
    "NOTION_DATABASE_ID = os.getenv(\"NOTION_DATABASE_ID\")  # 블로그 글을 모아둔 database 의 id\n",
    "JEKYLL_POSTS_DIR = os.getenv(\"JEKYLL_POSTS_DIR\")  # jekyll 용 post 를 저장할 디렉토리\n",
    "JEKYLL_IMG_DIR = os.getenv(\"JEKYLL_IMG_DIR\")  # jekyll 용 post 에서 사용하는 이미지를 저장할 디렉토리"
   ]
  },
  {
   "cell_type": "code",
   "execution_count": 2,
   "id": "36a7ddf09b892d58",
   "metadata": {
    "ExecuteTime": {
     "end_time": "2025-04-07T08:53:11.052924Z",
     "start_time": "2025-04-07T08:53:11.038261Z"
    }
   },
   "outputs": [],
   "source": [
    "jekyll_posts_dir = Path(JEKYLL_POSTS_DIR)\n",
    "jekyll_posts_dir.mkdir(parents=True, exist_ok=True)\n",
    "\n",
    "jekyll_img_dir = Path(JEKYLL_IMG_DIR)\n",
    "jekyll_img_dir.mkdir(parents=True, exist_ok=True)\n",
    "\n",
    "timezone = pytz.timezone(\"Asia/Seoul\")"
   ]
  },
  {
   "cell_type": "code",
   "execution_count": 3,
   "id": "23251559662f20ad",
   "metadata": {
    "ExecuteTime": {
     "end_time": "2025-04-07T08:53:11.121920Z",
     "start_time": "2025-04-07T08:53:11.118059Z"
    }
   },
   "outputs": [],
   "source": [
    "class PageMetadata:\n",
    "    \"\"\"블로그 글이 저장된 notion database 의 Page 1개에 대한 Metadata 에 대한 Class\"\"\"\n",
    "\n",
    "    FORMAT_DATE = \"%Y-%m-%d\"\n",
    "    FORMAT_DATETIME = \"%Y-%m-%d %H:%M:%S %z\"\n",
    "\n",
    "    id: str\n",
    "    title: str\n",
    "    simple_name: str\n",
    "    category: str\n",
    "    subcategory: str\n",
    "    has_toc: bool\n",
    "    has_comments: bool\n",
    "    has_mermaid: bool\n",
    "    has_math_jax: bool\n",
    "    is_published: bool\n",
    "    tags: list[str]\n",
    "    created_time: datetime\n",
    "    last_edited_time: datetime\n",
    "\n",
    "    def __init__(self, **kwargs):\n",
    "        self.id = kwargs[\"id\"]\n",
    "\n",
    "        properties = kwargs[\"properties\"]\n",
    "        self.title = properties[\"title\"][\"title\"][0][\"plain_text\"]\n",
    "        page_emoji = kwargs[\"icon\"].get(\"emoji\")\n",
    "        if page_emoji:\n",
    "            self.title = f\"{page_emoji} {self.title}\"\n",
    "        self.simple_name = properties[\"simple_name\"][\"rich_text\"][0][\"plain_text\"]\n",
    "        self.category = properties[\"category\"][\"select\"][\"name\"]\n",
    "        self.subcategory = properties[\"subcategory\"][\"select\"][\"name\"]\n",
    "        self.has_toc = properties[\"toc\"][\"checkbox\"]\n",
    "        self.has_comments = properties[\"comments\"][\"checkbox\"]\n",
    "        self.has_mermaid = properties[\"mermaid\"][\"checkbox\"]\n",
    "        self.has_math_jax = properties[\"math\"][\"checkbox\"]\n",
    "        self.is_published = properties[\"is_published\"][\"checkbox\"]\n",
    "        self.tags = [select[\"name\"] for select in properties[\"tags\"][\"multi_select\"]]\n",
    "\n",
    "        self.created_time = parser.parse(kwargs[\"created_time\"])\n",
    "        self.created_time = self.created_time.astimezone(timezone)\n",
    "\n",
    "        self.last_edited_time = parser.parse(kwargs[\"last_edited_time\"])\n",
    "        self.last_edited_time = self.last_edited_time.astimezone(timezone)\n",
    "\n",
    "    @property\n",
    "    def jekyll_post_file_name(self) -> str:\n",
    "        \"\"\"Jekyll 포스트 파일 이름 생성 (예: YYYY-MM-DD-title.md)\"\"\"\n",
    "        date_part = self.created_time.strftime(self.FORMAT_DATE)\n",
    "\n",
    "        # 공백을 하이픈으로\n",
    "        title_part = self.simple_name.lower().replace(\" \", \"-\")\n",
    "\n",
    "        return f\"{date_part}-{title_part}.md\"\n",
    "\n",
    "    def make_front_matter(self) -> str:\n",
    "        front_matter = \"---\"\n",
    "        front_matter += f\"\\ntitle: {self.title}\"\n",
    "        front_matter += f\"\\ndate: {self.created_time.strftime(self.FORMAT_DATETIME)}\"\n",
    "        front_matter += f\"\\ncategories: [{self.category}, {self.subcategory}]\"\n",
    "        front_matter += f\"\\ntags: {self.tags}\"\n",
    "        front_matter += f\"\\ntoc: {self.has_toc}\".lower()\n",
    "        front_matter += f\"\\ncomments: {self.has_comments}\".lower()\n",
    "        front_matter += f\"\\nmermaid: {self.has_mermaid}\".lower()\n",
    "        front_matter += f\"\\nmath: {self.has_math_jax}\".lower()\n",
    "        front_matter += \"\\n---\"\n",
    "        return front_matter"
   ]
  },
  {
   "cell_type": "code",
   "execution_count": 4,
   "id": "4ec622cc5909858f",
   "metadata": {
    "ExecuteTime": {
     "end_time": "2025-04-07T08:53:11.127753Z",
     "start_time": "2025-04-07T08:53:11.125799Z"
    }
   },
   "outputs": [],
   "source": [
    "def fetch_unpublished_pages_metadata(notion: notion_client.Client) -> list[dict]:\n",
    "    \"\"\"\n",
    "    블로그 글이 저장된 notion database 로 부터,\n",
    "    블로그로 발행되지 않은 page 목록에 대한 metadata 를 반환\n",
    "    \"\"\"\n",
    "    database = notion.databases.query(\n",
    "        database_id=NOTION_DATABASE_ID,\n",
    "        filter={\n",
    "            \"and\": [\n",
    "                {\"property\": \"is_done\", \"checkbox\": {\"equals\": True}},  # 다 작성했고,\n",
    "                {  # 블로그 글로 발행되지 않았다.\n",
    "                    \"property\": \"is_published\",\n",
    "                    \"checkbox\": {\"equals\": False},\n",
    "                },\n",
    "            ]\n",
    "        },\n",
    "    )\n",
    "    return database[\"results\"]"
   ]
  },
  {
   "cell_type": "code",
   "execution_count": 5,
   "id": "9678a14a4196060d",
   "metadata": {
    "ExecuteTime": {
     "end_time": "2025-04-07T08:53:11.133597Z",
     "start_time": "2025-04-07T08:53:11.131306Z"
    }
   },
   "outputs": [],
   "source": [
    "def download_and_replace_image_url(match: re.Match) -> str:\n",
    "    \"\"\"\n",
    "    image url 을 찾아서 다운로드 한 뒤,\n",
    "    그 파일 경로를 가지로 markdown 형식의 이미지를 반환하는 함수\n",
    "    \"\"\"\n",
    "    alt_text = match.group(1)\n",
    "    image_url = match.group(2)\n",
    "    print(\"    \", \"downloading and replacing an image;\", alt_text)\n",
    "\n",
    "    parsed_url = urlparse(image_url)\n",
    "    path_obj = Path(parsed_url.path)\n",
    "    filename = path_obj.name\n",
    "    if not path_obj.suffix:  # 확장자 없으면 추가\n",
    "        filename += \".jpg\"\n",
    "    local_image_path = jekyll_img_dir / filename\n",
    "\n",
    "    res = requests.get(image_url, stream=True)\n",
    "    if res.status_code != 200:  # 이미지 다운로드 못 받으면, 그대로 사용하도록\n",
    "        return match.group(0)\n",
    "\n",
    "    with open(local_image_path, \"wb\") as img_file:\n",
    "        for chunk in res.iter_content(chunk_size=4096):\n",
    "            img_file.write(chunk)\n",
    "\n",
    "    return f\"![{alt_text}](/{local_image_path})\""
   ]
  },
  {
   "cell_type": "code",
   "execution_count": 6,
   "id": "5d05d4cd8be6b636",
   "metadata": {
    "ExecuteTime": {
     "end_time": "2025-04-07T08:53:11.139739Z",
     "start_time": "2025-04-07T08:53:11.137371Z"
    }
   },
   "outputs": [],
   "source": [
    "def convert_to_jekyll_md(notion: notion_client.Client):\n",
    "    raw_pages_meta = fetch_unpublished_pages_metadata(notion)\n",
    "\n",
    "    if not raw_pages_meta:\n",
    "        print(\"Nothing to convert.\")\n",
    "        return\n",
    "\n",
    "    for raw_page_meta in raw_pages_meta:\n",
    "        print(\"-\" * 80)\n",
    "\n",
    "        page_meta = PageMetadata(**raw_page_meta)\n",
    "        print(\"Start converting a page;\", page_meta.title)\n",
    "\n",
    "        filename = jekyll_posts_dir / page_meta.jekyll_post_file_name\n",
    "        md_content = StringExporter(block_id=page_meta.id, token=NOTION_API_KEY).export()\n",
    "\n",
    "        image_pattern = r\"!\\[(.*?)\\]\\((https?://[^)]+)\\)\"\n",
    "        final_content = re.sub(image_pattern, download_and_replace_image_url, md_content)\n",
    "\n",
    "        with open(filename, \"w\") as f:\n",
    "            f.write(page_meta.make_front_matter())\n",
    "            f.write(\"\\n\\n\")\n",
    "            f.write(final_content)\n",
    "\n",
    "        print(\"Done\")\n",
    "        print(\"-\" * 80)"
   ]
  },
  {
   "cell_type": "code",
   "execution_count": 7,
   "id": "1bd3ec5941fca510",
   "metadata": {
    "ExecuteTime": {
     "end_time": "2025-04-07T08:53:14.827954Z",
     "start_time": "2025-04-07T08:53:11.146180Z"
    }
   },
   "outputs": [
    {
     "name": "stdout",
     "output_type": "stream",
     "text": [
      "--------------------------------------------------------------------------------\n",
      "Start converting a page; 🎲 기초 수학 for 인공지능 01; 확률\n",
      "Done\n",
      "--------------------------------------------------------------------------------\n"
     ]
    }
   ],
   "source": [
    "if not NOTION_API_KEY:\n",
    "    raise RuntimeError(\"Notion API Key is not set.\")\n",
    "\n",
    "if not NOTION_DATABASE_ID:\n",
    "    raise RuntimeError(\"Notion Database ID is not set.\")\n",
    "\n",
    "if not JEKYLL_POSTS_DIR:\n",
    "    raise RuntimeError(\"Jekyll post directory is not set.\")\n",
    "\n",
    "if not JEKYLL_IMG_DIR:\n",
    "    raise RuntimeError(\"Jekyll image directory is not set.\")\n",
    "\n",
    "convert_to_jekyll_md(notion=notion_client.Client(auth=NOTION_API_KEY))"
   ]
  }
 ],
 "metadata": {
  "kernelspec": {
   "display_name": "Python 3",
   "language": "python",
   "name": "python3"
  },
  "language_info": {
   "codemirror_mode": {
    "name": "ipython",
    "version": 2
   },
   "file_extension": ".py",
   "mimetype": "text/x-python",
   "name": "python",
   "nbconvert_exporter": "python",
   "pygments_lexer": "ipython2",
   "version": "2.7.6"
  }
 },
 "nbformat": 4,
 "nbformat_minor": 5
}
