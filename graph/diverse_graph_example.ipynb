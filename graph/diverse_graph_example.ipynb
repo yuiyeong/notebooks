{
 "cells": [
  {
   "cell_type": "markdown",
   "id": "89d67716d43179cb",
   "metadata": {},
   "source": "# BFS"
  },
  {
   "cell_type": "markdown",
   "id": "396213beac5822c1",
   "metadata": {},
   "source": [
    "## BFS 기본적인 알고리즘 구현\n",
    "- `collections.deque` 사용\n",
    "- graph\n",
    "![그래프 예시](../images/graph_example00.png)"
   ]
  },
  {
   "cell_type": "code",
   "execution_count": 1,
   "id": "ab5001ae09b5d775",
   "metadata": {
    "ExecuteTime": {
     "end_time": "2025-04-23T00:50:54.766523Z",
     "start_time": "2025-04-23T00:50:54.763204Z"
    }
   },
   "outputs": [],
   "source": [
    "ex_graph = {\n",
    "    \"A\": [\"B\", \"C\"],\n",
    "    \"B\": [\"A\", \"D\", \"E\"],\n",
    "    \"C\": [\"A\", \"F\"],\n",
    "    \"D\": [\"B\"],\n",
    "    \"E\": [\"B\", \"F\"],\n",
    "    \"F\": [\"C\", \"E\"],\n",
    "}"
   ]
  },
  {
   "cell_type": "code",
   "execution_count": 2,
   "id": "4c697893ed775aa",
   "metadata": {
    "ExecuteTime": {
     "end_time": "2025-04-23T00:50:54.848354Z",
     "start_time": "2025-04-23T00:50:54.846135Z"
    }
   },
   "outputs": [],
   "source": [
    "from collections import deque\n",
    "\n",
    "\n",
    "def bfs(graph: dict, start: str) -> list[str]:\n",
    "    visited = set()  # 방문 기록용 set\n",
    "\n",
    "    visited.add(start)  # 시작 node 에 방문 표시\n",
    "    queue = deque([start])  # queue 생성 및 시작 node 추가\n",
    "\n",
    "    traversal_order = []  # 탐색 순서 리스트\n",
    "\n",
    "    while queue:\n",
    "        # node 꺼냄\n",
    "        node = queue.popleft()\n",
    "\n",
    "        # node 처리\n",
    "        traversal_order.append(node)\n",
    "\n",
    "        # node 의 이웃 처리\n",
    "        for neighbor in graph[node]:\n",
    "            # 방문하지 않은 이웃일 때만!\n",
    "            if neighbor not in visited:\n",
    "                # 방문 처리 및 queue 에 추가\n",
    "                visited.add(neighbor)\n",
    "                queue.append(neighbor)\n",
    "    return traversal_order"
   ]
  },
  {
   "cell_type": "code",
   "execution_count": 3,
   "id": "4236455f22c6d828",
   "metadata": {
    "ExecuteTime": {
     "end_time": "2025-04-23T00:50:54.855619Z",
     "start_time": "2025-04-23T00:50:54.853984Z"
    }
   },
   "outputs": [
    {
     "name": "stdout",
     "output_type": "stream",
     "text": [
      "traversal order: ['A', 'B', 'C', 'D', 'E', 'F']\n"
     ]
    }
   ],
   "source": [
    "print(\"traversal order:\", bfs(ex_graph, \"A\"))"
   ]
  },
  {
   "cell_type": "markdown",
   "id": "ab51b3da5fdc6a56",
   "metadata": {},
   "source": [
    "## 최단 경로 찾기\n",
    "\n",
    "- 문제: 주어진 그래프에서 시작 노드 A 에서 목표 노드 F 까지 가는 최단 경로를 찾으세요. 각 간선의 길이는 모두 1로 동일합니다.\n",
    "- 가중치가 없는 그래프에서만 bfs 로 최단 경로 찾을 수 있음\n",
    "- 가중치가 있는 그래프는 다익스트라 알고리즘이나 벨만포드 알고리즘을 써야 함"
   ]
  },
  {
   "cell_type": "code",
   "execution_count": 4,
   "id": "afefb411ddffc39e",
   "metadata": {
    "ExecuteTime": {
     "end_time": "2025-04-23T00:50:54.863852Z",
     "start_time": "2025-04-23T00:50:54.861332Z"
    }
   },
   "outputs": [
    {
     "name": "stdout",
     "output_type": "stream",
     "text": [
      "A 에서 F 까지 최단 경로: ['A', 'C', 'F']\n"
     ]
    }
   ],
   "source": [
    "def find_shortest_path(graph: dict, start: str, end: str) -> list[str]:\n",
    "    if start not in graph or end not in graph:\n",
    "        return []\n",
    "\n",
    "    if start == end:\n",
    "        return [start]\n",
    "\n",
    "    visited = {start}\n",
    "    # queue 에 node 와 이 node 까지 온 경로를 저장\n",
    "    queue = deque([(start, [start])])  # (node, 경로)\n",
    "\n",
    "    while queue:\n",
    "        node, path = queue.popleft()\n",
    "\n",
    "        for neighbor in graph.get(node, []):\n",
    "            if neighbor == end:  # 목표 도달!\n",
    "                return [*path, neighbor]\n",
    "\n",
    "            if neighbor not in visited:\n",
    "                visited.add(neighbor)\n",
    "                # 현재까지의 경로에 이웃을 추가\n",
    "                queue.append((neighbor, [*path, neighbor]))\n",
    "    # 경로를 찾을 수 없음\n",
    "    return []\n",
    "\n",
    "\n",
    "print(\"A 에서 F 까지 최단 경로:\", find_shortest_path(ex_graph, \"A\", \"F\"))"
   ]
  },
  {
   "cell_type": "code",
   "execution_count": 5,
   "id": "2039c29b709746aa",
   "metadata": {
    "ExecuteTime": {
     "end_time": "2025-04-23T00:50:54.878954Z",
     "start_time": "2025-04-23T00:50:54.876755Z"
    }
   },
   "outputs": [],
   "source": [
    "def find_shortest_distance(graph: dict, start: str, end: str) -> int:\n",
    "    if start not in graph or end not in graph:\n",
    "        return 0\n",
    "\n",
    "    if start == end:\n",
    "        return 0\n",
    "\n",
    "    distances = {start: 0}  # 방문 node 와 그 node 까지의 거리를 저장\n",
    "    queue = deque([start])\n",
    "\n",
    "    while queue:\n",
    "        node = queue.popleft()\n",
    "        current_distance = distances.get(node, 0)\n",
    "\n",
    "        for neighbor in graph.get(node, []):\n",
    "            if neighbor == end:  # 목표 도달!\n",
    "                return current_distance + 1\n",
    "\n",
    "            if neighbor not in distances:\n",
    "                distances[neighbor] = current_distance + 1\n",
    "                queue.append(neighbor)\n",
    "    return -1"
   ]
  },
  {
   "cell_type": "code",
   "execution_count": 6,
   "id": "1f5ac0075c7faa0d",
   "metadata": {
    "ExecuteTime": {
     "end_time": "2025-04-23T00:50:54.889512Z",
     "start_time": "2025-04-23T00:50:54.887831Z"
    }
   },
   "outputs": [
    {
     "name": "stdout",
     "output_type": "stream",
     "text": [
      "A 에서 F 까지의 최단거리: 2\n"
     ]
    }
   ],
   "source": [
    "print(\"A 에서 F 까지의 최단거리:\", find_shortest_distance(ex_graph, \"A\", \"F\"))"
   ]
  },
  {
   "cell_type": "markdown",
   "id": "3d603a4420bb4edf",
   "metadata": {},
   "source": [
    "## 미로에서 최단 경로 찾기\n",
    "![maze](../images/graph_maze.png)\n",
    "\n",
    "```\n",
    "0 1 0 0 0\n",
    "0 1 0 1 0\n",
    "0 0 0 1 0\n",
    "1 1 0 1 0\n",
    "0 0 0 0 0\n",
    "```"
   ]
  },
  {
   "cell_type": "code",
   "execution_count": 7,
   "id": "456e6e0223b977f3",
   "metadata": {
    "ExecuteTime": {
     "end_time": "2025-04-23T00:50:54.903809Z",
     "start_time": "2025-04-23T00:50:54.899512Z"
    }
   },
   "outputs": [
    {
     "name": "stdout",
     "output_type": "stream",
     "text": [
      "(0, 0) -> (4, 4): [(0, 0), (1, 0), (2, 0), (2, 1), (2, 2), (3, 2), (4, 2), (4, 3), (4, 4)]\n"
     ]
    }
   ],
   "source": [
    "from collections import defaultdict\n",
    "\n",
    "\n",
    "input_maze = [\n",
    "    [0, 1, 0, 0, 0],\n",
    "    [0, 1, 0, 1, 0],\n",
    "    [0, 0, 0, 1, 0],\n",
    "    [1, 1, 0, 1, 0],\n",
    "    [0, 0, 0, 0, 0],\n",
    "]\n",
    "\n",
    "\n",
    "# 1. input_maze 를 인접 리스트로 만들기\n",
    "#     - 행과 열의 index 즉, 좌표가 graph 의 node\n",
    "#     - 이웃은 상, 화, 좌, 우 이지만, 값이 0 인 것들\n",
    "def convert_maze_to_graph(maze: list[list[int]]) -> defaultdict:\n",
    "    graph = defaultdict(list)\n",
    "    for i, row in enumerate(maze):\n",
    "        for j, _ in enumerate(row):\n",
    "            node = (i, j)\n",
    "            neighbors = []\n",
    "            for direction in [(0, 1), (0, -1), (1, 0), (-1, 0)]:  # 이웃 찾기\n",
    "                # 이웃 노드\n",
    "                neighbor = (i + direction[0], j + direction[1])\n",
    "                if neighbor[0] < 0 or neighbor[0] >= len(maze):  # 좌표 밖이라서 무시\n",
    "                    continue\n",
    "\n",
    "                if neighbor[1] < 0 or neighbor[1] >= len(maze[0]):  # 좌표 밖이라서 무시\n",
    "                    continue\n",
    "\n",
    "                value = maze[neighbor[0]][neighbor[1]]\n",
    "                if value == 0:  # value 가 0 이면 진짜 이웃, 1 이면 이웃이 아님\n",
    "                    neighbors.append(neighbor)\n",
    "            graph[node] = neighbors\n",
    "    return graph\n",
    "\n",
    "\n",
    "# 2. 기존의 bfs 적용\n",
    "def find_shortest_path_in_maze(maze_graph: defaultdict, start: tuple[int, int], end: tuple[int, int]) -> list:\n",
    "    visited = set(start)\n",
    "    queue = deque([(start, [start])])\n",
    "\n",
    "    while queue:\n",
    "        node, path = queue.popleft()\n",
    "\n",
    "        for neighbor in maze_graph.get(node, []):\n",
    "            if neighbor == end:\n",
    "                return [*path, neighbor]\n",
    "\n",
    "            if neighbor not in visited:\n",
    "                visited.add(neighbor)\n",
    "                queue.append((neighbor, [*path, neighbor]))\n",
    "    return []\n",
    "\n",
    "\n",
    "graph_maze = convert_maze_to_graph(input_maze)\n",
    "print(\"(0, 0) -> (4, 4):\", find_shortest_path_in_maze(graph_maze, (0, 0), (4, 4)))"
   ]
  },
  {
   "cell_type": "code",
   "execution_count": 8,
   "id": "c6a5cda231122269",
   "metadata": {
    "ExecuteTime": {
     "end_time": "2025-04-23T00:50:54.912560Z",
     "start_time": "2025-04-23T00:50:54.909789Z"
    }
   },
   "outputs": [
    {
     "name": "stdout",
     "output_type": "stream",
     "text": [
      "(0, 0) -> (4, 4): [(0, 0), (1, 0), (2, 0), (2, 1), (2, 2), (3, 2), (4, 2), (4, 3), (4, 4)]\n"
     ]
    }
   ],
   "source": [
    "def solve_maze(maze: list[list[int]], start: tuple[int, int], end: tuple[int, int]) -> list:\n",
    "    len_row, len_col = len(maze), len(maze[0])\n",
    "    directions = [(0, -1), (0, 1), (-1, 0), (1, 0)]  # 상, 하, 좌, 우\n",
    "\n",
    "    visited = set(start)\n",
    "    queue = deque([(start, [start])])  # node 와, node 까지의 경로\n",
    "    while queue:\n",
    "        (row, col), path = queue.popleft()\n",
    "        if (row, col) == end:\n",
    "            return path\n",
    "\n",
    "        for direction in directions:  # 내 이웃을 순회하는 것!\n",
    "            neighbor = (row + direction[0], col + direction[1])\n",
    "            if neighbor[0] < 0 or len_row <= neighbor[0]:\n",
    "                continue  # 좌표 밖은 무시\n",
    "\n",
    "            if neighbor[1] < 0 or len_col <= neighbor[1]:\n",
    "                continue  # 좌표 밖은 무시\n",
    "\n",
    "            if maze[neighbor[0]][neighbor[1]] == 1:\n",
    "                continue  # 연결되지 않은 노드!\n",
    "\n",
    "            if neighbor not in visited:\n",
    "                visited.add(neighbor)\n",
    "                queue.append((neighbor, [*path, neighbor]))\n",
    "    return []  # 경로 없음\n",
    "\n",
    "\n",
    "print(\"(0, 0) -> (4, 4):\", solve_maze(input_maze, (0, 0), (4, 4)))"
   ]
  },
  {
   "cell_type": "code",
   "execution_count": 9,
   "id": "d25b64f38e18980a",
   "metadata": {
    "ExecuteTime": {
     "end_time": "2025-04-23T00:50:54.931058Z",
     "start_time": "2025-04-23T00:50:54.927596Z"
    }
   },
   "outputs": [
    {
     "name": "stdout",
     "output_type": "stream",
     "text": [
      "S 1 0 0 0\n",
      "* 1 0 1 0\n",
      "* * * 1 0\n",
      "1 1 * 1 0\n",
      "0 0 * * *\n",
      "경로: [(0, 0), (1, 0), (2, 0), (2, 1), (2, 2), (3, 2), (4, 2), (4, 3), (4, 4)]\n"
     ]
    }
   ],
   "source": [
    "def solve_maze_with_visualization(maze: list[list[int]], start: tuple[int, int], end: tuple[int, int]) -> list:\n",
    "    len_row, len_col = len(maze), len(maze[0])\n",
    "    directions = [(0, -1), (0, 1), (-1, 0), (1, 0)]\n",
    "\n",
    "    visited = set(start)\n",
    "    queue = deque([(start, [start])])\n",
    "\n",
    "    while queue:\n",
    "        node, path = queue.popleft()\n",
    "        if node == end:\n",
    "            # 경로 찾았으므로, 경로 보여주고(1), 그 경로 반환(2)\n",
    "\n",
    "            visual_board = [row[:] for row in maze]  # 보여주기 위해서 미로판을 복사\n",
    "            visual_board[start[0]][start[1]] = \"S\"  # 시작점 표시\n",
    "            visual_board[end[0]][end[1]] = \"E\"  # 도착점 표시\n",
    "\n",
    "            for neighbor in path[1:]:\n",
    "                visual_board[neighbor[0]][neighbor[1]] = \"*\"\n",
    "\n",
    "            # 시각화를 위한 보드판 출력\n",
    "            for visual_row in visual_board:\n",
    "                print(\" \".join([str(cell) for cell in visual_row]))\n",
    "\n",
    "            return path\n",
    "\n",
    "        for direction in directions:\n",
    "            neighbor = (node[0] + direction[0], node[1] + direction[1])\n",
    "\n",
    "            if neighbor[0] < 0 or len_row <= neighbor[0]:\n",
    "                continue\n",
    "\n",
    "            if neighbor[1] < 0 or len_col <= neighbor[1]:\n",
    "                continue\n",
    "\n",
    "            if maze[neighbor[0]][neighbor[1]] == 0:\n",
    "                visited.add(neighbor)\n",
    "                queue.append((neighbor, [*path, neighbor]))\n",
    "    return []\n",
    "\n",
    "\n",
    "print(\"경로:\", solve_maze_with_visualization(input_maze, (0, 0), (4, 4)))"
   ]
  },
  {
   "cell_type": "markdown",
   "id": "d30cc920eb4f9947",
   "metadata": {},
   "source": [
    "## 연결 요소 찾기\n",
    "\n",
    "![graph 예시](../images/graph_example01.png)\n",
    "\n",
    "\n"
   ]
  },
  {
   "cell_type": "code",
   "execution_count": 10,
   "id": "fd5a83ff84407b06",
   "metadata": {
    "ExecuteTime": {
     "end_time": "2025-04-23T00:50:54.944572Z",
     "start_time": "2025-04-23T00:50:54.943005Z"
    }
   },
   "outputs": [],
   "source": [
    "new_graph = {\n",
    "    \"A\": [\"B\"],\n",
    "    \"B\": [\"A\", \"C\", \"D\"],\n",
    "    \"C\": [\"B\", \"D\"],\n",
    "    \"D\": [\"B\", \"C\"],\n",
    "    \"E\": [\"F\", \"G\"],\n",
    "    \"F\": [\"E\"],\n",
    "    \"G\": [\"E\"],\n",
    "    \"H\": [],\n",
    "}"
   ]
  },
  {
   "cell_type": "code",
   "execution_count": 11,
   "id": "36967208799fc935",
   "metadata": {
    "ExecuteTime": {
     "end_time": "2025-04-23T00:50:54.955287Z",
     "start_time": "2025-04-23T00:50:54.951991Z"
    }
   },
   "outputs": [
    {
     "data": {
      "text/plain": [
       "[['A', 'B', 'C', 'D'], ['E', 'F', 'G'], ['H']]"
      ]
     },
     "execution_count": 11,
     "metadata": {},
     "output_type": "execute_result"
    }
   ],
   "source": [
    "def find_connected_components(graph: dict):\n",
    "    components = []\n",
    "    visited = set()\n",
    "\n",
    "    for node in graph:\n",
    "        if node not in visited:  # 첫 방문 즉, 새로운 component 발견\n",
    "            component = []\n",
    "\n",
    "            # 여기서 부터는 기존의 bfs 와 같음\n",
    "            queue = deque([node])\n",
    "            visited.add(node)\n",
    "            while queue:\n",
    "                current = queue.popleft()\n",
    "\n",
    "                component.append(current)  # node 처리\n",
    "\n",
    "                for neighbor in graph.get(current, []):\n",
    "                    if neighbor not in visited:\n",
    "                        visited.add(neighbor)\n",
    "                        queue.append(neighbor)\n",
    "            components.append(component)\n",
    "    return components\n",
    "\n",
    "\n",
    "find_connected_components(new_graph)"
   ]
  },
  {
   "cell_type": "markdown",
   "id": "d70c9a6fb3f9bc1",
   "metadata": {},
   "source": [
    "## 이분 그래프(Bipartite Graph) 판별\n",
    "\n",
    "![이분 그래프](../images/graph_example02.png)"
   ]
  },
  {
   "cell_type": "code",
   "execution_count": 12,
   "id": "9c08caab67e91083",
   "metadata": {
    "ExecuteTime": {
     "end_time": "2025-04-23T00:50:54.967596Z",
     "start_time": "2025-04-23T00:50:54.966017Z"
    }
   },
   "outputs": [],
   "source": [
    "ex_graph02 = {\n",
    "    \"A\": [\"C\"],\n",
    "    \"B\": [\"D\"],\n",
    "    \"C\": [\"A\", \"E\", \"H\"],\n",
    "    \"D\": [\"B\", \"F\"],\n",
    "    \"E\": [\"C\", \"G\"],\n",
    "    \"F\": [\"D\"],\n",
    "    \"G\": [\"E\", \"H\"],\n",
    "    \"H\": [\"C\", \"G\"],\n",
    "}"
   ]
  },
  {
   "cell_type": "code",
   "execution_count": 13,
   "id": "79d27645adbb59",
   "metadata": {
    "ExecuteTime": {
     "end_time": "2025-04-23T00:50:54.978222Z",
     "start_time": "2025-04-23T00:50:54.974921Z"
    }
   },
   "outputs": [
    {
     "data": {
      "text/plain": [
       "(True, {'A', 'B', 'E', 'F', 'H'}, {'C', 'D', 'G'})"
      ]
     },
     "execution_count": 13,
     "metadata": {},
     "output_type": "execute_result"
    }
   ],
   "source": [
    "def is_bipartite(graph: dict) -> tuple[bool, set | None, set | None]:\n",
    "    \"\"\"\n",
    "    그래프의 모든 node 를 두 가지 색으로 칠할 수 있어야한다는\n",
    "    조건을 바탕으로 만든 판별 코드\n",
    "    \"\"\"\n",
    "    # 색 집합이면서, 방문 체크\n",
    "    colors = {}\n",
    "\n",
    "    for start_node in graph:\n",
    "        if start_node not in colors:\n",
    "            colors[start_node] = 1  # 방문 표시 및 속하는 집합 번호 표시\n",
    "\n",
    "            # bfs 시작\n",
    "            queue = deque([start_node])\n",
    "            while queue:\n",
    "                node = queue.popleft()\n",
    "                current_color = colors[node]\n",
    "\n",
    "                # 이웃 처리\n",
    "                for neighbor in graph.get(node, []):\n",
    "                    if neighbor not in colors:  # 방문하지 않았다면,\n",
    "                        # 현재 색과 부호를 반대로 함으로써, 다른 집합임을 표현\n",
    "                        colors[neighbor] = -current_color  # 더불어 방문 표시\n",
    "                        queue.append(neighbor)\n",
    "                    elif colors[neighbor] == current_color:\n",
    "                        # 방문한 적이 있어 집합이 설정이 되었는데,\n",
    "                        # 그 집합이 현재 집합과 같다!\n",
    "                        # => 인접한 node 가 같은 색상이므로, 이분 그래프가 아니다.\n",
    "                        return False, None, None\n",
    "    set1 = set()\n",
    "    set2 = set()\n",
    "    for node, color in colors.items():\n",
    "        if color == 1:\n",
    "            set1.add(node)\n",
    "        else:\n",
    "            set2.add(node)\n",
    "    return True, set1, set2\n",
    "\n",
    "\n",
    "is_bipartite(ex_graph02)"
   ]
  },
  {
   "cell_type": "markdown",
   "id": "d0515821641245be",
   "metadata": {},
   "source": [
    "## 레벨 별 순회(Level Order Traversal)\n",
    "\n",
    "![그래프](../images/graph_example02.png)"
   ]
  },
  {
   "cell_type": "code",
   "execution_count": 14,
   "id": "3d959965141370a3",
   "metadata": {
    "ExecuteTime": {
     "end_time": "2025-04-23T00:50:54.988166Z",
     "start_time": "2025-04-23T00:50:54.986449Z"
    }
   },
   "outputs": [],
   "source": [
    "ex_graph03 = {\n",
    "    \"A\": [\"C\"],\n",
    "    \"B\": [\"D\"],\n",
    "    \"C\": [\"A\", \"E\", \"H\"],\n",
    "    \"D\": [\"B\", \"F\"],\n",
    "    \"E\": [\"C\", \"G\"],\n",
    "    \"F\": [\"D\"],\n",
    "    \"G\": [\"E\", \"H\"],\n",
    "    \"H\": [\"C\", \"G\"],\n",
    "}"
   ]
  },
  {
   "cell_type": "code",
   "execution_count": 15,
   "id": "6705a25d2441665e",
   "metadata": {
    "ExecuteTime": {
     "end_time": "2025-04-23T00:50:54.998862Z",
     "start_time": "2025-04-23T00:50:54.996067Z"
    }
   },
   "outputs": [
    {
     "data": {
      "text/plain": [
       "[['A'], ['C'], ['E', 'H'], ['G']]"
      ]
     },
     "execution_count": 15,
     "metadata": {},
     "output_type": "execute_result"
    }
   ],
   "source": [
    "def traverse_on_level_order(graph: dict, start: str) -> list:\n",
    "    result = []\n",
    "\n",
    "    # 기본 bfs 와 같은데, 레벨만 같이 넣어준다.\n",
    "    visited = set(start)\n",
    "    queue = deque([(start, 0)])  # root node 는 level 이 0\n",
    "\n",
    "    while queue:\n",
    "        node, level = queue.popleft()\n",
    "\n",
    "        # 새 레벨 시작\n",
    "        if level == len(result):\n",
    "            result.append([])  # 새 레벨 그룹용 list 추가\n",
    "\n",
    "        # 현재 노드를 레벨 그룹 list 에 추가\n",
    "        result[level].append(node)\n",
    "\n",
    "        # 이제 이웃 처리\n",
    "        for neighbor in graph.get(node, []):\n",
    "            if neighbor not in visited:\n",
    "                visited.add(neighbor)\n",
    "                queue.append((neighbor, level + 1))\n",
    "\n",
    "    return result\n",
    "\n",
    "\n",
    "traverse_on_level_order(ex_graph03, \"A\")"
   ]
  },
  {
   "cell_type": "markdown",
   "id": "3e2a7dd1716868d6",
   "metadata": {},
   "source": "# DFS"
  },
  {
   "cell_type": "markdown",
   "id": "5e526d3000a44d75",
   "metadata": {},
   "source": [
    "## 기본 DFS 구현\n",
    "\n",
    "![graph example](../images/graph_example03.png)"
   ]
  },
  {
   "cell_type": "markdown",
   "id": "e0c848c5c35754ef",
   "metadata": {},
   "source": "### 스택 기반 DFS"
  },
  {
   "cell_type": "code",
   "execution_count": 16,
   "id": "b72f6dc6c790b243",
   "metadata": {
    "ExecuteTime": {
     "end_time": "2025-04-23T00:50:55.006251Z",
     "start_time": "2025-04-23T00:50:55.004924Z"
    }
   },
   "outputs": [],
   "source": [
    "ex_graph04 = {\n",
    "    \"A\": [\"B\", \"C\"],\n",
    "    \"B\": [\"D\", \"E\"],\n",
    "    \"C\": [\"F\", \"G\"],\n",
    "}"
   ]
  },
  {
   "cell_type": "code",
   "execution_count": 17,
   "id": "b2cdcafea2288b02",
   "metadata": {
    "ExecuteTime": {
     "end_time": "2025-04-23T00:50:55.021462Z",
     "start_time": "2025-04-23T00:50:55.019222Z"
    }
   },
   "outputs": [
    {
     "name": "stdout",
     "output_type": "stream",
     "text": [
      "stack 기반 dfs 로 탐색(A부터): ['A', 'B', 'D', 'E', 'C', 'F', 'G']\n"
     ]
    }
   ],
   "source": [
    "def dfs_with_stack(graph: dict, start: str) -> list[str]:\n",
    "    stack = deque([start])\n",
    "\n",
    "    visited = set()\n",
    "    traversal_order = []\n",
    "    while stack:\n",
    "        node = stack.pop()\n",
    "\n",
    "        if node not in visited:\n",
    "            visited.add(node)\n",
    "            traversal_order.append(node)\n",
    "\n",
    "            # 항상 알파벳 순으로 방문하도록 sorted(..,reverse=) 추가\n",
    "            neighbors = sorted(graph.get(node, []), reverse=True)\n",
    "            for neighbor in neighbors:\n",
    "                if neighbor not in visited:\n",
    "                    stack.append(neighbor)\n",
    "\n",
    "    return traversal_order\n",
    "\n",
    "\n",
    "print(\"stack 기반 dfs 로 탐색(A부터):\", dfs_with_stack(ex_graph04, \"A\"))"
   ]
  },
  {
   "cell_type": "markdown",
   "id": "2f2f22249fa0f8f8",
   "metadata": {},
   "source": "### 재귀 기반 DFS"
  },
  {
   "cell_type": "code",
   "execution_count": 18,
   "id": "9b3e5b5c9d1b8150",
   "metadata": {
    "ExecuteTime": {
     "end_time": "2025-04-23T00:50:55.028664Z",
     "start_time": "2025-04-23T00:50:55.026537Z"
    }
   },
   "outputs": [
    {
     "name": "stdout",
     "output_type": "stream",
     "text": [
      "recursion 기반 dfs 로 탐색(A부터): ['A', 'B', 'D', 'E', 'C', 'F', 'G']\n"
     ]
    }
   ],
   "source": [
    "def def_with_recursion(graph: dict, start: str) -> list[str]:\n",
    "    visited = set()\n",
    "    traversal_order = []\n",
    "\n",
    "    def dfs_helper(node):\n",
    "        visited.add(node)\n",
    "        traversal_order.append(node)\n",
    "\n",
    "        # 항상 알파벳 순으로 방문하도록 sorted(..) 추가\n",
    "        neighbors = sorted(graph.get(node, []))\n",
    "        for neighbor in neighbors:\n",
    "            if neighbor not in visited:\n",
    "                dfs_helper(neighbor)\n",
    "\n",
    "    dfs_helper(start)  # 재귀적으로 탐색 시작\n",
    "\n",
    "    return traversal_order\n",
    "\n",
    "\n",
    "print(\"recursion 기반 dfs 로 탐색(A부터):\", def_with_recursion(ex_graph04, \"A\"))"
   ]
  },
  {
   "cell_type": "markdown",
   "id": "31ecbc770d69cea9",
   "metadata": {},
   "source": [
    "## 경로 존재 확인 (Path Finding)\n",
    "\n",
    "- BFS 로도 구현 가능\n",
    "- 실제로는 휴리스틱 A* 알고리즘을 사용\n",
    "\n",
    "![graph ex04](../images/graph_example04.png)"
   ]
  },
  {
   "cell_type": "code",
   "execution_count": 19,
   "id": "a10e2f521f7ba65a",
   "metadata": {
    "ExecuteTime": {
     "end_time": "2025-04-23T01:50:46.819569Z",
     "start_time": "2025-04-23T01:50:46.818002Z"
    }
   },
   "outputs": [],
   "source": [
    "ex_graph05 = {\n",
    "    \"A\": [\"B\"],\n",
    "    \"B\": [\"D\", \"E\"],\n",
    "    \"C\": [\"F\", \"G\"],\n",
    "    \"E\": [\"H\"],\n",
    "}"
   ]
  },
  {
   "cell_type": "markdown",
   "id": "3196410ebd7ce8d6",
   "metadata": {},
   "source": "### with Stack"
  },
  {
   "cell_type": "code",
   "execution_count": 20,
   "id": "7b8dd076c3f4f150",
   "metadata": {
    "ExecuteTime": {
     "end_time": "2025-04-23T01:50:46.832330Z",
     "start_time": "2025-04-23T01:50:46.829919Z"
    }
   },
   "outputs": [
    {
     "name": "stdout",
     "output_type": "stream",
     "text": [
      "A 와 H 사이에 경로가 있나? True\n",
      "A 와 G 사이에 경로가 있나? False\n"
     ]
    }
   ],
   "source": [
    "def has_path_with_stack(graph: dict, start: str, end: str) -> bool:\n",
    "    if start == end:\n",
    "        return True\n",
    "\n",
    "    visited = set()\n",
    "    stack = deque([start])\n",
    "\n",
    "    while stack:\n",
    "        node = stack.pop()\n",
    "        if node not in visited:\n",
    "            visited.add(node)\n",
    "            if node == end:  # 경로 찾음!\n",
    "                return True\n",
    "\n",
    "            for neighbor in graph.get(node, []):\n",
    "                if neighbor not in visited:\n",
    "                    stack.append(neighbor)\n",
    "    # 경로 없음\n",
    "    return False\n",
    "\n",
    "\n",
    "print(\"A 와 H 사이에 경로가 있나?\", has_path_with_stack(ex_graph05, \"A\", \"H\"))\n",
    "print(\"A 와 G 사이에 경로가 있나?\", has_path_with_stack(ex_graph05, \"A\", \"G\"))"
   ]
  },
  {
   "cell_type": "markdown",
   "id": "b08b25400a8700b0",
   "metadata": {},
   "source": "with Recursion"
  },
  {
   "cell_type": "code",
   "execution_count": 21,
   "id": "57957aedf8b6706e",
   "metadata": {
    "ExecuteTime": {
     "end_time": "2025-04-23T01:50:46.844998Z",
     "start_time": "2025-04-23T01:50:46.842692Z"
    }
   },
   "outputs": [
    {
     "name": "stdout",
     "output_type": "stream",
     "text": [
      "A 와 D 사이에 경로가 있나? True\n",
      "A 와 C 사이에 경로가 있나? False\n"
     ]
    }
   ],
   "source": [
    "def has_path_with_recursion(graph: dict, start: str, end: str) -> bool:\n",
    "    if start == end:\n",
    "        return True\n",
    "\n",
    "    visited = set()\n",
    "\n",
    "    def dfs_helper(current: str) -> bool:\n",
    "        # 방문 처리\n",
    "        visited.add(current)\n",
    "\n",
    "        # 도달 했는지 확인\n",
    "        if current == end:\n",
    "            return True\n",
    "\n",
    "        # 도달 못 했으므로, 이웃 node 확인\n",
    "        for neighbor in graph.get(current, []):\n",
    "            if neighbor not in visited:\n",
    "                # 방문하지 않은 이웃 node 에 대해서 재귀 함수로 경로 있는지 확인\n",
    "                return dfs_helper(neighbor)\n",
    "        return False\n",
    "\n",
    "    return dfs_helper(start)\n",
    "\n",
    "\n",
    "print(\"A 와 D 사이에 경로가 있나?\", has_path_with_recursion(ex_graph05, \"A\", \"D\"))\n",
    "print(\"A 와 C 사이에 경로가 있나?\", has_path_with_recursion(ex_graph05, \"A\", \"C\"))"
   ]
  }
 ],
 "metadata": {
  "kernelspec": {
   "display_name": "Python 3",
   "language": "python",
   "name": "python3"
  },
  "language_info": {
   "codemirror_mode": {
    "name": "ipython",
    "version": 2
   },
   "file_extension": ".py",
   "mimetype": "text/x-python",
   "name": "python",
   "nbconvert_exporter": "python",
   "pygments_lexer": "ipython2",
   "version": "2.7.6"
  }
 },
 "nbformat": 4,
 "nbformat_minor": 5
}
