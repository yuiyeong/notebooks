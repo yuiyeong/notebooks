{
 "cells": [
  {
   "cell_type": "markdown",
   "id": "89ac508e3189a5f7",
   "metadata": {},
   "source": "# Graph"
  },
  {
   "cell_type": "code",
   "execution_count": 5,
   "id": "initial_id",
   "metadata": {
    "ExecuteTime": {
     "end_time": "2025-04-18T06:25:22.049949Z",
     "start_time": "2025-04-18T06:25:22.046390Z"
    },
    "collapsed": true
   },
   "outputs": [
    {
     "name": "stdout",
     "output_type": "stream",
     "text": [
      "A : ['B', 'C']\n",
      "B : ['A', 'D']\n",
      "C : ['A', 'D']\n",
      "D : ['B', 'C']\n"
     ]
    }
   ],
   "source": [
    "from collections import defaultdict\n",
    "\n",
    "\n",
    "edges = [(\"A\", \"B\"), (\"A\", \"C\"), (\"B\", \"D\"), (\"C\", \"D\")]\n",
    "\n",
    "# 간선으로 부터 인접 리스트로 그래프 데이터 저장\n",
    "graph = defaultdict(list)\n",
    "for edge in edges:\n",
    "    graph[edge[0]].append(edge[1])\n",
    "    graph[edge[1]].append(edge[0])\n",
    "\n",
    "# 그래프 출력\n",
    "for vertex, neighbors in graph.items():\n",
    "    print(vertex, \":\", neighbors)"
   ]
  },
  {
   "cell_type": "markdown",
   "id": "62d6a8dd362bb7f5",
   "metadata": {},
   "source": "무방향 그래프"
  },
  {
   "cell_type": "code",
   "execution_count": 9,
   "id": "44b8f026b7efdcd8",
   "metadata": {
    "ExecuteTime": {
     "end_time": "2025-04-18T06:26:54.117297Z",
     "start_time": "2025-04-18T06:26:54.113970Z"
    }
   },
   "outputs": [
    {
     "name": "stdout",
     "output_type": "stream",
     "text": [
      "A -> ['B', 'C']\n",
      "B -> ['A', 'D']\n",
      "C -> ['A', 'D']\n",
      "D -> ['B', 'C']\n"
     ]
    }
   ],
   "source": [
    "def create_undirected_graph() -> defaultdict:\n",
    "    undirected_graph = defaultdict(list)\n",
    "\n",
    "    def add_edge(u: str, v: str):\n",
    "        undirected_graph[u].append(v)\n",
    "        undirected_graph[v].append(u)\n",
    "\n",
    "    add_edge(\"A\", \"B\")\n",
    "    add_edge(\"A\", \"C\")\n",
    "    add_edge(\"B\", \"D\")\n",
    "    add_edge(\"C\", \"D\")\n",
    "\n",
    "    return undirected_graph\n",
    "\n",
    "\n",
    "# 무방향 그래프 출력\n",
    "for vertex, neighbors in create_undirected_graph().items():\n",
    "    print(f\"{vertex} -> {neighbors}\")"
   ]
  },
  {
   "cell_type": "markdown",
   "id": "d6ab50bc257fdfdf",
   "metadata": {},
   "source": "방향 그래프"
  },
  {
   "cell_type": "code",
   "execution_count": 10,
   "id": "6296b863b73d1f74",
   "metadata": {
    "ExecuteTime": {
     "end_time": "2025-04-18T06:26:57.887207Z",
     "start_time": "2025-04-18T06:26:57.884417Z"
    }
   },
   "outputs": [
    {
     "name": "stdout",
     "output_type": "stream",
     "text": [
      "A -> ['B', 'C']\n",
      "B -> ['D']\n",
      "C -> ['D']\n"
     ]
    }
   ],
   "source": [
    "def create_directed_graph() -> defaultdict:\n",
    "    directed_graph = defaultdict(list)\n",
    "\n",
    "    def add_edge(u: str, v: str):\n",
    "        directed_graph[u].append(v)\n",
    "\n",
    "    add_edge(\"A\", \"B\")\n",
    "    add_edge(\"A\", \"C\")\n",
    "    add_edge(\"B\", \"D\")\n",
    "    add_edge(\"C\", \"D\")\n",
    "\n",
    "    return directed_graph\n",
    "\n",
    "\n",
    "# 방향 그래프 출력\n",
    "for vertex, neighbors in create_directed_graph().items():\n",
    "    print(f\"{vertex} -> {neighbors}\")"
   ]
  },
  {
   "cell_type": "markdown",
   "id": "e500ddad3e559f83",
   "metadata": {},
   "source": "가중치 그래프"
  },
  {
   "cell_type": "code",
   "execution_count": 12,
   "id": "a159fca01b7482c5",
   "metadata": {
    "ExecuteTime": {
     "end_time": "2025-04-18T06:29:29.140825Z",
     "start_time": "2025-04-18T06:29:29.137947Z"
    }
   },
   "outputs": [
    {
     "name": "stdout",
     "output_type": "stream",
     "text": [
      "A -> [('B', 10), ('C', 5)]\n",
      "B -> [('A', 10), ('D', 7)]\n",
      "C -> [('A', 5), ('D', 15)]\n",
      "D -> [('B', 7), ('C', 15)]\n"
     ]
    }
   ],
   "source": [
    "def create_weighted_graph() -> defaultdict:\n",
    "    weighted_graph = defaultdict(list)\n",
    "\n",
    "    def add_edge(u: str, v: str, weight: int):\n",
    "        weighted_graph[u].append((v, weight))\n",
    "        weighted_graph[v].append((u, weight))\n",
    "\n",
    "    add_edge(\"A\", \"B\", 10)\n",
    "    add_edge(\"A\", \"C\", 5)\n",
    "    add_edge(\"B\", \"D\", 7)\n",
    "    add_edge(\"C\", \"D\", 15)\n",
    "\n",
    "    return weighted_graph\n",
    "\n",
    "\n",
    "# 가중치 그래프 출력\n",
    "for vertex, neighbors in create_weighted_graph().items():\n",
    "    print(f\"{vertex} -> {neighbors}\")"
   ]
  },
  {
   "cell_type": "code",
   "execution_count": null,
   "id": "c2c225b6df1a3ed6",
   "metadata": {},
   "outputs": [],
   "source": []
  }
 ],
 "metadata": {
  "kernelspec": {
   "display_name": "Python 3",
   "language": "python",
   "name": "python3"
  },
  "language_info": {
   "codemirror_mode": {
    "name": "ipython",
    "version": 2
   },
   "file_extension": ".py",
   "mimetype": "text/x-python",
   "name": "python",
   "nbconvert_exporter": "python",
   "pygments_lexer": "ipython2",
   "version": "2.7.6"
  }
 },
 "nbformat": 4,
 "nbformat_minor": 5
}
