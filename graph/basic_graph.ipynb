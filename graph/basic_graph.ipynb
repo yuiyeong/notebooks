{
 "cells": [
  {
   "cell_type": "markdown",
   "id": "89ac508e3189a5f7",
   "metadata": {},
   "source": "# Graph"
  },
  {
   "cell_type": "code",
   "execution_count": 1,
   "id": "initial_id",
   "metadata": {
    "ExecuteTime": {
     "end_time": "2025-04-21T05:08:47.014075Z",
     "start_time": "2025-04-21T05:08:47.009011Z"
    },
    "collapsed": true
   },
   "outputs": [
    {
     "name": "stdout",
     "output_type": "stream",
     "text": [
      "A : ['B', 'C']\n",
      "B : ['A', 'D']\n",
      "C : ['A', 'D']\n",
      "D : ['B', 'C']\n"
     ]
    }
   ],
   "source": [
    "from collections import defaultdict\n",
    "\n",
    "\n",
    "edges = [(\"A\", \"B\"), (\"A\", \"C\"), (\"B\", \"D\"), (\"C\", \"D\")]\n",
    "\n",
    "# 간선으로 부터 인접 리스트로 그래프 데이터 저장\n",
    "graph = defaultdict(list)\n",
    "for edge in edges:\n",
    "    graph[edge[0]].append(edge[1])\n",
    "    graph[edge[1]].append(edge[0])\n",
    "\n",
    "# 그래프 출력\n",
    "for vertex, neighbors in graph.items():\n",
    "    print(vertex, \":\", neighbors)"
   ]
  },
  {
   "cell_type": "markdown",
   "id": "62d6a8dd362bb7f5",
   "metadata": {},
   "source": "무방향 그래프"
  },
  {
   "cell_type": "code",
   "execution_count": 2,
   "id": "44b8f026b7efdcd8",
   "metadata": {
    "ExecuteTime": {
     "end_time": "2025-04-21T05:08:47.189852Z",
     "start_time": "2025-04-21T05:08:47.187468Z"
    }
   },
   "outputs": [
    {
     "name": "stdout",
     "output_type": "stream",
     "text": [
      "A -> ['B', 'C']\n",
      "B -> ['A', 'D']\n",
      "C -> ['A', 'D']\n",
      "D -> ['B', 'C']\n"
     ]
    }
   ],
   "source": [
    "def create_undirected_graph() -> defaultdict:\n",
    "    undirected_graph = defaultdict(list)\n",
    "\n",
    "    def add_edge(u: str, v: str):\n",
    "        undirected_graph[u].append(v)\n",
    "        undirected_graph[v].append(u)\n",
    "\n",
    "    add_edge(\"A\", \"B\")\n",
    "    add_edge(\"A\", \"C\")\n",
    "    add_edge(\"B\", \"D\")\n",
    "    add_edge(\"C\", \"D\")\n",
    "\n",
    "    return undirected_graph\n",
    "\n",
    "\n",
    "# 무방향 그래프 출력\n",
    "for vertex, neighbors in create_undirected_graph().items():\n",
    "    print(f\"{vertex} -> {neighbors}\")"
   ]
  },
  {
   "cell_type": "markdown",
   "id": "d6ab50bc257fdfdf",
   "metadata": {},
   "source": "방향 그래프"
  },
  {
   "cell_type": "code",
   "execution_count": 3,
   "id": "6296b863b73d1f74",
   "metadata": {
    "ExecuteTime": {
     "end_time": "2025-04-21T05:08:47.199113Z",
     "start_time": "2025-04-21T05:08:47.197087Z"
    }
   },
   "outputs": [
    {
     "name": "stdout",
     "output_type": "stream",
     "text": [
      "A -> ['B', 'C']\n",
      "B -> ['D']\n",
      "C -> ['D']\n"
     ]
    }
   ],
   "source": [
    "def create_directed_graph() -> defaultdict:\n",
    "    directed_graph = defaultdict(list)\n",
    "\n",
    "    def add_edge(u: str, v: str):\n",
    "        directed_graph[u].append(v)\n",
    "\n",
    "    add_edge(\"A\", \"B\")\n",
    "    add_edge(\"A\", \"C\")\n",
    "    add_edge(\"B\", \"D\")\n",
    "    add_edge(\"C\", \"D\")\n",
    "\n",
    "    return directed_graph\n",
    "\n",
    "\n",
    "# 방향 그래프 출력\n",
    "for vertex, neighbors in create_directed_graph().items():\n",
    "    print(f\"{vertex} -> {neighbors}\")"
   ]
  },
  {
   "cell_type": "markdown",
   "id": "e500ddad3e559f83",
   "metadata": {},
   "source": "가중치 그래프"
  },
  {
   "cell_type": "code",
   "execution_count": 4,
   "id": "a159fca01b7482c5",
   "metadata": {
    "ExecuteTime": {
     "end_time": "2025-04-21T05:08:47.219250Z",
     "start_time": "2025-04-21T05:08:47.216770Z"
    }
   },
   "outputs": [
    {
     "name": "stdout",
     "output_type": "stream",
     "text": [
      "A -> [('B', 10), ('C', 5)]\n",
      "B -> [('A', 10), ('D', 7)]\n",
      "C -> [('A', 5), ('D', 15)]\n",
      "D -> [('B', 7), ('C', 15)]\n"
     ]
    }
   ],
   "source": [
    "def create_weighted_graph() -> defaultdict:\n",
    "    weighted_graph = defaultdict(list)\n",
    "\n",
    "    def add_edge(u: str, v: str, weight: int):\n",
    "        weighted_graph[u].append((v, weight))\n",
    "        weighted_graph[v].append((u, weight))\n",
    "\n",
    "    add_edge(\"A\", \"B\", 10)\n",
    "    add_edge(\"A\", \"C\", 5)\n",
    "    add_edge(\"B\", \"D\", 7)\n",
    "    add_edge(\"C\", \"D\", 15)\n",
    "\n",
    "    return weighted_graph\n",
    "\n",
    "\n",
    "# 가중치 그래프 출력\n",
    "for vertex, neighbors in create_weighted_graph().items():\n",
    "    print(f\"{vertex} -> {neighbors}\")"
   ]
  },
  {
   "cell_type": "markdown",
   "id": "e10f47d696270c6a",
   "metadata": {},
   "source": "## BFS"
  },
  {
   "cell_type": "code",
   "execution_count": 5,
   "id": "5441593502e08660",
   "metadata": {
    "ExecuteTime": {
     "end_time": "2025-04-21T05:08:47.241070Z",
     "start_time": "2025-04-21T05:08:47.238764Z"
    }
   },
   "outputs": [
    {
     "name": "stdout",
     "output_type": "stream",
     "text": [
      "1 -> [2, 4]\n",
      "2 -> [1, 3, 4, 5]\n",
      "4 -> [1, 2]\n",
      "3 -> [2]\n",
      "5 -> [2]\n"
     ]
    }
   ],
   "source": [
    "from collections import defaultdict, deque\n",
    "\n",
    "\n",
    "# 그래프 모양\n",
    "#\n",
    "# 1 -- 2 -- 3\n",
    "# |   / \\\n",
    "# |  /   \\\n",
    "# | /     \\\n",
    "# 4        5\n",
    "edges = [(1, 2), (1, 4), (2, 3), (2, 4), (2, 5)]\n",
    "\n",
    "graph = defaultdict(list)\n",
    "for u, v in edges:\n",
    "    graph[u].append(v)\n",
    "    graph[v].append(u)\n",
    "\n",
    "# 그래프 출력\n",
    "for vertex, neighbors in graph.items():\n",
    "    print(f\"{vertex} -> {neighbors}\")"
   ]
  },
  {
   "cell_type": "code",
   "execution_count": 6,
   "id": "e691744a20531b39",
   "metadata": {
    "ExecuteTime": {
     "end_time": "2025-04-21T05:08:47.258941Z",
     "start_time": "2025-04-21T05:08:47.257196Z"
    }
   },
   "outputs": [],
   "source": [
    "def process_node(node: int):\n",
    "    \"\"\"graph 의 node 를 가지고 할 일을 하는 함수\"\"\"\n",
    "    # 여기서는 출력만 함\n",
    "    print(node)"
   ]
  },
  {
   "cell_type": "code",
   "execution_count": 7,
   "id": "a43f7a69b58c2d78",
   "metadata": {
    "ExecuteTime": {
     "end_time": "2025-04-21T05:08:47.270902Z",
     "start_time": "2025-04-21T05:08:47.268346Z"
    }
   },
   "outputs": [
    {
     "name": "stdout",
     "output_type": "stream",
     "text": [
      "2\n",
      "1\n",
      "3\n",
      "4\n",
      "5\n"
     ]
    }
   ],
   "source": [
    "def traverse_as_bfs(graph: defaultdict, start_node: int):\n",
    "    \"\"\"bfs 방식으로 그래프 탐색\"\"\"\n",
    "    queue = deque()\n",
    "    visited = set()\n",
    "\n",
    "    # 시작 노드를 먼저 넣고 한다!\n",
    "    queue.append(start_node)\n",
    "    visited.add(start_node)\n",
    "\n",
    "    while queue:\n",
    "        # 01. queue 에서 node 를 꺼낸다.\n",
    "        current_node = queue.popleft()\n",
    "\n",
    "        # 02. node 를 처리한다.\n",
    "        process_node(current_node)\n",
    "\n",
    "        # 03. node 의 이웃을 처리한다.\n",
    "        for neighbor in graph[current_node]:\n",
    "            # 03-01. 방문한 이웃은 넘어감\n",
    "\n",
    "            # 03-02. 아직 방문하지 않은 이웃을 처리\n",
    "            if neighbor not in visited:\n",
    "                queue.append(neighbor)  # queue 에 넣고,\n",
    "                visited.add(neighbor)  # 방문 표시 남기기\n",
    "\n",
    "\n",
    "traverse_as_bfs(graph, 2)"
   ]
  },
  {
   "cell_type": "code",
   "execution_count": 8,
   "id": "3846851c165d3d01",
   "metadata": {
    "ExecuteTime": {
     "end_time": "2025-04-21T05:11:24.668721Z",
     "start_time": "2025-04-21T05:11:24.665365Z"
    }
   },
   "outputs": [
    {
     "name": "stdout",
     "output_type": "stream",
     "text": [
      "2\n",
      "1\n",
      "4\n",
      "3\n",
      "5\n"
     ]
    }
   ],
   "source": [
    "def traverse_as_dfs(graph: defaultdict, current_node: int, visited: set | None = None):\n",
    "    \"\"\"여기서는 recursive 방식으로 dfs 를 구현\"\"\"\n",
    "    if not visited:\n",
    "        visited = set()\n",
    "\n",
    "    visited.add(current_node)\n",
    "    process_node(current_node)\n",
    "\n",
    "    for neighbor in graph[current_node]:\n",
    "        if neighbor not in visited:\n",
    "            traverse_as_dfs(graph, neighbor, visited)\n",
    "\n",
    "\n",
    "traverse_as_dfs(graph, 2)"
   ]
  },
  {
   "cell_type": "code",
   "execution_count": null,
   "id": "efef5b9e2fc892d0",
   "metadata": {},
   "outputs": [],
   "source": []
  }
 ],
 "metadata": {
  "kernelspec": {
   "display_name": "Python 3",
   "language": "python",
   "name": "python3"
  },
  "language_info": {
   "codemirror_mode": {
    "name": "ipython",
    "version": 2
   },
   "file_extension": ".py",
   "mimetype": "text/x-python",
   "name": "python",
   "nbconvert_exporter": "python",
   "pygments_lexer": "ipython2",
   "version": "2.7.6"
  }
 },
 "nbformat": 4,
 "nbformat_minor": 5
}
